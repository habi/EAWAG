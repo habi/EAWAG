{
 "cells": [
  {
   "cell_type": "markdown",
   "metadata": {},
   "source": [
    "# Extract all the data of all the scans\n",
    "\n",
    "Wrestle with all the log files of all the scans.\n",
    "We double-check all scanning and reconstruction parameters to look for inconsistencies to be corrected.\n",
    "At the end we generate some helping files which we need for collaboration."
   ]
  },
  {
   "cell_type": "markdown",
   "metadata": {},
   "source": [
    "First set up the notebook with some imports and defaults."
   ]
  },
  {
   "cell_type": "code",
   "execution_count": 1,
   "metadata": {},
   "outputs": [],
   "source": [
    "# Load the python modules we need\n",
    "import platform\n",
    "import os\n",
    "import glob\n",
    "import pandas\n",
    "import imageio\n",
    "import numpy\n",
    "import matplotlib.pyplot as plt\n",
    "from matplotlib_scalebar.scalebar import ScaleBar\n",
    "import seaborn\n",
    "import dask\n",
    "import dask_image.imread\n",
    "from dask.distributed import Client, LocalCluster\n",
    "import skimage\n",
    "from tqdm import notebook"
   ]
  },
  {
   "cell_type": "code",
   "execution_count": 2,
   "metadata": {},
   "outputs": [],
   "source": [
    "# Load our own log file parsing code\n",
    "from BrukerSkyScanLogfileRuminator.parsing_functions import *"
   ]
  },
  {
   "cell_type": "code",
   "execution_count": 3,
   "metadata": {},
   "outputs": [
    {
     "name": "stdout",
     "output_type": "stream",
     "text": [
      "Dask temporary files go to /media/habi/Fast_SSD/tmp\n"
     ]
    }
   ],
   "source": [
    "# Set dask temporary folder\n",
    "# Do this before creating a client: https://stackoverflow.com/a/62804525/323100\n",
    "import tempfile\n",
    "if 'Linux' in platform.system():\n",
    "    # Check if me mounted the FastSSD, otherwise go to standard tmp file\n",
    "    if os.path.exists(os.path.join(os.sep, 'media', 'habi', 'Fast_SSD')):\n",
    "        tmp = os.path.join(os.sep, 'media', 'habi', 'Fast_SSD', 'tmp')\n",
    "    else:\n",
    "        tmp = tempfile.gettempdir()\n",
    "elif 'Darwin' in platform.system():\n",
    "    tmp = tempfile.gettempdir()\n",
    "else:\n",
    "    if 'anaklin' in platform.node():\n",
    "        tmp = os.path.join('F:\\\\tmp')\n",
    "    else:\n",
    "        tmp = os.path.join('D:\\\\tmp')\n",
    "dask.config.set({'temporary_directory': tmp})\n",
    "print('Dask temporary files go to %s' % dask.config.get('temporary_directory'))"
   ]
  },
  {
   "cell_type": "code",
   "execution_count": 4,
   "metadata": {},
   "outputs": [
    {
     "name": "stderr",
     "output_type": "stream",
     "text": [
      "/home/habi/miniconda3/envs/eawag/lib/python3.10/site-packages/distributed/node.py:183: UserWarning: Port 8787 is already in use.\n",
      "Perhaps you already have a cluster running?\n",
      "Hosting the HTTP server on port 38845 instead\n",
      "  warnings.warn(\n"
     ]
    }
   ],
   "source": [
    "from dask.distributed import Client\n",
    "client = Client()"
   ]
  },
  {
   "cell_type": "code",
   "execution_count": 5,
   "metadata": {},
   "outputs": [
    {
     "data": {
      "text/html": [
       "<div>\n",
       "    <div style=\"width: 24px; height: 24px; background-color: #e1e1e1; border: 3px solid #9D9D9D; border-radius: 5px; position: absolute;\"> </div>\n",
       "    <div style=\"margin-left: 48px;\">\n",
       "        <h3 style=\"margin-bottom: 0px;\">Client</h3>\n",
       "        <p style=\"color: #9D9D9D; margin-bottom: 0px;\">Client-919b880f-1f36-11ee-a43f-8cdcd44b8f13</p>\n",
       "        <table style=\"width: 100%; text-align: left;\">\n",
       "\n",
       "        <tr>\n",
       "        \n",
       "            <td style=\"text-align: left;\"><strong>Connection method:</strong> Cluster object</td>\n",
       "            <td style=\"text-align: left;\"><strong>Cluster type:</strong> distributed.LocalCluster</td>\n",
       "        \n",
       "        </tr>\n",
       "\n",
       "        \n",
       "            <tr>\n",
       "                <td style=\"text-align: left;\">\n",
       "                    <strong>Dashboard: </strong> <a href=\"http://127.0.0.1:38845/status\" target=\"_blank\">http://127.0.0.1:38845/status</a>\n",
       "                </td>\n",
       "                <td style=\"text-align: left;\"></td>\n",
       "            </tr>\n",
       "        \n",
       "\n",
       "        </table>\n",
       "\n",
       "        \n",
       "            <button style=\"margin-bottom: 12px;\" data-commandlinker-command=\"dask:populate-and-launch-layout\" data-commandlinker-args='{\"url\": \"http://127.0.0.1:38845/status\" }'>\n",
       "                Launch dashboard in JupyterLab\n",
       "            </button>\n",
       "        \n",
       "\n",
       "        \n",
       "            <details>\n",
       "            <summary style=\"margin-bottom: 20px;\"><h3 style=\"display: inline;\">Cluster Info</h3></summary>\n",
       "            <div class=\"jp-RenderedHTMLCommon jp-RenderedHTML jp-mod-trusted jp-OutputArea-output\">\n",
       "    <div style=\"width: 24px; height: 24px; background-color: #e1e1e1; border: 3px solid #9D9D9D; border-radius: 5px; position: absolute;\">\n",
       "    </div>\n",
       "    <div style=\"margin-left: 48px;\">\n",
       "        <h3 style=\"margin-bottom: 0px; margin-top: 0px;\">LocalCluster</h3>\n",
       "        <p style=\"color: #9D9D9D; margin-bottom: 0px;\">073a9525</p>\n",
       "        <table style=\"width: 100%; text-align: left;\">\n",
       "            <tr>\n",
       "                <td style=\"text-align: left;\">\n",
       "                    <strong>Dashboard:</strong> <a href=\"http://127.0.0.1:38845/status\" target=\"_blank\">http://127.0.0.1:38845/status</a>\n",
       "                </td>\n",
       "                <td style=\"text-align: left;\">\n",
       "                    <strong>Workers:</strong> 8\n",
       "                </td>\n",
       "            </tr>\n",
       "            <tr>\n",
       "                <td style=\"text-align: left;\">\n",
       "                    <strong>Total threads:</strong> 32\n",
       "                </td>\n",
       "                <td style=\"text-align: left;\">\n",
       "                    <strong>Total memory:</strong> 125.79 GiB\n",
       "                </td>\n",
       "            </tr>\n",
       "            \n",
       "            <tr>\n",
       "    <td style=\"text-align: left;\"><strong>Status:</strong> running</td>\n",
       "    <td style=\"text-align: left;\"><strong>Using processes:</strong> True</td>\n",
       "</tr>\n",
       "\n",
       "            \n",
       "        </table>\n",
       "\n",
       "        <details>\n",
       "            <summary style=\"margin-bottom: 20px;\">\n",
       "                <h3 style=\"display: inline;\">Scheduler Info</h3>\n",
       "            </summary>\n",
       "\n",
       "            <div style=\"\">\n",
       "    <div>\n",
       "        <div style=\"width: 24px; height: 24px; background-color: #FFF7E5; border: 3px solid #FF6132; border-radius: 5px; position: absolute;\"> </div>\n",
       "        <div style=\"margin-left: 48px;\">\n",
       "            <h3 style=\"margin-bottom: 0px;\">Scheduler</h3>\n",
       "            <p style=\"color: #9D9D9D; margin-bottom: 0px;\">Scheduler-4058f690-3971-4972-b928-71ddbec14fe8</p>\n",
       "            <table style=\"width: 100%; text-align: left;\">\n",
       "                <tr>\n",
       "                    <td style=\"text-align: left;\">\n",
       "                        <strong>Comm:</strong> tcp://127.0.0.1:42617\n",
       "                    </td>\n",
       "                    <td style=\"text-align: left;\">\n",
       "                        <strong>Workers:</strong> 8\n",
       "                    </td>\n",
       "                </tr>\n",
       "                <tr>\n",
       "                    <td style=\"text-align: left;\">\n",
       "                        <strong>Dashboard:</strong> <a href=\"http://127.0.0.1:38845/status\" target=\"_blank\">http://127.0.0.1:38845/status</a>\n",
       "                    </td>\n",
       "                    <td style=\"text-align: left;\">\n",
       "                        <strong>Total threads:</strong> 32\n",
       "                    </td>\n",
       "                </tr>\n",
       "                <tr>\n",
       "                    <td style=\"text-align: left;\">\n",
       "                        <strong>Started:</strong> Just now\n",
       "                    </td>\n",
       "                    <td style=\"text-align: left;\">\n",
       "                        <strong>Total memory:</strong> 125.79 GiB\n",
       "                    </td>\n",
       "                </tr>\n",
       "            </table>\n",
       "        </div>\n",
       "    </div>\n",
       "\n",
       "    <details style=\"margin-left: 48px;\">\n",
       "        <summary style=\"margin-bottom: 20px;\">\n",
       "            <h3 style=\"display: inline;\">Workers</h3>\n",
       "        </summary>\n",
       "\n",
       "        \n",
       "        <div style=\"margin-bottom: 20px;\">\n",
       "            <div style=\"width: 24px; height: 24px; background-color: #DBF5FF; border: 3px solid #4CC9FF; border-radius: 5px; position: absolute;\"> </div>\n",
       "            <div style=\"margin-left: 48px;\">\n",
       "            <details>\n",
       "                <summary>\n",
       "                    <h4 style=\"margin-bottom: 0px; display: inline;\">Worker: 0</h4>\n",
       "                </summary>\n",
       "                <table style=\"width: 100%; text-align: left;\">\n",
       "                    <tr>\n",
       "                        <td style=\"text-align: left;\">\n",
       "                            <strong>Comm: </strong> tcp://127.0.0.1:40231\n",
       "                        </td>\n",
       "                        <td style=\"text-align: left;\">\n",
       "                            <strong>Total threads: </strong> 4\n",
       "                        </td>\n",
       "                    </tr>\n",
       "                    <tr>\n",
       "                        <td style=\"text-align: left;\">\n",
       "                            <strong>Dashboard: </strong> <a href=\"http://127.0.0.1:42833/status\" target=\"_blank\">http://127.0.0.1:42833/status</a>\n",
       "                        </td>\n",
       "                        <td style=\"text-align: left;\">\n",
       "                            <strong>Memory: </strong> 15.72 GiB\n",
       "                        </td>\n",
       "                    </tr>\n",
       "                    <tr>\n",
       "                        <td style=\"text-align: left;\">\n",
       "                            <strong>Nanny: </strong> tcp://127.0.0.1:45929\n",
       "                        </td>\n",
       "                        <td style=\"text-align: left;\"></td>\n",
       "                    </tr>\n",
       "                    <tr>\n",
       "                        <td colspan=\"2\" style=\"text-align: left;\">\n",
       "                            <strong>Local directory: </strong> /media/habi/Fast_SSD/tmp/dask-worker-space/worker-_gs0wcul\n",
       "                        </td>\n",
       "                    </tr>\n",
       "\n",
       "                    \n",
       "\n",
       "                    \n",
       "\n",
       "                </table>\n",
       "            </details>\n",
       "            </div>\n",
       "        </div>\n",
       "        \n",
       "        <div style=\"margin-bottom: 20px;\">\n",
       "            <div style=\"width: 24px; height: 24px; background-color: #DBF5FF; border: 3px solid #4CC9FF; border-radius: 5px; position: absolute;\"> </div>\n",
       "            <div style=\"margin-left: 48px;\">\n",
       "            <details>\n",
       "                <summary>\n",
       "                    <h4 style=\"margin-bottom: 0px; display: inline;\">Worker: 1</h4>\n",
       "                </summary>\n",
       "                <table style=\"width: 100%; text-align: left;\">\n",
       "                    <tr>\n",
       "                        <td style=\"text-align: left;\">\n",
       "                            <strong>Comm: </strong> tcp://127.0.0.1:44103\n",
       "                        </td>\n",
       "                        <td style=\"text-align: left;\">\n",
       "                            <strong>Total threads: </strong> 4\n",
       "                        </td>\n",
       "                    </tr>\n",
       "                    <tr>\n",
       "                        <td style=\"text-align: left;\">\n",
       "                            <strong>Dashboard: </strong> <a href=\"http://127.0.0.1:34297/status\" target=\"_blank\">http://127.0.0.1:34297/status</a>\n",
       "                        </td>\n",
       "                        <td style=\"text-align: left;\">\n",
       "                            <strong>Memory: </strong> 15.72 GiB\n",
       "                        </td>\n",
       "                    </tr>\n",
       "                    <tr>\n",
       "                        <td style=\"text-align: left;\">\n",
       "                            <strong>Nanny: </strong> tcp://127.0.0.1:41743\n",
       "                        </td>\n",
       "                        <td style=\"text-align: left;\"></td>\n",
       "                    </tr>\n",
       "                    <tr>\n",
       "                        <td colspan=\"2\" style=\"text-align: left;\">\n",
       "                            <strong>Local directory: </strong> /media/habi/Fast_SSD/tmp/dask-worker-space/worker-ecezuo_6\n",
       "                        </td>\n",
       "                    </tr>\n",
       "\n",
       "                    \n",
       "\n",
       "                    \n",
       "\n",
       "                </table>\n",
       "            </details>\n",
       "            </div>\n",
       "        </div>\n",
       "        \n",
       "        <div style=\"margin-bottom: 20px;\">\n",
       "            <div style=\"width: 24px; height: 24px; background-color: #DBF5FF; border: 3px solid #4CC9FF; border-radius: 5px; position: absolute;\"> </div>\n",
       "            <div style=\"margin-left: 48px;\">\n",
       "            <details>\n",
       "                <summary>\n",
       "                    <h4 style=\"margin-bottom: 0px; display: inline;\">Worker: 2</h4>\n",
       "                </summary>\n",
       "                <table style=\"width: 100%; text-align: left;\">\n",
       "                    <tr>\n",
       "                        <td style=\"text-align: left;\">\n",
       "                            <strong>Comm: </strong> tcp://127.0.0.1:45793\n",
       "                        </td>\n",
       "                        <td style=\"text-align: left;\">\n",
       "                            <strong>Total threads: </strong> 4\n",
       "                        </td>\n",
       "                    </tr>\n",
       "                    <tr>\n",
       "                        <td style=\"text-align: left;\">\n",
       "                            <strong>Dashboard: </strong> <a href=\"http://127.0.0.1:44673/status\" target=\"_blank\">http://127.0.0.1:44673/status</a>\n",
       "                        </td>\n",
       "                        <td style=\"text-align: left;\">\n",
       "                            <strong>Memory: </strong> 15.72 GiB\n",
       "                        </td>\n",
       "                    </tr>\n",
       "                    <tr>\n",
       "                        <td style=\"text-align: left;\">\n",
       "                            <strong>Nanny: </strong> tcp://127.0.0.1:41193\n",
       "                        </td>\n",
       "                        <td style=\"text-align: left;\"></td>\n",
       "                    </tr>\n",
       "                    <tr>\n",
       "                        <td colspan=\"2\" style=\"text-align: left;\">\n",
       "                            <strong>Local directory: </strong> /media/habi/Fast_SSD/tmp/dask-worker-space/worker-fwai9dd_\n",
       "                        </td>\n",
       "                    </tr>\n",
       "\n",
       "                    \n",
       "\n",
       "                    \n",
       "\n",
       "                </table>\n",
       "            </details>\n",
       "            </div>\n",
       "        </div>\n",
       "        \n",
       "        <div style=\"margin-bottom: 20px;\">\n",
       "            <div style=\"width: 24px; height: 24px; background-color: #DBF5FF; border: 3px solid #4CC9FF; border-radius: 5px; position: absolute;\"> </div>\n",
       "            <div style=\"margin-left: 48px;\">\n",
       "            <details>\n",
       "                <summary>\n",
       "                    <h4 style=\"margin-bottom: 0px; display: inline;\">Worker: 3</h4>\n",
       "                </summary>\n",
       "                <table style=\"width: 100%; text-align: left;\">\n",
       "                    <tr>\n",
       "                        <td style=\"text-align: left;\">\n",
       "                            <strong>Comm: </strong> tcp://127.0.0.1:41131\n",
       "                        </td>\n",
       "                        <td style=\"text-align: left;\">\n",
       "                            <strong>Total threads: </strong> 4\n",
       "                        </td>\n",
       "                    </tr>\n",
       "                    <tr>\n",
       "                        <td style=\"text-align: left;\">\n",
       "                            <strong>Dashboard: </strong> <a href=\"http://127.0.0.1:44549/status\" target=\"_blank\">http://127.0.0.1:44549/status</a>\n",
       "                        </td>\n",
       "                        <td style=\"text-align: left;\">\n",
       "                            <strong>Memory: </strong> 15.72 GiB\n",
       "                        </td>\n",
       "                    </tr>\n",
       "                    <tr>\n",
       "                        <td style=\"text-align: left;\">\n",
       "                            <strong>Nanny: </strong> tcp://127.0.0.1:37487\n",
       "                        </td>\n",
       "                        <td style=\"text-align: left;\"></td>\n",
       "                    </tr>\n",
       "                    <tr>\n",
       "                        <td colspan=\"2\" style=\"text-align: left;\">\n",
       "                            <strong>Local directory: </strong> /media/habi/Fast_SSD/tmp/dask-worker-space/worker-75x59jbm\n",
       "                        </td>\n",
       "                    </tr>\n",
       "\n",
       "                    \n",
       "\n",
       "                    \n",
       "\n",
       "                </table>\n",
       "            </details>\n",
       "            </div>\n",
       "        </div>\n",
       "        \n",
       "        <div style=\"margin-bottom: 20px;\">\n",
       "            <div style=\"width: 24px; height: 24px; background-color: #DBF5FF; border: 3px solid #4CC9FF; border-radius: 5px; position: absolute;\"> </div>\n",
       "            <div style=\"margin-left: 48px;\">\n",
       "            <details>\n",
       "                <summary>\n",
       "                    <h4 style=\"margin-bottom: 0px; display: inline;\">Worker: 4</h4>\n",
       "                </summary>\n",
       "                <table style=\"width: 100%; text-align: left;\">\n",
       "                    <tr>\n",
       "                        <td style=\"text-align: left;\">\n",
       "                            <strong>Comm: </strong> tcp://127.0.0.1:39953\n",
       "                        </td>\n",
       "                        <td style=\"text-align: left;\">\n",
       "                            <strong>Total threads: </strong> 4\n",
       "                        </td>\n",
       "                    </tr>\n",
       "                    <tr>\n",
       "                        <td style=\"text-align: left;\">\n",
       "                            <strong>Dashboard: </strong> <a href=\"http://127.0.0.1:34889/status\" target=\"_blank\">http://127.0.0.1:34889/status</a>\n",
       "                        </td>\n",
       "                        <td style=\"text-align: left;\">\n",
       "                            <strong>Memory: </strong> 15.72 GiB\n",
       "                        </td>\n",
       "                    </tr>\n",
       "                    <tr>\n",
       "                        <td style=\"text-align: left;\">\n",
       "                            <strong>Nanny: </strong> tcp://127.0.0.1:46655\n",
       "                        </td>\n",
       "                        <td style=\"text-align: left;\"></td>\n",
       "                    </tr>\n",
       "                    <tr>\n",
       "                        <td colspan=\"2\" style=\"text-align: left;\">\n",
       "                            <strong>Local directory: </strong> /media/habi/Fast_SSD/tmp/dask-worker-space/worker-if4ztgqf\n",
       "                        </td>\n",
       "                    </tr>\n",
       "\n",
       "                    \n",
       "\n",
       "                    \n",
       "\n",
       "                </table>\n",
       "            </details>\n",
       "            </div>\n",
       "        </div>\n",
       "        \n",
       "        <div style=\"margin-bottom: 20px;\">\n",
       "            <div style=\"width: 24px; height: 24px; background-color: #DBF5FF; border: 3px solid #4CC9FF; border-radius: 5px; position: absolute;\"> </div>\n",
       "            <div style=\"margin-left: 48px;\">\n",
       "            <details>\n",
       "                <summary>\n",
       "                    <h4 style=\"margin-bottom: 0px; display: inline;\">Worker: 5</h4>\n",
       "                </summary>\n",
       "                <table style=\"width: 100%; text-align: left;\">\n",
       "                    <tr>\n",
       "                        <td style=\"text-align: left;\">\n",
       "                            <strong>Comm: </strong> tcp://127.0.0.1:44101\n",
       "                        </td>\n",
       "                        <td style=\"text-align: left;\">\n",
       "                            <strong>Total threads: </strong> 4\n",
       "                        </td>\n",
       "                    </tr>\n",
       "                    <tr>\n",
       "                        <td style=\"text-align: left;\">\n",
       "                            <strong>Dashboard: </strong> <a href=\"http://127.0.0.1:42143/status\" target=\"_blank\">http://127.0.0.1:42143/status</a>\n",
       "                        </td>\n",
       "                        <td style=\"text-align: left;\">\n",
       "                            <strong>Memory: </strong> 15.72 GiB\n",
       "                        </td>\n",
       "                    </tr>\n",
       "                    <tr>\n",
       "                        <td style=\"text-align: left;\">\n",
       "                            <strong>Nanny: </strong> tcp://127.0.0.1:42045\n",
       "                        </td>\n",
       "                        <td style=\"text-align: left;\"></td>\n",
       "                    </tr>\n",
       "                    <tr>\n",
       "                        <td colspan=\"2\" style=\"text-align: left;\">\n",
       "                            <strong>Local directory: </strong> /media/habi/Fast_SSD/tmp/dask-worker-space/worker-vieuf0tx\n",
       "                        </td>\n",
       "                    </tr>\n",
       "\n",
       "                    \n",
       "\n",
       "                    \n",
       "\n",
       "                </table>\n",
       "            </details>\n",
       "            </div>\n",
       "        </div>\n",
       "        \n",
       "        <div style=\"margin-bottom: 20px;\">\n",
       "            <div style=\"width: 24px; height: 24px; background-color: #DBF5FF; border: 3px solid #4CC9FF; border-radius: 5px; position: absolute;\"> </div>\n",
       "            <div style=\"margin-left: 48px;\">\n",
       "            <details>\n",
       "                <summary>\n",
       "                    <h4 style=\"margin-bottom: 0px; display: inline;\">Worker: 6</h4>\n",
       "                </summary>\n",
       "                <table style=\"width: 100%; text-align: left;\">\n",
       "                    <tr>\n",
       "                        <td style=\"text-align: left;\">\n",
       "                            <strong>Comm: </strong> tcp://127.0.0.1:36803\n",
       "                        </td>\n",
       "                        <td style=\"text-align: left;\">\n",
       "                            <strong>Total threads: </strong> 4\n",
       "                        </td>\n",
       "                    </tr>\n",
       "                    <tr>\n",
       "                        <td style=\"text-align: left;\">\n",
       "                            <strong>Dashboard: </strong> <a href=\"http://127.0.0.1:35723/status\" target=\"_blank\">http://127.0.0.1:35723/status</a>\n",
       "                        </td>\n",
       "                        <td style=\"text-align: left;\">\n",
       "                            <strong>Memory: </strong> 15.72 GiB\n",
       "                        </td>\n",
       "                    </tr>\n",
       "                    <tr>\n",
       "                        <td style=\"text-align: left;\">\n",
       "                            <strong>Nanny: </strong> tcp://127.0.0.1:43121\n",
       "                        </td>\n",
       "                        <td style=\"text-align: left;\"></td>\n",
       "                    </tr>\n",
       "                    <tr>\n",
       "                        <td colspan=\"2\" style=\"text-align: left;\">\n",
       "                            <strong>Local directory: </strong> /media/habi/Fast_SSD/tmp/dask-worker-space/worker-cjf2at5n\n",
       "                        </td>\n",
       "                    </tr>\n",
       "\n",
       "                    \n",
       "\n",
       "                    \n",
       "\n",
       "                </table>\n",
       "            </details>\n",
       "            </div>\n",
       "        </div>\n",
       "        \n",
       "        <div style=\"margin-bottom: 20px;\">\n",
       "            <div style=\"width: 24px; height: 24px; background-color: #DBF5FF; border: 3px solid #4CC9FF; border-radius: 5px; position: absolute;\"> </div>\n",
       "            <div style=\"margin-left: 48px;\">\n",
       "            <details>\n",
       "                <summary>\n",
       "                    <h4 style=\"margin-bottom: 0px; display: inline;\">Worker: 7</h4>\n",
       "                </summary>\n",
       "                <table style=\"width: 100%; text-align: left;\">\n",
       "                    <tr>\n",
       "                        <td style=\"text-align: left;\">\n",
       "                            <strong>Comm: </strong> tcp://127.0.0.1:40827\n",
       "                        </td>\n",
       "                        <td style=\"text-align: left;\">\n",
       "                            <strong>Total threads: </strong> 4\n",
       "                        </td>\n",
       "                    </tr>\n",
       "                    <tr>\n",
       "                        <td style=\"text-align: left;\">\n",
       "                            <strong>Dashboard: </strong> <a href=\"http://127.0.0.1:43731/status\" target=\"_blank\">http://127.0.0.1:43731/status</a>\n",
       "                        </td>\n",
       "                        <td style=\"text-align: left;\">\n",
       "                            <strong>Memory: </strong> 15.72 GiB\n",
       "                        </td>\n",
       "                    </tr>\n",
       "                    <tr>\n",
       "                        <td style=\"text-align: left;\">\n",
       "                            <strong>Nanny: </strong> tcp://127.0.0.1:43701\n",
       "                        </td>\n",
       "                        <td style=\"text-align: left;\"></td>\n",
       "                    </tr>\n",
       "                    <tr>\n",
       "                        <td colspan=\"2\" style=\"text-align: left;\">\n",
       "                            <strong>Local directory: </strong> /media/habi/Fast_SSD/tmp/dask-worker-space/worker-6r3ksh6d\n",
       "                        </td>\n",
       "                    </tr>\n",
       "\n",
       "                    \n",
       "\n",
       "                    \n",
       "\n",
       "                </table>\n",
       "            </details>\n",
       "            </div>\n",
       "        </div>\n",
       "        \n",
       "\n",
       "    </details>\n",
       "</div>\n",
       "\n",
       "        </details>\n",
       "    </div>\n",
       "</div>\n",
       "            </details>\n",
       "        \n",
       "\n",
       "    </div>\n",
       "</div>"
      ],
      "text/plain": [
       "<Client: 'tcp://127.0.0.1:42617' processes=8 threads=32, memory=125.79 GiB>"
      ]
     },
     "execution_count": 5,
     "metadata": {},
     "output_type": "execute_result"
    }
   ],
   "source": [
    "client"
   ]
  },
  {
   "cell_type": "code",
   "execution_count": 6,
   "metadata": {},
   "outputs": [
    {
     "name": "stdout",
     "output_type": "stream",
     "text": [
      "You can seee what DASK is doing at \"http://localhost:38845/status\"\n"
     ]
    }
   ],
   "source": [
    "print('You can see what DASK is doing at \"http://localhost:%s/status\"' % client.scheduler_info()['services']['dashboard'])"
   ]
  },
  {
   "cell_type": "code",
   "execution_count": 7,
   "metadata": {},
   "outputs": [],
   "source": [
    "# Set up figure defaults\n",
    "plt.rc('image', cmap='gray', interpolation='nearest')  # Display all images in b&w and with 'nearest' interpolation\n",
    "plt.rcParams['figure.figsize'] = (16, 9)  # Size up figures a bit\n",
    "plt.rcParams['figure.dpi'] = 200"
   ]
  },
  {
   "cell_type": "code",
   "execution_count": 8,
   "metadata": {},
   "outputs": [],
   "source": [
    "# Setup scale bar defaults\n",
    "plt.rcParams['scalebar.location'] = 'lower right'\n",
    "plt.rcParams['scalebar.frameon'] = False\n",
    "plt.rcParams['scalebar.color'] = 'white'"
   ]
  },
  {
   "cell_type": "markdown",
   "metadata": {},
   "source": [
    "Since the (tomographic) data can reside on different drives we set a folder to use below"
   ]
  },
  {
   "cell_type": "code",
   "execution_count": 9,
   "metadata": {},
   "outputs": [
    {
     "name": "stdout",
     "output_type": "stream",
     "text": [
      "We are loading all the data from /home/habi/research-storage-iee/microCT\n"
     ]
    }
   ],
   "source": [
    "# Different locations if running either on Linux or Windows\n",
    "FastSSD = False\n",
    "nanoct = False  # Load the data directly from the 2214\n",
    "overthere = True  # Load the data directly from the iee-research_storage drive\n",
    "# to speed things up significantly\n",
    "if 'Linux' in platform.system():\n",
    "    if FastSSD:\n",
    "        BasePath = os.path.join(os.sep, 'media', 'habi', 'Fast_SSD')\n",
    "    elif overthere:\n",
    "        BasePath = os.path.join(os.sep, 'home', 'habi', 'research-storage-iee', 'microCT')\n",
    "    elif nanoct:\n",
    "        BasePath = os.path.join(os.path.sep, 'home', 'habi', '2214')\n",
    "    else:\n",
    "        BasePath = os.path.join(os.sep, 'home', 'habi', '1272')\n",
    "elif 'Darwin' in platform.system():\n",
    "    FastSSD = False\n",
    "    BasePath = os.path.join('/Users/habi/Dev/EAWAG/Data')\n",
    "elif 'Windows' in platform.system():\n",
    "    if FastSSD:\n",
    "        BasePath = os.path.join('F:\\\\')\n",
    "    else:\n",
    "        if overthere:\n",
    "            BasePath = os.path.join('\\\\\\\\resstore.unibe.ch', 'iee_aqua', 'microCTupload')\n",
    "        elif nanoct:\n",
    "            BasePath = os.path.join('N:\\\\')\n",
    "        else:\n",
    "            BasePath = os.path.join('D:\\\\Results')\n",
    "if overthere:\n",
    "    Root = BasePath\n",
    "else:\n",
    "    Root = os.path.join(BasePath, 'EAWAG')\n",
    "print('We are loading all the data from %s' % Root)"
   ]
  },
  {
   "cell_type": "markdown",
   "metadata": {},
   "source": [
    "We generate some output in this notebook.\n",
    "To make all the data completely reproducible, save the output to a directory named according to the current `git` hash of the repository."
   ]
  },
  {
   "cell_type": "code",
   "execution_count": 10,
   "metadata": {},
   "outputs": [],
   "source": [
    "def get_git_hash():\n",
    "    '''\n",
    "    Get the current git hash from the repository.\n",
    "    Based on http://stackoverflow.com/a/949391/323100 and\n",
    "    http://stackoverflow.com/a/18283905/323100\n",
    "    '''\n",
    "    from subprocess import Popen, PIPE\n",
    "    import os\n",
    "    gitprocess = Popen(['git',\n",
    "                        '--git-dir',\n",
    "                        os.path.join(os.getcwd(), '.git'),\n",
    "                        'rev-parse',\n",
    "                        '--short',\n",
    "                        '--verify',\n",
    "                        'HEAD'],\n",
    "                       stdout=PIPE)\n",
    "    (output, _) = gitprocess.communicate()\n",
    "    return output.strip().decode(\"utf-8\")"
   ]
  },
  {
   "cell_type": "code",
   "execution_count": 11,
   "metadata": {},
   "outputs": [
    {
     "name": "stdout",
     "output_type": "stream",
     "text": [
      "We are saving all the output to /home/habi/P/Documents/EAWAG/Output/e008086\n"
     ]
    }
   ],
   "source": [
    "# Make directory for output\n",
    "OutPutDir = os.path.join(os.getcwd(), 'Output', get_git_hash())\n",
    "print('We are saving all the output to %s' % OutPutDir)\n",
    "os.makedirs(OutPutDir, exist_ok=True)"
   ]
  },
  {
   "cell_type": "markdown",
   "metadata": {},
   "source": [
    "Now that we are set up, actually start to load/ingest the data."
   ]
  },
  {
   "cell_type": "code",
   "execution_count": 12,
   "metadata": {},
   "outputs": [],
   "source": [
    "# Make us a dataframe for saving all that we need\n",
    "Data = pandas.DataFrame()"
   ]
  },
  {
   "cell_type": "code",
   "execution_count": 13,
   "metadata": {},
   "outputs": [],
   "source": [
    "# Get *all* log files, unsorted but fast\n",
    "Data['LogFile'] = [os.path.join(root, name)\n",
    "                   for root, dirs, files in os.walk(Root)\n",
    "                   for name in files\n",
    "                   if name.endswith((\".log\"))]"
   ]
  },
  {
   "cell_type": "code",
   "execution_count": 14,
   "metadata": {},
   "outputs": [],
   "source": [
    "# # Let's try to optimize the timing, based on https://stackoverflow.com/a/27565420/323100\n",
    "# n, t = 0, time.time()\n",
    "# LogFiles = [os.path.join(root, name)\n",
    "#             for root, dirs, files in os.walk(Root)\n",
    "#             for name in files\n",
    "#             if name.endswith((\".log\"))]\n",
    "# t = time.time() - t\n",
    "# print(\"os.walk: %.4fs, %d files found\" % (t, len(LogFiles)))\n",
    "\n",
    "# n, t = 0, time.time()\n",
    "# globfiles = [f for f in glob.glob(os.path.join(Root, '**', '*.log'),\n",
    "#                                   recursive=True)]\n",
    "# t = time.time() - t\n",
    "# print(\"glob.glob, unsorted: %.4fs, %d files found\" % (t, len(globfiles)))\n",
    "\n",
    "# n, t = 0, time.time()\n",
    "# globfiles = [f for f in sorted(glob.glob(os.path.join(Root, '**', '*.log'),\n",
    "#                                          recursive=True),\n",
    "#                                key=os.path.getmtime)]\n",
    "# t = time.time() - t\n",
    "# print(\"glob.glob, sorted: %.4fs, %d files found\" % (t, len(globfiles)))"
   ]
  },
  {
   "cell_type": "code",
   "execution_count": 15,
   "metadata": {},
   "outputs": [],
   "source": [
    "# On the FastSSD, sorted glob is about half as fast as os.walk, and unsorted glob is still substantially slower than walk!\n",
    "# glob.glob: 0.7773s, 1206 files found\n",
    "# os.walk: 0.3810s, 1206 files found"
   ]
  },
  {
   "cell_type": "markdown",
   "metadata": {},
   "source": [
    "The notebook might not be running locally on our machines, but on Binder.\n",
    "There, the user has no access to the log files, so we fail back to a local copy of them.\n",
    "This also means that no reconstructions are available, und we thus cannot count them.\n",
    "We thus set a variable which skips looking for parameters related to the reconstructions."
   ]
  },
  {
   "cell_type": "code",
   "execution_count": 16,
   "metadata": {},
   "outputs": [],
   "source": [
    "if not len(Data):\n",
    "    # Our dataframe is empty.\n",
    "    # We might be running on Binder, e.g. load the logfiles from the subfolder in this repository\n",
    "    print(10 * ' -', 'CAVEAT', 10 * ' -')\n",
    "    print('You are most probably running the notebook on binder.')\n",
    "    print('And thus do not have access to the log files on the research storage')\n",
    "    print('We are using a \"local\" copy of the data in the `logfiles` subfolder')\n",
    "    print('This gives correct, but possibly outdated results...')\n",
    "    print(10 * ' -', 'CAVEAT', 10 * ' -')\n",
    "    # Change root folder\n",
    "    Root = 'logfiles'\n",
    "    # Load log files again\n",
    "    Data['LogFile'] = [f for f in sorted(glob.glob(os.path.join(Root, '**', '*.log'),\n",
    "                                                   recursive=True),\n",
    "                                         key=os.path.getmtime)]\n",
    "    running_on_binder = True\n",
    "else:\n",
    "    running_on_binder = False"
   ]
  },
  {
   "cell_type": "code",
   "execution_count": 17,
   "metadata": {},
   "outputs": [],
   "source": [
    "# Get all folders\n",
    "Data['Folder'] = [os.path.dirname(f) for f in Data['LogFile']]"
   ]
  },
  {
   "cell_type": "code",
   "execution_count": 18,
   "metadata": {},
   "outputs": [
    {
     "name": "stdout",
     "output_type": "stream",
     "text": [
      "- 105005_104015_Incertae_sedis_vanoijeni_and_Enterochromis_I_cinctus_St_E/proj/105005_104015.log is missing matching reconstructions\n",
      "- 105005_104015_Incertae_sedis_vanoijeni_and_Enterochromis_I_cinctus_St_E/proj/105005_104015~00.log is missing matching reconstructions\n",
      "- 105005_104015_Incertae_sedis_vanoijeni_and_Enterochromis_I_cinctus_St_E/proj/105005_104015~02.log is missing matching reconstructions\n",
      "- 105005_104015_Incertae_sedis_vanoijeni_and_Enterochromis_I_cinctus_St_E/proj/105005_104015~04.log is missing matching reconstructions\n",
      "- 105005_104015_Incertae_sedis_vanoijeni_and_Enterochromis_I_cinctus_St_E/proj/105005_104015~01.log is missing matching reconstructions\n",
      "- 105005_104015_Incertae_sedis_vanoijeni_and_Enterochromis_I_cinctus_St_E/proj/105005_104015~03.log is missing matching reconstructions\n",
      "- 104671_156645/proj/104671_156645~01.log is missing matching reconstructions\n",
      "- 104671_156645/proj/104671_156645~00.log is missing matching reconstructions\n",
      "- 104671_156645/proj/104671_156645~02.log is missing matching reconstructions\n",
      "- 104671_156645/proj/104671_156645.log is missing matching reconstructions\n",
      "- 103761_Enterochromis_I_coprologus_EF/proj_oj/103761.log is missing matching reconstructions\n",
      "- 103375_Harpagochromis_cavifrons/proj_stuck/103375~01.log is missing matching reconstructions\n",
      "- 103375_Harpagochromis_cavifrons/proj_stuck/103375~02.log is missing matching reconstructions\n",
      "- 103375_Harpagochromis_cavifrons/proj_stuck/103375.log is missing matching reconstructions\n",
      "- 103375_Harpagochromis_cavifrons/proj_stuck/103375~00.log is missing matching reconstructions\n"
     ]
    }
   ],
   "source": [
    "if not running_on_binder:\n",
    "    # Check for samples which are not yet reconstructed\n",
    "    for c, row in Data.iterrows():\n",
    "        # Iterate over every 'proj' folder\n",
    "        if 'proj' in row.Folder:\n",
    "            if 'TScopy' not in row.Folder and 'PR' not in row.Folder:\n",
    "                # If there's nothing with 'rec*' on the same level, then tell us\n",
    "                if not glob.glob(row.Folder.replace('proj', 'rec')):\n",
    "                    # print(glob.glob(row.Folder.replace('proj', 'rec')))\n",
    "                    print('- %s is missing matching reconstructions' % row.LogFile[len(Root) + 1:])"
   ]
  },
  {
   "cell_type": "code",
   "execution_count": 19,
   "metadata": {},
   "outputs": [],
   "source": [
    "# Get rid of all non-rec logfiles\n",
    "for c, row in Data.iterrows():\n",
    "    if 'rec' not in row.Folder:\n",
    "        Data.drop([c], inplace=True)\n",
    "    elif 'rectmp.log' in row.LogFile:\n",
    "        Data.drop([c], inplace=True)\n",
    "# Reset dataframe index\n",
    "Data = Data.reset_index(drop=True)"
   ]
  },
  {
   "cell_type": "code",
   "execution_count": 20,
   "metadata": {},
   "outputs": [],
   "source": [
    "# Generate us some meaningful colums\n",
    "Data['Fish'] = [l[len(Root) + 1:].split(os.sep)[0] for l in Data['LogFile']]\n",
    "Data['Scan'] = ['.'.join(l[len(Root) + 1:].split(os.sep)[1:-1]) for l in Data['LogFile']]"
   ]
  },
  {
   "cell_type": "code",
   "execution_count": 21,
   "metadata": {},
   "outputs": [],
   "source": [
    "# # Debug output\n",
    "# for log in Data['LogFile']:\n",
    "#     try:\n",
    "#         (pixelsize(log))\n",
    "#     except:\n",
    "#         print(log)"
   ]
  },
  {
   "cell_type": "code",
   "execution_count": 22,
   "metadata": {},
   "outputs": [],
   "source": [
    "# Get parameters related to scan from logfiles\n",
    "Data['Voxelsize'] = [pixelsize(log) for log in Data['LogFile']]\n",
    "Data['Voltage'] = [voltage(log) for log in Data['LogFile']]\n",
    "Data['Current'] = [current(log) for log in Data['LogFile']]\n",
    "Data['Filter'] = [whichfilter(log) for log in Data['LogFile']]\n",
    "Data['Exposuretime'] = [exposuretime(log) for log in Data['LogFile']]\n",
    "Data['Scanner'] = [scanner(log) for log in Data['LogFile']]\n",
    "Data['Averaging'] = [averaging(log) for log in Data['LogFile']]\n",
    "Data['Scan date'] = [scandate(log) for log in Data['LogFile']]\n",
    "Data['ProjectionSize'] = [projection_size(log) for log in Data['LogFile']]\n",
    "Data['RotationStep'] = [rotationstep(log) for log in Data['LogFile']]\n",
    "Data['ThreeSixty'] = [threesixtyscan(log) for log in Data['LogFile']]"
   ]
  },
  {
   "cell_type": "code",
   "execution_count": 23,
   "metadata": {},
   "outputs": [],
   "source": [
    "# Get parameters related to reconstruction from logfiles\n",
    "Data['ReconstructionSize'] = [reconstruction_size(log) for log in Data['LogFile']]\n",
    "Data['Grayvalue'] = [reconstruction_grayvalue(log) for log in Data['LogFile']]\n",
    "Data['RingartefactCorrection'] = [ringremoval(log) for log in Data['LogFile']]\n",
    "Data['BeamHardeningCorrection'] = [beamhardening(log) for log in Data['LogFile']]\n",
    "Data['ROI'] = [region_of_interest(log) for log in Data['LogFile']]\n",
    "Data['Duration'] = [duration(log) for log in Data['LogFile']]\n",
    "Data['Stacks'] = [stacks(log) for log in Data['LogFile']]"
   ]
  },
  {
   "cell_type": "code",
   "execution_count": 24,
   "metadata": {},
   "outputs": [
    {
     "name": "stdout",
     "output_type": "stream",
     "text": [
      "Dropping Bruker1273_HoustonScans_reconstructed/CichlidCan25_GaurochromisIrisJAWS_TSO7_7um_HR_SS_Ford/CichlidCan25_GaurochromisIrisJAWS_TSO7_7um_HR_SS_Ford_~02.log from our dataframe\n",
      "Dropping Bruker1273_HoustonScans_reconstructed/CichlidCan25_GaurochromisIrisJAWS_TSO7_7um_HR_SS_Ford/CichlidCan25_GaurochromisIrisJAWS_TSO7_7um_HR_SS_Ford_.log from our dataframe\n",
      "Dropping Bruker1273_HoustonScans_reconstructed/CichlidCan25_GaurochromisIrisJAWS_TSO7_7um_HR_SS_Ford/CichlidCan25_GaurochromisIrisJAWS_TSO7_7um_HR_SS_Ford_~00.log from our dataframe\n",
      "Dropping Bruker1273_HoustonScans_reconstructed/CichlidCan25_GaurochromisIrisJAWS_TSO7_7um_HR_SS_Ford/CichlidCan25_GaurochromisIrisJAWS_TSO7_7um_HR_SS_Ford_~01.log from our dataframe\n",
      "Dropping Bruker1273_HoustonScans_reconstructed/CichlidCan25_GaurochromisIrisJAWS_TSO7_7um_HR_SS_Ford/GaurochromisIrisJAWS_TSO7_Bern_rec/CichlidCan25_GaurochromisIrisJAWS_TSO7_7um_HR_SS_Ford__rec.log from our dataframe\n",
      "Dropping Bruker1273_HoustonScans_reconstructed/CichlidCan200_HarpagochromisORHJAWS_IG280_10_HR_SS_Ford/CichlidCan200_HarpagochromisORHJAWS_IG280_10_HR_SS_Ford_~03.log from our dataframe\n",
      "Dropping Bruker1273_HoustonScans_reconstructed/CichlidCan200_HarpagochromisORHJAWS_IG280_10_HR_SS_Ford/CichlidCan200_HarpagochromisORHJAWS_IG280_10_HR_SS_Ford_~01.log from our dataframe\n",
      "Dropping Bruker1273_HoustonScans_reconstructed/CichlidCan200_HarpagochromisORHJAWS_IG280_10_HR_SS_Ford/CichlidCan200_HarpagochromisORHJAWS_IG280_10_HR_SS_Ford_.log from our dataframe\n",
      "Dropping Bruker1273_HoustonScans_reconstructed/CichlidCan200_HarpagochromisORHJAWS_IG280_10_HR_SS_Ford/CichlidCan200_HarpagochromisORHJAWS_IG280_10_HR_SS_Ford_~00.log from our dataframe\n",
      "Dropping Bruker1273_HoustonScans_reconstructed/CichlidCan200_HarpagochromisORHJAWS_IG280_10_HR_SS_Ford/CichlidCan200_HarpagochromisORHJAWS_IG280_10_HR_SS_Ford_~02.log from our dataframe\n",
      "Dropping Bruker1273_HoustonScans_reconstructed/CichlidCan200_HarpagochromisORHJAWS_IG280_10_HR_SS_Ford/HarpagochromisORHJAWS_IG280_Bern_rec/CichlidCan200_HarpagochromisORHJAWS_IG280_10_HR_SS_Ford__rec.log from our dataframe\n",
      "Dropping Bruker1273_HoustonScans_reconstructed/CichlidCan48_LithochromisRufusJAWS_12793_7um_HR_SS_Ford/CichlidCan48_LithochromisRufusJAWS_12793_7um_HR_SS_Ford_~01.log from our dataframe\n",
      "Dropping Bruker1273_HoustonScans_reconstructed/CichlidCan48_LithochromisRufusJAWS_12793_7um_HR_SS_Ford/CichlidCan48_LithochromisRufusJAWS_12793_7um_HR_SS_Ford_~00.log from our dataframe\n",
      "Dropping Bruker1273_HoustonScans_reconstructed/CichlidCan48_LithochromisRufusJAWS_12793_7um_HR_SS_Ford/CichlidCan48_LithochromisRufusJAWS_12793_7um_HR_SS_Ford_.log from our dataframe\n",
      "Dropping Bruker1273_HoustonScans_reconstructed/CichlidCan48_LithochromisRufusJAWS_12793_7um_HR_SS_Ford/LithochromisRufusJAWS_12793_Bern_rec/CichlidCan48_LithochromisRufusJAWS_12793_7um_HR_SS_Ford__rec.log from our dataframe\n"
     ]
    }
   ],
   "source": [
    "# The iee research storage folder contains some folders with scans done by Kassandra on a SkyScan1273.\n",
    "# Exclude those, since they are not part of this study, we just looked at them to help her.\n",
    "for c, row in Data.iterrows():\n",
    "    if '1273' in row.Scanner:\n",
    "        print('Dropping %s from our dataframe' % row.LogFile[len(Root)+1:])\n",
    "        Data.drop([c], inplace=True)\n",
    "# Reset dataframe index\n",
    "Data = Data.reset_index(drop=True)"
   ]
  },
  {
   "cell_type": "code",
   "execution_count": 25,
   "metadata": {},
   "outputs": [
    {
     "name": "stdout",
     "output_type": "stream",
     "text": [
      "Dropping Test_Teeth/P/rec_nofilter/P_rec.log from our dataframe\n",
      "Dropping Test_Teeth/P/rec_al0.25/P_rec.log from our dataframe\n",
      "Dropping Test_Teeth/W/rec_nofilter/W_rec.log from our dataframe\n",
      "Dropping Test_Teeth/W/rec_al0.25/W_rec.log from our dataframe\n"
     ]
    }
   ],
   "source": [
    "# The iee research storage folder contains folders with scans of only teeth, done as a small pilot study.\n",
    "# Exclude those, since they are not part of this study.\n",
    "for c, row in Data.iterrows():\n",
    "    if 'Teeth' in row.Folder:\n",
    "        print('Dropping %s from our dataframe' % row.LogFile[len(Root)+1:])\n",
    "        Data.drop([c], inplace=True)\n",
    "# Reset dataframe index\n",
    "Data = Data.reset_index(drop=True)"
   ]
  },
  {
   "cell_type": "code",
   "execution_count": 26,
   "metadata": {},
   "outputs": [],
   "source": [
    "# Sort dataframe on fishes and scans\n",
    "Data.sort_values(by=['Fish', 'Scan'], inplace=True)\n",
    "# Reset dataframe index\n",
    "Data = Data.reset_index(drop=True)"
   ]
  },
  {
   "cell_type": "code",
   "execution_count": 27,
   "metadata": {},
   "outputs": [
    {
     "name": "stdout",
     "output_type": "stream",
     "text": [
      "We have 133 unique names in our corpus of scans\n",
      "We performed 375 scans in total\n"
     ]
    }
   ],
   "source": [
    "# How many fishes did we scan?\n",
    "# We scanned six 'BucketOfFish' so subtract those :)\n",
    "print('We have %s unique names in our corpus of scans' % (len(Data.Fish.unique()) - 6))\n",
    "print('We performed %s scans in total' % len(Data.Scan))"
   ]
  },
  {
   "cell_type": "code",
   "execution_count": 28,
   "metadata": {},
   "outputs": [],
   "source": [
    "# Get the file names of the reconstructions\n",
    "Data['Reconstructions'] = [[os.path.join(root, name)\n",
    "                            for root, dirs, files in os.walk(f)\n",
    "                            for name in files\n",
    "                            if 'rec0' in name and name.endswith((\".png\"))] for f in Data['Folder']]\n",
    "# Count how many files we have\n",
    "Data['Number of reconstructions'] = [len(r) for r in Data.Reconstructions]"
   ]
  },
  {
   "cell_type": "code",
   "execution_count": 29,
   "metadata": {},
   "outputs": [
    {
     "name": "stdout",
     "output_type": "stream",
     "text": [
      "40/375: Folder 103761_Enterochromis_I_coprologus_EF/rec_rereconstruct does not contain any reconstructions and will be removed in the next step\n",
      "334/375: Folder MA31_Paralabidochromis_rockpicker_flavus/moved_rec does not contain any reconstructions and will be removed in the next step\n",
      "338/375: Folder MA31_Paralabidochromis_rockpicker_flavus/stuck_rec does not contain any reconstructions and will be removed in the next step\n"
     ]
    }
   ],
   "source": [
    "if not running_on_binder:\n",
    "    # Let's see if we're missing some data\n",
    "    for c, row in Data[Data['Number of reconstructions'] == 0].iterrows():\n",
    "        print('%s/%s: Folder %s does not contain any reconstructions and '\n",
    "              'will be removed in the next step' % (c + 1,\n",
    "                                                    len(Data),\n",
    "                                                    os.path.join(row.Fish, row.Scan)))"
   ]
  },
  {
   "cell_type": "code",
   "execution_count": 30,
   "metadata": {},
   "outputs": [],
   "source": [
    "# 103761/rec_rereconstruct is a folder where we tried to salvage a scan where the sample holder touched the source\n",
    "# MA31/moved_rec/ is a folder where the fish moved during the acquisition\n",
    "# MA31/stuck_rec/ is a folder where we've lost air pressure in the building and the stage got stuck"
   ]
  },
  {
   "cell_type": "code",
   "execution_count": 47,
   "metadata": {},
   "outputs": [
    {
     "name": "stdout",
     "output_type": "stream",
     "text": [
      "We performed 372 scans in total\n"
     ]
    }
   ],
   "source": [
    "# How many fishes did we scan?\n",
    "print('We performed %s scans in total' % len(Data.Scan))"
   ]
  },
  {
   "cell_type": "code",
   "execution_count": 31,
   "metadata": {},
   "outputs": [
    {
     "name": "stdout",
     "output_type": "stream",
     "text": [
      "We have 375 folders in total\n",
      "Of which 372 folders do contain reconstructions\n"
     ]
    }
   ],
   "source": [
    "print('We have %s folders in total' % (len(Data)))\n",
    "if not running_on_binder:\n",
    "    # Drop samples which have not been reconstructed yet\n",
    "    # Based on https://stackoverflow.com/a/13851602\n",
    "    # for c, row in Data.iterrows():\n",
    "    #     if not row['Number of reconstructions']:\n",
    "    #         print('%s contains no PNG files, we might be currently reconstructing it' % row.Folder)\n",
    "    Data = Data[Data['Number of reconstructions'] > 0]\n",
    "    Data.reset_index(drop=True, inplace=True)\n",
    "    print('Of which %s folders do contain reconstructions' % (len(Data)))"
   ]
  },
  {
   "cell_type": "code",
   "execution_count": 32,
   "metadata": {},
   "outputs": [],
   "source": [
    "Data['Total Duration'] = [st * stk for st, stk in zip(Data['Duration'], Data['Stacks'])]"
   ]
  },
  {
   "cell_type": "code",
   "execution_count": 33,
   "metadata": {},
   "outputs": [
    {
     "name": "stdout",
     "output_type": "stream",
     "text": [
      "-----vs: 3.499972-----\n",
      "                                      Fish Scan  Voxelsize\n",
      "17  103637_Astatotilapia_nubila_swamp_blue  rec   3.499972\n",
      "-----vs: 4.000007-----\n",
      "                                       Fish                         Scan  \\\n",
      "13   103634_Astatotilapia_nubila_swamp_blue                          rec   \n",
      "18    103641_Astatotilapia_nubila_swamp_red                          rec   \n",
      "24          103720_Enterochromis_I_paropius                          rec   \n",
      "52      103926_Enterochromis_I_new_invasive                          rec   \n",
      "71      104661_Enterochromis_I_new_invasive                          rec   \n",
      "72      104661_Enterochromis_I_new_invasive            rec_rereconstruct   \n",
      "73      104661_Enterochromis_I_new_invasive  rec_rereconstruct_smoothing   \n",
      "139     109768_Enterochromis_I_cinctus_St_E                          rec   \n",
      "317           IG94_Yssichromis_core_plumbus                          rec   \n",
      "\n",
      "     Voxelsize  \n",
      "13    4.000007  \n",
      "18    4.000007  \n",
      "24    4.000007  \n",
      "52    4.000007  \n",
      "71    4.000007  \n",
      "72    4.000007  \n",
      "73    4.000007  \n",
      "139   4.000007  \n",
      "317   4.000007  \n",
      "-----vs: 4.399916-----\n",
      "                                              Fish      Scan  Voxelsize\n",
      "119  106985_Pseudocrenilabrus_multicolor_victoriae  2214_rec   4.399916\n",
      "-----vs: 4.50002-----\n",
      "                         Fish Scan  Voxelsize\n",
      "140  109857_Incertae_sedis_sp  rec    4.50002\n",
      "-----vs: 5.000014-----\n",
      "                                        Fish                       Scan  \\\n",
      "15    103635_Astatotilapia_nubila_swamp_blue                    jaw.rec   \n",
      "16    103635_Astatotilapia_nubila_swamp_blue                pharynx.rec   \n",
      "46        103778_Yssichromis_cf_supramacrops                    jaw.rec   \n",
      "47        103778_Yssichromis_cf_supramacrops                pharynx.rec   \n",
      "50       103908_Enterochromis_I_new_invasive                    jaw.rec   \n",
      "51       103908_Enterochromis_I_new_invasive                  stack.rec   \n",
      "54       104016_Enterochromis_I_cinctus_St_E                    jaw.rec   \n",
      "55       104016_Enterochromis_I_cinctus_St_E                pharynx.rec   \n",
      "207             131282_Astatotilapia_burtoni                    jaw.rec   \n",
      "208             131282_Astatotilapia_burtoni                pharynx.rec   \n",
      "224      14295_Enterochromis_I_sp_red_dorsum                        rec   \n",
      "243  21322_Neochromis_omnicaeruleus_Testfish          jaw.rec_mouth_5um   \n",
      "325         KAT13_Thoracochromis_pharyngalis                    jaw.rec   \n",
      "326         KAT13_Thoracochromis_pharyngalis                pharynx.rec   \n",
      "329         KC31_Harpagochromis_squamipinnis                pharynx.rec   \n",
      "354             TJ3_Enterochromis_I_paropius                 jaw_v1.rec   \n",
      "355             TJ3_Enterochromis_I_paropius  pharynx.rec_pharyngealjaw   \n",
      "\n",
      "     Voxelsize  \n",
      "15    5.000014  \n",
      "16    5.000014  \n",
      "46    5.000014  \n",
      "47    5.000014  \n",
      "50    5.000014  \n",
      "51    5.000014  \n",
      "54    5.000014  \n",
      "55    5.000014  \n",
      "207   5.000014  \n",
      "208   5.000014  \n",
      "224   5.000014  \n",
      "243   5.000014  \n",
      "325   5.000014  \n",
      "326   5.000014  \n",
      "329   5.000014  \n",
      "354   5.000014  \n",
      "355   5.000014  \n"
     ]
    }
   ],
   "source": [
    "# Show five smallest voxelsizes and scans\n",
    "for c, vs in enumerate(sorted(Data.Voxelsize.unique())[:5]):\n",
    "    print('-----vs: %s-----' % vs)\n",
    "    print(Data[Data.Voxelsize == vs][['Fish', 'Scan', 'Voxelsize']])"
   ]
  },
  {
   "cell_type": "code",
   "execution_count": 34,
   "metadata": {},
   "outputs": [
    {
     "name": "stdout",
     "output_type": "stream",
     "text": [
      "-----vs: 35.998895-----\n",
      "                   Fish      Scan  Voxelsize\n",
      "203  13115_Mbipia_lutea  head.rec  35.998895\n",
      "-----vs: 39.999499-----\n",
      "                              Fish                 Scan  Voxelsize\n",
      "100  10619_Neochromis_rufocaudalis  head.rec_4xbin_40um  39.999499\n",
      "-----vs: 40.000954-----\n",
      "                             Fish           Scan  Voxelsize\n",
      "184  11965_Hoplotilapia_retrodens  rec_head_40um  40.000954\n",
      "-----vs: 49.998527-----\n",
      "                            Fish           Scan  Voxelsize\n",
      "190  12319_Neochromis_greenwoodi  head.50um_rec  49.998527\n",
      "-----vs: 188.212-----\n",
      "                                                  Fish            Scan  \\\n",
      "104  10628_Paralabidochromis_rockkribensis_short_sn...  full_188um.rec   \n",
      "\n",
      "     Voxelsize  \n",
      "104    188.212  \n"
     ]
    }
   ],
   "source": [
    "# Show five largest voxelsizes and scans\n",
    "for c, vs in enumerate(sorted(Data.Voxelsize.unique())[-5:]):\n",
    "    print('-----vs: %s-----' % vs)\n",
    "    print(Data[Data.Voxelsize == vs][['Fish', 'Scan', 'Voxelsize']])"
   ]
  },
  {
   "cell_type": "code",
   "execution_count": 35,
   "metadata": {},
   "outputs": [
    {
     "data": {
      "text/plain": [
       "array([False, 'Al 0.25mm', 'Al 0.5mm', 'Al 1mm'], dtype=object)"
      ]
     },
     "execution_count": 35,
     "metadata": {},
     "output_type": "execute_result"
    }
   ],
   "source": [
    "Data.Filter.unique()"
   ]
  },
  {
   "cell_type": "code",
   "execution_count": 36,
   "metadata": {},
   "outputs": [
    {
     "data": {
      "text/plain": [
       "[55.0, 60.0, 65.0, 70.0, 80.0]"
      ]
     },
     "execution_count": 36,
     "metadata": {},
     "output_type": "execute_result"
    }
   ],
   "source": [
    "sorted(Data.Voltage.unique())"
   ]
  },
  {
   "cell_type": "code",
   "execution_count": 37,
   "metadata": {},
   "outputs": [
    {
     "data": {
      "text/plain": [
       "[107.0,\n",
       " 115.0,\n",
       " 116.0,\n",
       " 125.0,\n",
       " 131.0,\n",
       " 132.0,\n",
       " 134.0,\n",
       " 135.0,\n",
       " 136.0,\n",
       " 137.0,\n",
       " 138.0,\n",
       " 139.0,\n",
       " 140.0,\n",
       " 142.0,\n",
       " 145.0,\n",
       " 146.0,\n",
       " 147.0,\n",
       " 166.0,\n",
       " 200.0]"
      ]
     },
     "execution_count": 37,
     "metadata": {},
     "output_type": "execute_result"
    }
   ],
   "source": [
    "sorted(Data.Current.unique())"
   ]
  },
  {
   "cell_type": "code",
   "execution_count": 38,
   "metadata": {},
   "outputs": [
    {
     "data": {
      "text/plain": [
       "[nan, 7.0, 13.0, 14.0, 19.0]"
      ]
     },
     "execution_count": 38,
     "metadata": {},
     "output_type": "execute_result"
    }
   ],
   "source": [
    "sorted(Data.RingartefactCorrection.unique())"
   ]
  },
  {
   "cell_type": "code",
   "execution_count": 39,
   "metadata": {},
   "outputs": [
    {
     "data": {
      "text/plain": [
       "[nan, 10.0]"
      ]
     },
     "execution_count": 39,
     "metadata": {},
     "output_type": "execute_result"
    }
   ],
   "source": [
    "sorted(Data.BeamHardeningCorrection.unique())"
   ]
  },
  {
   "cell_type": "code",
   "execution_count": 40,
   "metadata": {},
   "outputs": [],
   "source": [
    "# Generate a text file in each rec-folder, in which Mikki and I can note what's going on with the fish\n",
    "# Generate filename\n",
    "for c, row in Data.iterrows():\n",
    "    Data.at[c, 'CommentFile'] = os.path.join(os.path.dirname(row.Folder),\n",
    "                                             row.Fish + '.' + row.Scan + '.md')\n",
    "# Create actual file on disk\n",
    "for c, row in Data.iterrows():\n",
    "    # Only do this if the file does not already exist\n",
    "    if not os.path.exists(row.CommentFile):\n",
    "        with open(row.CommentFile, 'w', encoding='utf-8') as f:\n",
    "            f.write('# Fish %s, Scan %s\\n\\n' % (row.Fish, row.Scan))\n",
    "            f.write('This fish was scanned on %s on the %s, with a voxel size of %s μm.\\n\\n'\n",
    "                    % (row['Scan date'], row.Scanner, numpy.round(row.Voxelsize, 2)))\n",
    "            f.write('## Comments')"
   ]
  },
  {
   "cell_type": "code",
   "execution_count": 44,
   "metadata": {},
   "outputs": [
    {
     "name": "stdout",
     "output_type": "stream",
     "text": [
      "In total, we scanned for 639 hours and 5 minutes)\n",
      "\t - Of these, we scanned 484 hours and 28 minutes on the SkyScan 2214, for 334 scans\n",
      "\t - Of these, we scanned 154 hours and 36 minutes on the SkyScan 1272, for 38 scans\n"
     ]
    }
   ],
   "source": [
    "# Get an overview of the total scaning time\n",
    "# Nice output based on https://stackoverflow.com/a/8907407/323100\n",
    "total_seconds = int(Data['Total Duration'].sum())\n",
    "hours, remainder = divmod(total_seconds, 60 * 60)\n",
    "minutes, seconds = divmod(remainder, 60)\n",
    "print('In total, we scanned for %s hours and %s minutes)' % (hours, minutes))\n",
    "for machine in Data['Scanner'].unique():\n",
    "    total_seconds = int(Data[Data['Scanner'] == machine]['Total Duration'].sum())\n",
    "    hours, remainder = divmod(total_seconds, 60 * 60)\n",
    "    minutes, seconds = divmod(remainder, 60)\n",
    "    print('\\t - Of these, we scanned %s hours and %s minutes on the %s,'\n",
    "          ' for %s scans' % (hours,\n",
    "                             minutes,\n",
    "                             machine,\n",
    "                             len(Data[Data['Scanner'] == machine])))"
   ]
  },
  {
   "cell_type": "code",
   "execution_count": 45,
   "metadata": {},
   "outputs": [
    {
     "name": "stdout",
     "output_type": "stream",
     "text": [
      "We scanned 133 fishes\n"
     ]
    }
   ],
   "source": [
    "# We scanned six 'buckets of fish', so subtract those :)\n",
    "print('We scanned %0.f fishes' % (len(Data.Fish.unique()) - 6))"
   ]
  },
  {
   "cell_type": "code",
   "execution_count": 46,
   "metadata": {},
   "outputs": [
    {
     "name": "stdout",
     "output_type": "stream",
     "text": [
      "We did a total of 372 scans\n"
     ]
    }
   ],
   "source": [
    "print('We did a total of %s scans' % len(Data))"
   ]
  },
  {
   "cell_type": "code",
   "execution_count": 48,
   "metadata": {},
   "outputs": [
    {
     "name": "stdout",
     "output_type": "stream",
     "text": [
      "We perfomed 104 scans with \"head\" in their folder name\n"
     ]
    }
   ],
   "source": [
    "print('We perfomed %s scans with \"head\" in their folder name' % len(Data[Data['Scan'].str.contains('head')]))"
   ]
  },
  {
   "cell_type": "code",
   "execution_count": 49,
   "metadata": {},
   "outputs": [
    {
     "name": "stdout",
     "output_type": "stream",
     "text": [
      "Saved XLS sheet with some scanning details to /home/habi/P/Documents/EAWAG/Output/e008086/Details.xlsx\n"
     ]
    }
   ],
   "source": [
    "Data[['Fish', 'Scan', 'LogFile',\n",
    "      'Voxelsize', 'Scanner',\n",
    "      'Scan date', 'ProjectionSize',\n",
    "      'ThreeSixty', 'RotationStep', 'Averaging',\n",
    "      'Duration', 'Stacks', 'Total Duration']].to_excel(os.path.join(OutPutDir, 'Details.xlsx'))\n",
    "print('Saved XLS sheet with some scanning details to', os.path.join(OutPutDir, 'Details.xlsx'))"
   ]
  },
  {
   "cell_type": "code",
   "execution_count": 50,
   "metadata": {},
   "outputs": [
    {
     "name": "stdout",
     "output_type": "stream",
     "text": [
      "Saved XLS sheet with some scanning details to /home/habi/research-storage-iee/microCT/Details.xlsx\n"
     ]
    }
   ],
   "source": [
    "if not running_on_binder:\n",
    "    Data[['Fish', 'Scan',\n",
    "          'Voxelsize', 'Scanner',\n",
    "          'Scan date', 'ProjectionSize',\n",
    "          'ThreeSixty', 'RotationStep', 'Averaging',\n",
    "          'Duration', 'Stacks', 'Total Duration']].to_excel(os.path.join(Root, 'Details.xlsx'))\n",
    "print('Saved XLS sheet with some scanning details to', os.path.join(Root, 'Details.xlsx'))"
   ]
  },
  {
   "cell_type": "code",
   "execution_count": 51,
   "metadata": {},
   "outputs": [
    {
     "name": "stdout",
     "output_type": "stream",
     "text": [
      "Saved CSV file with all relevant scanning and reconstruction parameters to manuscript/content/data/ScanningDetails.csv for using as supplementary material in the manuscript\n"
     ]
    }
   ],
   "source": [
    "# Save 'data' file for manuscript: github.com/habi/eawag-manuscript\n",
    "# Since the manuscript is in a subfolder, we can simply write the output there\n",
    "if not running_on_binder:\n",
    "    Data[['Fish', 'Scan', 'Scanner', 'Scan date',\n",
    "          'Voxelsize', 'Voltage', 'Current', 'Filter', 'Exposuretime', 'Averaging',\n",
    "          'ThreeSixty', 'RotationStep', 'ProjectionSize', 'Duration', 'Stacks', 'Total Duration',\n",
    "          'RingartefactCorrection', 'BeamHardeningCorrection', 'Grayvalue',\n",
    "          ]].to_csv(os.path.join('manuscript', 'content', 'data', 'ScanningDetails.csv'),\n",
    "               index=False,\n",
    "               header=['Fish', 'Scan', 'Scanner', 'Scan date',\n",
    "                       'Voxelsize [μm]', 'Source voltage [kV]', 'Source current [μA]',\n",
    "                       'Filter', 'Exposure time [ms]', 'Frame averaging', '360° scan', \n",
    "                       'Rotation step [°]', 'Projection size', 'Scan duration [s]', 'Stacked scans', 'Total scan duration [s]',\n",
    "                       'Ring removal correction', 'Beam hardening correction', 'Gray value mapping'])\n",
    "print('Saved CSV file with all relevant scanning and reconstruction parameters to',\n",
    "      os.path.join('manuscript', 'content', 'data', 'ScanningDetails.csv'),\n",
    "      'for using as supplementary material in the manuscript')"
   ]
  },
  {
   "cell_type": "code",
   "execution_count": 52,
   "metadata": {},
   "outputs": [
    {
     "ename": "IndexError",
     "evalue": "list index out of range",
     "output_type": "error",
     "traceback": [
      "\u001b[0;31m---------------------------------------------------------------------------\u001b[0m",
      "\u001b[0;31mIndexError\u001b[0m                                Traceback (most recent call last)",
      "Cell \u001b[0;32mIn [52], line 3\u001b[0m\n\u001b[1;32m      1\u001b[0m \u001b[38;5;28;01mif\u001b[39;00m \u001b[38;5;129;01mnot\u001b[39;00m running_on_binder:\n\u001b[1;32m      2\u001b[0m     \u001b[38;5;66;03m# Read Mikkis datafile\u001b[39;00m\n\u001b[0;32m----> 3\u001b[0m     MikkisFile \u001b[38;5;241m=\u001b[39m \u001b[38;5;28;43msorted\u001b[39;49m\u001b[43m(\u001b[49m\u001b[43mglob\u001b[49m\u001b[38;5;241;43m.\u001b[39;49m\u001b[43mglob\u001b[49m\u001b[43m(\u001b[49m\u001b[43mos\u001b[49m\u001b[38;5;241;43m.\u001b[39;49m\u001b[43mpath\u001b[49m\u001b[38;5;241;43m.\u001b[39;49m\u001b[43mjoin\u001b[49m\u001b[43m(\u001b[49m\u001b[43mRoot\u001b[49m\u001b[43m,\u001b[49m\u001b[43m \u001b[49m\u001b[38;5;124;43m'\u001b[39;49m\u001b[38;5;124;43mX_ArchiveFiles\u001b[39;49m\u001b[38;5;124;43m'\u001b[39;49m\u001b[43m,\u001b[49m\u001b[43m \u001b[49m\u001b[38;5;124;43m'\u001b[39;49m\u001b[38;5;124;43m*CTscanFishList.xlsx\u001b[39;49m\u001b[38;5;124;43m'\u001b[39;49m\u001b[43m)\u001b[49m\u001b[43m)\u001b[49m\u001b[43m)\u001b[49m\u001b[43m[\u001b[49m\u001b[38;5;241;43m0\u001b[39;49m\u001b[43m]\u001b[49m\n\u001b[1;32m      4\u001b[0m     \u001b[38;5;66;03m# Read excel file and use the first column as index\u001b[39;00m\n\u001b[1;32m      5\u001b[0m     \u001b[38;5;28mprint\u001b[39m(\u001b[38;5;124m'\u001b[39m\u001b[38;5;124mReading in \u001b[39m\u001b[38;5;132;01m%s\u001b[39;00m\u001b[38;5;124m'\u001b[39m \u001b[38;5;241m%\u001b[39m MikkisFile)\n",
      "\u001b[0;31mIndexError\u001b[0m: list index out of range"
     ]
    }
   ],
   "source": [
    "if not running_on_binder:\n",
    "    # Read Mikkis datafile\n",
    "    MikkisFile = sorted(glob.glob(os.path.join(Root, 'X_ArchiveFiles', '*CTscanFishList.xlsx')))[0]\n",
    "    # Read excel file and use the first column as index\n",
    "    print('Reading in %s' % MikkisFile)\n",
    "    DataMikki = pandas.read_excel(MikkisFile)"
   ]
  },
  {
   "cell_type": "code",
   "execution_count": 53,
   "metadata": {
    "tags": []
   },
   "outputs": [
    {
     "ename": "NameError",
     "evalue": "name 'DataMikki' is not defined",
     "output_type": "error",
     "traceback": [
      "\u001b[0;31m---------------------------------------------------------------------------\u001b[0m",
      "\u001b[0;31mNameError\u001b[0m                                 Traceback (most recent call last)",
      "Cell \u001b[0;32mIn [53], line 2\u001b[0m\n\u001b[1;32m      1\u001b[0m \u001b[38;5;28;01mif\u001b[39;00m \u001b[38;5;129;01mnot\u001b[39;00m running_on_binder:\n\u001b[0;32m----> 2\u001b[0m     \u001b[43mDataMikki\u001b[49m\u001b[38;5;241m.\u001b[39mhead()\n",
      "\u001b[0;31mNameError\u001b[0m: name 'DataMikki' is not defined"
     ]
    }
   ],
   "source": [
    "if not running_on_binder:\n",
    "    DataMikki.head()"
   ]
  },
  {
   "cell_type": "code",
   "execution_count": 54,
   "metadata": {},
   "outputs": [
    {
     "ename": "NameError",
     "evalue": "name 'DataMikki' is not defined",
     "output_type": "error",
     "traceback": [
      "\u001b[0;31m---------------------------------------------------------------------------\u001b[0m",
      "\u001b[0;31mNameError\u001b[0m                                 Traceback (most recent call last)",
      "Cell \u001b[0;32mIn [54], line 1\u001b[0m\n\u001b[0;32m----> 1\u001b[0m \u001b[43mDataMikki\u001b[49m\n",
      "\u001b[0;31mNameError\u001b[0m: name 'DataMikki' is not defined"
     ]
    }
   ],
   "source": [
    "DataMikki"
   ]
  },
  {
   "cell_type": "code",
   "execution_count": 55,
   "metadata": {},
   "outputs": [],
   "source": [
    "# Find the fish we look at and display all the info we know about it\n",
    "# Set a substring you're looking for to the variable below\n",
    "# In which jar can we find it?\n",
    "fish = '104061'"
   ]
  },
  {
   "cell_type": "code",
   "execution_count": 56,
   "metadata": {},
   "outputs": [
    {
     "ename": "NameError",
     "evalue": "name 'DataMikki' is not defined",
     "output_type": "error",
     "traceback": [
      "\u001b[0;31m---------------------------------------------------------------------------\u001b[0m",
      "\u001b[0;31mNameError\u001b[0m                                 Traceback (most recent call last)",
      "Cell \u001b[0;32mIn [56], line 4\u001b[0m\n\u001b[1;32m      1\u001b[0m \u001b[38;5;28;01mif\u001b[39;00m \u001b[38;5;129;01mnot\u001b[39;00m running_on_binder:\n\u001b[1;32m      2\u001b[0m     \u001b[38;5;66;03m# In which jar should it be/go?\u001b[39;00m\n\u001b[1;32m      3\u001b[0m     foundfishes \u001b[38;5;241m=\u001b[39m \u001b[38;5;241m0\u001b[39m\n\u001b[0;32m----> 4\u001b[0m     \u001b[38;5;28;01mfor\u001b[39;00m d, row \u001b[38;5;129;01min\u001b[39;00m \u001b[43mDataMikki\u001b[49m\u001b[38;5;241m.\u001b[39miterrows():\n\u001b[1;32m      5\u001b[0m         \u001b[38;5;28;01mif\u001b[39;00m (\u001b[38;5;28mstr\u001b[39m(fish)\u001b[38;5;241m.\u001b[39mlower() \u001b[38;5;129;01min\u001b[39;00m \u001b[38;5;28mstr\u001b[39m(row\u001b[38;5;241m.\u001b[39mFishec)\u001b[38;5;241m.\u001b[39mlower()) \\\n\u001b[1;32m      6\u001b[0m         \u001b[38;5;129;01mor\u001b[39;00m (\u001b[38;5;28mstr\u001b[39m(fish)\u001b[38;5;241m.\u001b[39mlower() \u001b[38;5;129;01min\u001b[39;00m \u001b[38;5;28mstr\u001b[39m(row\u001b[38;5;241m.\u001b[39mFieldID)\u001b[38;5;241m.\u001b[39mlower()) \\\n\u001b[1;32m      7\u001b[0m         \u001b[38;5;129;01mor\u001b[39;00m (\u001b[38;5;28mstr\u001b[39m(fish)\u001b[38;5;241m.\u001b[39mlower() \u001b[38;5;129;01min\u001b[39;00m \u001b[38;5;28mstr\u001b[39m(row\u001b[38;5;241m.\u001b[39mOtherID)\u001b[38;5;241m.\u001b[39mlower()) \\\n\u001b[1;32m      8\u001b[0m         \u001b[38;5;129;01mor\u001b[39;00m (\u001b[38;5;28mstr\u001b[39m(fish)\u001b[38;5;241m.\u001b[39mlower() \u001b[38;5;129;01min\u001b[39;00m \u001b[38;5;28mstr\u001b[39m(row\u001b[38;5;241m.\u001b[39mReplacementID)\u001b[38;5;241m.\u001b[39mlower()):\n\u001b[1;32m      9\u001b[0m             foundfishes \u001b[38;5;241m=\u001b[39m (row\u001b[38;5;241m.\u001b[39mFishec, row\u001b[38;5;241m.\u001b[39mFieldID, row\u001b[38;5;241m.\u001b[39mOtherID, row\u001b[38;5;241m.\u001b[39mReplacementID)\n",
      "\u001b[0;31mNameError\u001b[0m: name 'DataMikki' is not defined"
     ]
    }
   ],
   "source": [
    "if not running_on_binder:\n",
    "    # In which jar should it be/go?\n",
    "    foundfishes = 0\n",
    "    for d, row in DataMikki.iterrows():\n",
    "        if (str(fish).lower() in str(row.Fishec).lower()) \\\n",
    "        or (str(fish).lower() in str(row.FieldID).lower()) \\\n",
    "        or (str(fish).lower() in str(row.OtherID).lower()) \\\n",
    "        or (str(fish).lower() in str(row.ReplacementID).lower()):\n",
    "            foundfishes = (row.Fishec, row.FieldID, row.OtherID, row.ReplacementID)\n",
    "            # remove nan from the list of hits\n",
    "            foundfishes = [str(x).lower() for x in foundfishes if not pandas.isnull(x)]\n",
    "            print('*%s*: The fish ' % fish, end='')\n",
    "            if len(foundfishes) > 1:\n",
    "                for found in foundfishes:\n",
    "                    print(found.upper(), end='/')\n",
    "            else:\n",
    "                print(foundfishes[0].upper(), end='')\n",
    "            print(' should now go in jar \"length=%s cm\" (%s))' % (row['Length(cm)'],\n",
    "                                                                  row['TemporaryJar']))\n",
    "    if not foundfishes:\n",
    "        print('*%s*: Nothing found in %s' % (fish, MikkisFile))"
   ]
  },
  {
   "cell_type": "code",
   "execution_count": 57,
   "metadata": {},
   "outputs": [
    {
     "name": "stdout",
     "output_type": "stream",
     "text": [
      "*104061*: Found on disk in /home/habi/research-storage-iee/microCT/104061_Labrochromis_sp_stone\n"
     ]
    }
   ],
   "source": [
    "if not running_on_binder:\n",
    "    # Do we have something from this fish on disk?\n",
    "    ondisk = glob.glob(os.path.join(Root, '*%s*' % fish))\n",
    "    if len(ondisk):\n",
    "        for found in ondisk:\n",
    "            print('*%s*: Found on disk in %s' % (fish, found))\n",
    "            foundondisk = 1\n",
    "    else:\n",
    "        print('*%s*: Nothing found in %s' % (fish, Root))\n",
    "        foundondisk = 0"
   ]
  },
  {
   "cell_type": "code",
   "execution_count": 58,
   "metadata": {},
   "outputs": [
    {
     "name": "stdout",
     "output_type": "stream",
     "text": [
      "*104061*: Sample 104061_Labrochromis_sp_stone/head.rec was scanned on 2022-02-18 10:03:36\n",
      "*104061*: Sample 104061_Labrochromis_sp_stone/head.rec_pressure_loss was scanned on 2022-02-17 11:42:34\n",
      "*104061*: Sample 104061_Labrochromis_sp_stone/rec was scanned on 2021-07-15 15:23:55\n",
      "*104061*: Sample 104061_Labrochromis_sp_stone/rec_rescan was scanned on 2021-08-20 11:06:31\n"
     ]
    }
   ],
   "source": [
    "if not running_on_binder:\n",
    "    # Did we scan it already?\n",
    "    found = 0\n",
    "    for c, row in Data.iterrows():\n",
    "        if fish in row.Fish:\n",
    "            print('*%s*: Sample %s/%s was scanned on %s' % (fish, row['Fish'], row['Scan'], row['Scan date']))\n",
    "            found = 1\n",
    "    if not found:\n",
    "        if foundondisk:\n",
    "            print('*%s*: We have a folder (%s) for this sample, but nothing in the dataframe, so it probably is all good' % (fish, ondisk[0]))\n",
    "            print('Check the folder to be shure')\n",
    "        else:\n",
    "            print('*%s*: Nothing about this sample is found in our dataframe' % fish)"
   ]
  },
  {
   "cell_type": "code",
   "execution_count": 59,
   "metadata": {},
   "outputs": [],
   "source": [
    "# Can we find it in FullHeadList.txt?\n",
    "def findinFullHeadList(sample):\n",
    "    ''' Look for the sample in the FullHeadList.txt file'''\n",
    "    fullheadlist = glob.glob(os.path.join(Root, 'FullHeadList.*'))[0]\n",
    "    found = 0\n",
    "    with open(fullheadlist, 'r') as f:\n",
    "        for line in f:\n",
    "            if str(sample) in line:\n",
    "                print(line.strip())\n",
    "                found = 1\n",
    "    if not found:\n",
    "        return('*%s*: Nothing found in %s' % (sample, fullheadlist))\n",
    "    else:\n",
    "        return(None)"
   ]
  },
  {
   "cell_type": "code",
   "execution_count": 60,
   "metadata": {},
   "outputs": [
    {
     "ename": "IndexError",
     "evalue": "list index out of range",
     "output_type": "error",
     "traceback": [
      "\u001b[0;31m---------------------------------------------------------------------------\u001b[0m",
      "\u001b[0;31mIndexError\u001b[0m                                Traceback (most recent call last)",
      "Cell \u001b[0;32mIn [60], line 2\u001b[0m\n\u001b[1;32m      1\u001b[0m \u001b[38;5;28;01mif\u001b[39;00m \u001b[38;5;129;01mnot\u001b[39;00m running_on_binder:\n\u001b[0;32m----> 2\u001b[0m     \u001b[43mfindinFullHeadList\u001b[49m\u001b[43m(\u001b[49m\u001b[43mfish\u001b[49m\u001b[43m)\u001b[49m\n",
      "Cell \u001b[0;32mIn [59], line 4\u001b[0m, in \u001b[0;36mfindinFullHeadList\u001b[0;34m(sample)\u001b[0m\n\u001b[1;32m      2\u001b[0m \u001b[38;5;28;01mdef\u001b[39;00m \u001b[38;5;21mfindinFullHeadList\u001b[39m(sample):\n\u001b[1;32m      3\u001b[0m     \u001b[38;5;124;03m''' Look for the sample in the FullHeadList.txt file'''\u001b[39;00m\n\u001b[0;32m----> 4\u001b[0m     fullheadlist \u001b[38;5;241m=\u001b[39m \u001b[43mglob\u001b[49m\u001b[38;5;241;43m.\u001b[39;49m\u001b[43mglob\u001b[49m\u001b[43m(\u001b[49m\u001b[43mos\u001b[49m\u001b[38;5;241;43m.\u001b[39;49m\u001b[43mpath\u001b[49m\u001b[38;5;241;43m.\u001b[39;49m\u001b[43mjoin\u001b[49m\u001b[43m(\u001b[49m\u001b[43mRoot\u001b[49m\u001b[43m,\u001b[49m\u001b[43m \u001b[49m\u001b[38;5;124;43m'\u001b[39;49m\u001b[38;5;124;43mFullHeadList.*\u001b[39;49m\u001b[38;5;124;43m'\u001b[39;49m\u001b[43m)\u001b[49m\u001b[43m)\u001b[49m\u001b[43m[\u001b[49m\u001b[38;5;241;43m0\u001b[39;49m\u001b[43m]\u001b[49m\n\u001b[1;32m      5\u001b[0m     found \u001b[38;5;241m=\u001b[39m \u001b[38;5;241m0\u001b[39m\n\u001b[1;32m      6\u001b[0m     \u001b[38;5;28;01mwith\u001b[39;00m \u001b[38;5;28mopen\u001b[39m(fullheadlist, \u001b[38;5;124m'\u001b[39m\u001b[38;5;124mr\u001b[39m\u001b[38;5;124m'\u001b[39m) \u001b[38;5;28;01mas\u001b[39;00m f:\n",
      "\u001b[0;31mIndexError\u001b[0m: list index out of range"
     ]
    }
   ],
   "source": [
    "if not running_on_binder:\n",
    "    findinFullHeadList(fish)"
   ]
  },
  {
   "cell_type": "code",
   "execution_count": null,
   "metadata": {},
   "outputs": [],
   "source": [
    "if not running_on_binder:\n",
    "    # Do we need to rescan this fish\n",
    "    # Find all relevant comment files\n",
    "    commentfiles = glob.glob(os.path.join(Root, '*%s*' % fish, '**', '*.md'), recursive=True)\n",
    "    print('We found these comment files in our dataframe')\n",
    "    for c, row in Data.iterrows():\n",
    "        if fish in row.Fish:\n",
    "            print('\\t-', row.CommentFile)\n",
    "            found = 1\n",
    "    print(80 * '-')\n",
    "    if len(commentfiles):\n",
    "        for commentfile in commentfiles:\n",
    "            print('-', commentfile)\n",
    "            print(10 * '-')\n",
    "            with open(commentfile, 'r', encoding='utf-8') as file:\n",
    "                for line in file:\n",
    "                    print(line.strip())\n",
    "                    if 'rescan' in line:\n",
    "                        print('BEEEEP!')\n",
    "            print(80 * '-')"
   ]
  },
  {
   "cell_type": "markdown",
   "metadata": {},
   "source": [
    "60 of the fishes need complete head scans.\n",
    "Let's try to go through Mikkis/Kassandras list and see how far we progressed through that list."
   ]
  },
  {
   "cell_type": "code",
   "execution_count": null,
   "metadata": {},
   "outputs": [],
   "source": [
    "if not running_on_binder:\n",
    "    # Read in full head list, go through all the scans we alredy did and see what needs to be done\n",
    "    fullheadlist = glob.glob(os.path.join(Root, '*Head*.txt'))[0]\n",
    "    HeadsToBeScanned = []\n",
    "    with open(fullheadlist, 'r', encoding='utf-8') as file:\n",
    "        headdone = False\n",
    "        for ln, line in enumerate(file):\n",
    "            if line.strip():  # skip empty lines\n",
    "                # The first 'item' on the line should be the fish ID\n",
    "                fish = line.strip().split()[0].replace(',', '').upper()\n",
    "                # Let's ignore some lines which don't start with a fish ID\n",
    "                # The set-join here removes duplicate characters from the string (e.g. =====, !! and ::)\n",
    "                if len(''.join(set(fish))) > 2:\n",
    "                    for c, row in Data[Data.Fish == fish].iterrows():\n",
    "                        if 'head' in row.Scan:\n",
    "                            # print('\\t%s has a head-scan' % row.Fish)\n",
    "                            # print('%s has a head-scan on disk, and is found on line %s of the full head list' % (fish, ln + 1))\n",
    "                            headdone = True\n",
    "                        else:\n",
    "                            headdone = False\n",
    "                    # At this point we have either found the fish in the list or 'headdone' is false\n",
    "                    if not headdone:\n",
    "                        print('%s is missing a head-scan on disk, but is found on line %s of the full head list' % (fish, ln + 1))\n",
    "                        HeadsToBeScanned.append(fish)"
   ]
  },
  {
   "cell_type": "code",
   "execution_count": null,
   "metadata": {},
   "outputs": [],
   "source": [
    "if not running_on_binder:\n",
    "    # Fish 10448 can be ignored because we did another scan after the head-scan, so we reset \"headdone\" in the loop above\n",
    "    # We could probably do it in a more clever way, but already spent too much time on this part :)\n",
    "    try:\n",
    "        HeadsToBeScanned.remove('10448')\n",
    "        # HeadsToBeScanned.remove('105515')\n",
    "    except ValueError:\n",
    "        # Nothing to see here, pass along\n",
    "        pass"
   ]
  },
  {
   "cell_type": "code",
   "execution_count": null,
   "metadata": {},
   "outputs": [],
   "source": [
    "if not running_on_binder:\n",
    "    for fish in HeadsToBeScanned:\n",
    "        # In which jar should we look for the fishes we still need to scan the head of?\n",
    "        foundfishes = 0\n",
    "        for d, row in DataMikki.iterrows():\n",
    "            if (str(fish).lower() in str(row.Fishec).lower()) \\\n",
    "            or (str(fish).lower() in str(row.FieldID).lower()) \\\n",
    "            or (str(fish).lower() in str(row.OtherID).lower()) \\\n",
    "            or (str(fish).lower() in str(row.ReplacementID).lower()):\n",
    "                foundfishes = (row.Fishec, row.FieldID, row.OtherID, row.ReplacementID)\n",
    "                # remove nan from the list of hits\n",
    "                foundfishes = [str(x).lower() for x in foundfishes if not pandas.isnull(x)]\n",
    "                print('*%s*: A fish called ' % fish, end='')\n",
    "                if len(foundfishes) > 1:\n",
    "                    for found in foundfishes:\n",
    "                        print(found.upper(), end='/')\n",
    "                else:\n",
    "                    print(foundfishes[0].upper(), end='')\n",
    "                print(' should be found in jar \"length=%s cm\" (%s))' % (row['Length(cm)'],\n",
    "                                                                        row['TemporaryJar']))\n",
    "        if not foundfishes:\n",
    "            print('*%s*: Nothing found in %s' % (fish, MikkisFile))"
   ]
  },
  {
   "cell_type": "code",
   "execution_count": null,
   "metadata": {},
   "outputs": [],
   "source": [
    "# Some of the reconstructions need to be looked at?\n",
    "# Mikki wrote something about this into the files.\n",
    "# Get a list of *all* comment files\n",
    "CommentFiles = glob.glob(os.path.join(Root, '**', '*.md'), recursive=True)"
   ]
  },
  {
   "cell_type": "code",
   "execution_count": null,
   "metadata": {},
   "outputs": [],
   "source": [
    "# Read what we want\n",
    "print('Going through all the %s comments files we find' % len(CommentFiles))\n",
    "for c, cf in enumerate(CommentFiles):\n",
    "    with open(cf, 'r', encoding='utf-8') as file:\n",
    "        for line in file:\n",
    "            if 'Mikki' in line:\n",
    "                print('%03s/%s: %s: %s' % (c, len(CommentFiles), cf[len(Root) + 1:], line.strip()))\n",
    "            elif 'ML' in line:\n",
    "                print('%03s/%s: %s: %s' % (c, len(CommentFiles), cf[len(Root) + 1:], line.strip()))\n",
    "            elif 'realign' in line:\n",
    "                print('%03s/%s: %s: %s' % (c, len(CommentFiles), cf[len(Root) + 1:], line.strip()))"
   ]
  },
  {
   "cell_type": "code",
   "execution_count": null,
   "metadata": {},
   "outputs": [],
   "source": [
    "Data.sort_values(['Scan date'], ascending=False, inplace=True)"
   ]
  },
  {
   "cell_type": "code",
   "execution_count": null,
   "metadata": {},
   "outputs": [],
   "source": []
  },
  {
   "cell_type": "code",
   "execution_count": null,
   "metadata": {},
   "outputs": [],
   "source": []
  }
 ],
 "metadata": {
  "kernelspec": {
   "display_name": "Python 3 (ipykernel)",
   "language": "python",
   "name": "python3"
  },
  "language_info": {
   "codemirror_mode": {
    "name": "ipython",
    "version": 3
   },
   "file_extension": ".py",
   "mimetype": "text/x-python",
   "name": "python",
   "nbconvert_exporter": "python",
   "pygments_lexer": "ipython3",
   "version": "3.10.8"
  }
 },
 "nbformat": 4,
 "nbformat_minor": 4
}
