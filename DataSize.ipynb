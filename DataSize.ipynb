{
 "cells": [
  {
   "cell_type": "markdown",
   "metadata": {},
   "source": [
    "# Get the size of the datasets on disk\n",
    "\n",
    "For the manuscript on the fishes, we want to know how much data we produced.\n",
    "This notebook is based on a copy of `DataWrangling.ipynb` and https://github.com/habi/zmk-tooth-cohort/blob/master/ToothDataSize.ipynb"
   ]
  },
  {
   "cell_type": "code",
   "execution_count": 1,
   "metadata": {},
   "outputs": [],
   "source": [
    "import platform\n",
    "import os\n",
    "import glob\n",
    "import pandas\n",
    "from tqdm import notebook\n",
    "# import imageio\n",
    "# import numpy\n",
    "# import matplotlib.pyplot as plt\n",
    "# from matplotlib_scalebar.scalebar import ScaleBar\n",
    "# import seaborn\n",
    "# import dask\n",
    "# import dask_image.imread\n",
    "# from dask.distributed import Client, LocalCluster\n",
    "# import skimage"
   ]
  },
  {
   "cell_type": "code",
   "execution_count": 24,
   "metadata": {},
   "outputs": [
    {
     "name": "stdout",
     "output_type": "stream",
     "text": [
      "We are loading all the data from /home/habi/research-storage-iee\n"
     ]
    }
   ],
   "source": [
    "# The canonical place for *this* notebook is the iee research storage, as only there we have *all* the data\n",
    "if 'Linux' in platform.system():\n",
    "    Root = os.path.join(os.sep, 'home', 'habi', 'research-storage-iee')\n",
    "else:\n",
    "    Root = os.path.join('I:\\\\microCTupload')\n",
    "print('We are loading all the data from %s' % Root)"
   ]
  },
  {
   "cell_type": "code",
   "execution_count": 25,
   "metadata": {},
   "outputs": [],
   "source": [
    "def get_git_hash():\n",
    "    '''\n",
    "    Get the current git hash from the repository.\n",
    "    Based on http://stackoverflow.com/a/949391/323100 and\n",
    "    http://stackoverflow.com/a/18283905/323100\n",
    "    '''\n",
    "    from subprocess import Popen, PIPE\n",
    "    import os\n",
    "    gitprocess = Popen(['git',\n",
    "                        '--git-dir',\n",
    "                        os.path.join(os.getcwd(), '.git'),\n",
    "                        'rev-parse',\n",
    "                        '--short',\n",
    "                        '--verify',\n",
    "                        'HEAD'],\n",
    "                       stdout=PIPE)\n",
    "    (output, _) = gitprocess.communicate()\n",
    "    return output.strip().decode(\"utf-8\")"
   ]
  },
  {
   "cell_type": "code",
   "execution_count": 26,
   "metadata": {},
   "outputs": [
    {
     "name": "stdout",
     "output_type": "stream",
     "text": [
      "We are saving all the output to /home/habi/P/Documents/EAWAG/Output/d3ac286\n"
     ]
    }
   ],
   "source": [
    "# Make directory for output\n",
    "OutPutDir = os.path.join(os.getcwd(), 'Output', get_git_hash())\n",
    "print('We are saving all the output to %s' % OutPutDir)\n",
    "os.makedirs(OutPutDir, exist_ok=True)"
   ]
  },
  {
   "cell_type": "code",
   "execution_count": 27,
   "metadata": {},
   "outputs": [],
   "source": [
    "# Make us a dataframe for saving all that we need\n",
    "Data = pandas.DataFrame()"
   ]
  },
  {
   "cell_type": "code",
   "execution_count": 28,
   "metadata": {},
   "outputs": [
    {
     "name": "stdout",
     "output_type": "stream",
     "text": [
      "We have 1172 log files to work with\n"
     ]
    }
   ],
   "source": [
    "# Get *all* log files\n",
    "# Sort them by time, not name\n",
    "Data['LogFile'] = [f for f in sorted(glob.glob(os.path.join(Root, '**', '*.log'),\n",
    "                                               recursive=True),\n",
    "                                     key=os.path.getmtime)]\n",
    "print('We have %s log files to work with' % (len(Data)))"
   ]
  },
  {
   "cell_type": "code",
   "execution_count": 29,
   "metadata": {},
   "outputs": [],
   "source": [
    "# Get all folders\n",
    "Data['Folder'] = [os.path.dirname(f) for f in Data['LogFile']]"
   ]
  },
  {
   "cell_type": "code",
   "execution_count": 30,
   "metadata": {},
   "outputs": [],
   "source": [
    "# Generate us some meaningful colums\n",
    "Data['Fish'] = [l[len(Root)+1:].split(os.sep)[0] for l in Data['LogFile']]\n",
    "Data['Scan'] = ['_'.join(l[len(Root)+1:].split(os.sep)[1:-1]) for l in Data['LogFile']]"
   ]
  },
  {
   "cell_type": "code",
   "execution_count": 31,
   "metadata": {},
   "outputs": [
    {
     "name": "stdout",
     "output_type": "stream",
     "text": [
      "We have 127 unique names in our corpus of scan\n",
      "We performed 1172 scans in total\n"
     ]
    }
   ],
   "source": [
    "# How many fishes did we scan?\n",
    "# We scanned six 'buckets of fish' and one set of only 'teeth', so subtract those :)\n",
    "print('We have %s unique names in our corpus of scan' % (len(Data.Fish.unique())-7))\n",
    "print('We performed %s scans in total' % len(Data.Scan))"
   ]
  },
  {
   "cell_type": "code",
   "execution_count": 32,
   "metadata": {},
   "outputs": [],
   "source": [
    "# # Temporarily drop some data\n",
    "# Data = Data[:3]\n",
    "# print('We are currently working with a subset of %s teeth' % len(Data))"
   ]
  },
  {
   "cell_type": "code",
   "execution_count": 33,
   "metadata": {},
   "outputs": [
    {
     "name": "stdout",
     "output_type": "stream",
     "text": [
      "/home/habi/research-storage-iee/14298/proj\n",
      "/home/habi/research-storage-iee/103908/jaw/rec\n",
      "/home/habi/research-storage-iee/103908/jaw/proj\n",
      "/home/habi/research-storage-iee/Teeth/W/rec_al0.25\n",
      "/home/habi/research-storage-iee/Teeth/W/proj_nofilter\n",
      "/home/habi/research-storage-iee/Teeth/W/rec_nofilter\n",
      "/home/habi/research-storage-iee/Teeth/P/proj_al0.25\n",
      "/home/habi/research-storage-iee/Teeth/P/rec_al0.25\n",
      "/home/habi/research-storage-iee/Teeth/P/proj_nofilter\n",
      "/home/habi/research-storage-iee/Teeth/P/rec_nofilter\n"
     ]
    }
   ],
   "source": [
    "for i in Data.Folder[:10]:\n",
    "    print(i)"
   ]
  },
  {
   "cell_type": "code",
   "execution_count": 34,
   "metadata": {},
   "outputs": [],
   "source": [
    "# Get the projection details\n",
    "# Let's look for 'tif' *and* 'iif' files, which are alignment projections\n",
    "Data['Projections'] = [sorted(glob.glob(os.path.join(folder,\n",
    "                                                     '*.?if'))) for folder in Data['Folder']]\n",
    "Data['NumberOfProjections'] = [len(r) for r in Data['Projections']]"
   ]
  },
  {
   "cell_type": "code",
   "execution_count": 35,
   "metadata": {},
   "outputs": [],
   "source": [
    "# Get the size of the TIFFs\n",
    "Data['ProjectionSize'] = [[os.path.getsize(rec) for rec in recs] for recs in Data['Projections']]\n",
    "Data['ProjectionSizeSum'] = [sum(size) for size in Data['ProjectionSize']]"
   ]
  },
  {
   "cell_type": "code",
   "execution_count": 36,
   "metadata": {},
   "outputs": [
    {
     "data": {
      "text/html": [
       "<div>\n",
       "<style scoped>\n",
       "    .dataframe tbody tr th:only-of-type {\n",
       "        vertical-align: middle;\n",
       "    }\n",
       "\n",
       "    .dataframe tbody tr th {\n",
       "        vertical-align: top;\n",
       "    }\n",
       "\n",
       "    .dataframe thead th {\n",
       "        text-align: right;\n",
       "    }\n",
       "</style>\n",
       "<table border=\"1\" class=\"dataframe\">\n",
       "  <thead>\n",
       "    <tr style=\"text-align: right;\">\n",
       "      <th></th>\n",
       "      <th>Folder</th>\n",
       "      <th>NumberOfProjections</th>\n",
       "      <th>ProjectionSize</th>\n",
       "      <th>ProjectionSizeSum</th>\n",
       "    </tr>\n",
       "  </thead>\n",
       "  <tbody>\n",
       "    <tr>\n",
       "      <th>0</th>\n",
       "      <td>/home/habi/research-storage-iee/14298/proj</td>\n",
       "      <td>1948</td>\n",
       "      <td>[32171566, 32171566, 32171566, 32171566, 32171...</td>\n",
       "      <td>62612307144</td>\n",
       "    </tr>\n",
       "    <tr>\n",
       "      <th>1</th>\n",
       "      <td>/home/habi/research-storage-iee/103908/jaw/rec</td>\n",
       "      <td>2</td>\n",
       "      <td>[982606, 982606]</td>\n",
       "      <td>1965212</td>\n",
       "    </tr>\n",
       "    <tr>\n",
       "      <th>2</th>\n",
       "      <td>/home/habi/research-storage-iee/103908/jaw/proj</td>\n",
       "      <td>977</td>\n",
       "      <td>[8043342, 8043342, 8043342, 8043342, 8043342, ...</td>\n",
       "      <td>7844223662</td>\n",
       "    </tr>\n",
       "    <tr>\n",
       "      <th>3</th>\n",
       "      <td>/home/habi/research-storage-iee/Teeth/W/rec_al...</td>\n",
       "      <td>0</td>\n",
       "      <td>[]</td>\n",
       "      <td>0</td>\n",
       "    </tr>\n",
       "    <tr>\n",
       "      <th>4</th>\n",
       "      <td>/home/habi/research-storage-iee/Teeth/W/proj_n...</td>\n",
       "      <td>472</td>\n",
       "      <td>[3564886, 3564886, 3564886, 3564886, 3564886, ...</td>\n",
       "      <td>1682626192</td>\n",
       "    </tr>\n",
       "    <tr>\n",
       "      <th>...</th>\n",
       "      <td>...</td>\n",
       "      <td>...</td>\n",
       "      <td>...</td>\n",
       "      <td>...</td>\n",
       "    </tr>\n",
       "    <tr>\n",
       "      <th>1167</th>\n",
       "      <td>/home/habi/research-storage-iee/BucketOfFish_F...</td>\n",
       "      <td>0</td>\n",
       "      <td>[]</td>\n",
       "      <td>0</td>\n",
       "    </tr>\n",
       "    <tr>\n",
       "      <th>1168</th>\n",
       "      <td>/home/habi/research-storage-iee/BucketOfFish_F...</td>\n",
       "      <td>0</td>\n",
       "      <td>[]</td>\n",
       "      <td>0</td>\n",
       "    </tr>\n",
       "    <tr>\n",
       "      <th>1169</th>\n",
       "      <td>/home/habi/research-storage-iee/BucketOfFish_F...</td>\n",
       "      <td>3616</td>\n",
       "      <td>[11944838, 11944838, 11944838, 11944838, 11944...</td>\n",
       "      <td>43192534208</td>\n",
       "    </tr>\n",
       "    <tr>\n",
       "      <th>1170</th>\n",
       "      <td>/home/habi/research-storage-iee/BucketOfFish_F...</td>\n",
       "      <td>2</td>\n",
       "      <td>[2387182, 2387182]</td>\n",
       "      <td>4774364</td>\n",
       "    </tr>\n",
       "    <tr>\n",
       "      <th>1171</th>\n",
       "      <td>/home/habi/research-storage-iee/BucketOfFish_F...</td>\n",
       "      <td>0</td>\n",
       "      <td>[]</td>\n",
       "      <td>0</td>\n",
       "    </tr>\n",
       "  </tbody>\n",
       "</table>\n",
       "<p>1172 rows × 4 columns</p>\n",
       "</div>"
      ],
      "text/plain": [
       "                                                 Folder  NumberOfProjections  \\\n",
       "0            /home/habi/research-storage-iee/14298/proj                 1948   \n",
       "1        /home/habi/research-storage-iee/103908/jaw/rec                    2   \n",
       "2       /home/habi/research-storage-iee/103908/jaw/proj                  977   \n",
       "3     /home/habi/research-storage-iee/Teeth/W/rec_al...                    0   \n",
       "4     /home/habi/research-storage-iee/Teeth/W/proj_n...                  472   \n",
       "...                                                 ...                  ...   \n",
       "1167  /home/habi/research-storage-iee/BucketOfFish_F...                    0   \n",
       "1168  /home/habi/research-storage-iee/BucketOfFish_F...                    0   \n",
       "1169  /home/habi/research-storage-iee/BucketOfFish_F...                 3616   \n",
       "1170  /home/habi/research-storage-iee/BucketOfFish_F...                    2   \n",
       "1171  /home/habi/research-storage-iee/BucketOfFish_F...                    0   \n",
       "\n",
       "                                         ProjectionSize  ProjectionSizeSum  \n",
       "0     [32171566, 32171566, 32171566, 32171566, 32171...        62612307144  \n",
       "1                                      [982606, 982606]            1965212  \n",
       "2     [8043342, 8043342, 8043342, 8043342, 8043342, ...         7844223662  \n",
       "3                                                    []                  0  \n",
       "4     [3564886, 3564886, 3564886, 3564886, 3564886, ...         1682626192  \n",
       "...                                                 ...                ...  \n",
       "1167                                                 []                  0  \n",
       "1168                                                 []                  0  \n",
       "1169  [11944838, 11944838, 11944838, 11944838, 11944...        43192534208  \n",
       "1170                                 [2387182, 2387182]            4774364  \n",
       "1171                                                 []                  0  \n",
       "\n",
       "[1172 rows x 4 columns]"
      ]
     },
     "execution_count": 36,
     "metadata": {},
     "output_type": "execute_result"
    }
   ],
   "source": [
    "Data[['Folder', 'NumberOfProjections', 'ProjectionSize', 'ProjectionSizeSum']]"
   ]
  },
  {
   "cell_type": "markdown",
   "metadata": {},
   "source": [
    "To get (nearly) the same size, use\n",
    "````bash\n",
    "find . -iname '*.?if' -print0 | du -ch --files0-from=-\n",
    "````\n",
    "in a Linux console.\n",
    "The command is based on https://askubuntu.com/a/558989/759778"
   ]
  },
  {
   "cell_type": "code",
   "execution_count": 37,
   "metadata": {},
   "outputs": [
    {
     "name": "stdout",
     "output_type": "stream",
     "text": [
      "In total, all projections are 28518.61 GB in size\n"
     ]
    }
   ],
   "source": [
    "print('In total, all projections are %0.2f GB in size' % (Data['ProjectionSizeSum'].sum() / 1024 / 1024 / 1024))"
   ]
  },
  {
   "cell_type": "code",
   "execution_count": 38,
   "metadata": {},
   "outputs": [
    {
     "name": "stdout",
     "output_type": "stream",
     "text": [
      "In total, all projections are 27.85 TB in size\n"
     ]
    }
   ],
   "source": [
    "print('In total, all projections are %0.2f TB in size' % (Data['ProjectionSizeSum'].sum() / 1024 / 1024 / 1024 / 1024))"
   ]
  },
  {
   "cell_type": "markdown",
   "metadata": {},
   "source": [
    "----"
   ]
  },
  {
   "cell_type": "code",
   "execution_count": 39,
   "metadata": {},
   "outputs": [],
   "source": [
    "# Get the file names of the reconstructions\n",
    "Data['Reconstructions'] = [sorted(glob.glob(os.path.join(f, '*rec0*.png'))) for f in Data['Folder']]\n",
    "Data['NumberOfReconstructions'] = [len(r) for r in Data.Reconstructions]"
   ]
  },
  {
   "cell_type": "code",
   "execution_count": 40,
   "metadata": {},
   "outputs": [
    {
     "name": "stdout",
     "output_type": "stream",
     "text": [
      "In total, we have 931205 reconstructions for all the 1172 datasets\n"
     ]
    }
   ],
   "source": [
    "print('In total, we have %s reconstructions for all the %s datasets'\n",
    "      % (Data['NumberOfReconstructions'].sum(),\n",
    "         len(Data)))"
   ]
  },
  {
   "cell_type": "code",
   "execution_count": 41,
   "metadata": {},
   "outputs": [
    {
     "name": "stdout",
     "output_type": "stream",
     "text": [
      "On average, each of the 1172 datasets has about 795 reconstructions.\n"
     ]
    }
   ],
   "source": [
    "print('On average, each of the %s datasets has about %s reconstructions.'\n",
    "      % (len(Data),\n",
    "         int(round(Data['NumberOfReconstructions'].mean()))))"
   ]
  },
  {
   "cell_type": "code",
   "execution_count": 42,
   "metadata": {},
   "outputs": [
    {
     "name": "stdout",
     "output_type": "stream",
     "text": [
      "We have 1172 folders in total\n",
      "Of which 338 folders contain reconstructions (Data['NumberOfReconstructions']>0)\n"
     ]
    }
   ],
   "source": [
    "# Drop samples which have not been reconstructed yet\n",
    "# Based on https://stackoverflow.com/a/13851602\n",
    "# for c,row in Data.iterrows():\n",
    "#     if not row['Number of reconstructions']:\n",
    "#         print('%s contains no PNG files, we might be currently reconstructing it' % row.Folder)\n",
    "print('We have %s folders in total' % (len(Data)))\n",
    "print(\"Of which %s folders contain reconstructions (Data['NumberOfReconstructions']>0)\" % (len(Data[Data['NumberOfReconstructions'] > 0])))"
   ]
  },
  {
   "cell_type": "code",
   "execution_count": 43,
   "metadata": {},
   "outputs": [],
   "source": [
    "# Get the size of the reconstructions\n",
    "Data['ReconstructionSize'] = [[os.path.getsize(rec) for rec in recs] for recs in Data['Reconstructions']]\n",
    "Data['ReconstructionSizeSum'] = [sum(sizes) for sizes in Data['ReconstructionSize']]"
   ]
  },
  {
   "cell_type": "code",
   "execution_count": 44,
   "metadata": {},
   "outputs": [
    {
     "name": "stdout",
     "output_type": "stream",
     "text": [
      "In total, the reconstructions are 1417.46 GB in size\n"
     ]
    }
   ],
   "source": [
    "print('In total, the reconstructions are %0.2f GB in size' % (Data['ReconstructionSizeSum'].sum() / 1024 / 1024 / 1024))"
   ]
  },
  {
   "cell_type": "code",
   "execution_count": 45,
   "metadata": {},
   "outputs": [
    {
     "name": "stdout",
     "output_type": "stream",
     "text": [
      "In total, the reconstructions are 1.38 TB in size\n"
     ]
    }
   ],
   "source": [
    "print('In total, the reconstructions are %0.2f TB in size' % (Data['ReconstructionSizeSum'].sum() / 1024 / 1024 / 1024 / 1024))"
   ]
  },
  {
   "cell_type": "markdown",
   "metadata": {},
   "source": [
    "To get (nearly) the same size, use\n",
    "\n",
    "````bash\n",
    "find . -iname '*rec0*.png' -print0 | du -ch --files0-from=-\n",
    "````\n",
    "\n",
    "in a Linux console"
   ]
  },
  {
   "cell_type": "code",
   "execution_count": null,
   "metadata": {},
   "outputs": [],
   "source": []
  },
  {
   "cell_type": "code",
   "execution_count": null,
   "metadata": {},
   "outputs": [],
   "source": []
  }
 ],
 "metadata": {
  "kernelspec": {
   "display_name": "Python 3",
   "language": "python",
   "name": "python3"
  },
  "language_info": {
   "codemirror_mode": {
    "name": "ipython",
    "version": 3
   },
   "file_extension": ".py",
   "mimetype": "text/x-python",
   "name": "python",
   "nbconvert_exporter": "python",
   "pygments_lexer": "ipython3",
   "version": "3.8.5"
  }
 },
 "nbformat": 4,
 "nbformat_minor": 4
}
