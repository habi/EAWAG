{
 "cells": [
  {
   "cell_type": "markdown",
   "metadata": {},
   "source": [
    "# Look at the overview scans\n",
    "Let's see what we did there."
   ]
  },
  {
   "cell_type": "code",
   "execution_count": 1,
   "metadata": {},
   "outputs": [],
   "source": [
    "import platform\n",
    "import os\n",
    "import glob\n",
    "import pandas\n",
    "import imageio\n",
    "import numpy\n",
    "import matplotlib.pyplot as plt\n",
    "from matplotlib_scalebar.scalebar import ScaleBar\n",
    "import seaborn\n",
    "import dask\n",
    "import dask_image.imread\n",
    "from dask.distributed import Client\n",
    "client = Client()\n",
    "# Then go to http://localhost:8787/status\n",
    "from numcodecs import Blosc\n",
    "import skimage\n",
    "from tqdm import notebook"
   ]
  },
  {
   "cell_type": "code",
   "execution_count": 2,
   "metadata": {},
   "outputs": [
    {
     "name": "stdout",
     "output_type": "stream",
     "text": [
      "You can seee what DASK is doing at \"http://localhost:8787/status\"\n"
     ]
    }
   ],
   "source": [
    "print('You can seee what DASK is doing at \"http://localhost:%s/status\"' % client.scheduler_info()['services']['dashboard'])"
   ]
  },
  {
   "cell_type": "code",
   "execution_count": 3,
   "metadata": {},
   "outputs": [],
   "source": [
    "# # Ignore warnings in the notebook\n",
    "# import warnings\n",
    "# warnings.filterwarnings(\"ignore\")"
   ]
  },
  {
   "cell_type": "code",
   "execution_count": 4,
   "metadata": {},
   "outputs": [],
   "source": [
    "# Set up figure defaults\n",
    "plt.rc('image', cmap='gray', interpolation='nearest')  # Display all images in b&w and with 'nearest' interpolation\n",
    "plt.rcParams['figure.figsize'] = (16, 9)  # Size up figures a bit"
   ]
  },
  {
   "cell_type": "code",
   "execution_count": 5,
   "metadata": {},
   "outputs": [],
   "source": [
    "# Setup scale bar defaults\n",
    "plt.rcParams['scalebar.location'] = 'lower right'\n",
    "plt.rcParams['scalebar.frameon'] = False\n",
    "plt.rcParams['scalebar.color'] = 'white'"
   ]
  },
  {
   "cell_type": "code",
   "execution_count": 6,
   "metadata": {},
   "outputs": [],
   "source": [
    "# Display all plots identically\n",
    "lines = 3\n",
    "# And then do something like\n",
    "# plt.subplot(lines, numpy.ceil(len(Data) / float(lines)), c + 1)"
   ]
  },
  {
   "cell_type": "code",
   "execution_count": 7,
   "metadata": {},
   "outputs": [
    {
     "name": "stdout",
     "output_type": "stream",
     "text": [
      "We are loading all the data from D:\\Results\\EAWAG\n"
     ]
    }
   ],
   "source": [
    "# Different locations if running either on Linux or Windows\n",
    "FastSSD = False\n",
    "# to speed things up significantly\n",
    "if 'Linux' in platform.system():\n",
    "    if FastSSD:\n",
    "        BasePath = os.path.join(os.sep, 'media', 'habi', 'Fast_SSD')\n",
    "    else:\n",
    "        BasePath = os.path.join(os.sep, 'home', 'habi', '1272')\n",
    "elif 'Darwin' in platform.system():\n",
    "    FastSSD = False\n",
    "    BasePath = os.path.join('/Users/habi/Dev/EAWAG/Data')\n",
    "elif 'Windows' in platform.system():\n",
    "    if FastSSD:\n",
    "        BasePath = os.path.join('F:\\\\')\n",
    "    else:\n",
    "        if 'anaklin' in platform.node():\n",
    "            BasePath = os.path.join('S:\\\\')\n",
    "        else:\n",
    "            BasePath = os.path.join('D:\\\\Results')\n",
    "Root = os.path.join(BasePath, 'EAWAG')\n",
    "print('We are loading all the data from %s' % Root)"
   ]
  },
  {
   "cell_type": "code",
   "execution_count": 8,
   "metadata": {},
   "outputs": [],
   "source": [
    "def get_pixelsize(logfile):\n",
    "    \"\"\"Get the pixel size from the scan log file\"\"\"\n",
    "    with open(logfile, 'r') as f:\n",
    "        for line in f:\n",
    "            if 'Image Pixel' in line and 'Scaled' not in line:\n",
    "                pixelsize = float(line.split('=')[1])\n",
    "    return(pixelsize)"
   ]
  },
  {
   "cell_type": "code",
   "execution_count": 9,
   "metadata": {},
   "outputs": [],
   "source": [
    "def get_projectionsize(logfile):\n",
    "    \"\"\"How big did we set the camera?\"\"\"\n",
    "    with open(logfile, 'r') as f:\n",
    "        for line in f:\n",
    "            if 'Number Of Rows' in line:\n",
    "                y = int(line.split('=')[1])\n",
    "            if 'Number Of Columns' in line:\n",
    "                x = int(line.split('=')[1])                \n",
    "    return(x*y)"
   ]
  },
  {
   "cell_type": "code",
   "execution_count": 10,
   "metadata": {},
   "outputs": [],
   "source": [
    "def get_filter(logfile):\n",
    "    \"\"\"Get the filter we used whole scanning from the scan log file\"\"\"\n",
    "    with open(logfile, 'r') as f:\n",
    "        for line in f:\n",
    "            if 'Filter=' in line:\n",
    "                whichfilter = line.split('=')[1].strip()\n",
    "    return(whichfilter)"
   ]
  },
  {
   "cell_type": "code",
   "execution_count": 11,
   "metadata": {},
   "outputs": [],
   "source": [
    "def get_exposuretime(logfile):\n",
    "    \"\"\"Get the exposure time size from the scan log file\"\"\"\n",
    "    with open(logfile, 'r') as f:\n",
    "        for line in f:\n",
    "            if 'Exposure' in line:\n",
    "                exposuretime = int(line.split('=')[1])\n",
    "    return(exposuretime)"
   ]
  },
  {
   "cell_type": "code",
   "execution_count": 12,
   "metadata": {},
   "outputs": [],
   "source": [
    "def get_ringartefact(logfile):\n",
    "    \"\"\"Get the ring artefact correction from the  scan log file\"\"\"\n",
    "    with open(logfile, 'r') as f:\n",
    "        for line in f:\n",
    "            if 'Ring Artifact' in line:\n",
    "                ringartefactcorrection = int(line.split('=')[1])\n",
    "    return(ringartefactcorrection)"
   ]
  },
  {
   "cell_type": "code",
   "execution_count": 13,
   "metadata": {},
   "outputs": [],
   "source": [
    "def get_reconstruction_grayvalue(logfile):\n",
    "    grayvalue = None\n",
    "    \"\"\"How did we map the brightness of the reconstructions?\"\"\"\n",
    "    with open(logfile, 'r') as f:\n",
    "        for line in f:\n",
    "            if 'Maximum for' in line:\n",
    "                grayvalue = float(line.split('=')[1])\n",
    "    return(grayvalue)"
   ]
  },
  {
   "cell_type": "code",
   "execution_count": 14,
   "metadata": {},
   "outputs": [],
   "source": [
    "def get_beamhardening(logfile):\n",
    "    \"\"\"Get the beamhardening correction from the  scan log file\"\"\"\n",
    "    with open(logfile, 'r') as f:\n",
    "        for line in f:\n",
    "            if 'Hardening' in line:\n",
    "                beamhardeningcorrection = int(line.split('=')[1])\n",
    "    return(beamhardeningcorrection)"
   ]
  },
  {
   "cell_type": "code",
   "execution_count": 15,
   "metadata": {},
   "outputs": [],
   "source": [
    "def get_rotationstep(logfile):\n",
    "    \"\"\"Get the rotation step from the scan log file\"\"\"\n",
    "    with open(logfile, 'r') as f:\n",
    "        for line in f:\n",
    "            if 'Rotation Step' in line:\n",
    "                rotstep = float(line.split('=')[1])\n",
    "    return(rotstep)"
   ]
  },
  {
   "cell_type": "code",
   "execution_count": 16,
   "metadata": {},
   "outputs": [],
   "source": [
    "def get_frameaveraging(logfile):\n",
    "    \"\"\"Get the frame averaging from the scan log file\"\"\"\n",
    "    with open(logfile, 'r') as f:\n",
    "        for line in f:\n",
    "            if 'Averaging' in line:\n",
    "                avg = line.split('=')[1]\n",
    "    return(avg)"
   ]
  },
  {
   "cell_type": "code",
   "execution_count": 17,
   "metadata": {},
   "outputs": [],
   "source": [
    "def get_machine(logfile):\n",
    "    \"\"\"Get the machine we used to scan\"\"\"\n",
    "    with open(logfile, 'r') as f:\n",
    "        for line in f:\n",
    "            if 'Scanner' in line:\n",
    "                machine = line.split('=')[1].strip()\n",
    "    return(machine)"
   ]
  },
  {
   "cell_type": "code",
   "execution_count": 47,
   "metadata": {},
   "outputs": [],
   "source": [
    "def get_scantime(logfile):\n",
    "    \"\"\"How long did we scan?\"\"\"\n",
    "    with open(logfile, 'r') as f:\n",
    "        for line in f:\n",
    "            if 'Scan duration' in line:\n",
    "                time = line.split('=')[1].strip()\n",
    "    return(pandas.to_timedelta(time))"
   ]
  },
  {
   "cell_type": "code",
   "execution_count": 114,
   "metadata": {},
   "outputs": [],
   "source": [
    "def get_stacks(logfile):\n",
    "    \"\"\"How many stacks/connected scans did we make?\"\"\"\n",
    "    stacks = 1\n",
    "    with open(logfile, 'r') as f:\n",
    "        for line in f:\n",
    "            if 'conn' in line:\n",
    "                print(line)\n",
    "                stacks = int(line.split('=')[1])\n",
    "    return(stacks)"
   ]
  },
  {
   "cell_type": "code",
   "execution_count": 115,
   "metadata": {},
   "outputs": [],
   "source": [
    "def get_scandate(logfile, verbose=False):\n",
    "    \"\"\"When did we scan the fish?\"\"\"\n",
    "    with open(logfile, 'r') as f:\n",
    "        for line in f:\n",
    "            if 'Study Date and Time' in line:\n",
    "                if verbose:\n",
    "                    print('Found \"date\" line: %s' % line.strip())\n",
    "                datestring = line.split('=')[1].strip().replace('  ', ' ')\n",
    "                if verbose:\n",
    "                    print('The date string is: %s' % datestring)\n",
    "                date = pandas.to_datetime(datestring , format='%d %b %Y %Hh:%Mm:%Ss')\n",
    "                if verbose:\n",
    "                    print('Parsed to: %s' % date)\n",
    "                (date)\n",
    "    return(date.isoformat())"
   ]
  },
  {
   "cell_type": "code",
   "execution_count": 116,
   "metadata": {},
   "outputs": [],
   "source": [
    "def get_git_hash():\n",
    "    '''\n",
    "    Get the current git hash from the repository.\n",
    "    Based on http://stackoverflow.com/a/949391/323100 and\n",
    "    http://stackoverflow.com/a/18283905/323100\n",
    "    '''\n",
    "    from subprocess import Popen, PIPE\n",
    "    import os\n",
    "    gitprocess = Popen(['git',\n",
    "                        '--git-dir',\n",
    "                        os.path.join(os.getcwd(), '.git'),\n",
    "                        'rev-parse',\n",
    "                        '--short',\n",
    "                        '--verify',\n",
    "                        'HEAD'],\n",
    "                       stdout=PIPE)\n",
    "    (output, _) = gitprocess.communicate()\n",
    "    return output.strip().decode(\"utf-8\")"
   ]
  },
  {
   "cell_type": "code",
   "execution_count": 117,
   "metadata": {},
   "outputs": [],
   "source": [
    "# # Make directory for output\n",
    "# OutPutDir = os.path.join(os.getcwd(), 'Output', get_git_hash())\n",
    "# print('We are saving all the output to %s' % OutPutDir)\n",
    "# os.makedirs(OutPutDir, exist_ok=True)"
   ]
  },
  {
   "cell_type": "code",
   "execution_count": 118,
   "metadata": {},
   "outputs": [],
   "source": [
    "# Make us a dataframe for saving all that we need\n",
    "Data = pandas.DataFrame()"
   ]
  },
  {
   "cell_type": "code",
   "execution_count": 119,
   "metadata": {},
   "outputs": [],
   "source": [
    "# Get *all* log files\n",
    "# Sort them by time, not name\n",
    "Data['LogFile'] = [f for f in sorted(glob.glob(os.path.join(Root, '**', '*.log'), recursive=True), key=os.path.getmtime)]"
   ]
  },
  {
   "cell_type": "code",
   "execution_count": 120,
   "metadata": {},
   "outputs": [],
   "source": [
    "# Get all folders\n",
    "Data['Folder'] = [os.path.dirname(f) for f in Data['LogFile']]"
   ]
  },
  {
   "cell_type": "code",
   "execution_count": 121,
   "metadata": {},
   "outputs": [
    {
     "name": "stdout",
     "output_type": "stream",
     "text": [
      "- 21322\\whole\\proj_full\\21322~00.log is missing matching reconstructions\n",
      "- 21322\\whole\\proj_full\\21322~01.log is missing matching reconstructions\n",
      "- 21322\\whole\\proj_full\\21322~02.log is missing matching reconstructions\n",
      "- 21322\\whole\\proj_full\\21322~03.log is missing matching reconstructions\n",
      "- 21322\\whole\\proj_full\\21322.log is missing matching reconstructions\n",
      "- 21322\\whole\\proj_full\\21322_rec.log is missing matching reconstructions\n",
      "- KC31\\pharynx\\proj_pharyngealjaw\\KC31.log is missing matching reconstructions\n"
     ]
    }
   ],
   "source": [
    "# Check for samples which are not yet reconstructed\n",
    "for c, row in Data.iterrows():\n",
    "    # Iterate over every 'proj' folder\n",
    "    if 'proj' in row.Folder:\n",
    "        if not 'TScopy' in row.Folder and not 'PR' in row.Folder:\n",
    "            # If there's nothing with 'rec*' on the same level, then tell us        \n",
    "            if not glob.glob(row.Folder.replace('proj', '*rec*')):\n",
    "                print('- %s is missing matching reconstructions' % row.LogFile[len(Root)+1:])"
   ]
  },
  {
   "cell_type": "code",
   "execution_count": 122,
   "metadata": {},
   "outputs": [],
   "source": [
    "# Get rid of all non-rec logfiles\n",
    "for c, row in Data.iterrows():\n",
    "    if 'rec' not in row.Folder:\n",
    "        Data.drop([c], inplace=True)\n",
    "    elif 'rectmp.log' in row.LogFile:\n",
    "        Data.drop([c], inplace=True)\n",
    "# Reset dataframe to something that we would get if we only would have loaded the 'rec' files\n",
    "Data = Data.reset_index(drop=True)"
   ]
  },
  {
   "cell_type": "code",
   "execution_count": 123,
   "metadata": {},
   "outputs": [],
   "source": [
    "# Generate us some meaningful colums\n",
    "Data['Fish'] = [l[len(Root)+1:].split(os.sep)[0] for l in Data['LogFile']]\n",
    "Data['Scan'] = [l[len(Root)+1:].split(os.sep)[1] for l in Data['LogFile']]"
   ]
  },
  {
   "cell_type": "code",
   "execution_count": 124,
   "metadata": {},
   "outputs": [],
   "source": [
    "# Get the file names of the reconstructions\n",
    "Data['Reconstructions'] = [sorted(glob.glob(os.path.join(f, '*rec0*.png'))) for f in Data['Folder']]\n",
    "Data['Number of reconstructions'] = [len(r) for r in Data.Reconstructions]"
   ]
  },
  {
   "cell_type": "code",
   "execution_count": 125,
   "metadata": {},
   "outputs": [
    {
     "name": "stdout",
     "output_type": "stream",
     "text": [
      "D:\\Results\\EAWAG\\103375\\rec_stuck contains no PNG files, we might be currently reconstructing it\n",
      "We have 52 folders with reconstructions\n"
     ]
    }
   ],
   "source": [
    "# Drop samples which have not been reconstructed yet\n",
    "# Based on https://stackoverflow.com/a/13851602\n",
    "for c,row in Data.iterrows():\n",
    "    if not row['Number of reconstructions']:\n",
    "        print('%s contains no PNG files, we might be currently reconstructing it' % row.Folder)\n",
    "Data = Data[Data['Number of reconstructions'] > 0]\n",
    "Data.reset_index(drop=True, inplace=True)\n",
    "print('We have %s folders with reconstructions' % (len(Data)))"
   ]
  },
  {
   "cell_type": "code",
   "execution_count": 126,
   "metadata": {},
   "outputs": [
    {
     "name": "stdout",
     "output_type": "stream",
     "text": [
      "Number of connected scans=1\n",
      "\n",
      "Number of connected scans=1\n",
      "\n",
      "Number of connected scans=2\n",
      "\n",
      "Number of connected scans=3\n",
      "\n",
      "Number of connected scans=3\n",
      "\n",
      "Number of connected scans=3\n",
      "\n",
      "Number of connected scans=3\n",
      "\n",
      "Number of connected scans=3\n",
      "\n",
      "Number of connected scans=3\n",
      "\n",
      "Number of connected scans=3\n",
      "\n",
      "Number of connected scans=3\n",
      "\n",
      "Number of connected scans=2\n",
      "\n",
      "Number of connected scans=3\n",
      "\n",
      "Number of connected scans=3\n",
      "\n",
      "Number of connected scans=3\n",
      "\n",
      "Number of connected scans=3\n",
      "\n",
      "Number of connected scans=3\n",
      "\n",
      "Number of connected scans=3\n",
      "\n",
      "Number of connected scans=2\n",
      "\n",
      "Number of connected scans=1\n",
      "\n",
      "Number of connected scans=1\n",
      "\n",
      "Number of connected scans=3\n",
      "\n",
      "Number of connected scans=3\n",
      "\n",
      "Number of connected scans=2\n",
      "\n",
      "Number of connected scans=2\n",
      "\n"
     ]
    }
   ],
   "source": [
    "# Get parameters to doublecheck from logfiles\n",
    "Data['Voxelsize'] = [get_pixelsize(log) for log in Data['LogFile']]\n",
    "Data['Filter'] = [get_filter(log) for log in Data['LogFile']]\n",
    "Data['Exposuretime'] = [get_exposuretime(log) for log in Data['LogFile']]\n",
    "Data['Scanner'] = [get_machine(log) for log in Data['LogFile']]\n",
    "Data['Averaging'] = [get_frameaveraging(log) for log in Data['LogFile']]\n",
    "Data['ProjectionSize'] = [get_projectionsize(log) for log in Data['LogFile']]\n",
    "Data['RotationStep'] = [get_rotationstep(log) for log in Data['LogFile']]\n",
    "Data['CameraWindow'] = [round((ps ** 0.5)/100)*100  for ps in Data['ProjectionSize']]\n",
    "Data['Grayvalue'] = [get_reconstruction_grayvalue(log) for log in Data['LogFile']]\n",
    "Data['RingartefactCorrection'] = [get_ringartefact(log) for log in Data['LogFile']]\n",
    "Data['BeamHardeningCorrection'] = [get_beamhardening(log) for log in Data['LogFile']]\n",
    "Data['Scan date'] = [get_scandate(log) for log in Data['LogFile']]\n",
    "Data['Scan time'] = [get_scantime(log) for log in Data['LogFile']]\n",
    "Data['Stacks'] = [get_stacks(log) for log in Data['LogFile']]"
   ]
  },
  {
   "cell_type": "code",
   "execution_count": 131,
   "metadata": {},
   "outputs": [],
   "source": [
    "Data['Scan time total'] = [ st * stk  for st, stk in zip(Data['Scan time'], Data['Stacks'])]"
   ]
  },
  {
   "cell_type": "code",
   "execution_count": 132,
   "metadata": {},
   "outputs": [
    {
     "name": "stdout",
     "output_type": "stream",
     "text": [
      "['Scan', 'Voxelsize', 'Filter', 'Exposuretime', 'Scanner', 'Averaging', 'ProjectionSize', 'RotationStep', 'CameraWindow', 'RingartefactCorrection', 'BeamHardeningCorrection', 'Stacks', 'Scan time total']\n",
      "Scan\n",
      "['rec' 'jaw' 'W' 'P' 'pharynx' 'full_188um' 'head_30um' 'head_13um'\n",
      " 'head_18um' 'rec_13um' 'rec_22um' '104671_rec' '156645_rec' 'jaw_v1'\n",
      " 'stack']\n",
      "--------------------------------------------------------------------------------\n",
      "Voxelsize\n",
      "[  5.000014   2.999931 188.212     13.120329  11.92668   30.000008\n",
      "  11.33137   13.127366   5.000018  17.999866  21.999992  10.734545\n",
      "  10.13772    7.156626   5.001124   8.34876    7.75345 ]\n",
      "--------------------------------------------------------------------------------\n",
      "Filter\n",
      "['Al 0.5mm' 'Al 0.25mm' 'No Filter' 'Al 1mm']\n",
      "--------------------------------------------------------------------------------\n",
      "Exposuretime\n",
      "[1162 1985  711 1500  294  750  908  445  450 3254 4133  280  720 2888\n",
      " 1062 1878 1111  850 1413]\n",
      "--------------------------------------------------------------------------------\n",
      "Scanner\n",
      "['SkyScan1272' 'SkyScan2214']\n",
      "--------------------------------------------------------------------------------\n",
      "Averaging\n",
      "['ON (3)\\n' 'OFF (3)\\n' 'ON (2)\\n']\n",
      "--------------------------------------------------------------------------------\n",
      "ProjectionSize\n",
      "[ 4021280  1782144   373248  5968080  5971968 16085120]\n",
      "--------------------------------------------------------------------------------\n",
      "RotationStep\n",
      "[0.6 0.2 0.4 0.8 0.1]\n",
      "--------------------------------------------------------------------------------\n",
      "CameraWindow\n",
      "[2000 1300  600 2400 4000]\n",
      "--------------------------------------------------------------------------------\n",
      "RingartefactCorrection\n",
      "[ 7  5 14 19  0]\n",
      "--------------------------------------------------------------------------------\n",
      "BeamHardeningCorrection\n",
      "[ 0 10]\n",
      "--------------------------------------------------------------------------------\n",
      "Stacks\n",
      "[1 2 3]\n",
      "--------------------------------------------------------------------------------\n",
      "Scan time total\n",
      "[ 2057000000000  5736000000000  4568000000000  2129000000000\n",
      "  4576000000000  2128000000000  7097000000000  7021000000000\n",
      "  7031000000000  1348000000000  9648000000000 10890000000000\n",
      "  2758000000000 10695000000000 11568000000000  2623000000000\n",
      " 28847000000000 29118000000000 28809000000000 27524000000000\n",
      "  2051000000000  7044000000000  7043000000000  4288000000000\n",
      "  9813000000000 11193000000000 10758000000000 10722000000000\n",
      "  7242000000000  2194000000000  9636000000000  9477000000000\n",
      "  9402000000000  9456000000000  2065000000000 17241000000000\n",
      " 50168000000000 28733000000000 16342000000000  5362000000000\n",
      "  5482000000000  6666000000000 28719000000000  7037000000000\n",
      "  7030000000000  5358000000000  5361000000000 12030000000000\n",
      " 10029000000000  9242000000000  9240000000000]\n",
      "--------------------------------------------------------------------------------\n"
     ]
    }
   ],
   "source": [
    "# https://www.geeksforgeeks.org/iterating-over-rows-and-columns-in-pandas-dataframe/\n",
    "columns = list(Data)\n",
    "columns.remove('Folder') \n",
    "columns.remove('Fish')\n",
    "columns.remove('LogFile')\n",
    "columns.remove('Reconstructions')\n",
    "columns.remove('Number of reconstructions')\n",
    "columns.remove('Grayvalue')\n",
    "columns.remove('Scan time')\n",
    "columns.remove('Scan date')\n",
    "print(columns)\n",
    "for col in columns:\n",
    "    print(col)\n",
    "    print(Data[col].unique())\n",
    "    print(80*'-')    "
   ]
  },
  {
   "cell_type": "code",
   "execution_count": 133,
   "metadata": {},
   "outputs": [
    {
     "name": "stdout",
     "output_type": "stream",
     "text": [
      "We scanned all datasets with 15 different voxel sizes\n",
      "- 3.0 um for Teeth\\W, Teeth\\W, Teeth\\P, Teeth\\P, \n",
      "- 5.0 um for 14295\\rec, 103908\\jaw, 104016\\pharynx, 103635\\pharynx, 103778\\pharynx, 14298\\rec, 14269\\rec, 103754\\rec, IG92\\rec, 21322\\jaw, 131282\\jaw, 131282\\pharynx, TJ3\\jaw_v1, 103908\\stack, 106985\\rec, IG96\\rec, TJ3\\jaw, KAT13\\jaw, KAT13\\pharynx, 104016\\jaw, KC31\\jaw, 103778\\jaw, 103635\\jaw, KC31\\pharynx, TJ3\\pharynx, \n",
      "- 7.16 um for 103767\\rec, \n",
      "- 7.75 um for 103734\\rec, 103761\\rec, 104042\\rec, \n",
      "- 8.35 um for 103658\\rec, \n",
      "- 10.14 um for 104671_156645\\104671_rec, 104671_156645\\156645_rec, \n",
      "- 10.73 um for 105105\\rec, \n",
      "- 11.33 um for 109220\\rec, \n",
      "- 11.93 um for NY75\\rec, 103571\\rec, 161476\\rec, \n",
      "- 13.12 um for 103375\\rec, 161543\\rec, 11045\\rec, 13115\\rec_13um, 10791\\rec, 14128\\rec, \n",
      "- 13.13 um for 10628\\head_13um, \n",
      "- 18.0 um for 10628\\head_18um, \n",
      "- 22.0 um for 13115\\rec_22um, \n",
      "- 30.0 um for 161543\\head_30um, \n",
      "- 188.21 um for 10628\\full_188um, \n"
     ]
    }
   ],
   "source": [
    "# Check voxel sizes (*rounded* to two after-comma values)\n",
    "# If different, spit out which values\n",
    "roundto = 2\n",
    "if len(Data['Voxelsize'].round(roundto).unique()) > 1:\n",
    "    print('We scanned all datasets with %s different voxel sizes' % len(Data['Voxelsize'].round(roundto).unique()))\n",
    "    for vs in sorted(Data['Voxelsize'].round(roundto).unique()):\n",
    "        print('-', vs, 'um for ', end='')\n",
    "        for c, row in Data.iterrows():\n",
    "            if float(vs) == round(row['Voxelsize'], roundto):\n",
    "                print(os.path.join(row['Fish'], row['Scan']), end=', ')\n",
    "        print('')\n",
    "else:\n",
    "    print('We scanned all datasets with equal voxel size, namely %s um.' % float(Data['Voxelsize'].round(roundto).unique()))"
   ]
  },
  {
   "cell_type": "code",
   "execution_count": 134,
   "metadata": {},
   "outputs": [
    {
     "name": "stdout",
     "output_type": "stream",
     "text": [
      "We reconstructed the datasets with different maximum gray values, namely\n",
      "0.143809 for Samples 14295\\rec, \n",
      "0.11886 for Samples 103908\\jaw, \n",
      "0.277898 for Samples Teeth\\W, \n",
      "0.638647 for Samples Teeth\\W, \n",
      "0.326348 for Samples Teeth\\P, \n",
      "0.721731 for Samples Teeth\\P, \n",
      "0.225172 for Samples 104016\\pharynx, \n",
      "0.150308 for Samples 103635\\pharynx, \n",
      "0.159535 for Samples 103778\\pharynx, \n",
      "0.026597 for Samples 10628\\full_188um, \n",
      "0.046591 for Samples 103375\\rec, \n",
      "0.072752 for Samples NY75\\rec, \n",
      "0.030483 for Samples 161543\\head_30um, \n",
      "0.057186 for Samples 109220\\rec, \n",
      "0.050316 for Samples 161543\\rec, \n",
      "0.057892 for Samples 10628\\head_13um, \n",
      "0.253239 for Samples 14298\\rec, \n",
      "0.17081 for Samples 14269\\rec, \n",
      "0.179707 for Samples 103754\\rec, \n",
      "0.276767 for Samples IG92\\rec, \n",
      "0.220318 for Samples 21322\\jaw, \n",
      "0.35403 for Samples 131282\\jaw, \n",
      "0.221278 for Samples 131282\\pharynx, \n",
      "0.048592 for Samples 10628\\head_18um, \n",
      "0.055035 for Samples 11045\\rec, \n",
      "0.049811 for Samples 13115\\rec_13um, \n",
      "0.091682 for Samples 103571\\rec, \n",
      "0.065024 for Samples 161476\\rec, \n",
      "0.051707 for Samples 10791\\rec, \n",
      "0.038612 for Samples 13115\\rec_22um, \n",
      "0.062966 for Samples 14128\\rec, \n",
      "0.075603 for Samples 105105\\rec, \n",
      "0.078897 for Samples 104671_156645\\104671_rec, \n",
      "0.076978 for Samples 103767\\rec, \n",
      "0.08533 for Samples 104671_156645\\156645_rec, \n",
      "0.232513 for Samples TJ3\\jaw_v1, \n",
      "0.174064 for Samples 103908\\stack, \n",
      "0.247237 for Samples 106985\\rec, \n",
      "0.18667 for Samples IG96\\rec, \n",
      "0.233489 for Samples TJ3\\jaw, \n",
      "0.360528 for Samples KAT13\\jaw, \n",
      "0.249797 for Samples KAT13\\pharynx, \n",
      "0.249223 for Samples 104016\\jaw, \n",
      "0.193475 for Samples KC31\\jaw, \n",
      "0.261067 for Samples 103778\\jaw, \n",
      "0.260728 for Samples 103635\\jaw, \n",
      "0.274372 for Samples KC31\\pharynx, \n",
      "0.302137 for Samples TJ3\\pharynx, \n",
      "0.084026 for Samples 103658\\rec, \n",
      "0.074869 for Samples 103734\\rec, \n",
      "0.075431 for Samples 103761\\rec, \n",
      "0.087383 for Samples 104042\\rec, \n"
     ]
    }
   ],
   "source": [
    "if len(Data['Grayvalue'].unique()) > 1:\n",
    "    print('We reconstructed the datasets with different maximum gray values, namely')\n",
    "    for gv in Data['Grayvalue'].unique():\n",
    "        print(gv, 'for Samples ', end='')\n",
    "        for c, row in Data.iterrows():\n",
    "            if float(gv) == row['Grayvalue']:\n",
    "                print(os.path.join(row['Fish'], row['Scan']), end=', ')\n",
    "        print('')\n",
    "else:\n",
    "    print('We reconstructed all datasets with equal maximum gray value, namely %s.' % Data['Grayvalue'].unique()[0])"
   ]
  },
  {
   "cell_type": "code",
   "execution_count": 135,
   "metadata": {},
   "outputs": [],
   "source": [
    "# Sort scans by scanning date\n",
    "Data.sort_values(by='Scan date', inplace=True)"
   ]
  },
  {
   "cell_type": "code",
   "execution_count": 146,
   "metadata": {
    "scrolled": false
   },
   "outputs": [
    {
     "data": {
      "text/html": [
       "<div>\n",
       "<style scoped>\n",
       "    .dataframe tbody tr th:only-of-type {\n",
       "        vertical-align: middle;\n",
       "    }\n",
       "\n",
       "    .dataframe tbody tr th {\n",
       "        vertical-align: top;\n",
       "    }\n",
       "\n",
       "    .dataframe thead th {\n",
       "        text-align: right;\n",
       "    }\n",
       "</style>\n",
       "<table border=\"1\" class=\"dataframe\">\n",
       "  <thead>\n",
       "    <tr style=\"text-align: right;\">\n",
       "      <th></th>\n",
       "      <th>Fish</th>\n",
       "      <th>Scan</th>\n",
       "      <th>Voxelsize</th>\n",
       "      <th>Scanner</th>\n",
       "      <th>Scan date</th>\n",
       "      <th>CameraWindow</th>\n",
       "      <th>RotationStep</th>\n",
       "      <th>Averaging</th>\n",
       "      <th>Scan time</th>\n",
       "      <th>Stacks</th>\n",
       "      <th>Scan time total</th>\n",
       "    </tr>\n",
       "  </thead>\n",
       "  <tbody>\n",
       "    <tr>\n",
       "      <th>20</th>\n",
       "      <td>21322</td>\n",
       "      <td>jaw</td>\n",
       "      <td>5.000014</td>\n",
       "      <td>SkyScan1272</td>\n",
       "      <td>2020-09-28T16:12:57</td>\n",
       "      <td>2000</td>\n",
       "      <td>0.6</td>\n",
       "      <td>ON (3)\\n</td>\n",
       "      <td>00:34:11</td>\n",
       "      <td>1</td>\n",
       "      <td>00:34:11</td>\n",
       "    </tr>\n",
       "    <tr>\n",
       "      <th>35</th>\n",
       "      <td>TJ3</td>\n",
       "      <td>jaw_v1</td>\n",
       "      <td>5.000014</td>\n",
       "      <td>SkyScan1272</td>\n",
       "      <td>2020-10-26T11:39:02</td>\n",
       "      <td>2000</td>\n",
       "      <td>0.6</td>\n",
       "      <td>ON (3)\\n</td>\n",
       "      <td>00:34:25</td>\n",
       "      <td>1</td>\n",
       "      <td>00:34:25</td>\n",
       "    </tr>\n",
       "    <tr>\n",
       "      <th>0</th>\n",
       "      <td>14295</td>\n",
       "      <td>rec</td>\n",
       "      <td>5.000014</td>\n",
       "      <td>SkyScan1272</td>\n",
       "      <td>2020-10-26T12:58:57</td>\n",
       "      <td>2000</td>\n",
       "      <td>0.6</td>\n",
       "      <td>ON (3)\\n</td>\n",
       "      <td>00:34:17</td>\n",
       "      <td>1</td>\n",
       "      <td>00:34:17</td>\n",
       "    </tr>\n",
       "    <tr>\n",
       "      <th>1</th>\n",
       "      <td>103908</td>\n",
       "      <td>jaw</td>\n",
       "      <td>5.000014</td>\n",
       "      <td>SkyScan1272</td>\n",
       "      <td>2020-11-03T12:34:39</td>\n",
       "      <td>2000</td>\n",
       "      <td>0.2</td>\n",
       "      <td>ON (3)\\n</td>\n",
       "      <td>01:35:36</td>\n",
       "      <td>1</td>\n",
       "      <td>01:35:36</td>\n",
       "    </tr>\n",
       "    <tr>\n",
       "      <th>36</th>\n",
       "      <td>103908</td>\n",
       "      <td>stack</td>\n",
       "      <td>5.000014</td>\n",
       "      <td>SkyScan1272</td>\n",
       "      <td>2020-11-13T14:29:52</td>\n",
       "      <td>2000</td>\n",
       "      <td>0.2</td>\n",
       "      <td>ON (3)\\n</td>\n",
       "      <td>01:35:47</td>\n",
       "      <td>3</td>\n",
       "      <td>04:47:21</td>\n",
       "    </tr>\n",
       "    <tr>\n",
       "      <th>37</th>\n",
       "      <td>106985</td>\n",
       "      <td>rec</td>\n",
       "      <td>5.001124</td>\n",
       "      <td>SkyScan1272</td>\n",
       "      <td>2020-11-16T23:53:27</td>\n",
       "      <td>2000</td>\n",
       "      <td>0.2</td>\n",
       "      <td>ON (3)\\n</td>\n",
       "      <td>06:58:04</td>\n",
       "      <td>2</td>\n",
       "      <td>13:56:08</td>\n",
       "    </tr>\n",
       "    <tr>\n",
       "      <th>16</th>\n",
       "      <td>14298</td>\n",
       "      <td>rec</td>\n",
       "      <td>5.000018</td>\n",
       "      <td>SkyScan1272</td>\n",
       "      <td>2020-11-17T18:22:34</td>\n",
       "      <td>4000</td>\n",
       "      <td>0.1</td>\n",
       "      <td>ON (3)\\n</td>\n",
       "      <td>08:00:47</td>\n",
       "      <td>1</td>\n",
       "      <td>08:00:47</td>\n",
       "    </tr>\n",
       "    <tr>\n",
       "      <th>38</th>\n",
       "      <td>IG96</td>\n",
       "      <td>rec</td>\n",
       "      <td>5.000018</td>\n",
       "      <td>SkyScan1272</td>\n",
       "      <td>2020-11-19T17:39:48</td>\n",
       "      <td>4000</td>\n",
       "      <td>0.1</td>\n",
       "      <td>ON (3)\\n</td>\n",
       "      <td>07:58:53</td>\n",
       "      <td>1</td>\n",
       "      <td>07:58:53</td>\n",
       "    </tr>\n",
       "    <tr>\n",
       "      <th>18</th>\n",
       "      <td>103754</td>\n",
       "      <td>rec</td>\n",
       "      <td>5.000018</td>\n",
       "      <td>SkyScan1272</td>\n",
       "      <td>2020-11-20T06:25:50</td>\n",
       "      <td>4000</td>\n",
       "      <td>0.1</td>\n",
       "      <td>ON (3)\\n</td>\n",
       "      <td>08:00:09</td>\n",
       "      <td>1</td>\n",
       "      <td>08:00:09</td>\n",
       "    </tr>\n",
       "    <tr>\n",
       "      <th>17</th>\n",
       "      <td>14269</td>\n",
       "      <td>rec</td>\n",
       "      <td>5.000018</td>\n",
       "      <td>SkyScan1272</td>\n",
       "      <td>2020-11-20T17:03:10</td>\n",
       "      <td>4000</td>\n",
       "      <td>0.1</td>\n",
       "      <td>ON (3)\\n</td>\n",
       "      <td>08:05:18</td>\n",
       "      <td>1</td>\n",
       "      <td>08:05:18</td>\n",
       "    </tr>\n",
       "    <tr>\n",
       "      <th>3</th>\n",
       "      <td>Teeth</td>\n",
       "      <td>W</td>\n",
       "      <td>2.999931</td>\n",
       "      <td>SkyScan1272</td>\n",
       "      <td>2020-12-10T10:30:18</td>\n",
       "      <td>1300</td>\n",
       "      <td>0.4</td>\n",
       "      <td>ON (3)\\n</td>\n",
       "      <td>00:35:29</td>\n",
       "      <td>1</td>\n",
       "      <td>00:35:29</td>\n",
       "    </tr>\n",
       "    <tr>\n",
       "      <th>2</th>\n",
       "      <td>Teeth</td>\n",
       "      <td>W</td>\n",
       "      <td>2.999931</td>\n",
       "      <td>SkyScan1272</td>\n",
       "      <td>2020-12-10T13:19:28</td>\n",
       "      <td>1300</td>\n",
       "      <td>0.4</td>\n",
       "      <td>ON (3)\\n</td>\n",
       "      <td>01:16:08</td>\n",
       "      <td>1</td>\n",
       "      <td>01:16:08</td>\n",
       "    </tr>\n",
       "    <tr>\n",
       "      <th>4</th>\n",
       "      <td>Teeth</td>\n",
       "      <td>P</td>\n",
       "      <td>2.999931</td>\n",
       "      <td>SkyScan1272</td>\n",
       "      <td>2020-12-10T14:59:13</td>\n",
       "      <td>1300</td>\n",
       "      <td>0.4</td>\n",
       "      <td>ON (3)\\n</td>\n",
       "      <td>01:16:16</td>\n",
       "      <td>1</td>\n",
       "      <td>01:16:16</td>\n",
       "    </tr>\n",
       "    <tr>\n",
       "      <th>5</th>\n",
       "      <td>Teeth</td>\n",
       "      <td>P</td>\n",
       "      <td>2.999931</td>\n",
       "      <td>SkyScan1272</td>\n",
       "      <td>2020-12-10T16:46:29</td>\n",
       "      <td>1300</td>\n",
       "      <td>0.4</td>\n",
       "      <td>ON (3)\\n</td>\n",
       "      <td>00:35:28</td>\n",
       "      <td>1</td>\n",
       "      <td>00:35:28</td>\n",
       "    </tr>\n",
       "    <tr>\n",
       "      <th>39</th>\n",
       "      <td>TJ3</td>\n",
       "      <td>jaw</td>\n",
       "      <td>5.000018</td>\n",
       "      <td>SkyScan1272</td>\n",
       "      <td>2021-01-28T15:14:44</td>\n",
       "      <td>4000</td>\n",
       "      <td>0.1</td>\n",
       "      <td>OFF (3)\\n</td>\n",
       "      <td>04:32:22</td>\n",
       "      <td>1</td>\n",
       "      <td>04:32:22</td>\n",
       "    </tr>\n",
       "    <tr>\n",
       "      <th>43</th>\n",
       "      <td>KC31</td>\n",
       "      <td>jaw</td>\n",
       "      <td>5.000018</td>\n",
       "      <td>SkyScan1272</td>\n",
       "      <td>2021-01-29T00:39:37</td>\n",
       "      <td>4000</td>\n",
       "      <td>0.1</td>\n",
       "      <td>ON (3)\\n</td>\n",
       "      <td>07:58:39</td>\n",
       "      <td>1</td>\n",
       "      <td>07:58:39</td>\n",
       "    </tr>\n",
       "    <tr>\n",
       "      <th>19</th>\n",
       "      <td>IG92</td>\n",
       "      <td>rec</td>\n",
       "      <td>5.000018</td>\n",
       "      <td>SkyScan1272</td>\n",
       "      <td>2021-01-29T17:31:09</td>\n",
       "      <td>4000</td>\n",
       "      <td>0.1</td>\n",
       "      <td>ON (2)\\n</td>\n",
       "      <td>07:38:44</td>\n",
       "      <td>1</td>\n",
       "      <td>07:38:44</td>\n",
       "    </tr>\n",
       "    <tr>\n",
       "      <th>47</th>\n",
       "      <td>TJ3</td>\n",
       "      <td>pharynx</td>\n",
       "      <td>5.000014</td>\n",
       "      <td>SkyScan1272</td>\n",
       "      <td>2021-02-01T11:05:12</td>\n",
       "      <td>2000</td>\n",
       "      <td>0.2</td>\n",
       "      <td>ON (3)\\n</td>\n",
       "      <td>01:29:21</td>\n",
       "      <td>1</td>\n",
       "      <td>01:29:21</td>\n",
       "    </tr>\n",
       "    <tr>\n",
       "      <th>46</th>\n",
       "      <td>KC31</td>\n",
       "      <td>pharynx</td>\n",
       "      <td>5.000014</td>\n",
       "      <td>SkyScan1272</td>\n",
       "      <td>2021-02-01T13:22:52</td>\n",
       "      <td>2000</td>\n",
       "      <td>0.2</td>\n",
       "      <td>ON (3)\\n</td>\n",
       "      <td>01:29:18</td>\n",
       "      <td>1</td>\n",
       "      <td>01:29:18</td>\n",
       "    </tr>\n",
       "    <tr>\n",
       "      <th>40</th>\n",
       "      <td>KAT13</td>\n",
       "      <td>jaw</td>\n",
       "      <td>5.000014</td>\n",
       "      <td>SkyScan1272</td>\n",
       "      <td>2021-02-03T10:58:47</td>\n",
       "      <td>2000</td>\n",
       "      <td>0.2</td>\n",
       "      <td>ON (3)\\n</td>\n",
       "      <td>01:29:22</td>\n",
       "      <td>1</td>\n",
       "      <td>01:29:22</td>\n",
       "    </tr>\n",
       "    <tr>\n",
       "      <th>41</th>\n",
       "      <td>KAT13</td>\n",
       "      <td>pharynx</td>\n",
       "      <td>5.000014</td>\n",
       "      <td>SkyScan1272</td>\n",
       "      <td>2021-02-03T13:17:33</td>\n",
       "      <td>2000</td>\n",
       "      <td>0.2</td>\n",
       "      <td>ON (3)\\n</td>\n",
       "      <td>01:31:22</td>\n",
       "      <td>1</td>\n",
       "      <td>01:31:22</td>\n",
       "    </tr>\n",
       "    <tr>\n",
       "      <th>42</th>\n",
       "      <td>104016</td>\n",
       "      <td>jaw</td>\n",
       "      <td>5.000014</td>\n",
       "      <td>SkyScan1272</td>\n",
       "      <td>2021-02-04T11:21:23</td>\n",
       "      <td>2000</td>\n",
       "      <td>0.2</td>\n",
       "      <td>ON (2)\\n</td>\n",
       "      <td>01:51:06</td>\n",
       "      <td>1</td>\n",
       "      <td>01:51:06</td>\n",
       "    </tr>\n",
       "    <tr>\n",
       "      <th>6</th>\n",
       "      <td>104016</td>\n",
       "      <td>pharynx</td>\n",
       "      <td>5.000014</td>\n",
       "      <td>SkyScan1272</td>\n",
       "      <td>2021-02-04T13:30:11</td>\n",
       "      <td>2000</td>\n",
       "      <td>0.2</td>\n",
       "      <td>ON (3)\\n</td>\n",
       "      <td>01:58:17</td>\n",
       "      <td>1</td>\n",
       "      <td>01:58:17</td>\n",
       "    </tr>\n",
       "    <tr>\n",
       "      <th>21</th>\n",
       "      <td>131282</td>\n",
       "      <td>jaw</td>\n",
       "      <td>5.000014</td>\n",
       "      <td>SkyScan1272</td>\n",
       "      <td>2021-02-05T11:39:26</td>\n",
       "      <td>2000</td>\n",
       "      <td>0.2</td>\n",
       "      <td>ON (3)\\n</td>\n",
       "      <td>01:57:24</td>\n",
       "      <td>1</td>\n",
       "      <td>01:57:24</td>\n",
       "    </tr>\n",
       "    <tr>\n",
       "      <th>22</th>\n",
       "      <td>131282</td>\n",
       "      <td>pharynx</td>\n",
       "      <td>5.000014</td>\n",
       "      <td>SkyScan1272</td>\n",
       "      <td>2021-02-05T13:44:12</td>\n",
       "      <td>2000</td>\n",
       "      <td>0.2</td>\n",
       "      <td>ON (3)\\n</td>\n",
       "      <td>01:57:23</td>\n",
       "      <td>1</td>\n",
       "      <td>01:57:23</td>\n",
       "    </tr>\n",
       "    <tr>\n",
       "      <th>45</th>\n",
       "      <td>103635</td>\n",
       "      <td>jaw</td>\n",
       "      <td>5.000014</td>\n",
       "      <td>SkyScan1272</td>\n",
       "      <td>2021-02-08T12:25:19</td>\n",
       "      <td>2000</td>\n",
       "      <td>0.2</td>\n",
       "      <td>ON (3)\\n</td>\n",
       "      <td>01:57:10</td>\n",
       "      <td>1</td>\n",
       "      <td>01:57:10</td>\n",
       "    </tr>\n",
       "    <tr>\n",
       "      <th>7</th>\n",
       "      <td>103635</td>\n",
       "      <td>pharynx</td>\n",
       "      <td>5.000014</td>\n",
       "      <td>SkyScan1272</td>\n",
       "      <td>2021-02-08T14:24:12</td>\n",
       "      <td>2000</td>\n",
       "      <td>0.2</td>\n",
       "      <td>ON (3)\\n</td>\n",
       "      <td>01:57:01</td>\n",
       "      <td>1</td>\n",
       "      <td>01:57:01</td>\n",
       "    </tr>\n",
       "    <tr>\n",
       "      <th>23</th>\n",
       "      <td>10628</td>\n",
       "      <td>head_18um</td>\n",
       "      <td>17.999866</td>\n",
       "      <td>SkyScan2214</td>\n",
       "      <td>2021-02-10T12:47:54</td>\n",
       "      <td>2400</td>\n",
       "      <td>0.2</td>\n",
       "      <td>ON (3)\\n</td>\n",
       "      <td>01:11:28</td>\n",
       "      <td>1</td>\n",
       "      <td>01:11:28</td>\n",
       "    </tr>\n",
       "    <tr>\n",
       "      <th>44</th>\n",
       "      <td>103778</td>\n",
       "      <td>jaw</td>\n",
       "      <td>5.000014</td>\n",
       "      <td>SkyScan1272</td>\n",
       "      <td>2021-02-10T12:49:28</td>\n",
       "      <td>2000</td>\n",
       "      <td>0.2</td>\n",
       "      <td>ON (3)\\n</td>\n",
       "      <td>01:57:17</td>\n",
       "      <td>1</td>\n",
       "      <td>01:57:17</td>\n",
       "    </tr>\n",
       "    <tr>\n",
       "      <th>15</th>\n",
       "      <td>10628</td>\n",
       "      <td>head_13um</td>\n",
       "      <td>13.127366</td>\n",
       "      <td>SkyScan2214</td>\n",
       "      <td>2021-02-10T13:36:01</td>\n",
       "      <td>2400</td>\n",
       "      <td>0.2</td>\n",
       "      <td>OFF (3)\\n</td>\n",
       "      <td>00:43:43</td>\n",
       "      <td>1</td>\n",
       "      <td>00:43:43</td>\n",
       "    </tr>\n",
       "    <tr>\n",
       "      <th>9</th>\n",
       "      <td>10628</td>\n",
       "      <td>full_188um</td>\n",
       "      <td>188.212000</td>\n",
       "      <td>SkyScan2214</td>\n",
       "      <td>2021-02-10T14:41:06</td>\n",
       "      <td>600</td>\n",
       "      <td>0.8</td>\n",
       "      <td>ON (3)\\n</td>\n",
       "      <td>00:11:14</td>\n",
       "      <td>2</td>\n",
       "      <td>00:22:28</td>\n",
       "    </tr>\n",
       "    <tr>\n",
       "      <th>8</th>\n",
       "      <td>103778</td>\n",
       "      <td>pharynx</td>\n",
       "      <td>5.000014</td>\n",
       "      <td>SkyScan1272</td>\n",
       "      <td>2021-02-10T14:48:26</td>\n",
       "      <td>2000</td>\n",
       "      <td>0.2</td>\n",
       "      <td>ON (3)\\n</td>\n",
       "      <td>01:57:11</td>\n",
       "      <td>1</td>\n",
       "      <td>01:57:11</td>\n",
       "    </tr>\n",
       "    <tr>\n",
       "      <th>12</th>\n",
       "      <td>161543</td>\n",
       "      <td>head_30um</td>\n",
       "      <td>30.000008</td>\n",
       "      <td>SkyScan2214</td>\n",
       "      <td>2021-02-12T15:44:15</td>\n",
       "      <td>2400</td>\n",
       "      <td>0.2</td>\n",
       "      <td>OFF (3)\\n</td>\n",
       "      <td>00:45:58</td>\n",
       "      <td>1</td>\n",
       "      <td>00:45:58</td>\n",
       "    </tr>\n",
       "    <tr>\n",
       "      <th>29</th>\n",
       "      <td>13115</td>\n",
       "      <td>rec_22um</td>\n",
       "      <td>21.999992</td>\n",
       "      <td>SkyScan2214</td>\n",
       "      <td>2021-03-09T11:44:27</td>\n",
       "      <td>2400</td>\n",
       "      <td>0.2</td>\n",
       "      <td>OFF (3)\\n</td>\n",
       "      <td>00:36:34</td>\n",
       "      <td>1</td>\n",
       "      <td>00:36:34</td>\n",
       "    </tr>\n",
       "    <tr>\n",
       "      <th>25</th>\n",
       "      <td>13115</td>\n",
       "      <td>rec_13um</td>\n",
       "      <td>13.120329</td>\n",
       "      <td>SkyScan2214</td>\n",
       "      <td>2021-03-24T10:38:11</td>\n",
       "      <td>2400</td>\n",
       "      <td>0.2</td>\n",
       "      <td>OFF (3)\\n</td>\n",
       "      <td>01:02:11</td>\n",
       "      <td>3</td>\n",
       "      <td>03:06:33</td>\n",
       "    </tr>\n",
       "    <tr>\n",
       "      <th>14</th>\n",
       "      <td>161543</td>\n",
       "      <td>rec</td>\n",
       "      <td>13.120329</td>\n",
       "      <td>SkyScan2214</td>\n",
       "      <td>2021-03-24T14:21:33</td>\n",
       "      <td>2400</td>\n",
       "      <td>0.2</td>\n",
       "      <td>OFF (3)\\n</td>\n",
       "      <td>01:04:16</td>\n",
       "      <td>3</td>\n",
       "      <td>03:12:48</td>\n",
       "    </tr>\n",
       "    <tr>\n",
       "      <th>24</th>\n",
       "      <td>11045</td>\n",
       "      <td>rec</td>\n",
       "      <td>13.120329</td>\n",
       "      <td>SkyScan2214</td>\n",
       "      <td>2021-03-25T10:05:38</td>\n",
       "      <td>2400</td>\n",
       "      <td>0.2</td>\n",
       "      <td>OFF (3)\\n</td>\n",
       "      <td>00:54:31</td>\n",
       "      <td>3</td>\n",
       "      <td>02:43:33</td>\n",
       "    </tr>\n",
       "    <tr>\n",
       "      <th>30</th>\n",
       "      <td>14128</td>\n",
       "      <td>rec</td>\n",
       "      <td>13.120329</td>\n",
       "      <td>SkyScan2214</td>\n",
       "      <td>2021-03-26T09:43:58</td>\n",
       "      <td>2400</td>\n",
       "      <td>0.2</td>\n",
       "      <td>OFF (3)\\n</td>\n",
       "      <td>00:53:32</td>\n",
       "      <td>3</td>\n",
       "      <td>02:40:36</td>\n",
       "    </tr>\n",
       "    <tr>\n",
       "      <th>10</th>\n",
       "      <td>103375</td>\n",
       "      <td>rec</td>\n",
       "      <td>13.120329</td>\n",
       "      <td>SkyScan2214</td>\n",
       "      <td>2021-03-26T12:59:33</td>\n",
       "      <td>2400</td>\n",
       "      <td>0.2</td>\n",
       "      <td>OFF (3)\\n</td>\n",
       "      <td>00:53:36</td>\n",
       "      <td>3</td>\n",
       "      <td>02:40:48</td>\n",
       "    </tr>\n",
       "    <tr>\n",
       "      <th>28</th>\n",
       "      <td>10791</td>\n",
       "      <td>rec</td>\n",
       "      <td>13.120329</td>\n",
       "      <td>SkyScan2214</td>\n",
       "      <td>2021-03-30T10:20:59</td>\n",
       "      <td>2400</td>\n",
       "      <td>0.2</td>\n",
       "      <td>OFF (3)\\n</td>\n",
       "      <td>01:00:21</td>\n",
       "      <td>2</td>\n",
       "      <td>02:00:42</td>\n",
       "    </tr>\n",
       "    <tr>\n",
       "      <th>11</th>\n",
       "      <td>NY75</td>\n",
       "      <td>rec</td>\n",
       "      <td>11.926680</td>\n",
       "      <td>SkyScan2214</td>\n",
       "      <td>2021-03-30T12:58:52</td>\n",
       "      <td>2400</td>\n",
       "      <td>0.2</td>\n",
       "      <td>OFF (3)\\n</td>\n",
       "      <td>01:00:30</td>\n",
       "      <td>3</td>\n",
       "      <td>03:01:30</td>\n",
       "    </tr>\n",
       "    <tr>\n",
       "      <th>13</th>\n",
       "      <td>109220</td>\n",
       "      <td>rec</td>\n",
       "      <td>11.331370</td>\n",
       "      <td>SkyScan2214</td>\n",
       "      <td>2021-04-12T10:19:19</td>\n",
       "      <td>2400</td>\n",
       "      <td>0.2</td>\n",
       "      <td>OFF (3)\\n</td>\n",
       "      <td>00:59:25</td>\n",
       "      <td>3</td>\n",
       "      <td>02:58:15</td>\n",
       "    </tr>\n",
       "    <tr>\n",
       "      <th>26</th>\n",
       "      <td>103571</td>\n",
       "      <td>rec</td>\n",
       "      <td>11.926680</td>\n",
       "      <td>SkyScan2214</td>\n",
       "      <td>2021-04-12T14:37:40</td>\n",
       "      <td>2400</td>\n",
       "      <td>0.2</td>\n",
       "      <td>OFF (3)\\n</td>\n",
       "      <td>00:59:46</td>\n",
       "      <td>3</td>\n",
       "      <td>02:59:18</td>\n",
       "    </tr>\n",
       "    <tr>\n",
       "      <th>27</th>\n",
       "      <td>161476</td>\n",
       "      <td>rec</td>\n",
       "      <td>11.926680</td>\n",
       "      <td>SkyScan2214</td>\n",
       "      <td>2021-04-13T13:46:49</td>\n",
       "      <td>2400</td>\n",
       "      <td>0.2</td>\n",
       "      <td>OFF (3)\\n</td>\n",
       "      <td>00:59:34</td>\n",
       "      <td>3</td>\n",
       "      <td>02:58:42</td>\n",
       "    </tr>\n",
       "    <tr>\n",
       "      <th>31</th>\n",
       "      <td>105105</td>\n",
       "      <td>rec</td>\n",
       "      <td>10.734545</td>\n",
       "      <td>SkyScan2214</td>\n",
       "      <td>2021-04-16T11:31:09</td>\n",
       "      <td>2400</td>\n",
       "      <td>0.2</td>\n",
       "      <td>OFF (3)\\n</td>\n",
       "      <td>00:52:39</td>\n",
       "      <td>3</td>\n",
       "      <td>02:37:57</td>\n",
       "    </tr>\n",
       "    <tr>\n",
       "      <th>32</th>\n",
       "      <td>104671_156645</td>\n",
       "      <td>104671_rec</td>\n",
       "      <td>10.137720</td>\n",
       "      <td>SkyScan2214</td>\n",
       "      <td>2021-04-19T10:11:24</td>\n",
       "      <td>2400</td>\n",
       "      <td>0.2</td>\n",
       "      <td>OFF (3)\\n</td>\n",
       "      <td>00:52:14</td>\n",
       "      <td>3</td>\n",
       "      <td>02:36:42</td>\n",
       "    </tr>\n",
       "    <tr>\n",
       "      <th>34</th>\n",
       "      <td>104671_156645</td>\n",
       "      <td>156645_rec</td>\n",
       "      <td>10.137720</td>\n",
       "      <td>SkyScan2214</td>\n",
       "      <td>2021-04-19T10:11:24</td>\n",
       "      <td>2400</td>\n",
       "      <td>0.2</td>\n",
       "      <td>OFF (3)\\n</td>\n",
       "      <td>00:52:14</td>\n",
       "      <td>3</td>\n",
       "      <td>02:36:42</td>\n",
       "    </tr>\n",
       "    <tr>\n",
       "      <th>33</th>\n",
       "      <td>103767</td>\n",
       "      <td>rec</td>\n",
       "      <td>7.156626</td>\n",
       "      <td>SkyScan2214</td>\n",
       "      <td>2021-04-19T13:32:36</td>\n",
       "      <td>2400</td>\n",
       "      <td>0.2</td>\n",
       "      <td>OFF (3)\\n</td>\n",
       "      <td>00:52:32</td>\n",
       "      <td>3</td>\n",
       "      <td>02:37:36</td>\n",
       "    </tr>\n",
       "    <tr>\n",
       "      <th>48</th>\n",
       "      <td>103658</td>\n",
       "      <td>rec</td>\n",
       "      <td>8.348760</td>\n",
       "      <td>SkyScan2214</td>\n",
       "      <td>2021-04-23T10:36:23</td>\n",
       "      <td>2400</td>\n",
       "      <td>0.2</td>\n",
       "      <td>OFF (3)\\n</td>\n",
       "      <td>01:06:50</td>\n",
       "      <td>3</td>\n",
       "      <td>03:20:30</td>\n",
       "    </tr>\n",
       "    <tr>\n",
       "      <th>49</th>\n",
       "      <td>103734</td>\n",
       "      <td>rec</td>\n",
       "      <td>7.753450</td>\n",
       "      <td>SkyScan2214</td>\n",
       "      <td>2021-04-29T10:30:52</td>\n",
       "      <td>2400</td>\n",
       "      <td>0.2</td>\n",
       "      <td>OFF (3)\\n</td>\n",
       "      <td>00:55:43</td>\n",
       "      <td>3</td>\n",
       "      <td>02:47:09</td>\n",
       "    </tr>\n",
       "    <tr>\n",
       "      <th>50</th>\n",
       "      <td>103761</td>\n",
       "      <td>rec</td>\n",
       "      <td>7.753450</td>\n",
       "      <td>SkyScan2214</td>\n",
       "      <td>2021-05-03T10:23:34</td>\n",
       "      <td>2400</td>\n",
       "      <td>0.2</td>\n",
       "      <td>OFF (3)\\n</td>\n",
       "      <td>01:17:01</td>\n",
       "      <td>2</td>\n",
       "      <td>02:34:02</td>\n",
       "    </tr>\n",
       "    <tr>\n",
       "      <th>51</th>\n",
       "      <td>104042</td>\n",
       "      <td>rec</td>\n",
       "      <td>7.753450</td>\n",
       "      <td>SkyScan2214</td>\n",
       "      <td>2021-05-04T09:59:24</td>\n",
       "      <td>2400</td>\n",
       "      <td>0.2</td>\n",
       "      <td>OFF (3)\\n</td>\n",
       "      <td>01:17:00</td>\n",
       "      <td>2</td>\n",
       "      <td>02:34:00</td>\n",
       "    </tr>\n",
       "  </tbody>\n",
       "</table>\n",
       "</div>"
      ],
      "text/plain": [
       "             Fish        Scan   Voxelsize      Scanner            Scan date  \\\n",
       "20          21322         jaw    5.000014  SkyScan1272  2020-09-28T16:12:57   \n",
       "35            TJ3      jaw_v1    5.000014  SkyScan1272  2020-10-26T11:39:02   \n",
       "0           14295         rec    5.000014  SkyScan1272  2020-10-26T12:58:57   \n",
       "1          103908         jaw    5.000014  SkyScan1272  2020-11-03T12:34:39   \n",
       "36         103908       stack    5.000014  SkyScan1272  2020-11-13T14:29:52   \n",
       "37         106985         rec    5.001124  SkyScan1272  2020-11-16T23:53:27   \n",
       "16          14298         rec    5.000018  SkyScan1272  2020-11-17T18:22:34   \n",
       "38           IG96         rec    5.000018  SkyScan1272  2020-11-19T17:39:48   \n",
       "18         103754         rec    5.000018  SkyScan1272  2020-11-20T06:25:50   \n",
       "17          14269         rec    5.000018  SkyScan1272  2020-11-20T17:03:10   \n",
       "3           Teeth           W    2.999931  SkyScan1272  2020-12-10T10:30:18   \n",
       "2           Teeth           W    2.999931  SkyScan1272  2020-12-10T13:19:28   \n",
       "4           Teeth           P    2.999931  SkyScan1272  2020-12-10T14:59:13   \n",
       "5           Teeth           P    2.999931  SkyScan1272  2020-12-10T16:46:29   \n",
       "39            TJ3         jaw    5.000018  SkyScan1272  2021-01-28T15:14:44   \n",
       "43           KC31         jaw    5.000018  SkyScan1272  2021-01-29T00:39:37   \n",
       "19           IG92         rec    5.000018  SkyScan1272  2021-01-29T17:31:09   \n",
       "47            TJ3     pharynx    5.000014  SkyScan1272  2021-02-01T11:05:12   \n",
       "46           KC31     pharynx    5.000014  SkyScan1272  2021-02-01T13:22:52   \n",
       "40          KAT13         jaw    5.000014  SkyScan1272  2021-02-03T10:58:47   \n",
       "41          KAT13     pharynx    5.000014  SkyScan1272  2021-02-03T13:17:33   \n",
       "42         104016         jaw    5.000014  SkyScan1272  2021-02-04T11:21:23   \n",
       "6          104016     pharynx    5.000014  SkyScan1272  2021-02-04T13:30:11   \n",
       "21         131282         jaw    5.000014  SkyScan1272  2021-02-05T11:39:26   \n",
       "22         131282     pharynx    5.000014  SkyScan1272  2021-02-05T13:44:12   \n",
       "45         103635         jaw    5.000014  SkyScan1272  2021-02-08T12:25:19   \n",
       "7          103635     pharynx    5.000014  SkyScan1272  2021-02-08T14:24:12   \n",
       "23          10628   head_18um   17.999866  SkyScan2214  2021-02-10T12:47:54   \n",
       "44         103778         jaw    5.000014  SkyScan1272  2021-02-10T12:49:28   \n",
       "15          10628   head_13um   13.127366  SkyScan2214  2021-02-10T13:36:01   \n",
       "9           10628  full_188um  188.212000  SkyScan2214  2021-02-10T14:41:06   \n",
       "8          103778     pharynx    5.000014  SkyScan1272  2021-02-10T14:48:26   \n",
       "12         161543   head_30um   30.000008  SkyScan2214  2021-02-12T15:44:15   \n",
       "29          13115    rec_22um   21.999992  SkyScan2214  2021-03-09T11:44:27   \n",
       "25          13115    rec_13um   13.120329  SkyScan2214  2021-03-24T10:38:11   \n",
       "14         161543         rec   13.120329  SkyScan2214  2021-03-24T14:21:33   \n",
       "24          11045         rec   13.120329  SkyScan2214  2021-03-25T10:05:38   \n",
       "30          14128         rec   13.120329  SkyScan2214  2021-03-26T09:43:58   \n",
       "10         103375         rec   13.120329  SkyScan2214  2021-03-26T12:59:33   \n",
       "28          10791         rec   13.120329  SkyScan2214  2021-03-30T10:20:59   \n",
       "11           NY75         rec   11.926680  SkyScan2214  2021-03-30T12:58:52   \n",
       "13         109220         rec   11.331370  SkyScan2214  2021-04-12T10:19:19   \n",
       "26         103571         rec   11.926680  SkyScan2214  2021-04-12T14:37:40   \n",
       "27         161476         rec   11.926680  SkyScan2214  2021-04-13T13:46:49   \n",
       "31         105105         rec   10.734545  SkyScan2214  2021-04-16T11:31:09   \n",
       "32  104671_156645  104671_rec   10.137720  SkyScan2214  2021-04-19T10:11:24   \n",
       "34  104671_156645  156645_rec   10.137720  SkyScan2214  2021-04-19T10:11:24   \n",
       "33         103767         rec    7.156626  SkyScan2214  2021-04-19T13:32:36   \n",
       "48         103658         rec    8.348760  SkyScan2214  2021-04-23T10:36:23   \n",
       "49         103734         rec    7.753450  SkyScan2214  2021-04-29T10:30:52   \n",
       "50         103761         rec    7.753450  SkyScan2214  2021-05-03T10:23:34   \n",
       "51         104042         rec    7.753450  SkyScan2214  2021-05-04T09:59:24   \n",
       "\n",
       "    CameraWindow  RotationStep  Averaging Scan time  Stacks Scan time total  \n",
       "20          2000           0.6   ON (3)\\n  00:34:11       1        00:34:11  \n",
       "35          2000           0.6   ON (3)\\n  00:34:25       1        00:34:25  \n",
       "0           2000           0.6   ON (3)\\n  00:34:17       1        00:34:17  \n",
       "1           2000           0.2   ON (3)\\n  01:35:36       1        01:35:36  \n",
       "36          2000           0.2   ON (3)\\n  01:35:47       3        04:47:21  \n",
       "37          2000           0.2   ON (3)\\n  06:58:04       2        13:56:08  \n",
       "16          4000           0.1   ON (3)\\n  08:00:47       1        08:00:47  \n",
       "38          4000           0.1   ON (3)\\n  07:58:53       1        07:58:53  \n",
       "18          4000           0.1   ON (3)\\n  08:00:09       1        08:00:09  \n",
       "17          4000           0.1   ON (3)\\n  08:05:18       1        08:05:18  \n",
       "3           1300           0.4   ON (3)\\n  00:35:29       1        00:35:29  \n",
       "2           1300           0.4   ON (3)\\n  01:16:08       1        01:16:08  \n",
       "4           1300           0.4   ON (3)\\n  01:16:16       1        01:16:16  \n",
       "5           1300           0.4   ON (3)\\n  00:35:28       1        00:35:28  \n",
       "39          4000           0.1  OFF (3)\\n  04:32:22       1        04:32:22  \n",
       "43          4000           0.1   ON (3)\\n  07:58:39       1        07:58:39  \n",
       "19          4000           0.1   ON (2)\\n  07:38:44       1        07:38:44  \n",
       "47          2000           0.2   ON (3)\\n  01:29:21       1        01:29:21  \n",
       "46          2000           0.2   ON (3)\\n  01:29:18       1        01:29:18  \n",
       "40          2000           0.2   ON (3)\\n  01:29:22       1        01:29:22  \n",
       "41          2000           0.2   ON (3)\\n  01:31:22       1        01:31:22  \n",
       "42          2000           0.2   ON (2)\\n  01:51:06       1        01:51:06  \n",
       "6           2000           0.2   ON (3)\\n  01:58:17       1        01:58:17  \n",
       "21          2000           0.2   ON (3)\\n  01:57:24       1        01:57:24  \n",
       "22          2000           0.2   ON (3)\\n  01:57:23       1        01:57:23  \n",
       "45          2000           0.2   ON (3)\\n  01:57:10       1        01:57:10  \n",
       "7           2000           0.2   ON (3)\\n  01:57:01       1        01:57:01  \n",
       "23          2400           0.2   ON (3)\\n  01:11:28       1        01:11:28  \n",
       "44          2000           0.2   ON (3)\\n  01:57:17       1        01:57:17  \n",
       "15          2400           0.2  OFF (3)\\n  00:43:43       1        00:43:43  \n",
       "9            600           0.8   ON (3)\\n  00:11:14       2        00:22:28  \n",
       "8           2000           0.2   ON (3)\\n  01:57:11       1        01:57:11  \n",
       "12          2400           0.2  OFF (3)\\n  00:45:58       1        00:45:58  \n",
       "29          2400           0.2  OFF (3)\\n  00:36:34       1        00:36:34  \n",
       "25          2400           0.2  OFF (3)\\n  01:02:11       3        03:06:33  \n",
       "14          2400           0.2  OFF (3)\\n  01:04:16       3        03:12:48  \n",
       "24          2400           0.2  OFF (3)\\n  00:54:31       3        02:43:33  \n",
       "30          2400           0.2  OFF (3)\\n  00:53:32       3        02:40:36  \n",
       "10          2400           0.2  OFF (3)\\n  00:53:36       3        02:40:48  \n",
       "28          2400           0.2  OFF (3)\\n  01:00:21       2        02:00:42  \n",
       "11          2400           0.2  OFF (3)\\n  01:00:30       3        03:01:30  \n",
       "13          2400           0.2  OFF (3)\\n  00:59:25       3        02:58:15  \n",
       "26          2400           0.2  OFF (3)\\n  00:59:46       3        02:59:18  \n",
       "27          2400           0.2  OFF (3)\\n  00:59:34       3        02:58:42  \n",
       "31          2400           0.2  OFF (3)\\n  00:52:39       3        02:37:57  \n",
       "32          2400           0.2  OFF (3)\\n  00:52:14       3        02:36:42  \n",
       "34          2400           0.2  OFF (3)\\n  00:52:14       3        02:36:42  \n",
       "33          2400           0.2  OFF (3)\\n  00:52:32       3        02:37:36  \n",
       "48          2400           0.2  OFF (3)\\n  01:06:50       3        03:20:30  \n",
       "49          2400           0.2  OFF (3)\\n  00:55:43       3        02:47:09  \n",
       "50          2400           0.2  OFF (3)\\n  01:17:01       2        02:34:02  \n",
       "51          2400           0.2  OFF (3)\\n  01:17:00       2        02:34:00  "
      ]
     },
     "execution_count": 146,
     "metadata": {},
     "output_type": "execute_result"
    }
   ],
   "source": [
    "Data[['Fish', 'Scan',\n",
    "      'Voxelsize', 'Scanner',\n",
    "      'Scan date', 'CameraWindow', 'RotationStep', 'Averaging',\n",
    "      'Scan time', 'Stacks', 'Scan time total']]"
   ]
  },
  {
   "cell_type": "code",
   "execution_count": 147,
   "metadata": {},
   "outputs": [
    {
     "name": "stdout",
     "output_type": "stream",
     "text": [
      "In total, we scanned for 153 hours and 19 minutes)\n",
      "Of these, 99 hours and 32 minutes on the SkyScan1272 for 29 scans\n",
      "Of these, 53 hours and 47 minutes on the SkyScan2214 for 23 scans\n"
     ]
    }
   ],
   "source": [
    "# Get an overview over the total scan time we did\n",
    "# Nice output based on https://stackoverflow.com/a/8907407/323100\n",
    "\n",
    "total_seconds = int(Data['Scan time total'].sum().total_seconds())\n",
    "hours, remainder = divmod(total_seconds,60*60)\n",
    "minutes, seconds = divmod(remainder,60)\n",
    "print('In total, we scanned for %s hours and %s minutes)' % (hours, minutes))\n",
    "for machine in Data['Scanner'].unique():\n",
    "    total_seconds = int(Data[Data['Scanner'] == machine]['Scan time total'].sum().total_seconds())\n",
    "    hours, remainder = divmod(total_seconds,60*60)\n",
    "    minutes, seconds = divmod(remainder,60)\n",
    "    print('Of these, %s hours and %s minutes on the %s for %s scans' % (hours, minutes, machine, len(Data[Data['Scanner'] == machine])))"
   ]
  },
  {
   "cell_type": "code",
   "execution_count": 148,
   "metadata": {},
   "outputs": [],
   "source": [
    "Data[['Fish', 'Scan',\n",
    "      'Voxelsize', 'Scanner',\n",
    "      'Scan date', 'CameraWindow', 'RotationStep', 'Averaging', 'Scan time', 'Stacks' ]].to_excel('Details.xls')"
   ]
  },
  {
   "cell_type": "code",
   "execution_count": 150,
   "metadata": {},
   "outputs": [],
   "source": [
    "Data[['Fish', 'Scan',\n",
    "      'Voxelsize', 'Scanner',\n",
    "      'Scan date', 'CameraWindow',\n",
    "      'RotationStep', 'Averaging', 'Scan time', 'Stacks' ]].to_excel(os.path.join(Root,'Details.xls'))"
   ]
  },
  {
   "cell_type": "code",
   "execution_count": 151,
   "metadata": {},
   "outputs": [],
   "source": [
    "# Write scan date to Mikkis excel sheet"
   ]
  },
  {
   "cell_type": "code",
   "execution_count": 152,
   "metadata": {},
   "outputs": [],
   "source": [
    "# Read Mikkis datafile\n",
    "MikkisFile = glob.glob(os.path.join(Root, '*.xl*'))[0]\n",
    "DataMikki = pandas.DataFrame()\n",
    "DataMikki = pandas.read_excel(MikkisFile)\n",
    "# Convert Fishec to 'str' so we can merge later\n",
    "DataMikki['Fishec'] = DataMikki['Fishec'].astype(str)\n",
    "# Drop scan dates we've already written to the file\n",
    "try:\n",
    "    DataMikki.drop(['Scan date'], axis=1, inplace=True)\n",
    "except KeyError:\n",
    "    pass"
   ]
  },
  {
   "cell_type": "code",
   "execution_count": 153,
   "metadata": {},
   "outputs": [],
   "source": [
    "# Merge both dataframes, e.g. add 'scan date' to Mikkis file\n",
    "DataMikki = pandas.merge(DataMikki, Data[['Fish', 'Scan date']], left_on='Fishec', right_on='Fish', how='left')"
   ]
  },
  {
   "cell_type": "code",
   "execution_count": 154,
   "metadata": {},
   "outputs": [],
   "source": [
    "# Reorder columns, based on https://datagy.io/reorder-pandas-columns/#reorder-pandas-columns-using-insert\n",
    "# Save scandate\n",
    "scandate = DataMikki['Scan date']\n",
    "#Drop unneeded columns\n",
    "DataMikki.drop(['Fish', 'Scan date'], axis=1, inplace=True)\n",
    "DataMikki.insert(loc=9, column='Scan date', value=scandate)\n",
    "# write out the file\n",
    "DataMikki.to_excel(MikkisFile)"
   ]
  },
  {
   "cell_type": "code",
   "execution_count": 155,
   "metadata": {},
   "outputs": [
    {
     "data": {
      "image/png": "[encoded data removed]",
      "text/plain": [
       "<Figure size 360x360 with 1 Axes>"
      ]
     },
     "metadata": {
      "needs_background": "light"
     },
     "output_type": "display_data"
    }
   ],
   "source": [
    "# Convert timedelta to minutes for plotting\n",
    "# https://stackoverflow.com/a/54729327/323100\n",
    "# plt.scatter(x=Data['Scan time'].astype('timedelta64[s]') / 3600,\n",
    "#             y=Data['ProjectionSize']*1e-6)\n",
    "seaborn.lmplot(data=Data,\n",
    "               x='Voxelsize',\n",
    "               y='ProjectionSize'\n",
    "              )\n",
    "# plt.ylabel('Projection size [MPx]')\n",
    "# plt.xlabel('Scan time [h]')\n",
    "plt.savefig('Scanningtime.png')\n",
    "plt.show()"
   ]
  },
  {
   "cell_type": "code",
   "execution_count": 156,
   "metadata": {},
   "outputs": [],
   "source": [
    "Data['PreviewImagePath'] = [sorted(glob.glob(os.path.join(f, '*_spr.bmp'))) for f in Data['Folder']]\n",
    "Data['PreviewImage'] = [imageio.imread(pip[0])\n",
    "                        if pip\n",
    "                        else numpy.random.random((100, 100)) for pip in Data['PreviewImagePath']]"
   ]
  },
  {
   "cell_type": "code",
   "execution_count": 157,
   "metadata": {},
   "outputs": [],
   "source": [
    "# Make an approximately square overview image\n",
    "lines = int(numpy.ceil(len(Data)**.5))"
   ]
  },
  {
   "cell_type": "code",
   "execution_count": 158,
   "metadata": {},
   "outputs": [
    {
     "data": {
      "image/png": "[encoded data removed]",
      "text/plain": [
       "<Figure size 1152x648 with 52 Axes>"
      ]
     },
     "metadata": {
      "needs_background": "light"
     },
     "output_type": "display_data"
    }
   ],
   "source": [
    "for c, row in Data.iterrows():\n",
    "    plt.subplot(lines, numpy.ceil(len(Data) / float(lines)), c + 1)\n",
    "    plt.imshow(row.PreviewImage)\n",
    "    plt.title(os.path.join(row['Fish'], row['Scan']))\n",
    "    plt.gca().add_artist(ScaleBar(row['Voxelsize'],\n",
    "                                  'um',\n",
    "                                  color='black',\n",
    "                                  frameon=True))\n",
    "    plt.axis('off')\n",
    "plt.tight_layout(h_pad=0.5, w_pad=0.5)\n",
    "plt.savefig(os.path.join(Root, 'ScanOverviews.png'),\n",
    "            bbox_inches='tight')\n",
    "plt.show()"
   ]
  },
  {
   "cell_type": "code",
   "execution_count": 159,
   "metadata": {
    "scrolled": true
   },
   "outputs": [
    {
     "data": {
      "application/vnd.jupyter.widget-view+json": {
       "model_id": "49e82959e2654dff8aa8b3ffb6a4448b",
       "version_major": 2,
       "version_minor": 0
      },
      "text/plain": [
       "HBox(children=(FloatProgress(value=0.0, description='Converting reconstructions to .zarr', max=52.0, style=Pro…"
      ]
     },
     "metadata": {},
     "output_type": "display_data"
    },
    {
     "name": "stdout",
     "output_type": "stream",
     "text": [
      "\n"
     ]
    }
   ],
   "source": [
    "# Convert all reconstructions into a DASK array and save them to disk\n",
    "# Partially based on http://stackoverflow.com/a/39195332/323100\n",
    "# and on /LungMetastasis/HighResolutionScanAnalysis.ipynb\n",
    "Data['OutputNameRec'] = [os.path.join(os.path.dirname(f),\n",
    "                                      fish + '_' + scan + '.zarr') for f, fish, scan in zip(Data.Folder,\n",
    "                                                                                                Data.Fish,\n",
    "                                                                                                Data.Scan)]\n",
    "for c, row in notebook.tqdm(Data.iterrows(),\n",
    "                            desc='Converting reconstructions to .zarr',\n",
    "                            total=len(Data)):\n",
    "    if not os.path.exists(row['OutputNameRec']):\n",
    "        print('%2s/%2s: Reading %s reconstructions and saving to %s' % (c + 1,\n",
    "                                                                        len(Data),\n",
    "                                                                        row['Number of reconstructions'],\n",
    "                                                                        row['OutputNameRec'][len(Root)+1:]))\n",
    "        Reconstructions = dask_image.imread.imread(os.path.join(row['Folder'], '*rec*.png'))\n",
    "        Reconstructions.to_zarr(row['OutputNameRec'],\n",
    "                                overwrite=True,\n",
    "                                compressor=Blosc(cname='zstd',\n",
    "                                                 clevel=3,\n",
    "                                                 shuffle=Blosc.BITSHUFFLE))"
   ]
  },
  {
   "cell_type": "code",
   "execution_count": 160,
   "metadata": {},
   "outputs": [],
   "source": [
    "# for file in Data['OutputNameRec']:\n",
    "#     print(file)\n",
    "#     dask.array.from_zarr(file)"
   ]
  },
  {
   "cell_type": "code",
   "execution_count": 161,
   "metadata": {},
   "outputs": [],
   "source": [
    "# Load the reconstructions as zarr arrays\n",
    "Reconstructions = [dask.array.from_zarr(file) for file in Data['OutputNameRec']]"
   ]
  },
  {
   "cell_type": "code",
   "execution_count": 162,
   "metadata": {},
   "outputs": [],
   "source": [
    "# How big are the datasets?\n",
    "Data['Size'] = [rec.shape for rec in Reconstructions]"
   ]
  },
  {
   "cell_type": "code",
   "execution_count": 163,
   "metadata": {},
   "outputs": [],
   "source": [
    "# The three cardinal directions\n",
    "directions = ['Axial',\n",
    "              'Coronal',\n",
    "              'Sagittal']"
   ]
  },
  {
   "cell_type": "code",
   "execution_count": 164,
   "metadata": {},
   "outputs": [
    {
     "data": {
      "application/vnd.jupyter.widget-view+json": {
       "model_id": "5554cd3ccfcf4c128d9f4b5ceb59575f",
       "version_major": 2,
       "version_minor": 0
      },
      "text/plain": [
       "HBox(children=(FloatProgress(value=0.0, description='Middle images', max=52.0, style=ProgressStyle(description…"
      ]
     },
     "metadata": {},
     "output_type": "display_data"
    },
    {
     "data": {
      "application/vnd.jupyter.widget-view+json": {
       "model_id": "",
       "version_major": 2,
       "version_minor": 0
      },
      "text/plain": [
       "HBox(children=(FloatProgress(value=0.0, description='Fish 21322', max=3.0, style=ProgressStyle(description_wid…"
      ]
     },
     "metadata": {},
     "output_type": "display_data"
    },
    {
     "data": {
      "application/vnd.jupyter.widget-view+json": {
       "model_id": "",
       "version_major": 2,
       "version_minor": 0
      },
      "text/plain": [
       "HBox(children=(FloatProgress(value=0.0, description='Fish TJ3', max=3.0, style=ProgressStyle(description_width…"
      ]
     },
     "metadata": {},
     "output_type": "display_data"
    },
    {
     "data": {
      "application/vnd.jupyter.widget-view+json": {
       "model_id": "",
       "version_major": 2,
       "version_minor": 0
      },
      "text/plain": [
       "HBox(children=(FloatProgress(value=0.0, description='Fish 14295', max=3.0, style=ProgressStyle(description_wid…"
      ]
     },
     "metadata": {},
     "output_type": "display_data"
    },
    {
     "data": {
      "application/vnd.jupyter.widget-view+json": {
       "model_id": "",
       "version_major": 2,
       "version_minor": 0
      },
      "text/plain": [
       "HBox(children=(FloatProgress(value=0.0, description='Fish 103908', max=3.0, style=ProgressStyle(description_wi…"
      ]
     },
     "metadata": {},
     "output_type": "display_data"
    },
    {
     "data": {
      "application/vnd.jupyter.widget-view+json": {
       "model_id": "",
       "version_major": 2,
       "version_minor": 0
      },
      "text/plain": [
       "HBox(children=(FloatProgress(value=0.0, description='Fish 103908', max=3.0, style=ProgressStyle(description_wi…"
      ]
     },
     "metadata": {},
     "output_type": "display_data"
    },
    {
     "data": {
      "application/vnd.jupyter.widget-view+json": {
       "model_id": "",
       "version_major": 2,
       "version_minor": 0
      },
      "text/plain": [
       "HBox(children=(FloatProgress(value=0.0, description='Fish 106985', max=3.0, style=ProgressStyle(description_wi…"
      ]
     },
     "metadata": {},
     "output_type": "display_data"
    },
    {
     "data": {
      "application/vnd.jupyter.widget-view+json": {
       "model_id": "",
       "version_major": 2,
       "version_minor": 0
      },
      "text/plain": [
       "HBox(children=(FloatProgress(value=0.0, description='Fish 14298', max=3.0, style=ProgressStyle(description_wid…"
      ]
     },
     "metadata": {},
     "output_type": "display_data"
    },
    {
     "data": {
      "application/vnd.jupyter.widget-view+json": {
       "model_id": "",
       "version_major": 2,
       "version_minor": 0
      },
      "text/plain": [
       "HBox(children=(FloatProgress(value=0.0, description='Fish IG96', max=3.0, style=ProgressStyle(description_widt…"
      ]
     },
     "metadata": {},
     "output_type": "display_data"
    },
    {
     "data": {
      "application/vnd.jupyter.widget-view+json": {
       "model_id": "",
       "version_major": 2,
       "version_minor": 0
      },
      "text/plain": [
       "HBox(children=(FloatProgress(value=0.0, description='Fish 103754', max=3.0, style=ProgressStyle(description_wi…"
      ]
     },
     "metadata": {},
     "output_type": "display_data"
    },
    {
     "data": {
      "application/vnd.jupyter.widget-view+json": {
       "model_id": "",
       "version_major": 2,
       "version_minor": 0
      },
      "text/plain": [
       "HBox(children=(FloatProgress(value=0.0, description='Fish 14269', max=3.0, style=ProgressStyle(description_wid…"
      ]
     },
     "metadata": {},
     "output_type": "display_data"
    },
    {
     "data": {
      "application/vnd.jupyter.widget-view+json": {
       "model_id": "",
       "version_major": 2,
       "version_minor": 0
      },
      "text/plain": [
       "HBox(children=(FloatProgress(value=0.0, description='Fish Teeth', max=3.0, style=ProgressStyle(description_wid…"
      ]
     },
     "metadata": {},
     "output_type": "display_data"
    },
    {
     "data": {
      "application/vnd.jupyter.widget-view+json": {
       "model_id": "",
       "version_major": 2,
       "version_minor": 0
      },
      "text/plain": [
       "HBox(children=(FloatProgress(value=0.0, description='Fish Teeth', max=3.0, style=ProgressStyle(description_wid…"
      ]
     },
     "metadata": {},
     "output_type": "display_data"
    },
    {
     "data": {
      "application/vnd.jupyter.widget-view+json": {
       "model_id": "",
       "version_major": 2,
       "version_minor": 0
      },
      "text/plain": [
       "HBox(children=(FloatProgress(value=0.0, description='Fish Teeth', max=3.0, style=ProgressStyle(description_wid…"
      ]
     },
     "metadata": {},
     "output_type": "display_data"
    },
    {
     "data": {
      "application/vnd.jupyter.widget-view+json": {
       "model_id": "",
       "version_major": 2,
       "version_minor": 0
      },
      "text/plain": [
       "HBox(children=(FloatProgress(value=0.0, description='Fish Teeth', max=3.0, style=ProgressStyle(description_wid…"
      ]
     },
     "metadata": {},
     "output_type": "display_data"
    },
    {
     "data": {
      "application/vnd.jupyter.widget-view+json": {
       "model_id": "",
       "version_major": 2,
       "version_minor": 0
      },
      "text/plain": [
       "HBox(children=(FloatProgress(value=0.0, description='Fish TJ3', max=3.0, style=ProgressStyle(description_width…"
      ]
     },
     "metadata": {},
     "output_type": "display_data"
    },
    {
     "data": {
      "application/vnd.jupyter.widget-view+json": {
       "model_id": "",
       "version_major": 2,
       "version_minor": 0
      },
      "text/plain": [
       "HBox(children=(FloatProgress(value=0.0, description='Fish KC31', max=3.0, style=ProgressStyle(description_widt…"
      ]
     },
     "metadata": {},
     "output_type": "display_data"
    },
    {
     "data": {
      "application/vnd.jupyter.widget-view+json": {
       "model_id": "",
       "version_major": 2,
       "version_minor": 0
      },
      "text/plain": [
       "HBox(children=(FloatProgress(value=0.0, description='Fish IG92', max=3.0, style=ProgressStyle(description_widt…"
      ]
     },
     "metadata": {},
     "output_type": "display_data"
    },
    {
     "data": {
      "application/vnd.jupyter.widget-view+json": {
       "model_id": "",
       "version_major": 2,
       "version_minor": 0
      },
      "text/plain": [
       "HBox(children=(FloatProgress(value=0.0, description='Fish TJ3', max=3.0, style=ProgressStyle(description_width…"
      ]
     },
     "metadata": {},
     "output_type": "display_data"
    },
    {
     "data": {
      "application/vnd.jupyter.widget-view+json": {
       "model_id": "",
       "version_major": 2,
       "version_minor": 0
      },
      "text/plain": [
       "HBox(children=(FloatProgress(value=0.0, description='Fish KC31', max=3.0, style=ProgressStyle(description_widt…"
      ]
     },
     "metadata": {},
     "output_type": "display_data"
    },
    {
     "data": {
      "application/vnd.jupyter.widget-view+json": {
       "model_id": "",
       "version_major": 2,
       "version_minor": 0
      },
      "text/plain": [
       "HBox(children=(FloatProgress(value=0.0, description='Fish KAT13', max=3.0, style=ProgressStyle(description_wid…"
      ]
     },
     "metadata": {},
     "output_type": "display_data"
    },
    {
     "data": {
      "application/vnd.jupyter.widget-view+json": {
       "model_id": "",
       "version_major": 2,
       "version_minor": 0
      },
      "text/plain": [
       "HBox(children=(FloatProgress(value=0.0, description='Fish KAT13', max=3.0, style=ProgressStyle(description_wid…"
      ]
     },
     "metadata": {},
     "output_type": "display_data"
    },
    {
     "data": {
      "application/vnd.jupyter.widget-view+json": {
       "model_id": "",
       "version_major": 2,
       "version_minor": 0
      },
      "text/plain": [
       "HBox(children=(FloatProgress(value=0.0, description='Fish 104016', max=3.0, style=ProgressStyle(description_wi…"
      ]
     },
     "metadata": {},
     "output_type": "display_data"
    },
    {
     "data": {
      "application/vnd.jupyter.widget-view+json": {
       "model_id": "",
       "version_major": 2,
       "version_minor": 0
      },
      "text/plain": [
       "HBox(children=(FloatProgress(value=0.0, description='Fish 104016', max=3.0, style=ProgressStyle(description_wi…"
      ]
     },
     "metadata": {},
     "output_type": "display_data"
    },
    {
     "data": {
      "application/vnd.jupyter.widget-view+json": {
       "model_id": "",
       "version_major": 2,
       "version_minor": 0
      },
      "text/plain": [
       "HBox(children=(FloatProgress(value=0.0, description='Fish 131282', max=3.0, style=ProgressStyle(description_wi…"
      ]
     },
     "metadata": {},
     "output_type": "display_data"
    },
    {
     "data": {
      "application/vnd.jupyter.widget-view+json": {
       "model_id": "",
       "version_major": 2,
       "version_minor": 0
      },
      "text/plain": [
       "HBox(children=(FloatProgress(value=0.0, description='Fish 131282', max=3.0, style=ProgressStyle(description_wi…"
      ]
     },
     "metadata": {},
     "output_type": "display_data"
    },
    {
     "data": {
      "application/vnd.jupyter.widget-view+json": {
       "model_id": "",
       "version_major": 2,
       "version_minor": 0
      },
      "text/plain": [
       "HBox(children=(FloatProgress(value=0.0, description='Fish 103635', max=3.0, style=ProgressStyle(description_wi…"
      ]
     },
     "metadata": {},
     "output_type": "display_data"
    },
    {
     "data": {
      "application/vnd.jupyter.widget-view+json": {
       "model_id": "",
       "version_major": 2,
       "version_minor": 0
      },
      "text/plain": [
       "HBox(children=(FloatProgress(value=0.0, description='Fish 103635', max=3.0, style=ProgressStyle(description_wi…"
      ]
     },
     "metadata": {},
     "output_type": "display_data"
    },
    {
     "data": {
      "application/vnd.jupyter.widget-view+json": {
       "model_id": "",
       "version_major": 2,
       "version_minor": 0
      },
      "text/plain": [
       "HBox(children=(FloatProgress(value=0.0, description='Fish 10628', max=3.0, style=ProgressStyle(description_wid…"
      ]
     },
     "metadata": {},
     "output_type": "display_data"
    },
    {
     "data": {
      "application/vnd.jupyter.widget-view+json": {
       "model_id": "",
       "version_major": 2,
       "version_minor": 0
      },
      "text/plain": [
       "HBox(children=(FloatProgress(value=0.0, description='Fish 103778', max=3.0, style=ProgressStyle(description_wi…"
      ]
     },
     "metadata": {},
     "output_type": "display_data"
    },
    {
     "data": {
      "application/vnd.jupyter.widget-view+json": {
       "model_id": "",
       "version_major": 2,
       "version_minor": 0
      },
      "text/plain": [
       "HBox(children=(FloatProgress(value=0.0, description='Fish 10628', max=3.0, style=ProgressStyle(description_wid…"
      ]
     },
     "metadata": {},
     "output_type": "display_data"
    },
    {
     "data": {
      "application/vnd.jupyter.widget-view+json": {
       "model_id": "",
       "version_major": 2,
       "version_minor": 0
      },
      "text/plain": [
       "HBox(children=(FloatProgress(value=0.0, description='Fish 10628', max=3.0, style=ProgressStyle(description_wid…"
      ]
     },
     "metadata": {},
     "output_type": "display_data"
    },
    {
     "data": {
      "application/vnd.jupyter.widget-view+json": {
       "model_id": "",
       "version_major": 2,
       "version_minor": 0
      },
      "text/plain": [
       "HBox(children=(FloatProgress(value=0.0, description='Fish 103778', max=3.0, style=ProgressStyle(description_wi…"
      ]
     },
     "metadata": {},
     "output_type": "display_data"
    },
    {
     "data": {
      "application/vnd.jupyter.widget-view+json": {
       "model_id": "",
       "version_major": 2,
       "version_minor": 0
      },
      "text/plain": [
       "HBox(children=(FloatProgress(value=0.0, description='Fish 161543', max=3.0, style=ProgressStyle(description_wi…"
      ]
     },
     "metadata": {},
     "output_type": "display_data"
    },
    {
     "data": {
      "application/vnd.jupyter.widget-view+json": {
       "model_id": "",
       "version_major": 2,
       "version_minor": 0
      },
      "text/plain": [
       "HBox(children=(FloatProgress(value=0.0, description='Fish 13115', max=3.0, style=ProgressStyle(description_wid…"
      ]
     },
     "metadata": {},
     "output_type": "display_data"
    },
    {
     "data": {
      "application/vnd.jupyter.widget-view+json": {
       "model_id": "",
       "version_major": 2,
       "version_minor": 0
      },
      "text/plain": [
       "HBox(children=(FloatProgress(value=0.0, description='Fish 13115', max=3.0, style=ProgressStyle(description_wid…"
      ]
     },
     "metadata": {},
     "output_type": "display_data"
    },
    {
     "data": {
      "application/vnd.jupyter.widget-view+json": {
       "model_id": "",
       "version_major": 2,
       "version_minor": 0
      },
      "text/plain": [
       "HBox(children=(FloatProgress(value=0.0, description='Fish 161543', max=3.0, style=ProgressStyle(description_wi…"
      ]
     },
     "metadata": {},
     "output_type": "display_data"
    },
    {
     "data": {
      "application/vnd.jupyter.widget-view+json": {
       "model_id": "",
       "version_major": 2,
       "version_minor": 0
      },
      "text/plain": [
       "HBox(children=(FloatProgress(value=0.0, description='Fish 11045', max=3.0, style=ProgressStyle(description_wid…"
      ]
     },
     "metadata": {},
     "output_type": "display_data"
    },
    {
     "data": {
      "application/vnd.jupyter.widget-view+json": {
       "model_id": "",
       "version_major": 2,
       "version_minor": 0
      },
      "text/plain": [
       "HBox(children=(FloatProgress(value=0.0, description='Fish 14128', max=3.0, style=ProgressStyle(description_wid…"
      ]
     },
     "metadata": {},
     "output_type": "display_data"
    },
    {
     "data": {
      "application/vnd.jupyter.widget-view+json": {
       "model_id": "",
       "version_major": 2,
       "version_minor": 0
      },
      "text/plain": [
       "HBox(children=(FloatProgress(value=0.0, description='Fish 103375', max=3.0, style=ProgressStyle(description_wi…"
      ]
     },
     "metadata": {},
     "output_type": "display_data"
    },
    {
     "data": {
      "application/vnd.jupyter.widget-view+json": {
       "model_id": "",
       "version_major": 2,
       "version_minor": 0
      },
      "text/plain": [
       "HBox(children=(FloatProgress(value=0.0, description='Fish 10791', max=3.0, style=ProgressStyle(description_wid…"
      ]
     },
     "metadata": {},
     "output_type": "display_data"
    },
    {
     "data": {
      "application/vnd.jupyter.widget-view+json": {
       "model_id": "",
       "version_major": 2,
       "version_minor": 0
      },
      "text/plain": [
       "HBox(children=(FloatProgress(value=0.0, description='Fish NY75', max=3.0, style=ProgressStyle(description_widt…"
      ]
     },
     "metadata": {},
     "output_type": "display_data"
    },
    {
     "data": {
      "application/vnd.jupyter.widget-view+json": {
       "model_id": "",
       "version_major": 2,
       "version_minor": 0
      },
      "text/plain": [
       "HBox(children=(FloatProgress(value=0.0, description='Fish 109220', max=3.0, style=ProgressStyle(description_wi…"
      ]
     },
     "metadata": {},
     "output_type": "display_data"
    },
    {
     "data": {
      "application/vnd.jupyter.widget-view+json": {
       "model_id": "",
       "version_major": 2,
       "version_minor": 0
      },
      "text/plain": [
       "HBox(children=(FloatProgress(value=0.0, description='Fish 103571', max=3.0, style=ProgressStyle(description_wi…"
      ]
     },
     "metadata": {},
     "output_type": "display_data"
    },
    {
     "data": {
      "application/vnd.jupyter.widget-view+json": {
       "model_id": "",
       "version_major": 2,
       "version_minor": 0
      },
      "text/plain": [
       "HBox(children=(FloatProgress(value=0.0, description='Fish 161476', max=3.0, style=ProgressStyle(description_wi…"
      ]
     },
     "metadata": {},
     "output_type": "display_data"
    },
    {
     "data": {
      "application/vnd.jupyter.widget-view+json": {
       "model_id": "",
       "version_major": 2,
       "version_minor": 0
      },
      "text/plain": [
       "HBox(children=(FloatProgress(value=0.0, description='Fish 105105', max=3.0, style=ProgressStyle(description_wi…"
      ]
     },
     "metadata": {},
     "output_type": "display_data"
    },
    {
     "data": {
      "application/vnd.jupyter.widget-view+json": {
       "model_id": "",
       "version_major": 2,
       "version_minor": 0
      },
      "text/plain": [
       "HBox(children=(FloatProgress(value=0.0, description='Fish 104671_156645', max=3.0, style=ProgressStyle(descrip…"
      ]
     },
     "metadata": {},
     "output_type": "display_data"
    },
    {
     "data": {
      "application/vnd.jupyter.widget-view+json": {
       "model_id": "",
       "version_major": 2,
       "version_minor": 0
      },
      "text/plain": [
       "HBox(children=(FloatProgress(value=0.0, description='Fish 104671_156645', max=3.0, style=ProgressStyle(descrip…"
      ]
     },
     "metadata": {},
     "output_type": "display_data"
    },
    {
     "data": {
      "application/vnd.jupyter.widget-view+json": {
       "model_id": "",
       "version_major": 2,
       "version_minor": 0
      },
      "text/plain": [
       "HBox(children=(FloatProgress(value=0.0, description='Fish 103767', max=3.0, style=ProgressStyle(description_wi…"
      ]
     },
     "metadata": {},
     "output_type": "display_data"
    },
    {
     "data": {
      "application/vnd.jupyter.widget-view+json": {
       "model_id": "",
       "version_major": 2,
       "version_minor": 0
      },
      "text/plain": [
       "HBox(children=(FloatProgress(value=0.0, description='Fish 103658', max=3.0, style=ProgressStyle(description_wi…"
      ]
     },
     "metadata": {},
     "output_type": "display_data"
    },
    {
     "data": {
      "application/vnd.jupyter.widget-view+json": {
       "model_id": "",
       "version_major": 2,
       "version_minor": 0
      },
      "text/plain": [
       "HBox(children=(FloatProgress(value=0.0, description='Fish 103734', max=3.0, style=ProgressStyle(description_wi…"
      ]
     },
     "metadata": {},
     "output_type": "display_data"
    },
    {
     "data": {
      "application/vnd.jupyter.widget-view+json": {
       "model_id": "",
       "version_major": 2,
       "version_minor": 0
      },
      "text/plain": [
       "HBox(children=(FloatProgress(value=0.0, description='Fish 103761', max=3.0, style=ProgressStyle(description_wi…"
      ]
     },
     "metadata": {},
     "output_type": "display_data"
    },
    {
     "data": {
      "application/vnd.jupyter.widget-view+json": {
       "model_id": "",
       "version_major": 2,
       "version_minor": 0
      },
      "text/plain": [
       "HBox(children=(FloatProgress(value=0.0, description='Fish 104042', max=3.0, style=ProgressStyle(description_wi…"
      ]
     },
     "metadata": {},
     "output_type": "display_data"
    },
    {
     "name": "stdout",
     "output_type": "stream",
     "text": [
      "\n"
     ]
    }
   ],
   "source": [
    "# Read or calculate the middle slices, put them into the dataframe and save them to disk\n",
    "for d, direction in enumerate(directions):\n",
    "    Data['Mid_' + direction] = [None] * len(Reconstructions)\n",
    "for c, row in notebook.tqdm(Data.iterrows(), desc='Middle images', total=len(Data)):\n",
    "    for d, direction in notebook.tqdm(enumerate(directions),\n",
    "                                      desc='Fish %s' % row['Fish'],\n",
    "                                      leave=False,\n",
    "                                      total=len(directions)):\n",
    "        outfilepath = os.path.join(os.path.dirname(row['Folder']),\n",
    "                                   '%s.%s.Middle.%s.png' % (row['Fish'],\n",
    "                                                            row['Scan'],\n",
    "                                                            direction))\n",
    "        if os.path.exists(outfilepath):\n",
    "            Data.at[c, 'Mid_' + direction] = imageio.imread(outfilepath)\n",
    "        else:\n",
    "            # Generate requested axial view\n",
    "            if 'Axial' in direction:\n",
    "                Data.at[c, 'Mid_' + direction] = Reconstructions[c][Data['Size'][c][0] // 2].compute()\n",
    "            if 'Sagittal' in direction:\n",
    "                Data.at[c, 'Mid_' + direction] = Reconstructions[c][:, Data['Size'][c][1] // 2, :].compute()\n",
    "            if 'Coronal' in direction:\n",
    "                Data.at[c, 'Mid_' + direction] = Reconstructions[c][:, :, Data['Size'][c][2] // 2].compute()\n",
    "            # Save the calculated 'direction' view to disk\n",
    "            imageio.imwrite(outfilepath, (Data.at[c, 'Mid_' + direction]))"
   ]
  },
  {
   "cell_type": "code",
   "execution_count": 167,
   "metadata": {
    "scrolled": false
   },
   "outputs": [
    {
     "data": {
      "application/vnd.jupyter.widget-view+json": {
       "model_id": "8be4552d4a624dcaa6404242b4a03f31",
       "version_major": 2,
       "version_minor": 0
      },
      "text/plain": [
       "HBox(children=(FloatProgress(value=0.0, description='Saving middle images overview', max=52.0, style=ProgressS…"
      ]
     },
     "metadata": {},
     "output_type": "display_data"
    },
    {
     "name": "stdout",
     "output_type": "stream",
     "text": [
      "\n"
     ]
    }
   ],
   "source": [
    "# Show middle slices\n",
    "for c, row in notebook.tqdm(Data.iterrows(),\n",
    "                            desc='Saving middle images overview',\n",
    "                            total=len(Data)):\n",
    "    outfilepath = os.path.join(os.path.dirname(row['Folder']),\n",
    "                               '%s.%s.MiddleSlices.png' % (row['Fish'], row['Scan']))\n",
    "    if not os.path.exists(outfilepath):    \n",
    "        for d, direction in notebook.tqdm(enumerate(directions),\n",
    "                                          desc=row['Fish'],\n",
    "                                          leave=False,\n",
    "                                          total=len(directions)):\n",
    "            plt.subplot(1, 3, d + 1)\n",
    "            plt.imshow(row['Mid_' + direction])\n",
    "            if d == 0:\n",
    "                plt.axhline(row.Size[1] // 2, c=seaborn.color_palette()[0])\n",
    "                plt.axvline(row.Size[2] // 2, c=seaborn.color_palette()[1])\n",
    "                plt.gca().add_artist(ScaleBar(row['Voxelsize'],\n",
    "                                              'um',\n",
    "                                              color=seaborn.color_palette()[2]))\n",
    "            elif d == 1:\n",
    "                plt.axhline(row.Size[0] // 2, c=seaborn.color_palette()[2])\n",
    "                plt.axvline(row.Size[d] // 2, c=seaborn.color_palette()[1])\n",
    "                plt.gca().add_artist(ScaleBar(row['Voxelsize'],\n",
    "                                              'um',\n",
    "                                              color=seaborn.color_palette()[0]))\n",
    "            else:\n",
    "                plt.axhline(row.Size[0] // 2, c=seaborn.color_palette()[2])\n",
    "                plt.axvline(row.Size[d] // 2, c=seaborn.color_palette()[0])\n",
    "                plt.gca().add_artist(ScaleBar(row['Voxelsize'],\n",
    "                                              'um',\n",
    "                                              color=seaborn.color_palette()[1]))\n",
    "            plt.title('%s, %s' % (os.path.join(row['Fish'], row['Scan']),\n",
    "                                  direction + ' Middle slice'))\n",
    "            plt.axis('off')\n",
    "            plt.savefig(outfilepath,\n",
    "                        transparent=True,\n",
    "                        bbox_inches='tight')\n",
    "        plt.show()"
   ]
  },
  {
   "cell_type": "code",
   "execution_count": 168,
   "metadata": {},
   "outputs": [
    {
     "data": {
      "application/vnd.jupyter.widget-view+json": {
       "model_id": "2a1a1bbfa737480cabde8b33838da707",
       "version_major": 2,
       "version_minor": 0
      },
      "text/plain": [
       "HBox(children=(FloatProgress(value=0.0, description='MIPs', max=52.0, style=ProgressStyle(description_width='i…"
      ]
     },
     "metadata": {},
     "output_type": "display_data"
    },
    {
     "data": {
      "application/vnd.jupyter.widget-view+json": {
       "model_id": "",
       "version_major": 2,
       "version_minor": 0
      },
      "text/plain": [
       "HBox(children=(FloatProgress(value=0.0, description='21322', max=3.0, style=ProgressStyle(description_width='i…"
      ]
     },
     "metadata": {},
     "output_type": "display_data"
    },
    {
     "data": {
      "application/vnd.jupyter.widget-view+json": {
       "model_id": "",
       "version_major": 2,
       "version_minor": 0
      },
      "text/plain": [
       "HBox(children=(FloatProgress(value=0.0, description='TJ3', max=3.0, style=ProgressStyle(description_width='ini…"
      ]
     },
     "metadata": {},
     "output_type": "display_data"
    },
    {
     "data": {
      "application/vnd.jupyter.widget-view+json": {
       "model_id": "",
       "version_major": 2,
       "version_minor": 0
      },
      "text/plain": [
       "HBox(children=(FloatProgress(value=0.0, description='14295', max=3.0, style=ProgressStyle(description_width='i…"
      ]
     },
     "metadata": {},
     "output_type": "display_data"
    },
    {
     "data": {
      "application/vnd.jupyter.widget-view+json": {
       "model_id": "",
       "version_major": 2,
       "version_minor": 0
      },
      "text/plain": [
       "HBox(children=(FloatProgress(value=0.0, description='103908', max=3.0, style=ProgressStyle(description_width='…"
      ]
     },
     "metadata": {},
     "output_type": "display_data"
    },
    {
     "data": {
      "application/vnd.jupyter.widget-view+json": {
       "model_id": "",
       "version_major": 2,
       "version_minor": 0
      },
      "text/plain": [
       "HBox(children=(FloatProgress(value=0.0, description='103908', max=3.0, style=ProgressStyle(description_width='…"
      ]
     },
     "metadata": {},
     "output_type": "display_data"
    },
    {
     "data": {
      "application/vnd.jupyter.widget-view+json": {
       "model_id": "",
       "version_major": 2,
       "version_minor": 0
      },
      "text/plain": [
       "HBox(children=(FloatProgress(value=0.0, description='106985', max=3.0, style=ProgressStyle(description_width='…"
      ]
     },
     "metadata": {},
     "output_type": "display_data"
    },
    {
     "data": {
      "application/vnd.jupyter.widget-view+json": {
       "model_id": "",
       "version_major": 2,
       "version_minor": 0
      },
      "text/plain": [
       "HBox(children=(FloatProgress(value=0.0, description='14298', max=3.0, style=ProgressStyle(description_width='i…"
      ]
     },
     "metadata": {},
     "output_type": "display_data"
    },
    {
     "data": {
      "application/vnd.jupyter.widget-view+json": {
       "model_id": "",
       "version_major": 2,
       "version_minor": 0
      },
      "text/plain": [
       "HBox(children=(FloatProgress(value=0.0, description='IG96', max=3.0, style=ProgressStyle(description_width='in…"
      ]
     },
     "metadata": {},
     "output_type": "display_data"
    },
    {
     "data": {
      "application/vnd.jupyter.widget-view+json": {
       "model_id": "",
       "version_major": 2,
       "version_minor": 0
      },
      "text/plain": [
       "HBox(children=(FloatProgress(value=0.0, description='103754', max=3.0, style=ProgressStyle(description_width='…"
      ]
     },
     "metadata": {},
     "output_type": "display_data"
    },
    {
     "data": {
      "application/vnd.jupyter.widget-view+json": {
       "model_id": "",
       "version_major": 2,
       "version_minor": 0
      },
      "text/plain": [
       "HBox(children=(FloatProgress(value=0.0, description='14269', max=3.0, style=ProgressStyle(description_width='i…"
      ]
     },
     "metadata": {},
     "output_type": "display_data"
    },
    {
     "data": {
      "application/vnd.jupyter.widget-view+json": {
       "model_id": "",
       "version_major": 2,
       "version_minor": 0
      },
      "text/plain": [
       "HBox(children=(FloatProgress(value=0.0, description='Teeth', max=3.0, style=ProgressStyle(description_width='i…"
      ]
     },
     "metadata": {},
     "output_type": "display_data"
    },
    {
     "data": {
      "application/vnd.jupyter.widget-view+json": {
       "model_id": "",
       "version_major": 2,
       "version_minor": 0
      },
      "text/plain": [
       "HBox(children=(FloatProgress(value=0.0, description='Teeth', max=3.0, style=ProgressStyle(description_width='i…"
      ]
     },
     "metadata": {},
     "output_type": "display_data"
    },
    {
     "data": {
      "application/vnd.jupyter.widget-view+json": {
       "model_id": "",
       "version_major": 2,
       "version_minor": 0
      },
      "text/plain": [
       "HBox(children=(FloatProgress(value=0.0, description='Teeth', max=3.0, style=ProgressStyle(description_width='i…"
      ]
     },
     "metadata": {},
     "output_type": "display_data"
    },
    {
     "data": {
      "application/vnd.jupyter.widget-view+json": {
       "model_id": "",
       "version_major": 2,
       "version_minor": 0
      },
      "text/plain": [
       "HBox(children=(FloatProgress(value=0.0, description='Teeth', max=3.0, style=ProgressStyle(description_width='i…"
      ]
     },
     "metadata": {},
     "output_type": "display_data"
    },
    {
     "data": {
      "application/vnd.jupyter.widget-view+json": {
       "model_id": "",
       "version_major": 2,
       "version_minor": 0
      },
      "text/plain": [
       "HBox(children=(FloatProgress(value=0.0, description='TJ3', max=3.0, style=ProgressStyle(description_width='ini…"
      ]
     },
     "metadata": {},
     "output_type": "display_data"
    },
    {
     "data": {
      "application/vnd.jupyter.widget-view+json": {
       "model_id": "",
       "version_major": 2,
       "version_minor": 0
      },
      "text/plain": [
       "HBox(children=(FloatProgress(value=0.0, description='KC31', max=3.0, style=ProgressStyle(description_width='in…"
      ]
     },
     "metadata": {},
     "output_type": "display_data"
    },
    {
     "data": {
      "application/vnd.jupyter.widget-view+json": {
       "model_id": "",
       "version_major": 2,
       "version_minor": 0
      },
      "text/plain": [
       "HBox(children=(FloatProgress(value=0.0, description='IG92', max=3.0, style=ProgressStyle(description_width='in…"
      ]
     },
     "metadata": {},
     "output_type": "display_data"
    },
    {
     "data": {
      "application/vnd.jupyter.widget-view+json": {
       "model_id": "",
       "version_major": 2,
       "version_minor": 0
      },
      "text/plain": [
       "HBox(children=(FloatProgress(value=0.0, description='TJ3', max=3.0, style=ProgressStyle(description_width='ini…"
      ]
     },
     "metadata": {},
     "output_type": "display_data"
    },
    {
     "data": {
      "application/vnd.jupyter.widget-view+json": {
       "model_id": "",
       "version_major": 2,
       "version_minor": 0
      },
      "text/plain": [
       "HBox(children=(FloatProgress(value=0.0, description='KC31', max=3.0, style=ProgressStyle(description_width='in…"
      ]
     },
     "metadata": {},
     "output_type": "display_data"
    },
    {
     "data": {
      "application/vnd.jupyter.widget-view+json": {
       "model_id": "",
       "version_major": 2,
       "version_minor": 0
      },
      "text/plain": [
       "HBox(children=(FloatProgress(value=0.0, description='KAT13', max=3.0, style=ProgressStyle(description_width='i…"
      ]
     },
     "metadata": {},
     "output_type": "display_data"
    },
    {
     "data": {
      "application/vnd.jupyter.widget-view+json": {
       "model_id": "",
       "version_major": 2,
       "version_minor": 0
      },
      "text/plain": [
       "HBox(children=(FloatProgress(value=0.0, description='KAT13', max=3.0, style=ProgressStyle(description_width='i…"
      ]
     },
     "metadata": {},
     "output_type": "display_data"
    },
    {
     "data": {
      "application/vnd.jupyter.widget-view+json": {
       "model_id": "",
       "version_major": 2,
       "version_minor": 0
      },
      "text/plain": [
       "HBox(children=(FloatProgress(value=0.0, description='104016', max=3.0, style=ProgressStyle(description_width='…"
      ]
     },
     "metadata": {},
     "output_type": "display_data"
    },
    {
     "data": {
      "application/vnd.jupyter.widget-view+json": {
       "model_id": "",
       "version_major": 2,
       "version_minor": 0
      },
      "text/plain": [
       "HBox(children=(FloatProgress(value=0.0, description='104016', max=3.0, style=ProgressStyle(description_width='…"
      ]
     },
     "metadata": {},
     "output_type": "display_data"
    },
    {
     "data": {
      "application/vnd.jupyter.widget-view+json": {
       "model_id": "",
       "version_major": 2,
       "version_minor": 0
      },
      "text/plain": [
       "HBox(children=(FloatProgress(value=0.0, description='131282', max=3.0, style=ProgressStyle(description_width='…"
      ]
     },
     "metadata": {},
     "output_type": "display_data"
    },
    {
     "data": {
      "application/vnd.jupyter.widget-view+json": {
       "model_id": "",
       "version_major": 2,
       "version_minor": 0
      },
      "text/plain": [
       "HBox(children=(FloatProgress(value=0.0, description='131282', max=3.0, style=ProgressStyle(description_width='…"
      ]
     },
     "metadata": {},
     "output_type": "display_data"
    },
    {
     "data": {
      "application/vnd.jupyter.widget-view+json": {
       "model_id": "",
       "version_major": 2,
       "version_minor": 0
      },
      "text/plain": [
       "HBox(children=(FloatProgress(value=0.0, description='103635', max=3.0, style=ProgressStyle(description_width='…"
      ]
     },
     "metadata": {},
     "output_type": "display_data"
    },
    {
     "data": {
      "application/vnd.jupyter.widget-view+json": {
       "model_id": "",
       "version_major": 2,
       "version_minor": 0
      },
      "text/plain": [
       "HBox(children=(FloatProgress(value=0.0, description='103635', max=3.0, style=ProgressStyle(description_width='…"
      ]
     },
     "metadata": {},
     "output_type": "display_data"
    },
    {
     "data": {
      "application/vnd.jupyter.widget-view+json": {
       "model_id": "",
       "version_major": 2,
       "version_minor": 0
      },
      "text/plain": [
       "HBox(children=(FloatProgress(value=0.0, description='10628', max=3.0, style=ProgressStyle(description_width='i…"
      ]
     },
     "metadata": {},
     "output_type": "display_data"
    },
    {
     "data": {
      "application/vnd.jupyter.widget-view+json": {
       "model_id": "",
       "version_major": 2,
       "version_minor": 0
      },
      "text/plain": [
       "HBox(children=(FloatProgress(value=0.0, description='103778', max=3.0, style=ProgressStyle(description_width='…"
      ]
     },
     "metadata": {},
     "output_type": "display_data"
    },
    {
     "data": {
      "application/vnd.jupyter.widget-view+json": {
       "model_id": "",
       "version_major": 2,
       "version_minor": 0
      },
      "text/plain": [
       "HBox(children=(FloatProgress(value=0.0, description='10628', max=3.0, style=ProgressStyle(description_width='i…"
      ]
     },
     "metadata": {},
     "output_type": "display_data"
    },
    {
     "data": {
      "application/vnd.jupyter.widget-view+json": {
       "model_id": "",
       "version_major": 2,
       "version_minor": 0
      },
      "text/plain": [
       "HBox(children=(FloatProgress(value=0.0, description='10628', max=3.0, style=ProgressStyle(description_width='i…"
      ]
     },
     "metadata": {},
     "output_type": "display_data"
    },
    {
     "data": {
      "application/vnd.jupyter.widget-view+json": {
       "model_id": "",
       "version_major": 2,
       "version_minor": 0
      },
      "text/plain": [
       "HBox(children=(FloatProgress(value=0.0, description='103778', max=3.0, style=ProgressStyle(description_width='…"
      ]
     },
     "metadata": {},
     "output_type": "display_data"
    },
    {
     "data": {
      "application/vnd.jupyter.widget-view+json": {
       "model_id": "",
       "version_major": 2,
       "version_minor": 0
      },
      "text/plain": [
       "HBox(children=(FloatProgress(value=0.0, description='161543', max=3.0, style=ProgressStyle(description_width='…"
      ]
     },
     "metadata": {},
     "output_type": "display_data"
    },
    {
     "data": {
      "application/vnd.jupyter.widget-view+json": {
       "model_id": "",
       "version_major": 2,
       "version_minor": 0
      },
      "text/plain": [
       "HBox(children=(FloatProgress(value=0.0, description='13115', max=3.0, style=ProgressStyle(description_width='i…"
      ]
     },
     "metadata": {},
     "output_type": "display_data"
    },
    {
     "data": {
      "application/vnd.jupyter.widget-view+json": {
       "model_id": "",
       "version_major": 2,
       "version_minor": 0
      },
      "text/plain": [
       "HBox(children=(FloatProgress(value=0.0, description='13115', max=3.0, style=ProgressStyle(description_width='i…"
      ]
     },
     "metadata": {},
     "output_type": "display_data"
    },
    {
     "data": {
      "application/vnd.jupyter.widget-view+json": {
       "model_id": "",
       "version_major": 2,
       "version_minor": 0
      },
      "text/plain": [
       "HBox(children=(FloatProgress(value=0.0, description='161543', max=3.0, style=ProgressStyle(description_width='…"
      ]
     },
     "metadata": {},
     "output_type": "display_data"
    },
    {
     "data": {
      "application/vnd.jupyter.widget-view+json": {
       "model_id": "",
       "version_major": 2,
       "version_minor": 0
      },
      "text/plain": [
       "HBox(children=(FloatProgress(value=0.0, description='11045', max=3.0, style=ProgressStyle(description_width='i…"
      ]
     },
     "metadata": {},
     "output_type": "display_data"
    },
    {
     "data": {
      "application/vnd.jupyter.widget-view+json": {
       "model_id": "",
       "version_major": 2,
       "version_minor": 0
      },
      "text/plain": [
       "HBox(children=(FloatProgress(value=0.0, description='14128', max=3.0, style=ProgressStyle(description_width='i…"
      ]
     },
     "metadata": {},
     "output_type": "display_data"
    },
    {
     "data": {
      "application/vnd.jupyter.widget-view+json": {
       "model_id": "",
       "version_major": 2,
       "version_minor": 0
      },
      "text/plain": [
       "HBox(children=(FloatProgress(value=0.0, description='103375', max=3.0, style=ProgressStyle(description_width='…"
      ]
     },
     "metadata": {},
     "output_type": "display_data"
    },
    {
     "data": {
      "application/vnd.jupyter.widget-view+json": {
       "model_id": "",
       "version_major": 2,
       "version_minor": 0
      },
      "text/plain": [
       "HBox(children=(FloatProgress(value=0.0, description='10791', max=3.0, style=ProgressStyle(description_width='i…"
      ]
     },
     "metadata": {},
     "output_type": "display_data"
    },
    {
     "data": {
      "application/vnd.jupyter.widget-view+json": {
       "model_id": "",
       "version_major": 2,
       "version_minor": 0
      },
      "text/plain": [
       "HBox(children=(FloatProgress(value=0.0, description='NY75', max=3.0, style=ProgressStyle(description_width='in…"
      ]
     },
     "metadata": {},
     "output_type": "display_data"
    },
    {
     "data": {
      "application/vnd.jupyter.widget-view+json": {
       "model_id": "",
       "version_major": 2,
       "version_minor": 0
      },
      "text/plain": [
       "HBox(children=(FloatProgress(value=0.0, description='109220', max=3.0, style=ProgressStyle(description_width='…"
      ]
     },
     "metadata": {},
     "output_type": "display_data"
    },
    {
     "data": {
      "application/vnd.jupyter.widget-view+json": {
       "model_id": "",
       "version_major": 2,
       "version_minor": 0
      },
      "text/plain": [
       "HBox(children=(FloatProgress(value=0.0, description='103571', max=3.0, style=ProgressStyle(description_width='…"
      ]
     },
     "metadata": {},
     "output_type": "display_data"
    },
    {
     "data": {
      "application/vnd.jupyter.widget-view+json": {
       "model_id": "",
       "version_major": 2,
       "version_minor": 0
      },
      "text/plain": [
       "HBox(children=(FloatProgress(value=0.0, description='161476', max=3.0, style=ProgressStyle(description_width='…"
      ]
     },
     "metadata": {},
     "output_type": "display_data"
    },
    {
     "data": {
      "application/vnd.jupyter.widget-view+json": {
       "model_id": "",
       "version_major": 2,
       "version_minor": 0
      },
      "text/plain": [
       "HBox(children=(FloatProgress(value=0.0, description='105105', max=3.0, style=ProgressStyle(description_width='…"
      ]
     },
     "metadata": {},
     "output_type": "display_data"
    },
    {
     "data": {
      "application/vnd.jupyter.widget-view+json": {
       "model_id": "",
       "version_major": 2,
       "version_minor": 0
      },
      "text/plain": [
       "HBox(children=(FloatProgress(value=0.0, description='104671_156645', max=3.0, style=ProgressStyle(description_…"
      ]
     },
     "metadata": {},
     "output_type": "display_data"
    },
    {
     "data": {
      "application/vnd.jupyter.widget-view+json": {
       "model_id": "",
       "version_major": 2,
       "version_minor": 0
      },
      "text/plain": [
       "HBox(children=(FloatProgress(value=0.0, description='104671_156645', max=3.0, style=ProgressStyle(description_…"
      ]
     },
     "metadata": {},
     "output_type": "display_data"
    },
    {
     "data": {
      "application/vnd.jupyter.widget-view+json": {
       "model_id": "",
       "version_major": 2,
       "version_minor": 0
      },
      "text/plain": [
       "HBox(children=(FloatProgress(value=0.0, description='103767', max=3.0, style=ProgressStyle(description_width='…"
      ]
     },
     "metadata": {},
     "output_type": "display_data"
    },
    {
     "data": {
      "application/vnd.jupyter.widget-view+json": {
       "model_id": "",
       "version_major": 2,
       "version_minor": 0
      },
      "text/plain": [
       "HBox(children=(FloatProgress(value=0.0, description='103658', max=3.0, style=ProgressStyle(description_width='…"
      ]
     },
     "metadata": {},
     "output_type": "display_data"
    },
    {
     "data": {
      "application/vnd.jupyter.widget-view+json": {
       "model_id": "",
       "version_major": 2,
       "version_minor": 0
      },
      "text/plain": [
       "HBox(children=(FloatProgress(value=0.0, description='103734', max=3.0, style=ProgressStyle(description_width='…"
      ]
     },
     "metadata": {},
     "output_type": "display_data"
    },
    {
     "data": {
      "application/vnd.jupyter.widget-view+json": {
       "model_id": "",
       "version_major": 2,
       "version_minor": 0
      },
      "text/plain": [
       "HBox(children=(FloatProgress(value=0.0, description='103761', max=3.0, style=ProgressStyle(description_width='…"
      ]
     },
     "metadata": {},
     "output_type": "display_data"
    },
    {
     "data": {
      "application/vnd.jupyter.widget-view+json": {
       "model_id": "",
       "version_major": 2,
       "version_minor": 0
      },
      "text/plain": [
       "HBox(children=(FloatProgress(value=0.0, description='104042', max=3.0, style=ProgressStyle(description_width='…"
      ]
     },
     "metadata": {},
     "output_type": "display_data"
    },
    {
     "name": "stdout",
     "output_type": "stream",
     "text": [
      "\n"
     ]
    }
   ],
   "source": [
    "# Read or calculate the directional MIPs, put them into the dataframe and save them to disk\n",
    "for d, direction in enumerate(directions):\n",
    "    Data['MIP_' + direction] = [None] * len(Reconstructions)\n",
    "for c, row in notebook.tqdm(Data.iterrows(), desc='MIPs', total=len(Data)):\n",
    "    for d, direction in notebook.tqdm(enumerate(directions),\n",
    "                                      desc='%s' % row['Fish'],\n",
    "                                      leave=False,\n",
    "                                      total=len(directions)):\n",
    "        outfilepath = os.path.join(os.path.dirname(row['Folder']),\n",
    "                                   '%s.%s.MIP.%s.png' % (row['Fish'],\n",
    "                                                      row['Scan'],\n",
    "                                                      direction))\n",
    "        if os.path.exists(outfilepath):\n",
    "            Data.at[c, 'MIP_' + direction] = imageio.imread(outfilepath)\n",
    "        else:\n",
    "            # Generate MIP\n",
    "            Data.at[c, 'MIP_' + direction] = Reconstructions[c].max(axis=d).compute()\n",
    "            # Save it out\n",
    "            imageio.imwrite(outfilepath, Data.at[c, 'MIP_' + direction].astype('uint8'))"
   ]
  },
  {
   "cell_type": "code",
   "execution_count": 169,
   "metadata": {
    "scrolled": false
   },
   "outputs": [
    {
     "data": {
      "application/vnd.jupyter.widget-view+json": {
       "model_id": "3e8f205067b84390b967236ff85e8e92",
       "version_major": 2,
       "version_minor": 0
      },
      "text/plain": [
       "HBox(children=(FloatProgress(value=0.0, description='Saving MIP images overview', max=52.0, style=ProgressStyl…"
      ]
     },
     "metadata": {},
     "output_type": "display_data"
    },
    {
     "name": "stdout",
     "output_type": "stream",
     "text": [
      "\n"
     ]
    }
   ],
   "source": [
    "# Show MIP slices\n",
    "for c, row in notebook.tqdm(Data.iterrows(), desc='Saving MIP images overview', total=len(Data)):\n",
    "    outfilepath = os.path.join(os.path.dirname(row['Folder']),\n",
    "                               '%s.%s.MIPs.png' % (row['Fish'], row['Scan']))\n",
    "    if not os.path.exists(outfilepath):    \n",
    "        for d, direction in notebook.tqdm(enumerate(directions),\n",
    "                                          desc=row['Fish'],\n",
    "                                          leave=False,\n",
    "                                          total=len(directions)):\n",
    "            plt.subplot(1, 3, d + 1)\n",
    "            plt.imshow(row['MIP_' + direction])\n",
    "            plt.gca().add_artist(ScaleBar(row['Voxelsize'],\n",
    "                                          'um'))\n",
    "            plt.title('%s, %s' % (os.path.join(row['Fish'], row['Scan']),\n",
    "                                  direction + ' MIP'))\n",
    "            plt.axis('off')\n",
    "        plt.savefig(outfilepath,\n",
    "                    transparent=True,\n",
    "                    bbox_inches='tight')\n",
    "        plt.show()"
   ]
  },
  {
   "cell_type": "code",
   "execution_count": 170,
   "metadata": {},
   "outputs": [
    {
     "name": "stdout",
     "output_type": "stream",
     "text": [
      "At the moment, we have previewed 52 datasets\n"
     ]
    }
   ],
   "source": [
    "print('At the moment, we have previewed %s datasets' % len(Data))"
   ]
  },
  {
   "cell_type": "code",
   "execution_count": null,
   "metadata": {},
   "outputs": [],
   "source": []
  }
 ],
 "metadata": {
  "kernelspec": {
   "display_name": "Python 3",
   "language": "python",
   "name": "python3"
  },
  "language_info": {
   "codemirror_mode": {
    "name": "ipython",
    "version": 3
   },
   "file_extension": ".py",
   "mimetype": "text/x-python",
   "name": "python",
   "nbconvert_exporter": "python",
   "pygments_lexer": "ipython3",
   "version": "3.7.6"
  }
 },
 "nbformat": 4,
 "nbformat_minor": 4
}
