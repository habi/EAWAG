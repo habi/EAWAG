{
 "cells": [
  {
   "cell_type": "markdown",
   "metadata": {},
   "source": [
    "# Preview the EAWAG scans\n",
    "Let's see what we did there..."
   ]
  },
  {
   "cell_type": "code",
   "execution_count": 1,
   "metadata": {},
   "outputs": [],
   "source": [
    "import platform\n",
    "import os\n",
    "import glob\n",
    "import pandas\n",
    "import imageio\n",
    "import numpy\n",
    "import matplotlib.pyplot as plt\n",
    "from matplotlib_scalebar.scalebar import ScaleBar\n",
    "import seaborn\n",
    "import dask\n",
    "import dask_image.imread\n",
    "from dask.distributed import Client, LocalCluster\n",
    "import skimage\n",
    "from tqdm.auto import tqdm, trange"
   ]
  },
  {
   "cell_type": "code",
   "execution_count": 2,
   "metadata": {},
   "outputs": [
    {
     "name": "stdout",
     "output_type": "stream",
     "text": [
      "Dask temporary files go to /media/habi/Fast_SSD/tmp\n"
     ]
    }
   ],
   "source": [
    "# Set dask temporary folder\n",
    "# Do this before creating a client: https://stackoverflow.com/a/62804525/323100\n",
    "import tempfile\n",
    "if 'Linux' in platform.system():\n",
    "    tmp = os.path.join(os.sep, 'media', 'habi', 'Fast_SSD')\n",
    "elif 'Darwin' in platform.system():\n",
    "    tmp = tempfile.gettempdir()\n",
    "else:\n",
    "    if 'anaklin' in platform.node():\n",
    "        tmp = os.path.join('F:\\\\')\n",
    "    else:\n",
    "        tmp = os.path.join('D:\\\\')\n",
    "dask.config.set({'temporary_directory': os.path.join(tmp, 'tmp')})\n",
    "print('Dask temporary files go to %s' % dask.config.get('temporary_directory'))"
   ]
  },
  {
   "cell_type": "code",
   "execution_count": 3,
   "metadata": {},
   "outputs": [
    {
     "name": "stderr",
     "output_type": "stream",
     "text": [
      "/home/habi/miniconda3/envs/eawag/lib/python3.8/site-packages/distributed/node.py:151: UserWarning: Port 8787 is already in use.\n",
      "Perhaps you already have a cluster running?\n",
      "Hosting the HTTP server on port 39457 instead\n",
      "  warnings.warn(\n"
     ]
    }
   ],
   "source": [
    "# Start cluster and client now, after setting tempdir\n",
    "cluster = LocalCluster()\n",
    "client = Client(cluster)"
   ]
  },
  {
   "cell_type": "code",
   "execution_count": 4,
   "metadata": {},
   "outputs": [
    {
     "name": "stdout",
     "output_type": "stream",
     "text": [
      "You can seee what DASK is doing at \"http://localhost:39457/status\"\n"
     ]
    }
   ],
   "source": [
    "print('You can seee what DASK is doing at \"http://localhost:%s/status\"' % client.scheduler_info()['services']['dashboard'])"
   ]
  },
  {
   "cell_type": "code",
   "execution_count": 5,
   "metadata": {},
   "outputs": [],
   "source": [
    "# # Ignore warnings in the notebook\n",
    "# import warnings\n",
    "# warnings.filterwarnings(\"ignore\")"
   ]
  },
  {
   "cell_type": "code",
   "execution_count": 6,
   "metadata": {},
   "outputs": [],
   "source": [
    "# Set up figure defaults\n",
    "plt.rc('image', cmap='gray', interpolation='nearest')  # Display all images in b&w and with 'nearest' interpolation\n",
    "plt.rcParams['figure.figsize'] = (16, 9)  # Size up figures a bit\n",
    "plt.rcParams['figure.dpi'] = 200"
   ]
  },
  {
   "cell_type": "code",
   "execution_count": 7,
   "metadata": {},
   "outputs": [],
   "source": [
    "# Setup scale bar defaults\n",
    "plt.rcParams['scalebar.location'] = 'lower right'\n",
    "plt.rcParams['scalebar.frameon'] = False\n",
    "plt.rcParams['scalebar.color'] = 'white'"
   ]
  },
  {
   "cell_type": "code",
   "execution_count": 8,
   "metadata": {},
   "outputs": [],
   "source": [
    "# Display all plots identically\n",
    "lines = 3\n",
    "# And then do something like\n",
    "# plt.subplot(lines, int(numpy.ceil(len(Data) / float(lines))), c + 1)"
   ]
  },
  {
   "cell_type": "code",
   "execution_count": 71,
   "metadata": {},
   "outputs": [
    {
     "name": "stdout",
     "output_type": "stream",
     "text": [
      "We are loading all the data from /media/habi/Fast_SSD/EAWAG\n"
     ]
    }
   ],
   "source": [
    "# Different locations if running either on Linux or Windows\n",
    "FastSSD = True\n",
    "overthere = False # Load the data directly from the iee-research_storage drive\n",
    "nanoct = True # Load the data directly from the 2214\n",
    "# to speed things up significantly\n",
    "if 'Linux' in platform.system():\n",
    "    if FastSSD:\n",
    "        BasePath = os.path.join(os.sep, 'media', 'habi', 'Fast_SSD')\n",
    "    elif overthere:\n",
    "        BasePath = os.path.join(os.sep, 'home', 'habi', 'research-storage-iee')\n",
    "    elif nanoct:\n",
    "        BasePath = os.path.join(os.path.sep, 'home', 'habi', '2214')                \n",
    "    else:\n",
    "        BasePath = os.path.join(os.sep, 'home', 'habi', '1272')\n",
    "elif 'Darwin' in platform.system():\n",
    "    FastSSD = False\n",
    "    BasePath = os.path.join('/Users/habi/Dev/EAWAG/Data')\n",
    "elif 'Windows' in platform.system():\n",
    "    if FastSSD:\n",
    "        BasePath = os.path.join('F:\\\\')\n",
    "    else:\n",
    "        if 'anaklin' in platform.node():\n",
    "            BasePath = os.path.join('S:\\\\')\n",
    "        else:\n",
    "            BasePath = os.path.join('D:\\\\Results')\n",
    "if not overthere:\n",
    "    Root = os.path.join(BasePath, 'EAWAG')\n",
    "else:\n",
    "    Root = BasePath\n",
    "# if overthere:\n",
    "#         Root = os.path.join('I:\\\\microCTupload')\n",
    "print('We are loading all the data from %s' % Root)"
   ]
  },
  {
   "cell_type": "code",
   "execution_count": 72,
   "metadata": {},
   "outputs": [],
   "source": [
    "def get_pixelsize(logfile):\n",
    "    \"\"\"Get the pixel size from the scan log file\"\"\"\n",
    "    with open(logfile, 'r') as f:\n",
    "        for line in f:\n",
    "            if 'Image Pixel' in line and 'Scaled' not in line:\n",
    "                pixelsize = float(line.split('=')[1])\n",
    "    return(pixelsize)"
   ]
  },
  {
   "cell_type": "code",
   "execution_count": 73,
   "metadata": {},
   "outputs": [],
   "source": [
    "def get_projectionsize(logfile):\n",
    "    \"\"\"How big did we set the camera?\"\"\"\n",
    "    with open(logfile, 'r') as f:\n",
    "        for line in f:\n",
    "            if 'Number Of Rows' in line:\n",
    "                y = int(line.split('=')[1])\n",
    "            if 'Number Of Columns' in line:\n",
    "                x = int(line.split('=')[1])                \n",
    "    return(x*y)"
   ]
  },
  {
   "cell_type": "code",
   "execution_count": 74,
   "metadata": {},
   "outputs": [],
   "source": [
    "def get_filter(logfile):\n",
    "    \"\"\"Get the filter we used whole scanning from the scan log file\"\"\"\n",
    "    with open(logfile, 'r') as f:\n",
    "        for line in f:\n",
    "            if 'Filter=' in line:\n",
    "                whichfilter = line.split('=')[1].strip()\n",
    "    return(whichfilter)"
   ]
  },
  {
   "cell_type": "code",
   "execution_count": 75,
   "metadata": {},
   "outputs": [],
   "source": [
    "def get_exposuretime(logfile):\n",
    "    \"\"\"Get the exposure time size from the scan log file\"\"\"\n",
    "    with open(logfile, 'r') as f:\n",
    "        for line in f:\n",
    "            if 'Exposure' in line:\n",
    "                exposuretime = int(line.split('=')[1])\n",
    "    return(exposuretime)"
   ]
  },
  {
   "cell_type": "code",
   "execution_count": 76,
   "metadata": {},
   "outputs": [],
   "source": [
    "def get_ringartefact(logfile):\n",
    "    \"\"\"Get the ring artefact correction from the  scan log file\"\"\"\n",
    "    with open(logfile, 'r') as f:\n",
    "        for line in f:\n",
    "            if 'Ring Artifact' in line:\n",
    "                ringartefactcorrection = int(line.split('=')[1])\n",
    "    return(ringartefactcorrection)"
   ]
  },
  {
   "cell_type": "code",
   "execution_count": 77,
   "metadata": {},
   "outputs": [],
   "source": [
    "def get_reconstruction_grayvalue(logfile):\n",
    "    grayvalue = None\n",
    "    \"\"\"How did we map the brightness of the reconstructions?\"\"\"\n",
    "    with open(logfile, 'r') as f:\n",
    "        for line in f:\n",
    "            if 'Maximum for' in line:\n",
    "                grayvalue = float(line.split('=')[1])\n",
    "    return(grayvalue)"
   ]
  },
  {
   "cell_type": "code",
   "execution_count": 78,
   "metadata": {},
   "outputs": [],
   "source": [
    "def get_beamhardening(logfile):\n",
    "    \"\"\"Get the beamhardening correction from the  scan log file\"\"\"\n",
    "    with open(logfile, 'r') as f:\n",
    "        for line in f:\n",
    "            if 'Hardening' in line:\n",
    "                beamhardeningcorrection = int(line.split('=')[1])\n",
    "    return(beamhardeningcorrection)"
   ]
  },
  {
   "cell_type": "code",
   "execution_count": 79,
   "metadata": {},
   "outputs": [],
   "source": [
    "def get_rotationstep(logfile):\n",
    "    \"\"\"Get the rotation step from the scan log file\"\"\"\n",
    "    with open(logfile, 'r') as f:\n",
    "        for line in f:\n",
    "            if 'Rotation Step' in line:\n",
    "                rotstep = float(line.split('=')[1])\n",
    "    return(rotstep)"
   ]
  },
  {
   "cell_type": "code",
   "execution_count": 80,
   "metadata": {},
   "outputs": [],
   "source": [
    "def get_frameaveraging(logfile):\n",
    "    \"\"\"Get the frame averaging from the scan log file\"\"\"\n",
    "    with open(logfile, 'r') as f:\n",
    "        for line in f:\n",
    "            if 'Averaging' in line:\n",
    "                avg = line.split('=')[1]\n",
    "    return(avg)"
   ]
  },
  {
   "cell_type": "code",
   "execution_count": 81,
   "metadata": {},
   "outputs": [],
   "source": [
    "def get_defectpixelmasking(logfile):\n",
    "    \"\"\"Check the 'defect pixel masking' setting\"\"\"\n",
    "    with open(logfile, 'r') as f:\n",
    "        for line in f:\n",
    "            if 'defect pixel mask' in line:\n",
    "                defectmask = int(line.split('=')[1].strip())\n",
    "    return(defectmask)"
   ]
  },
  {
   "cell_type": "code",
   "execution_count": 82,
   "metadata": {},
   "outputs": [],
   "source": [
    "def get_machine(logfile):\n",
    "    \"\"\"Get the machine we used to scan\"\"\"\n",
    "    with open(logfile, 'r') as f:\n",
    "        for line in f:\n",
    "            if 'Scanner' in line:\n",
    "                machine = line.split('=')[1].strip()\n",
    "    return(machine)"
   ]
  },
  {
   "cell_type": "code",
   "execution_count": 83,
   "metadata": {},
   "outputs": [],
   "source": [
    "def get_scantime(logfile):\n",
    "    \"\"\"How long did we scan?\"\"\"\n",
    "    with open(logfile, 'r') as f:\n",
    "        for line in f:\n",
    "            if 'Scan duration' in line:\n",
    "                time = line.split('=')[1].strip()\n",
    "    return(pandas.to_timedelta(time))"
   ]
  },
  {
   "cell_type": "code",
   "execution_count": 84,
   "metadata": {},
   "outputs": [],
   "source": [
    "def get_stacks(logfile):\n",
    "    \"\"\"How many stacks/connected scans did we make?\"\"\"\n",
    "    stacks = 1\n",
    "    with open(logfile, 'r') as f:\n",
    "        for line in f:\n",
    "            if 'conn' in line:\n",
    "                stacks = int(line.split('=')[1])\n",
    "    return(stacks)"
   ]
  },
  {
   "cell_type": "code",
   "execution_count": 85,
   "metadata": {},
   "outputs": [],
   "source": [
    "def get_scandate(logfile, verbose=False):\n",
    "    \"\"\"When did we scan the fish?\"\"\"\n",
    "    with open(logfile, 'r') as f:\n",
    "        for line in f:\n",
    "            if 'Study Date and Time' in line:\n",
    "                if verbose:\n",
    "                    print('Found \"date\" line: %s' % line.strip())\n",
    "                datestring = line.split('=')[1].strip().replace('  ', ' ')\n",
    "                if verbose:\n",
    "                    print('The date string is: %s' % datestring)\n",
    "                date = pandas.to_datetime(datestring , format='%d %b %Y %Hh:%Mm:%Ss')\n",
    "                if verbose:\n",
    "                    print('Parsed to: %s' % date)\n",
    "    return(date.isoformat())"
   ]
  },
  {
   "cell_type": "code",
   "execution_count": 86,
   "metadata": {},
   "outputs": [],
   "source": [
    "def get_git_hash():\n",
    "    '''\n",
    "    Get the current git hash from the repository.\n",
    "    Based on http://stackoverflow.com/a/949391/323100 and\n",
    "    http://stackoverflow.com/a/18283905/323100\n",
    "    '''\n",
    "    from subprocess import Popen, PIPE\n",
    "    import os\n",
    "    gitprocess = Popen(['git',\n",
    "                        '--git-dir',\n",
    "                        os.path.join(os.getcwd(), '.git'),\n",
    "                        'rev-parse',\n",
    "                        '--short',\n",
    "                        '--verify',\n",
    "                        'HEAD'],\n",
    "                       stdout=PIPE)\n",
    "    (output, _) = gitprocess.communicate()\n",
    "    return output.strip().decode(\"utf-8\")"
   ]
  },
  {
   "cell_type": "code",
   "execution_count": 87,
   "metadata": {},
   "outputs": [],
   "source": [
    "# # Make directory for output\n",
    "# OutPutDir = os.path.join(os.getcwd(), 'Output', get_git_hash())\n",
    "# print('We are saving all the output to %s' % OutPutDir)\n",
    "# os.makedirs(OutPutDir, exist_ok=True)"
   ]
  },
  {
   "cell_type": "code",
   "execution_count": 88,
   "metadata": {},
   "outputs": [],
   "source": [
    "# Make us a dataframe for saving all that we need\n",
    "Data = pandas.DataFrame()"
   ]
  },
  {
   "cell_type": "code",
   "execution_count": 89,
   "metadata": {},
   "outputs": [],
   "source": [
    "# Get *all* log files\n",
    "# Sort them by time, not name\n",
    "Data['LogFile'] = [f for f in sorted(glob.glob(os.path.join(Root, '**', '*.log'), recursive=True), key=os.path.getmtime)]"
   ]
  },
  {
   "cell_type": "code",
   "execution_count": 90,
   "metadata": {},
   "outputs": [],
   "source": [
    "# Data"
   ]
  },
  {
   "cell_type": "code",
   "execution_count": 91,
   "metadata": {},
   "outputs": [],
   "source": [
    "# Get all folders\n",
    "Data['Folder'] = [os.path.dirname(f) for f in Data['LogFile']]"
   ]
  },
  {
   "cell_type": "code",
   "execution_count": 92,
   "metadata": {},
   "outputs": [
    {
     "name": "stdout",
     "output_type": "stream",
     "text": [
      "- 103761/proj_oj/103761.log is missing matching reconstructions\n"
     ]
    }
   ],
   "source": [
    "# Check for samples which are not yet reconstructed\n",
    "for c, row in Data.iterrows():\n",
    "    # Iterate over every 'proj' folder\n",
    "    if 'proj' in row.Folder:\n",
    "        if not 'TScopy' in row.Folder and not 'PR' in row.Folder:\n",
    "            # If there's nothing with 'rec*' on the same level, then tell us        \n",
    "            if not glob.glob(row.Folder.replace('proj', '*rec*')):\n",
    "                print('- %s is missing matching reconstructions' % row.LogFile[len(Root)+1:])"
   ]
  },
  {
   "cell_type": "code",
   "execution_count": 93,
   "metadata": {},
   "outputs": [],
   "source": [
    "# 103761/proj_oj/103761.log is a scan where the sample holder touched the source"
   ]
  },
  {
   "cell_type": "code",
   "execution_count": 94,
   "metadata": {},
   "outputs": [],
   "source": [
    "Data['XYAlignment'] = [glob.glob(os.path.join(f, '*.csv')) for f in Data['Folder']]"
   ]
  },
  {
   "cell_type": "code",
   "execution_count": 95,
   "metadata": {},
   "outputs": [],
   "source": [
    "# Check for samples which are missing the .csv-files for the XY-alignment\n",
    "for c, row in Data.iterrows():\n",
    "    # Iterate over every 'proj' folder\n",
    "    if 'proj' in row.Folder:\n",
    "        if not len(row.XYAlignment):\n",
    "            if not any(x in row.LogFile for x in ['rectmp.log',  # because we only exclude temporary logfiles in a later step\n",
    "                                                  'proj_nofilter',  # since these two scans of single teeth don't contain a reference scan\n",
    "                                                  'TScopy',  # discard *t*hermal *s*hift data\n",
    "                                                  os.path.join('TJ3', 'jaw_v1'),  # no reference scan\n",
    "                                                  os.path.join('28', 'full_188um'),  # no reference scan\n",
    "                                                  os.path.join('75', 'proj_stuck'),  # 103375\\proj_stuck which got stuck\n",
    "                                                  os.path.join('106985', 'proj'),  # 106985/proj is a b0rked scan where something went wrong with the exposure time\n",
    "                                                  os.path.join('161543', 'head_30'),  # 161543\\head_30um has no reference scan\n",
    "                                                  os.path.join('21322', 'jaw'),  # two scans of 21322 which have no reference scan\n",
    "                                                  os.path.join('21322', 'whole'),  # two scans of 21322 which have no reference scan\n",
    "                                                  os.path.join('31', 'moved_proj'),  # MA31\\moved_proj which moved during acquisition\n",
    "                                                  os.path.join('95', 'proj', '14295'),  # no reference scan\n",
    "                                                  os.path.join('104061', 'head', 'proj_pressure'),  # We lost air pressure (in the building) during this scan\n",
    "                                                 ]):\n",
    "                print('- %s has *not* been X/Y aligned' % row.LogFile[len(Root)+1:])"
   ]
  },
  {
   "cell_type": "code",
   "execution_count": 96,
   "metadata": {},
   "outputs": [],
   "source": [
    "# Get rid of all non-rec logfiles\n",
    "for c, row in Data.iterrows():\n",
    "    if 'rec' not in row.Folder:\n",
    "        Data.drop([c], inplace=True)\n",
    "    elif 'SubScan' in row.Folder:\n",
    "        Data.drop([c], inplace=True)        \n",
    "    elif 'rectmp.log' in row.LogFile:\n",
    "        Data.drop([c], inplace=True)\n",
    "# Reset dataframe to something that we would get if we only would have loaded the 'rec' files\n",
    "Data = Data.reset_index(drop=True)"
   ]
  },
  {
   "cell_type": "code",
   "execution_count": 97,
   "metadata": {},
   "outputs": [],
   "source": [
    "# Generate us some meaningful colums\n",
    "Data['Fish'] = [l[len(Root)+1:].split(os.sep)[0] for l in Data['LogFile']]\n",
    "Data['Scan'] = ['_'.join(l[len(Root)+1:].split(os.sep)[1:-1]) for l in Data['LogFile']]"
   ]
  },
  {
   "cell_type": "code",
   "execution_count": 98,
   "metadata": {
    "tags": []
   },
   "outputs": [
    {
     "data": {
      "text/html": [
       "<div>\n",
       "<style scoped>\n",
       "    .dataframe tbody tr th:only-of-type {\n",
       "        vertical-align: middle;\n",
       "    }\n",
       "\n",
       "    .dataframe tbody tr th {\n",
       "        vertical-align: top;\n",
       "    }\n",
       "\n",
       "    .dataframe thead th {\n",
       "        text-align: right;\n",
       "    }\n",
       "</style>\n",
       "<table border=\"1\" class=\"dataframe\">\n",
       "  <thead>\n",
       "    <tr style=\"text-align: right;\">\n",
       "      <th></th>\n",
       "      <th>LogFile</th>\n",
       "      <th>Folder</th>\n",
       "      <th>XYAlignment</th>\n",
       "      <th>Fish</th>\n",
       "      <th>Scan</th>\n",
       "    </tr>\n",
       "  </thead>\n",
       "  <tbody>\n",
       "    <tr>\n",
       "      <th>352</th>\n",
       "      <td>/media/habi/Fast_SSD/EAWAG/BucketOfFish_F/rec/...</td>\n",
       "      <td>/media/habi/Fast_SSD/EAWAG/BucketOfFish_F/rec</td>\n",
       "      <td>[]</td>\n",
       "      <td>BucketOfFish_F</td>\n",
       "      <td>rec</td>\n",
       "    </tr>\n",
       "    <tr>\n",
       "      <th>353</th>\n",
       "      <td>/media/habi/Fast_SSD/EAWAG/BucketOfFish_F/rec_...</td>\n",
       "      <td>/media/habi/Fast_SSD/EAWAG/BucketOfFish_F/rec_...</td>\n",
       "      <td>[]</td>\n",
       "      <td>BucketOfFish_F</td>\n",
       "      <td>rec_14269</td>\n",
       "    </tr>\n",
       "    <tr>\n",
       "      <th>354</th>\n",
       "      <td>/media/habi/Fast_SSD/EAWAG/BucketOfFish_F/rec_...</td>\n",
       "      <td>/media/habi/Fast_SSD/EAWAG/BucketOfFish_F/rec_...</td>\n",
       "      <td>[]</td>\n",
       "      <td>BucketOfFish_F</td>\n",
       "      <td>rec_14295</td>\n",
       "    </tr>\n",
       "    <tr>\n",
       "      <th>355</th>\n",
       "      <td>/media/habi/Fast_SSD/EAWAG/BucketOfFish_F/rec_...</td>\n",
       "      <td>/media/habi/Fast_SSD/EAWAG/BucketOfFish_F/rec_...</td>\n",
       "      <td>[]</td>\n",
       "      <td>BucketOfFish_F</td>\n",
       "      <td>rec_22477</td>\n",
       "    </tr>\n",
       "    <tr>\n",
       "      <th>356</th>\n",
       "      <td>/media/habi/Fast_SSD/EAWAG/BucketOfFish_F/rec_...</td>\n",
       "      <td>/media/habi/Fast_SSD/EAWAG/BucketOfFish_F/rec_...</td>\n",
       "      <td>[]</td>\n",
       "      <td>BucketOfFish_F</td>\n",
       "      <td>rec_22478</td>\n",
       "    </tr>\n",
       "  </tbody>\n",
       "</table>\n",
       "</div>"
      ],
      "text/plain": [
       "                                               LogFile  \\\n",
       "352  /media/habi/Fast_SSD/EAWAG/BucketOfFish_F/rec/...   \n",
       "353  /media/habi/Fast_SSD/EAWAG/BucketOfFish_F/rec_...   \n",
       "354  /media/habi/Fast_SSD/EAWAG/BucketOfFish_F/rec_...   \n",
       "355  /media/habi/Fast_SSD/EAWAG/BucketOfFish_F/rec_...   \n",
       "356  /media/habi/Fast_SSD/EAWAG/BucketOfFish_F/rec_...   \n",
       "\n",
       "                                                Folder XYAlignment  \\\n",
       "352      /media/habi/Fast_SSD/EAWAG/BucketOfFish_F/rec          []   \n",
       "353  /media/habi/Fast_SSD/EAWAG/BucketOfFish_F/rec_...          []   \n",
       "354  /media/habi/Fast_SSD/EAWAG/BucketOfFish_F/rec_...          []   \n",
       "355  /media/habi/Fast_SSD/EAWAG/BucketOfFish_F/rec_...          []   \n",
       "356  /media/habi/Fast_SSD/EAWAG/BucketOfFish_F/rec_...          []   \n",
       "\n",
       "               Fish       Scan  \n",
       "352  BucketOfFish_F        rec  \n",
       "353  BucketOfFish_F  rec_14269  \n",
       "354  BucketOfFish_F  rec_14295  \n",
       "355  BucketOfFish_F  rec_22477  \n",
       "356  BucketOfFish_F  rec_22478  "
      ]
     },
     "execution_count": 98,
     "metadata": {},
     "output_type": "execute_result"
    }
   ],
   "source": [
    "Data.tail()"
   ]
  },
  {
   "cell_type": "code",
   "execution_count": 99,
   "metadata": {},
   "outputs": [],
   "source": [
    "# Get the file names of the reconstructions\n",
    "Data['Reconstructions'] = [sorted(glob.glob(os.path.join(f, '*rec0*.png'))) for f in Data['Folder']]\n",
    "Data['Number of reconstructions'] = [len(r) for r in Data.Reconstructions]"
   ]
  },
  {
   "cell_type": "code",
   "execution_count": 100,
   "metadata": {},
   "outputs": [
    {
     "name": "stdout",
     "output_type": "stream",
     "text": [
      "We have 22 folders with reconstructions\n"
     ]
    }
   ],
   "source": [
    "# Drop samples which have either not been reconstructed yet or of which we deleted the reconstructions with\n",
    "# `find . -name \"*rec*.png\" -type f -mtime +333 -delete`\n",
    "# Based on https://stackoverflow.com/a/13851602\n",
    "# for c,row in Data.iterrows():\n",
    "#     if not row['Number of reconstructions']:\n",
    "#         print('%s contains no PNG files, we might be currently reconstructing it' % row.Folder)\n",
    "Data = Data[Data['Number of reconstructions'] > 0]\n",
    "Data.reset_index(drop=True, inplace=True)\n",
    "print('We have %s folders with reconstructions' % (len(Data)))"
   ]
  },
  {
   "cell_type": "code",
   "execution_count": 101,
   "metadata": {},
   "outputs": [],
   "source": [
    "# Get parameters to doublecheck from logfiles\n",
    "Data['Voxelsize'] = [get_pixelsize(log) for log in Data['LogFile']]\n",
    "Data['Filter'] = [get_filter(log) for log in Data['LogFile']]\n",
    "Data['Exposuretime'] = [get_exposuretime(log) for log in Data['LogFile']]\n",
    "Data['Scanner'] = [get_machine(log) for log in Data['LogFile']]\n",
    "Data['Averaging'] = [get_frameaveraging(log) for log in Data['LogFile']]\n",
    "Data['ProjectionSize'] = [get_projectionsize(log) for log in Data['LogFile']]\n",
    "Data['RotationStep'] = [get_rotationstep(log) for log in Data['LogFile']]\n",
    "Data['CameraWindow'] = [round((ps ** 0.5)/100)*100  for ps in Data['ProjectionSize']]\n",
    "Data['Grayvalue'] = [get_reconstruction_grayvalue(log) for log in Data['LogFile']]\n",
    "Data['RingartefactCorrection'] = [get_ringartefact(log) for log in Data['LogFile']]\n",
    "Data['BeamHardeningCorrection'] = [get_beamhardening(log) for log in Data['LogFile']]\n",
    "Data['DefectPixelMasking'] = [get_defectpixelmasking(log) for log in Data['LogFile']]\n",
    "Data['Scan date'] = [get_scandate(log) for log in Data['LogFile']]\n",
    "Data['Scan time'] = [get_scantime(log) for log in Data['LogFile']]\n",
    "Data['Stacks'] = [get_stacks(log) for log in Data['LogFile']]"
   ]
  },
  {
   "cell_type": "code",
   "execution_count": 102,
   "metadata": {},
   "outputs": [
    {
     "name": "stdout",
     "output_type": "stream",
     "text": [
      "For the SkyScan2214 we have ringartefact-correction values of [0]\n",
      "For the SkyScan1272 we have ringartefact-correction values of [13]\n"
     ]
    }
   ],
   "source": [
    "# Check ringremoval parameters\n",
    "for machine in Data['Scanner'].unique():\n",
    "    print('For the %s we have '\n",
    "          'ringartefact-correction values of %s' % (machine,\n",
    "                                                    Data[Data.Scanner==machine]['RingartefactCorrection'].unique()))"
   ]
  },
  {
   "cell_type": "code",
   "execution_count": 103,
   "metadata": {},
   "outputs": [
    {
     "name": "stdout",
     "output_type": "stream",
     "text": [
      "Ringartefact-correction  0 is found in  21 scans\n",
      "Ringartefact-correction 13 is found in   1 scans\n"
     ]
    }
   ],
   "source": [
    "for rac in sorted(Data['RingartefactCorrection'].unique()):\n",
    "    print('Ringartefact-correction %02s is found in %03s scans' % (rac, Data[Data.RingartefactCorrection==rac]['RingartefactCorrection'].count()))"
   ]
  },
  {
   "cell_type": "markdown",
   "metadata": {},
   "source": [
    "Some consistency checks"
   ]
  },
  {
   "cell_type": "code",
   "execution_count": 104,
   "metadata": {},
   "outputs": [],
   "source": [
    "# seaborn.scatterplot(data=Data, x='Fish', y='RingartefactCorrection', hue='Scanner')\n",
    "# plt.title('Ringartefact correction')\n",
    "# plt.show()"
   ]
  },
  {
   "cell_type": "code",
   "execution_count": 105,
   "metadata": {},
   "outputs": [
    {
     "name": "stdout",
     "output_type": "stream",
     "text": [
      "---- SkyScan2214 ----\n",
      "---- SkyScan1272 ----\n",
      "Fish IG92 scan rec was reconstructed with RAC of 13\n"
     ]
    }
   ],
   "source": [
    "# Display ringremoval parameters\n",
    "for scanner in Data.Scanner.unique():\n",
    "    print('----', scanner, '----')\n",
    "    for c, row in Data[Data.Scanner==scanner].iterrows():\n",
    "        if row.RingartefactCorrection != 0:\n",
    "            print('Fish %s scan %s was reconstructed with RAC of %s' % (row.Fish,\n",
    "                                                                        row.Scan,\n",
    "                                                                        row.RingartefactCorrection))"
   ]
  },
  {
   "cell_type": "code",
   "execution_count": 106,
   "metadata": {},
   "outputs": [
    {
     "name": "stdout",
     "output_type": "stream",
     "text": [
      "For the SkyScan2214 we have beamhardening correction values of [0]\n",
      "For the SkyScan1272 we have beamhardening correction values of [0]\n"
     ]
    }
   ],
   "source": [
    "# Check beamhardening parameters\n",
    "for scanner in Data.Scanner.unique():\n",
    "    print('For the %s we have '\n",
    "          'beamhardening correction values of %s' % (scanner,\n",
    "                                                     Data[Data.Scanner==scanner]['BeamHardeningCorrection'].unique()))"
   ]
  },
  {
   "cell_type": "code",
   "execution_count": 107,
   "metadata": {},
   "outputs": [
    {
     "name": "stdout",
     "output_type": "stream",
     "text": [
      "---- SkyScan2214 ----\n",
      "---- SkyScan1272 ----\n"
     ]
    }
   ],
   "source": [
    "# Display beamhardening parameters\n",
    "for scanner in Data.Scanner.unique():\n",
    "    print('----', scanner, '----')\n",
    "    for c, row in Data[Data.Scanner==scanner].iterrows():\n",
    "        if row.BeamHardeningCorrection != 0:\n",
    "            print('Scan %s of fish %s was reconstructed with beam hardening correction of %s' % (row.Scan,\n",
    "                                                                                                 row.Fish,\n",
    "                                                                                                 row.BeamHardeningCorrection))"
   ]
  },
  {
   "cell_type": "code",
   "execution_count": 108,
   "metadata": {},
   "outputs": [],
   "source": [
    "# seaborn.scatterplot(data=Data,\n",
    "#                     x='Fish',\n",
    "#                     y='BeamHardeningCorrection',\n",
    "#                     hue='Scanner')\n",
    "# plt.title('Beamhardening correction')\n",
    "# plt.show()"
   ]
  },
  {
   "cell_type": "code",
   "execution_count": 109,
   "metadata": {},
   "outputs": [
    {
     "name": "stdout",
     "output_type": "stream",
     "text": [
      "For the SkyScan2214 we have defect pixel masking values of [0]\n",
      "For the SkyScan1272 we have defect pixel masking values of [50]\n"
     ]
    }
   ],
   "source": [
    "# Check defect pixel masking parameters\n",
    "for scanner in Data.Scanner.unique():\n",
    "    print('For the %s we have '\n",
    "          'defect pixel masking values of %s' % (scanner,\n",
    "                                                 Data[Data.Scanner==scanner]['DefectPixelMasking'].unique()))"
   ]
  },
  {
   "cell_type": "code",
   "execution_count": 110,
   "metadata": {},
   "outputs": [
    {
     "name": "stdout",
     "output_type": "stream",
     "text": [
      "A defect pixel masking of  0 is found in  21 scans\n",
      "A defect pixel masking of 50 is found in   1 scans\n"
     ]
    }
   ],
   "source": [
    "for dpm in sorted(Data['DefectPixelMasking'].unique()):\n",
    "    print('A defect pixel masking of %02s is found in %03s scans' % (dpm, Data[Data.DefectPixelMasking==dpm]['DefectPixelMasking'].count()))"
   ]
  },
  {
   "cell_type": "code",
   "execution_count": 111,
   "metadata": {},
   "outputs": [],
   "source": [
    "# seaborn.scatterplot(data=Data, x='Fish', y='DefectPixelMasking', hue='Scanner')\n",
    "# plt.title('Defect pixel masking')\n",
    "# plt.show()"
   ]
  },
  {
   "cell_type": "code",
   "execution_count": 112,
   "metadata": {},
   "outputs": [
    {
     "name": "stdout",
     "output_type": "stream",
     "text": [
      "---- SkyScan2214 ----\n",
      "---- SkyScan1272 ----\n"
     ]
    }
   ],
   "source": [
    "# Display defect pixel masking parameters\n",
    "for scanner in Data.Scanner.unique():\n",
    "    print('----', scanner, '----')\n",
    "    for c, row in Data[Data.Scanner==scanner].iterrows():\n",
    "        if row.Scanner == 'SkyScan1272' and row.DefectPixelMasking != 50:\n",
    "            print('Fish %s scan %s was reconstructed with DPM of %s' % (row.Fish,\n",
    "                                                                        row.Scan,\n",
    "                                                                        row.DefectPixelMasking))\n",
    "        if row.Scanner == 'SkyScan2214' and row.DefectPixelMasking != 0:\n",
    "            print('Fish %s scan %s was reconstructed with DPM of %s' % (row.Fish,\n",
    "                                                                        row.Scan,\n",
    "                                                                        row.DefectPixelMasking))            "
   ]
  },
  {
   "cell_type": "markdown",
   "metadata": {},
   "source": [
    "Check and display scan times"
   ]
  },
  {
   "cell_type": "code",
   "execution_count": 113,
   "metadata": {},
   "outputs": [],
   "source": [
    "Data['Scan time total'] = [ st * stk  for st, stk in zip(Data['Scan time'], Data['Stacks'])]"
   ]
  },
  {
   "cell_type": "code",
   "execution_count": 114,
   "metadata": {},
   "outputs": [],
   "source": [
    "# # https://www.geeksforgeeks.org/iterating-over-rows-and-columns-in-pandas-dataframe/\n",
    "# columns = list(Data)\n",
    "# columns.remove('Folder') \n",
    "# columns.remove('Fish')\n",
    "# columns.remove('LogFile')\n",
    "# columns.remove('Reconstructions')\n",
    "# columns.remove('Number of reconstructions')\n",
    "# columns.remove('Grayvalue')\n",
    "# columns.remove('Scan time')\n",
    "# columns.remove('Scan time total')\n",
    "# columns.remove('Scan date')\n",
    "# print(columns)\n",
    "# for col in columns:\n",
    "#     print(col)\n",
    "#     print(Data[col].unique())\n",
    "#     print(80*'-')    "
   ]
  },
  {
   "cell_type": "code",
   "execution_count": 115,
   "metadata": {},
   "outputs": [],
   "source": [
    "# # Check voxel sizes (*rounded* to two after-comma values)\n",
    "# # If different, spit out which values\n",
    "# roundto = 2\n",
    "# if len(Data['Voxelsize'].round(roundto).unique()) > 1:\n",
    "#     print('We scanned all datasets with %s different voxel sizes' % len(Data['Voxelsize'].round(roundto).unique()))\n",
    "#     for vs in sorted(Data['Voxelsize'].round(roundto).unique()):\n",
    "#         print('-', vs, 'um for ', end='')\n",
    "#         for c, row in Data.iterrows():\n",
    "#             if float(vs) == round(row['Voxelsize'], roundto):\n",
    "#                 print(os.path.join(row['Fish'], row['Scan']), end=', ')\n",
    "#         print('')\n",
    "# else:\n",
    "#     print('We scanned all datasets with equal voxel size, namely %s um.' % float(Data['Voxelsize'].round(roundto).unique()))"
   ]
  },
  {
   "cell_type": "code",
   "execution_count": 116,
   "metadata": {},
   "outputs": [],
   "source": [
    "# if len(Data['Grayvalue'].unique()) > 1:\n",
    "#     print('We reconstructed the datasets with different maximum gray values, namely')\n",
    "#     for gv in Data['Grayvalue'].unique():\n",
    "#         print(gv, 'for Samples ', end='')\n",
    "#         for c, row in Data.iterrows():\n",
    "#             if float(gv) == row['Grayvalue']:\n",
    "#                 print(os.path.join(row['Fish'], row['Scan']), end=', ')\n",
    "#         print('')\n",
    "# else:\n",
    "#     print('We reconstructed all datasets with equal maximum gray value, namely %s.' % Data['Grayvalue'].unique()[0])"
   ]
  },
  {
   "cell_type": "code",
   "execution_count": 117,
   "metadata": {},
   "outputs": [],
   "source": [
    "# Data[['Fish', 'Scan',\n",
    "#       'Voxelsize', 'Scanner',\n",
    "#       'Scan date', 'CameraWindow', 'RotationStep', 'Averaging',\n",
    "#       'Scan time', 'Stacks', 'Scan time total']]"
   ]
  },
  {
   "cell_type": "code",
   "execution_count": 118,
   "metadata": {},
   "outputs": [
    {
     "name": "stdout",
     "output_type": "stream",
     "text": [
      "In total, we scanned for 58 hours and 50 minutes)\n",
      "\t - Of these, we scanned 51 hours and 12 minutes on the SkyScan2214, for 21 scans\n",
      "\t - Of these, we scanned 7 hours and 38 minutes on the SkyScan1272, for 1 scans\n"
     ]
    }
   ],
   "source": [
    "# Get an overview over the total scan time\n",
    "# Nice output based on https://stackoverflow.com/a/8907407/323100\n",
    "total_seconds = int(Data['Scan time total'].sum().total_seconds())\n",
    "hours, remainder = divmod(total_seconds,60*60)\n",
    "minutes, seconds = divmod(remainder,60)\n",
    "print('In total, we scanned for %s hours and %s minutes)' % (hours, minutes))\n",
    "for machine in Data['Scanner'].unique():\n",
    "    total_seconds = int(Data[Data['Scanner'] == machine]['Scan time total'].sum().total_seconds())\n",
    "    hours, remainder = divmod(total_seconds,60*60)\n",
    "    minutes, seconds = divmod(remainder,60)\n",
    "    print('\\t - Of these, we scanned %s hours and %s minutes on the %s,'\n",
    "          ' for %s scans' % (hours,\n",
    "                             minutes,\n",
    "                             machine,\n",
    "                             len(Data[Data['Scanner'] == machine])))"
   ]
  },
  {
   "cell_type": "code",
   "execution_count": 119,
   "metadata": {},
   "outputs": [],
   "source": [
    "# Sort our dataframe by scan date\n",
    "# Data.sort_values(by='Scan date')"
   ]
  },
  {
   "cell_type": "code",
   "execution_count": 120,
   "metadata": {},
   "outputs": [
    {
     "data": {
      "text/html": [
       "<div>\n",
       "<style scoped>\n",
       "    .dataframe tbody tr th:only-of-type {\n",
       "        vertical-align: middle;\n",
       "    }\n",
       "\n",
       "    .dataframe tbody tr th {\n",
       "        vertical-align: top;\n",
       "    }\n",
       "\n",
       "    .dataframe thead th {\n",
       "        text-align: right;\n",
       "    }\n",
       "</style>\n",
       "<table border=\"1\" class=\"dataframe\">\n",
       "  <thead>\n",
       "    <tr style=\"text-align: right;\">\n",
       "      <th></th>\n",
       "      <th>LogFile</th>\n",
       "      <th>Folder</th>\n",
       "      <th>XYAlignment</th>\n",
       "      <th>Fish</th>\n",
       "      <th>Scan</th>\n",
       "      <th>Reconstructions</th>\n",
       "      <th>Number of reconstructions</th>\n",
       "      <th>Voxelsize</th>\n",
       "      <th>Filter</th>\n",
       "      <th>Exposuretime</th>\n",
       "      <th>...</th>\n",
       "      <th>RotationStep</th>\n",
       "      <th>CameraWindow</th>\n",
       "      <th>Grayvalue</th>\n",
       "      <th>RingartefactCorrection</th>\n",
       "      <th>BeamHardeningCorrection</th>\n",
       "      <th>DefectPixelMasking</th>\n",
       "      <th>Scan date</th>\n",
       "      <th>Scan time</th>\n",
       "      <th>Stacks</th>\n",
       "      <th>Scan time total</th>\n",
       "    </tr>\n",
       "  </thead>\n",
       "  <tbody>\n",
       "    <tr>\n",
       "      <th>17</th>\n",
       "      <td>/media/habi/Fast_SSD/EAWAG/AN33/rec/AN33_rec.log</td>\n",
       "      <td>/media/habi/Fast_SSD/EAWAG/AN33/rec</td>\n",
       "      <td>[]</td>\n",
       "      <td>AN33</td>\n",
       "      <td>rec</td>\n",
       "      <td>[/media/habi/Fast_SSD/EAWAG/AN33/rec/AN33_rec0...</td>\n",
       "      <td>4505</td>\n",
       "      <td>8.110939</td>\n",
       "      <td>No Filter</td>\n",
       "      <td>834</td>\n",
       "      <td>...</td>\n",
       "      <td>0.1</td>\n",
       "      <td>2400</td>\n",
       "      <td>0.16046</td>\n",
       "      <td>0</td>\n",
       "      <td>0</td>\n",
       "      <td>0</td>\n",
       "      <td>2021-08-24T12:46:48</td>\n",
       "      <td>0 days 01:49:28</td>\n",
       "      <td>3</td>\n",
       "      <td>0 days 05:28:24</td>\n",
       "    </tr>\n",
       "    <tr>\n",
       "      <th>18</th>\n",
       "      <td>/media/habi/Fast_SSD/EAWAG/BucketOfFish_A/rec_...</td>\n",
       "      <td>/media/habi/Fast_SSD/EAWAG/BucketOfFish_A/rec_...</td>\n",
       "      <td>[]</td>\n",
       "      <td>BucketOfFish_A</td>\n",
       "      <td>rec_10576</td>\n",
       "      <td>[/media/habi/Fast_SSD/EAWAG/BucketOfFish_A/rec...</td>\n",
       "      <td>1713</td>\n",
       "      <td>34.999866</td>\n",
       "      <td>No Filter</td>\n",
       "      <td>855</td>\n",
       "      <td>...</td>\n",
       "      <td>0.1</td>\n",
       "      <td>2400</td>\n",
       "      <td>0.05678</td>\n",
       "      <td>0</td>\n",
       "      <td>0</td>\n",
       "      <td>0</td>\n",
       "      <td>2022-02-28T16:40:33</td>\n",
       "      <td>0 days 02:09:56</td>\n",
       "      <td>1</td>\n",
       "      <td>0 days 02:09:56</td>\n",
       "    </tr>\n",
       "    <tr>\n",
       "      <th>19</th>\n",
       "      <td>/media/habi/Fast_SSD/EAWAG/BucketOfFish_A/rec_...</td>\n",
       "      <td>/media/habi/Fast_SSD/EAWAG/BucketOfFish_A/rec_...</td>\n",
       "      <td>[]</td>\n",
       "      <td>BucketOfFish_A</td>\n",
       "      <td>rec_13420</td>\n",
       "      <td>[/media/habi/Fast_SSD/EAWAG/BucketOfFish_A/rec...</td>\n",
       "      <td>1713</td>\n",
       "      <td>34.999866</td>\n",
       "      <td>No Filter</td>\n",
       "      <td>855</td>\n",
       "      <td>...</td>\n",
       "      <td>0.1</td>\n",
       "      <td>2400</td>\n",
       "      <td>0.05678</td>\n",
       "      <td>0</td>\n",
       "      <td>0</td>\n",
       "      <td>0</td>\n",
       "      <td>2022-02-28T16:40:33</td>\n",
       "      <td>0 days 02:09:56</td>\n",
       "      <td>1</td>\n",
       "      <td>0 days 02:09:56</td>\n",
       "    </tr>\n",
       "    <tr>\n",
       "      <th>20</th>\n",
       "      <td>/media/habi/Fast_SSD/EAWAG/BucketOfFish_A/rec_...</td>\n",
       "      <td>/media/habi/Fast_SSD/EAWAG/BucketOfFish_A/rec_...</td>\n",
       "      <td>[]</td>\n",
       "      <td>BucketOfFish_A</td>\n",
       "      <td>rec_161543</td>\n",
       "      <td>[/media/habi/Fast_SSD/EAWAG/BucketOfFish_A/rec...</td>\n",
       "      <td>1713</td>\n",
       "      <td>34.999866</td>\n",
       "      <td>No Filter</td>\n",
       "      <td>855</td>\n",
       "      <td>...</td>\n",
       "      <td>0.1</td>\n",
       "      <td>2400</td>\n",
       "      <td>0.05678</td>\n",
       "      <td>0</td>\n",
       "      <td>0</td>\n",
       "      <td>0</td>\n",
       "      <td>2022-02-28T16:40:33</td>\n",
       "      <td>0 days 02:09:56</td>\n",
       "      <td>1</td>\n",
       "      <td>0 days 02:09:56</td>\n",
       "    </tr>\n",
       "    <tr>\n",
       "      <th>21</th>\n",
       "      <td>/media/habi/Fast_SSD/EAWAG/BucketOfFish_A/rec_...</td>\n",
       "      <td>/media/habi/Fast_SSD/EAWAG/BucketOfFish_A/rec_...</td>\n",
       "      <td>[]</td>\n",
       "      <td>BucketOfFish_A</td>\n",
       "      <td>rec_BI10</td>\n",
       "      <td>[/media/habi/Fast_SSD/EAWAG/BucketOfFish_A/rec...</td>\n",
       "      <td>1713</td>\n",
       "      <td>34.999866</td>\n",
       "      <td>No Filter</td>\n",
       "      <td>855</td>\n",
       "      <td>...</td>\n",
       "      <td>0.1</td>\n",
       "      <td>2400</td>\n",
       "      <td>0.05678</td>\n",
       "      <td>0</td>\n",
       "      <td>0</td>\n",
       "      <td>0</td>\n",
       "      <td>2022-02-28T16:40:33</td>\n",
       "      <td>0 days 02:09:56</td>\n",
       "      <td>1</td>\n",
       "      <td>0 days 02:09:56</td>\n",
       "    </tr>\n",
       "  </tbody>\n",
       "</table>\n",
       "<p>5 rows × 23 columns</p>\n",
       "</div>"
      ],
      "text/plain": [
       "                                              LogFile  \\\n",
       "17   /media/habi/Fast_SSD/EAWAG/AN33/rec/AN33_rec.log   \n",
       "18  /media/habi/Fast_SSD/EAWAG/BucketOfFish_A/rec_...   \n",
       "19  /media/habi/Fast_SSD/EAWAG/BucketOfFish_A/rec_...   \n",
       "20  /media/habi/Fast_SSD/EAWAG/BucketOfFish_A/rec_...   \n",
       "21  /media/habi/Fast_SSD/EAWAG/BucketOfFish_A/rec_...   \n",
       "\n",
       "                                               Folder XYAlignment  \\\n",
       "17                /media/habi/Fast_SSD/EAWAG/AN33/rec          []   \n",
       "18  /media/habi/Fast_SSD/EAWAG/BucketOfFish_A/rec_...          []   \n",
       "19  /media/habi/Fast_SSD/EAWAG/BucketOfFish_A/rec_...          []   \n",
       "20  /media/habi/Fast_SSD/EAWAG/BucketOfFish_A/rec_...          []   \n",
       "21  /media/habi/Fast_SSD/EAWAG/BucketOfFish_A/rec_...          []   \n",
       "\n",
       "              Fish        Scan  \\\n",
       "17            AN33         rec   \n",
       "18  BucketOfFish_A   rec_10576   \n",
       "19  BucketOfFish_A   rec_13420   \n",
       "20  BucketOfFish_A  rec_161543   \n",
       "21  BucketOfFish_A    rec_BI10   \n",
       "\n",
       "                                      Reconstructions  \\\n",
       "17  [/media/habi/Fast_SSD/EAWAG/AN33/rec/AN33_rec0...   \n",
       "18  [/media/habi/Fast_SSD/EAWAG/BucketOfFish_A/rec...   \n",
       "19  [/media/habi/Fast_SSD/EAWAG/BucketOfFish_A/rec...   \n",
       "20  [/media/habi/Fast_SSD/EAWAG/BucketOfFish_A/rec...   \n",
       "21  [/media/habi/Fast_SSD/EAWAG/BucketOfFish_A/rec...   \n",
       "\n",
       "    Number of reconstructions  Voxelsize     Filter  Exposuretime  ...  \\\n",
       "17                       4505   8.110939  No Filter           834  ...   \n",
       "18                       1713  34.999866  No Filter           855  ...   \n",
       "19                       1713  34.999866  No Filter           855  ...   \n",
       "20                       1713  34.999866  No Filter           855  ...   \n",
       "21                       1713  34.999866  No Filter           855  ...   \n",
       "\n",
       "   RotationStep CameraWindow  Grayvalue  RingartefactCorrection  \\\n",
       "17          0.1         2400    0.16046                       0   \n",
       "18          0.1         2400    0.05678                       0   \n",
       "19          0.1         2400    0.05678                       0   \n",
       "20          0.1         2400    0.05678                       0   \n",
       "21          0.1         2400    0.05678                       0   \n",
       "\n",
       "    BeamHardeningCorrection  DefectPixelMasking            Scan date  \\\n",
       "17                        0                   0  2021-08-24T12:46:48   \n",
       "18                        0                   0  2022-02-28T16:40:33   \n",
       "19                        0                   0  2022-02-28T16:40:33   \n",
       "20                        0                   0  2022-02-28T16:40:33   \n",
       "21                        0                   0  2022-02-28T16:40:33   \n",
       "\n",
       "         Scan time  Stacks Scan time total  \n",
       "17 0 days 01:49:28       3 0 days 05:28:24  \n",
       "18 0 days 02:09:56       1 0 days 02:09:56  \n",
       "19 0 days 02:09:56       1 0 days 02:09:56  \n",
       "20 0 days 02:09:56       1 0 days 02:09:56  \n",
       "21 0 days 02:09:56       1 0 days 02:09:56  \n",
       "\n",
       "[5 rows x 23 columns]"
      ]
     },
     "execution_count": 120,
     "metadata": {},
     "output_type": "execute_result"
    }
   ],
   "source": [
    "Data.tail()"
   ]
  },
  {
   "cell_type": "code",
   "execution_count": 121,
   "metadata": {},
   "outputs": [],
   "source": [
    "Data['PreviewImagePath'] = [sorted(glob.glob(os.path.join(f, '*_spr.bmp')))[0] for f in Data['Folder']]\n",
    "# Data['PreviewImage'] = [dask_image.imread.imread(pip).squeeze()\n",
    "#                         if pip\n",
    "#                         else numpy.random.random((100, 100)) for pip in Data['PreviewImagePath']]"
   ]
  },
  {
   "cell_type": "code",
   "execution_count": 122,
   "metadata": {},
   "outputs": [],
   "source": [
    "# Make an approximately square overview image\n",
    "# lines = 10"
   ]
  },
  {
   "cell_type": "code",
   "execution_count": 123,
   "metadata": {},
   "outputs": [],
   "source": [
    "# for c, row in Data.iterrows():\n",
    "#     plt.subplot(lines, int(numpy.ceil(len(Data) / float(lines))), c + 1)\n",
    "#     plt.imshow(row.PreviewImage.squeeze())\n",
    "#     plt.title(os.path.join(row['Fish'], row['Scan']))\n",
    "#     plt.gca().add_artist(ScaleBar(row['Voxelsize'],\n",
    "#                                   'um',\n",
    "#                                   color='black',\n",
    "#                                   frameon=True))\n",
    "#     plt.axis('off')\n",
    "# plt.tight_layout()\n",
    "# plt.savefig(os.path.join(Root, 'ScanOverviews.png'),\n",
    "#             bbox_inches='tight')\n",
    "# plt.show()"
   ]
  },
  {
   "cell_type": "code",
   "execution_count": 124,
   "metadata": {
    "tags": []
   },
   "outputs": [
    {
     "data": {
      "application/vnd.jupyter.widget-view+json": {
       "model_id": "0973dcd8b3d845c7a205da678f914367",
       "version_major": 2,
       "version_minor": 0
      },
      "text/plain": [
       "Load reconstructions:   0%|          | 0/22 [00:00<?, ?it/s]"
      ]
     },
     "metadata": {},
     "output_type": "display_data"
    }
   ],
   "source": [
    "# Load all reconstructions into ephemereal DASK arrays\n",
    "Reconstructions = [None] * len(Data)\n",
    "for c, row in tqdm(Data.iterrows(),\n",
    "                   desc='Load reconstructions',\n",
    "                   total=len(Data)):\n",
    "    Reconstructions[c] = dask_image.imread.imread(os.path.join(row['Folder'],\n",
    "                                                               '*rec*.png'))"
   ]
  },
  {
   "cell_type": "code",
   "execution_count": 125,
   "metadata": {
    "tags": []
   },
   "outputs": [],
   "source": [
    "# Check if something went wrong\n",
    "# for file in Data['OutputNameRec']:\n",
    "#     print(file)\n",
    "#     dask.array.from_zarr(file)"
   ]
  },
  {
   "cell_type": "code",
   "execution_count": 126,
   "metadata": {},
   "outputs": [],
   "source": [
    "# How big are the datasets?\n",
    "Data['Size'] = [rec.shape for rec in Reconstructions]"
   ]
  },
  {
   "cell_type": "code",
   "execution_count": 128,
   "metadata": {},
   "outputs": [],
   "source": [
    "# The three cardinal directions\n",
    "# Names adapted to fishes: https://en.wikipedia.org/wiki/Fish_anatomy#Body\n",
    "directions = ['Anteroposterior',\n",
    "              'Lateral',\n",
    "              'Dorsoventral']"
   ]
  },
  {
   "cell_type": "code",
   "execution_count": null,
   "metadata": {},
   "outputs": [
    {
     "data": {
      "application/vnd.jupyter.widget-view+json": {
       "model_id": "e7994cacbbd84826a2cf0ef4b2b52eab",
       "version_major": 2,
       "version_minor": 0
      },
      "text/plain": [
       "Middle images:   0%|          | 0/22 [00:00<?, ?it/s]"
      ]
     },
     "metadata": {},
     "output_type": "display_data"
    },
    {
     "data": {
      "application/vnd.jupyter.widget-view+json": {
       "model_id": "",
       "version_major": 2,
       "version_minor": 0
      },
      "text/plain": [
       "22476/rec_oj Dorsoventral:   0%|          | 0/3 [00:00<?, ?it/s]"
      ]
     },
     "metadata": {},
     "output_type": "display_data"
    },
    {
     "data": {
      "application/vnd.jupyter.widget-view+json": {
       "model_id": "",
       "version_major": 2,
       "version_minor": 0
      },
      "text/plain": [
       "22476/rec_pj Dorsoventral:   0%|          | 0/3 [00:00<?, ?it/s]"
      ]
     },
     "metadata": {},
     "output_type": "display_data"
    },
    {
     "data": {
      "application/vnd.jupyter.widget-view+json": {
       "model_id": "",
       "version_major": 2,
       "version_minor": 0
      },
      "text/plain": [
       "10619/head_rec Dorsoventral:   0%|          | 0/3 [00:00<?, ?it/s]"
      ]
     },
     "metadata": {},
     "output_type": "display_data"
    },
    {
     "data": {
      "application/vnd.jupyter.widget-view+json": {
       "model_id": "",
       "version_major": 2,
       "version_minor": 0
      },
      "text/plain": [
       "10619/head_rec_2xbin_23um Dorsoventral:   0%|          | 0/3 [00:00<?, ?it/s]"
      ]
     },
     "metadata": {},
     "output_type": "display_data"
    },
    {
     "data": {
      "application/vnd.jupyter.widget-view+json": {
       "model_id": "",
       "version_major": 2,
       "version_minor": 0
      },
      "text/plain": [
       "10619/head_rec_4xbin_40um Dorsoventral:   0%|          | 0/3 [00:00<?, ?it/s]"
      ]
     },
     "metadata": {},
     "output_type": "display_data"
    },
    {
     "data": {
      "application/vnd.jupyter.widget-view+json": {
       "model_id": "",
       "version_major": 2,
       "version_minor": 0
      },
      "text/plain": [
       "10619/head_rec_unbinned_17.5um Dorsoventral:   0%|          | 0/3 [00:00<?, ?it/s]"
      ]
     },
     "metadata": {},
     "output_type": "display_data"
    },
    {
     "data": {
      "application/vnd.jupyter.widget-view+json": {
       "model_id": "",
       "version_major": 2,
       "version_minor": 0
      },
      "text/plain": [
       "11447/head_rec Dorsoventral:   0%|          | 0/3 [00:00<?, ?it/s]"
      ]
     },
     "metadata": {},
     "output_type": "display_data"
    },
    {
     "data": {
      "application/vnd.jupyter.widget-view+json": {
       "model_id": "",
       "version_major": 2,
       "version_minor": 0
      },
      "text/plain": [
       "11447/rec Dorsoventral:   0%|          | 0/3 [00:00<?, ?it/s]"
      ]
     },
     "metadata": {},
     "output_type": "display_data"
    },
    {
     "data": {
      "application/vnd.jupyter.widget-view+json": {
       "model_id": "",
       "version_major": 2,
       "version_minor": 0
      },
      "text/plain": [
       "22476/head_rec Dorsoventral:   0%|          | 0/3 [00:00<?, ?it/s]"
      ]
     },
     "metadata": {},
     "output_type": "display_data"
    },
    {
     "data": {
      "application/vnd.jupyter.widget-view+json": {
       "model_id": "46b5e7da27944009a3871314def93137",
       "version_major": 2,
       "version_minor": 0
      },
      "text/plain": [
       "BI10/rec Dorsoventral:   0%|          | 0/3 [00:00<?, ?it/s]"
      ]
     },
     "metadata": {},
     "output_type": "display_data"
    }
   ],
   "source": [
    "# Read or calculate the middle slices, put them into the dataframe and save them to disk\n",
    "for d, direction in enumerate(directions):\n",
    "    Data['Mid_' + direction] = [None] * len(Reconstructions)\n",
    "for c, row in tqdm(Data.iterrows(), desc='Middle images', total=len(Data), leave=False):\n",
    "    for d, direction in tqdm(enumerate(directions),\n",
    "                             desc='%s/%s %s' % (row['Fish'], row['Scan'], direction),\n",
    "                             leave=False,\n",
    "                             total=len(directions)):\n",
    "        outfilepath = os.path.join(os.path.dirname(row['Folder']),\n",
    "                                   '%s.%s.Middle.%s.png' % (row['Fish'],\n",
    "                                                            row['Scan'],\n",
    "                                                            direction))\n",
    "        if os.path.exists(outfilepath):\n",
    "            Data.at[c, 'Mid_' + direction] = dask_image.imread.imread(outfilepath)\n",
    "        else:\n",
    "            # Generate requested axial view\n",
    "            if 'Anteroposterior' in direction:\n",
    "                Data.at[c, 'Mid_' + direction] = Reconstructions[c][Data['Size'][c][0] // 2].compute()\n",
    "            if 'Lateral' in direction:\n",
    "                Data.at[c, 'Mid_' + direction] = Reconstructions[c][:, Data['Size'][c][1] // 2, :].compute()\n",
    "            if 'Dorsoventral' in direction:\n",
    "                Data.at[c, 'Mid_' + direction] = Reconstructions[c][:, :, Data['Size'][c][2] // 2].compute()\n",
    "            # Save the calculated 'direction' view to disk\n",
    "            imageio.imwrite(outfilepath, (Data.at[c, 'Mid_' + direction]))"
   ]
  },
  {
   "cell_type": "code",
   "execution_count": 68,
   "metadata": {},
   "outputs": [],
   "source": [
    "# # Show middle slices\n",
    "# for c, row in tqdm(Data.iterrows(),\n",
    "#                    desc='Saving middle images overview',\n",
    "#                    total=len(Data),\n",
    "#                    leave=False):\n",
    "#     outfilepath = os.path.join(os.path.dirname(row['Folder']),\n",
    "#                                '%s.%s.MiddleSlices.png' % (row['Fish'], row['Scan']))\n",
    "#     if not os.path.exists(outfilepath):    \n",
    "#         for d, direction in tqdm(enumerate(directions),\n",
    "#                                  desc='%s/%s' % (row['Fish'], row['Scan']),\n",
    "#                                  leave=False,\n",
    "#                                  total=len(directions)):\n",
    "#             plt.subplot(1, 3, d + 1)\n",
    "#             plt.imshow(row['Mid_' + direction].squeeze())\n",
    "#             if d == 0:\n",
    "#                 plt.axhline(row.Size[1] // 2, c=seaborn.color_palette()[0])\n",
    "#                 plt.axvline(row.Size[2] // 2, c=seaborn.color_palette()[1])\n",
    "#                 plt.gca().add_artist(ScaleBar(row['Voxelsize'],\n",
    "#                                               'um',\n",
    "#                                               color=seaborn.color_palette()[2]))\n",
    "#             elif d == 1:\n",
    "#                 plt.axhline(row.Size[0] // 2, c=seaborn.color_palette()[2])\n",
    "#                 plt.axvline(row.Size[d] // 2, c=seaborn.color_palette()[1])\n",
    "#                 plt.gca().add_artist(ScaleBar(row['Voxelsize'],\n",
    "#                                               'um',\n",
    "#                                               color=seaborn.color_palette()[0]))\n",
    "#             else:\n",
    "#                 plt.axhline(row.Size[0] // 2, c=seaborn.color_palette()[2])\n",
    "#                 plt.axvline(row.Size[d] // 2, c=seaborn.color_palette()[0])\n",
    "#                 plt.gca().add_artist(ScaleBar(row['Voxelsize'],\n",
    "#                                               'um',\n",
    "#                                               color=seaborn.color_palette()[1]))\n",
    "#             plt.title('%s, %s' % (os.path.join(row['Fish'], row['Scan']),\n",
    "#                                   direction + ' Middle slice'))\n",
    "#             plt.axis('off')\n",
    "#             plt.savefig(outfilepath,\n",
    "#                         transparent=True,\n",
    "#                         bbox_inches='tight')\n",
    "#         plt.show()"
   ]
  },
  {
   "cell_type": "code",
   "execution_count": 70,
   "metadata": {},
   "outputs": [
    {
     "data": {
      "application/vnd.jupyter.widget-view+json": {
       "model_id": "55027dddff374b73bc1f1776cc829a03",
       "version_major": 2,
       "version_minor": 0
      },
      "text/plain": [
       "MIPs:   0%|          | 0/353 [00:00<?, ?it/s]"
      ]
     },
     "metadata": {},
     "output_type": "display_data"
    },
    {
     "data": {
      "application/vnd.jupyter.widget-view+json": {
       "model_id": "",
       "version_major": 2,
       "version_minor": 0
      },
      "text/plain": [
       "103908/jaw_rec:   0%|          | 0/3 [00:00<?, ?it/s]"
      ]
     },
     "metadata": {},
     "output_type": "display_data"
    },
    {
     "data": {
      "application/vnd.jupyter.widget-view+json": {
       "model_id": "",
       "version_major": 2,
       "version_minor": 0
      },
      "text/plain": [
       "Teeth/W_rec_al0.25:   0%|          | 0/3 [00:00<?, ?it/s]"
      ]
     },
     "metadata": {},
     "output_type": "display_data"
    },
    {
     "data": {
      "application/vnd.jupyter.widget-view+json": {
       "model_id": "",
       "version_major": 2,
       "version_minor": 0
      },
      "text/plain": [
       "Teeth/W_rec_nofilter:   0%|          | 0/3 [00:00<?, ?it/s]"
      ]
     },
     "metadata": {},
     "output_type": "display_data"
    },
    {
     "data": {
      "application/vnd.jupyter.widget-view+json": {
       "model_id": "",
       "version_major": 2,
       "version_minor": 0
      },
      "text/plain": [
       "Teeth/P_rec_al0.25:   0%|          | 0/3 [00:00<?, ?it/s]"
      ]
     },
     "metadata": {},
     "output_type": "display_data"
    },
    {
     "data": {
      "application/vnd.jupyter.widget-view+json": {
       "model_id": "",
       "version_major": 2,
       "version_minor": 0
      },
      "text/plain": [
       "Teeth/P_rec_nofilter:   0%|          | 0/3 [00:00<?, ?it/s]"
      ]
     },
     "metadata": {},
     "output_type": "display_data"
    },
    {
     "data": {
      "application/vnd.jupyter.widget-view+json": {
       "model_id": "",
       "version_major": 2,
       "version_minor": 0
      },
      "text/plain": [
       "104016/pharynx_rec:   0%|          | 0/3 [00:00<?, ?it/s]"
      ]
     },
     "metadata": {},
     "output_type": "display_data"
    },
    {
     "data": {
      "application/vnd.jupyter.widget-view+json": {
       "model_id": "",
       "version_major": 2,
       "version_minor": 0
      },
      "text/plain": [
       "103375/rec:   0%|          | 0/3 [00:00<?, ?it/s]"
      ]
     },
     "metadata": {},
     "output_type": "display_data"
    },
    {
     "data": {
      "application/vnd.jupyter.widget-view+json": {
       "model_id": "",
       "version_major": 2,
       "version_minor": 0
      },
      "text/plain": [
       "NY75/rec:   0%|          | 0/3 [00:00<?, ?it/s]"
      ]
     },
     "metadata": {},
     "output_type": "display_data"
    },
    {
     "data": {
      "application/vnd.jupyter.widget-view+json": {
       "model_id": "",
       "version_major": 2,
       "version_minor": 0
      },
      "text/plain": [
       "161543/rec:   0%|          | 0/3 [00:00<?, ?it/s]"
      ]
     },
     "metadata": {},
     "output_type": "display_data"
    },
    {
     "data": {
      "application/vnd.jupyter.widget-view+json": {
       "model_id": "",
       "version_major": 2,
       "version_minor": 0
      },
      "text/plain": [
       "10628/head_13um_rec:   0%|          | 0/3 [00:00<?, ?it/s]"
      ]
     },
     "metadata": {},
     "output_type": "display_data"
    },
    {
     "data": {
      "application/vnd.jupyter.widget-view+json": {
       "model_id": "",
       "version_major": 2,
       "version_minor": 0
      },
      "text/plain": [
       "14298/rec:   0%|          | 0/3 [00:00<?, ?it/s]"
      ]
     },
     "metadata": {},
     "output_type": "display_data"
    },
    {
     "data": {
      "application/vnd.jupyter.widget-view+json": {
       "model_id": "",
       "version_major": 2,
       "version_minor": 0
      },
      "text/plain": [
       "14269/rec:   0%|          | 0/3 [00:00<?, ?it/s]"
      ]
     },
     "metadata": {},
     "output_type": "display_data"
    },
    {
     "data": {
      "application/vnd.jupyter.widget-view+json": {
       "model_id": "",
       "version_major": 2,
       "version_minor": 0
      },
      "text/plain": [
       "21322/jaw_rec_mouth_5um:   0%|          | 0/3 [00:00<?, ?it/s]"
      ]
     },
     "metadata": {},
     "output_type": "display_data"
    },
    {
     "data": {
      "application/vnd.jupyter.widget-view+json": {
       "model_id": "",
       "version_major": 2,
       "version_minor": 0
      },
      "text/plain": [
       "131282/jaw_rec:   0%|          | 0/3 [00:00<?, ?it/s]"
      ]
     },
     "metadata": {},
     "output_type": "display_data"
    },
    {
     "data": {
      "application/vnd.jupyter.widget-view+json": {
       "model_id": "",
       "version_major": 2,
       "version_minor": 0
      },
      "text/plain": [
       "131282/pharynx_rec:   0%|          | 0/3 [00:00<?, ?it/s]"
      ]
     },
     "metadata": {},
     "output_type": "display_data"
    },
    {
     "data": {
      "application/vnd.jupyter.widget-view+json": {
       "model_id": "",
       "version_major": 2,
       "version_minor": 0
      },
      "text/plain": [
       "10628/head_18um_rec:   0%|          | 0/3 [00:00<?, ?it/s]"
      ]
     },
     "metadata": {},
     "output_type": "display_data"
    },
    {
     "data": {
      "application/vnd.jupyter.widget-view+json": {
       "model_id": "",
       "version_major": 2,
       "version_minor": 0
      },
      "text/plain": [
       "11045/rec:   0%|          | 0/3 [00:00<?, ?it/s]"
      ]
     },
     "metadata": {},
     "output_type": "display_data"
    },
    {
     "data": {
      "application/vnd.jupyter.widget-view+json": {
       "model_id": "",
       "version_major": 2,
       "version_minor": 0
      },
      "text/plain": [
       "13115/rec_13um:   0%|          | 0/3 [00:00<?, ?it/s]"
      ]
     },
     "metadata": {},
     "output_type": "display_data"
    },
    {
     "data": {
      "application/vnd.jupyter.widget-view+json": {
       "model_id": "",
       "version_major": 2,
       "version_minor": 0
      },
      "text/plain": [
       "103571/rec:   0%|          | 0/3 [00:00<?, ?it/s]"
      ]
     },
     "metadata": {},
     "output_type": "display_data"
    },
    {
     "data": {
      "application/vnd.jupyter.widget-view+json": {
       "model_id": "",
       "version_major": 2,
       "version_minor": 0
      },
      "text/plain": [
       "14128/rec:   0%|          | 0/3 [00:00<?, ?it/s]"
      ]
     },
     "metadata": {},
     "output_type": "display_data"
    },
    {
     "data": {
      "application/vnd.jupyter.widget-view+json": {
       "model_id": "",
       "version_major": 2,
       "version_minor": 0
      },
      "text/plain": [
       "103767/rec:   0%|          | 0/3 [00:00<?, ?it/s]"
      ]
     },
     "metadata": {},
     "output_type": "display_data"
    },
    {
     "data": {
      "application/vnd.jupyter.widget-view+json": {
       "model_id": "",
       "version_major": 2,
       "version_minor": 0
      },
      "text/plain": [
       "106985/rec:   0%|          | 0/3 [00:00<?, ?it/s]"
      ]
     },
     "metadata": {},
     "output_type": "display_data"
    },
    {
     "data": {
      "application/vnd.jupyter.widget-view+json": {
       "model_id": "",
       "version_major": 2,
       "version_minor": 0
      },
      "text/plain": [
       "TJ3/jaw_rec:   0%|          | 0/3 [00:00<?, ?it/s]"
      ]
     },
     "metadata": {},
     "output_type": "display_data"
    },
    {
     "data": {
      "application/vnd.jupyter.widget-view+json": {
       "model_id": "",
       "version_major": 2,
       "version_minor": 0
      },
      "text/plain": [
       "KAT13/jaw_rec:   0%|          | 0/3 [00:00<?, ?it/s]"
      ]
     },
     "metadata": {},
     "output_type": "display_data"
    },
    {
     "data": {
      "application/vnd.jupyter.widget-view+json": {
       "model_id": "",
       "version_major": 2,
       "version_minor": 0
      },
      "text/plain": [
       "KAT13/pharynx_rec:   0%|          | 0/3 [00:00<?, ?it/s]"
      ]
     },
     "metadata": {},
     "output_type": "display_data"
    },
    {
     "data": {
      "application/vnd.jupyter.widget-view+json": {
       "model_id": "",
       "version_major": 2,
       "version_minor": 0
      },
      "text/plain": [
       "104016/jaw_rec:   0%|          | 0/3 [00:00<?, ?it/s]"
      ]
     },
     "metadata": {},
     "output_type": "display_data"
    },
    {
     "data": {
      "application/vnd.jupyter.widget-view+json": {
       "model_id": "",
       "version_major": 2,
       "version_minor": 0
      },
      "text/plain": [
       "KC31/jaw_rec:   0%|          | 0/3 [00:00<?, ?it/s]"
      ]
     },
     "metadata": {},
     "output_type": "display_data"
    },
    {
     "data": {
      "application/vnd.jupyter.widget-view+json": {
       "model_id": "",
       "version_major": 2,
       "version_minor": 0
      },
      "text/plain": [
       "103778/jaw_rec:   0%|          | 0/3 [00:00<?, ?it/s]"
      ]
     },
     "metadata": {},
     "output_type": "display_data"
    },
    {
     "data": {
      "application/vnd.jupyter.widget-view+json": {
       "model_id": "",
       "version_major": 2,
       "version_minor": 0
      },
      "text/plain": [
       "103635/jaw_rec:   0%|          | 0/3 [00:00<?, ?it/s]"
      ]
     },
     "metadata": {},
     "output_type": "display_data"
    },
    {
     "data": {
      "application/vnd.jupyter.widget-view+json": {
       "model_id": "",
       "version_major": 2,
       "version_minor": 0
      },
      "text/plain": [
       "103734/rec:   0%|          | 0/3 [00:00<?, ?it/s]"
      ]
     },
     "metadata": {},
     "output_type": "display_data"
    },
    {
     "data": {
      "application/vnd.jupyter.widget-view+json": {
       "model_id": "",
       "version_major": 2,
       "version_minor": 0
      },
      "text/plain": [
       "103761/rec:   0%|          | 0/3 [00:00<?, ?it/s]"
      ]
     },
     "metadata": {},
     "output_type": "display_data"
    },
    {
     "data": {
      "application/vnd.jupyter.widget-view+json": {
       "model_id": "",
       "version_major": 2,
       "version_minor": 0
      },
      "text/plain": [
       "11447/rec:   0%|          | 0/3 [00:00<?, ?it/s]"
      ]
     },
     "metadata": {},
     "output_type": "display_data"
    },
    {
     "data": {
      "application/vnd.jupyter.widget-view+json": {
       "model_id": "",
       "version_major": 2,
       "version_minor": 0
      },
      "text/plain": [
       "105005_104015/104015_rec:   0%|          | 0/3 [00:00<?, ?it/s]"
      ]
     },
     "metadata": {},
     "output_type": "display_data"
    },
    {
     "data": {
      "application/vnd.jupyter.widget-view+json": {
       "model_id": "",
       "version_major": 2,
       "version_minor": 0
      },
      "text/plain": [
       "105005_104015/105005_rec:   0%|          | 0/3 [00:00<?, ?it/s]"
      ]
     },
     "metadata": {},
     "output_type": "display_data"
    },
    {
     "data": {
      "application/vnd.jupyter.widget-view+json": {
       "model_id": "",
       "version_major": 2,
       "version_minor": 0
      },
      "text/plain": [
       "103635/pharynx_rec:   0%|          | 0/3 [00:00<?, ?it/s]"
      ]
     },
     "metadata": {},
     "output_type": "display_data"
    },
    {
     "data": {
      "application/vnd.jupyter.widget-view+json": {
       "model_id": "",
       "version_major": 2,
       "version_minor": 0
      },
      "text/plain": [
       "103778/pharynx_rec:   0%|          | 0/3 [00:00<?, ?it/s]"
      ]
     },
     "metadata": {},
     "output_type": "display_data"
    },
    {
     "data": {
      "application/vnd.jupyter.widget-view+json": {
       "model_id": "",
       "version_major": 2,
       "version_minor": 0
      },
      "text/plain": [
       "104021/rec:   0%|          | 0/3 [00:00<?, ?it/s]"
      ]
     },
     "metadata": {},
     "output_type": "display_data"
    },
    {
     "data": {
      "application/vnd.jupyter.widget-view+json": {
       "model_id": "",
       "version_major": 2,
       "version_minor": 0
      },
      "text/plain": [
       "104621/rec:   0%|          | 0/3 [00:00<?, ?it/s]"
      ]
     },
     "metadata": {},
     "output_type": "display_data"
    },
    {
     "data": {
      "application/vnd.jupyter.widget-view+json": {
       "model_id": "",
       "version_major": 2,
       "version_minor": 0
      },
      "text/plain": [
       "11116/rec:   0%|          | 0/3 [00:00<?, ?it/s]"
      ]
     },
     "metadata": {},
     "output_type": "display_data"
    },
    {
     "data": {
      "application/vnd.jupyter.widget-view+json": {
       "model_id": "",
       "version_major": 2,
       "version_minor": 0
      },
      "text/plain": [
       "11946/rec:   0%|          | 0/3 [00:00<?, ?it/s]"
      ]
     },
     "metadata": {},
     "output_type": "display_data"
    },
    {
     "data": {
      "application/vnd.jupyter.widget-view+json": {
       "model_id": "",
       "version_major": 2,
       "version_minor": 0
      },
      "text/plain": [
       "11639/rec:   0%|          | 0/3 [00:00<?, ?it/s]"
      ]
     },
     "metadata": {},
     "output_type": "display_data"
    },
    {
     "data": {
      "application/vnd.jupyter.widget-view+json": {
       "model_id": "",
       "version_major": 2,
       "version_minor": 0
      },
      "text/plain": [
       "13393/rec:   0%|          | 0/3 [00:00<?, ?it/s]"
      ]
     },
     "metadata": {},
     "output_type": "display_data"
    },
    {
     "data": {
      "application/vnd.jupyter.widget-view+json": {
       "model_id": "",
       "version_major": 2,
       "version_minor": 0
      },
      "text/plain": [
       "BH58/rec:   0%|          | 0/3 [00:00<?, ?it/s]"
      ]
     },
     "metadata": {},
     "output_type": "display_data"
    },
    {
     "data": {
      "application/vnd.jupyter.widget-view+json": {
       "model_id": "",
       "version_major": 2,
       "version_minor": 0
      },
      "text/plain": [
       "11500/rec:   0%|          | 0/3 [00:00<?, ?it/s]"
      ]
     },
     "metadata": {},
     "output_type": "display_data"
    },
    {
     "data": {
      "application/vnd.jupyter.widget-view+json": {
       "model_id": "",
       "version_major": 2,
       "version_minor": 0
      },
      "text/plain": [
       "10448/rec:   0%|          | 0/3 [00:00<?, ?it/s]"
      ]
     },
     "metadata": {},
     "output_type": "display_data"
    },
    {
     "data": {
      "application/vnd.jupyter.widget-view+json": {
       "model_id": "",
       "version_major": 2,
       "version_minor": 0
      },
      "text/plain": [
       "11729/rec:   0%|          | 0/3 [00:00<?, ?it/s]"
      ]
     },
     "metadata": {},
     "output_type": "display_data"
    },
    {
     "data": {
      "application/vnd.jupyter.widget-view+json": {
       "model_id": "",
       "version_major": 2,
       "version_minor": 0
      },
      "text/plain": [
       "11322/rec:   0%|          | 0/3 [00:00<?, ?it/s]"
      ]
     },
     "metadata": {},
     "output_type": "display_data"
    },
    {
     "data": {
      "application/vnd.jupyter.widget-view+json": {
       "model_id": "",
       "version_major": 2,
       "version_minor": 0
      },
      "text/plain": [
       "109209/rec:   0%|          | 0/3 [00:00<?, ?it/s]"
      ]
     },
     "metadata": {},
     "output_type": "display_data"
    },
    {
     "data": {
      "application/vnd.jupyter.widget-view+json": {
       "model_id": "",
       "version_major": 2,
       "version_minor": 0
      },
      "text/plain": [
       "109220/rec:   0%|          | 0/3 [00:00<?, ?it/s]"
      ]
     },
     "metadata": {},
     "output_type": "display_data"
    },
    {
     "data": {
      "application/vnd.jupyter.widget-view+json": {
       "model_id": "63de183892e94a4d9d2251969b753f95",
       "version_major": 2,
       "version_minor": 0
      },
      "text/plain": [
       "161476/rec:   0%|          | 0/3 [00:00<?, ?it/s]"
      ]
     },
     "metadata": {},
     "output_type": "display_data"
    },
    {
     "data": {
      "application/vnd.jupyter.widget-view+json": {
       "model_id": "04c27bf6d32c4717a8797c655dddd31e",
       "version_major": 2,
       "version_minor": 0
      },
      "text/plain": [
       "104042/rec:   0%|          | 0/3 [00:00<?, ?it/s]"
      ]
     },
     "metadata": {},
     "output_type": "display_data"
    },
    {
     "data": {
      "application/vnd.jupyter.widget-view+json": {
       "model_id": "a2ad2b80b5b9431eb51f140a30c4fbb8",
       "version_major": 2,
       "version_minor": 0
      },
      "text/plain": [
       "103658/rec:   0%|          | 0/3 [00:00<?, ?it/s]"
      ]
     },
     "metadata": {},
     "output_type": "display_data"
    },
    {
     "data": {
      "application/vnd.jupyter.widget-view+json": {
       "model_id": "b5d7b0542cd642c29576f50563e6017d",
       "version_major": 2,
       "version_minor": 0
      },
      "text/plain": [
       "10628/full_188um_rec:   0%|          | 0/3 [00:00<?, ?it/s]"
      ]
     },
     "metadata": {},
     "output_type": "display_data"
    },
    {
     "data": {
      "application/vnd.jupyter.widget-view+json": {
       "model_id": "00fd7366235b4a8f86ba68a3e03125ad",
       "version_major": 2,
       "version_minor": 0
      },
      "text/plain": [
       "10791/rec:   0%|          | 0/3 [00:00<?, ?it/s]"
      ]
     },
     "metadata": {},
     "output_type": "display_data"
    },
    {
     "data": {
      "application/vnd.jupyter.widget-view+json": {
       "model_id": "145d35c799a34f4d9845760e0f174cc9",
       "version_major": 2,
       "version_minor": 0
      },
      "text/plain": [
       "11313/rec:   0%|          | 0/3 [00:00<?, ?it/s]"
      ]
     },
     "metadata": {},
     "output_type": "display_data"
    },
    {
     "data": {
      "application/vnd.jupyter.widget-view+json": {
       "model_id": "fda8f4ec1c354eacbc68f08c2f5f9245",
       "version_major": 2,
       "version_minor": 0
      },
      "text/plain": [
       "106816/rec:   0%|          | 0/3 [00:00<?, ?it/s]"
      ]
     },
     "metadata": {},
     "output_type": "display_data"
    },
    {
     "data": {
      "application/vnd.jupyter.widget-view+json": {
       "model_id": "89cccd8b73144405b8eaff2a51d7e11c",
       "version_major": 2,
       "version_minor": 0
      },
      "text/plain": [
       "11601/rec:   0%|          | 0/3 [00:00<?, ?it/s]"
      ]
     },
     "metadata": {},
     "output_type": "display_data"
    },
    {
     "data": {
      "application/vnd.jupyter.widget-view+json": {
       "model_id": "e1b15453a756400dba47b48368a77c5a",
       "version_major": 2,
       "version_minor": 0
      },
      "text/plain": [
       "104671_156645/104671_rec:   0%|          | 0/3 [00:00<?, ?it/s]"
      ]
     },
     "metadata": {},
     "output_type": "display_data"
    },
    {
     "data": {
      "application/vnd.jupyter.widget-view+json": {
       "model_id": "0326e61cd2244edfbd16d7f706c792a1",
       "version_major": 2,
       "version_minor": 0
      },
      "text/plain": [
       "10618/head_head_rec:   0%|          | 0/3 [00:00<?, ?it/s]"
      ]
     },
     "metadata": {},
     "output_type": "display_data"
    },
    {
     "data": {
      "application/vnd.jupyter.widget-view+json": {
       "model_id": "8afe7c5c4c8c4ba299c12de2c6c3ba8e",
       "version_major": 2,
       "version_minor": 0
      },
      "text/plain": [
       "10618/rec:   0%|          | 0/3 [00:00<?, ?it/s]"
      ]
     },
     "metadata": {},
     "output_type": "display_data"
    },
    {
     "data": {
      "application/vnd.jupyter.widget-view+json": {
       "model_id": "3651bd39535e427095f5e2ebc0ca8769",
       "version_major": 2,
       "version_minor": 0
      },
      "text/plain": [
       "104671_156645/156645_rec:   0%|          | 0/3 [00:00<?, ?it/s]"
      ]
     },
     "metadata": {},
     "output_type": "display_data"
    },
    {
     "data": {
      "application/vnd.jupyter.widget-view+json": {
       "model_id": "76d23f6e87844b61ac4cda980bfc0b0f",
       "version_major": 2,
       "version_minor": 0
      },
      "text/plain": [
       "109320/rec:   0%|          | 0/3 [00:00<?, ?it/s]"
      ]
     },
     "metadata": {},
     "output_type": "display_data"
    },
    {
     "data": {
      "application/vnd.jupyter.widget-view+json": {
       "model_id": "eb88d46ea001401083bd20226e7fad59",
       "version_major": 2,
       "version_minor": 0
      },
      "text/plain": [
       "IG161/rec:   0%|          | 0/3 [00:00<?, ?it/s]"
      ]
     },
     "metadata": {},
     "output_type": "display_data"
    },
    {
     "data": {
      "application/vnd.jupyter.widget-view+json": {
       "model_id": "6b5878e6324048f4ab35fabb85c72072",
       "version_major": 2,
       "version_minor": 0
      },
      "text/plain": [
       "10605/rec:   0%|          | 0/3 [00:00<?, ?it/s]"
      ]
     },
     "metadata": {},
     "output_type": "display_data"
    },
    {
     "data": {
      "application/vnd.jupyter.widget-view+json": {
       "model_id": "6566340f047e4ce889b884e6260d8b7f",
       "version_major": 2,
       "version_minor": 0
      },
      "text/plain": [
       "10576/rec:   0%|          | 0/3 [00:00<?, ?it/s]"
      ]
     },
     "metadata": {},
     "output_type": "display_data"
    },
    {
     "data": {
      "application/vnd.jupyter.widget-view+json": {
       "model_id": "28d1c12488be43038b63af284168a0e7",
       "version_major": 2,
       "version_minor": 0
      },
      "text/plain": [
       "IG104/rec:   0%|          | 0/3 [00:00<?, ?it/s]"
      ]
     },
     "metadata": {},
     "output_type": "display_data"
    },
    {
     "data": {
      "application/vnd.jupyter.widget-view+json": {
       "model_id": "2b2a43f59cbd4a3a9e39636540e7894d",
       "version_major": 2,
       "version_minor": 0
      },
      "text/plain": [
       "JU22/rec:   0%|          | 0/3 [00:00<?, ?it/s]"
      ]
     },
     "metadata": {},
     "output_type": "display_data"
    },
    {
     "data": {
      "application/vnd.jupyter.widget-view+json": {
       "model_id": "de8f6c3081a047bd99503b054d045422",
       "version_major": 2,
       "version_minor": 0
      },
      "text/plain": [
       "104061/rec:   0%|          | 0/3 [00:00<?, ?it/s]"
      ]
     },
     "metadata": {},
     "output_type": "display_data"
    },
    {
     "data": {
      "application/vnd.jupyter.widget-view+json": {
       "model_id": "7918c9c7634940589e55cd41966e3bc9",
       "version_major": 2,
       "version_minor": 0
      },
      "text/plain": [
       "TN31/rec:   0%|          | 0/3 [00:00<?, ?it/s]"
      ]
     },
     "metadata": {},
     "output_type": "display_data"
    },
    {
     "data": {
      "application/vnd.jupyter.widget-view+json": {
       "model_id": "fe51171251894644879a11fb23358674",
       "version_major": 2,
       "version_minor": 0
      },
      "text/plain": [
       "10794/rec:   0%|          | 0/3 [00:00<?, ?it/s]"
      ]
     },
     "metadata": {},
     "output_type": "display_data"
    },
    {
     "data": {
      "application/vnd.jupyter.widget-view+json": {
       "model_id": "80d3a96cd1f84d6688431c6cc8c09f65",
       "version_major": 2,
       "version_minor": 0
      },
      "text/plain": [
       "11965/rec:   0%|          | 0/3 [00:00<?, ?it/s]"
      ]
     },
     "metadata": {},
     "output_type": "display_data"
    },
    {
     "data": {
      "application/vnd.jupyter.widget-view+json": {
       "model_id": "7a85d323ee35483283ef3aee47ffd87f",
       "version_major": 2,
       "version_minor": 0
      },
      "text/plain": [
       "14125/rec:   0%|          | 0/3 [00:00<?, ?it/s]"
      ]
     },
     "metadata": {},
     "output_type": "display_data"
    },
    {
     "data": {
      "application/vnd.jupyter.widget-view+json": {
       "model_id": "f9175dd938124ba9aaf33f94992ce803",
       "version_major": 2,
       "version_minor": 0
      },
      "text/plain": [
       "12319/rec:   0%|          | 0/3 [00:00<?, ?it/s]"
      ]
     },
     "metadata": {},
     "output_type": "display_data"
    },
    {
     "data": {
      "application/vnd.jupyter.widget-view+json": {
       "model_id": "caecc86171c24c28b0ff9309246750de",
       "version_major": 2,
       "version_minor": 0
      },
      "text/plain": [
       "13492/rec:   0%|          | 0/3 [00:00<?, ?it/s]"
      ]
     },
     "metadata": {},
     "output_type": "display_data"
    },
    {
     "data": {
      "application/vnd.jupyter.widget-view+json": {
       "model_id": "b276e0940012496d867ea571b173263d",
       "version_major": 2,
       "version_minor": 0
      },
      "text/plain": [
       "BI10/rec:   0%|          | 0/3 [00:00<?, ?it/s]"
      ]
     },
     "metadata": {},
     "output_type": "display_data"
    },
    {
     "data": {
      "application/vnd.jupyter.widget-view+json": {
       "model_id": "d734cfb698d34ff595812c59062a5891",
       "version_major": 2,
       "version_minor": 0
      },
      "text/plain": [
       "TMG15/rec:   0%|          | 0/3 [00:00<?, ?it/s]"
      ]
     },
     "metadata": {},
     "output_type": "display_data"
    },
    {
     "data": {
      "application/vnd.jupyter.widget-view+json": {
       "model_id": "d478f8e61acc464293f3aca13e581459",
       "version_major": 2,
       "version_minor": 0
      },
      "text/plain": [
       "KI30/rec:   0%|          | 0/3 [00:00<?, ?it/s]"
      ]
     },
     "metadata": {},
     "output_type": "display_data"
    },
    {
     "data": {
      "application/vnd.jupyter.widget-view+json": {
       "model_id": "0dda6cc3c4db45fd8d02d5071a198582",
       "version_major": 2,
       "version_minor": 0
      },
      "text/plain": [
       "11344/rec_rescan:   0%|          | 0/3 [00:00<?, ?it/s]"
      ]
     },
     "metadata": {},
     "output_type": "display_data"
    },
    {
     "data": {
      "application/vnd.jupyter.widget-view+json": {
       "model_id": "9f57006990f34b9d814e67c24974a09c",
       "version_major": 2,
       "version_minor": 0
      },
      "text/plain": [
       "10794/rec_rescan:   0%|          | 0/3 [00:00<?, ?it/s]"
      ]
     },
     "metadata": {},
     "output_type": "display_data"
    },
    {
     "data": {
      "application/vnd.jupyter.widget-view+json": {
       "model_id": "2a8b4d65acb5416c8748b9a5535dc561",
       "version_major": 2,
       "version_minor": 0
      },
      "text/plain": [
       "11965/rec_rescan:   0%|          | 0/3 [00:00<?, ?it/s]"
      ]
     },
     "metadata": {},
     "output_type": "display_data"
    },
    {
     "data": {
      "application/vnd.jupyter.widget-view+json": {
       "model_id": "cdf6a6b55fe242169c8524f99d7e9682",
       "version_major": 2,
       "version_minor": 0
      },
      "text/plain": [
       "MA31/rec_rescan:   0%|          | 0/3 [00:00<?, ?it/s]"
      ]
     },
     "metadata": {},
     "output_type": "display_data"
    },
    {
     "data": {
      "application/vnd.jupyter.widget-view+json": {
       "model_id": "10354acae602459a849ebe268b796afc",
       "version_major": 2,
       "version_minor": 0
      },
      "text/plain": [
       "12849/rec:   0%|          | 0/3 [00:00<?, ?it/s]"
      ]
     },
     "metadata": {},
     "output_type": "display_data"
    },
    {
     "data": {
      "application/vnd.jupyter.widget-view+json": {
       "model_id": "595a2eec2013423288fff7e8af4df73f",
       "version_major": 2,
       "version_minor": 0
      },
      "text/plain": [
       "104061/rec_rescan:   0%|          | 0/3 [00:00<?, ?it/s]"
      ]
     },
     "metadata": {},
     "output_type": "display_data"
    },
    {
     "data": {
      "application/vnd.jupyter.widget-view+json": {
       "model_id": "32eef6cde6554fbd834e39ee16508dfd",
       "version_major": 2,
       "version_minor": 0
      },
      "text/plain": [
       "IG156/rec:   0%|          | 0/3 [00:00<?, ?it/s]"
      ]
     },
     "metadata": {},
     "output_type": "display_data"
    },
    {
     "data": {
      "application/vnd.jupyter.widget-view+json": {
       "model_id": "0d39a2ea321043b28247f70c2fb1649b",
       "version_major": 2,
       "version_minor": 0
      },
      "text/plain": [
       "103767/rec_rereconstruct:   0%|          | 0/3 [00:00<?, ?it/s]"
      ]
     },
     "metadata": {},
     "output_type": "display_data"
    },
    {
     "data": {
      "application/vnd.jupyter.widget-view+json": {
       "model_id": "4024a9fd9e5447868ddae3dcb88bf9ed",
       "version_major": 2,
       "version_minor": 0
      },
      "text/plain": [
       "11447/rec_rereconstruct:   0%|          | 0/3 [00:00<?, ?it/s]"
      ]
     },
     "metadata": {},
     "output_type": "display_data"
    },
    {
     "data": {
      "application/vnd.jupyter.widget-view+json": {
       "model_id": "8f7f3b3d446f4ac6aee7764b76cf2af1",
       "version_major": 2,
       "version_minor": 0
      },
      "text/plain": [
       "10448/rec_rereconstruct:   0%|          | 0/3 [00:00<?, ?it/s]"
      ]
     },
     "metadata": {},
     "output_type": "display_data"
    },
    {
     "data": {
      "application/vnd.jupyter.widget-view+json": {
       "model_id": "49653e94d9bd43d1ba42f77395369fe4",
       "version_major": 2,
       "version_minor": 0
      },
      "text/plain": [
       "10151/rec:   0%|          | 0/3 [00:00<?, ?it/s]"
      ]
     },
     "metadata": {},
     "output_type": "display_data"
    },
    {
     "data": {
      "application/vnd.jupyter.widget-view+json": {
       "model_id": "13aedff0177c48c193db1871f65e407d",
       "version_major": 2,
       "version_minor": 0
      },
      "text/plain": [
       "IG291/rec:   0%|          | 0/3 [00:00<?, ?it/s]"
      ]
     },
     "metadata": {},
     "output_type": "display_data"
    },
    {
     "data": {
      "application/vnd.jupyter.widget-view+json": {
       "model_id": "5d21681e1dc04e4ca9530f5584c36311",
       "version_major": 2,
       "version_minor": 0
      },
      "text/plain": [
       "13069/rec:   0%|          | 0/3 [00:00<?, ?it/s]"
      ]
     },
     "metadata": {},
     "output_type": "display_data"
    },
    {
     "data": {
      "application/vnd.jupyter.widget-view+json": {
       "model_id": "9b3ea9f47ba24f37ae27b4ea77fd1e6f",
       "version_major": 2,
       "version_minor": 0
      },
      "text/plain": [
       "13281/rec:   0%|          | 0/3 [00:00<?, ?it/s]"
      ]
     },
     "metadata": {},
     "output_type": "display_data"
    },
    {
     "data": {
      "application/vnd.jupyter.widget-view+json": {
       "model_id": "345ad18a4e6d4f3ba5de1ca33deacab1",
       "version_major": 2,
       "version_minor": 0
      },
      "text/plain": [
       "14233/rec:   0%|          | 0/3 [00:00<?, ?it/s]"
      ]
     },
     "metadata": {},
     "output_type": "display_data"
    },
    {
     "data": {
      "application/vnd.jupyter.widget-view+json": {
       "model_id": "0cbe1738f7c84663bdee08537e6e7720",
       "version_major": 2,
       "version_minor": 0
      },
      "text/plain": [
       "13269/rec:   0%|          | 0/3 [00:00<?, ?it/s]"
      ]
     },
     "metadata": {},
     "output_type": "display_data"
    },
    {
     "data": {
      "application/vnd.jupyter.widget-view+json": {
       "model_id": "987fc65af6ec423ea1f329040e469c1e",
       "version_major": 2,
       "version_minor": 0
      },
      "text/plain": [
       "MB51/rec:   0%|          | 0/3 [00:00<?, ?it/s]"
      ]
     },
     "metadata": {},
     "output_type": "display_data"
    },
    {
     "data": {
      "application/vnd.jupyter.widget-view+json": {
       "model_id": "f47e894f46ed4ff9aa6f3db0243882ac",
       "version_major": 2,
       "version_minor": 0
      },
      "text/plain": [
       "TS03/rec:   0%|          | 0/3 [00:00<?, ?it/s]"
      ]
     },
     "metadata": {},
     "output_type": "display_data"
    },
    {
     "data": {
      "application/vnd.jupyter.widget-view+json": {
       "model_id": "8ad8ba29d5bb4fef9637effd23967913",
       "version_major": 2,
       "version_minor": 0
      },
      "text/plain": [
       "IG142/rec:   0%|          | 0/3 [00:00<?, ?it/s]"
      ]
     },
     "metadata": {},
     "output_type": "display_data"
    },
    {
     "data": {
      "application/vnd.jupyter.widget-view+json": {
       "model_id": "9a12468b43b84b44b0785a458819cb4a",
       "version_major": 2,
       "version_minor": 0
      },
      "text/plain": [
       "103723/rec:   0%|          | 0/3 [00:00<?, ?it/s]"
      ]
     },
     "metadata": {},
     "output_type": "display_data"
    },
    {
     "data": {
      "application/vnd.jupyter.widget-view+json": {
       "model_id": "9066699247d545ed86de127b5cfc1059",
       "version_major": 2,
       "version_minor": 0
      },
      "text/plain": [
       "MA38/rec:   0%|          | 0/3 [00:00<?, ?it/s]"
      ]
     },
     "metadata": {},
     "output_type": "display_data"
    },
    {
     "data": {
      "application/vnd.jupyter.widget-view+json": {
       "model_id": "ef58be0f510c439ea5c039d066fa8fc4",
       "version_major": 2,
       "version_minor": 0
      },
      "text/plain": [
       "106641/rec:   0%|          | 0/3 [00:00<?, ?it/s]"
      ]
     },
     "metadata": {},
     "output_type": "display_data"
    },
    {
     "data": {
      "application/vnd.jupyter.widget-view+json": {
       "model_id": "544c064551524f45b1d4d8e8239583b7",
       "version_major": 2,
       "version_minor": 0
      },
      "text/plain": [
       "11992/rec:   0%|          | 0/3 [00:00<?, ?it/s]"
      ]
     },
     "metadata": {},
     "output_type": "display_data"
    },
    {
     "data": {
      "application/vnd.jupyter.widget-view+json": {
       "model_id": "18829e3251704a0c9537d13726ac78b9",
       "version_major": 2,
       "version_minor": 0
      },
      "text/plain": [
       "11729/rec_rereconstruct:   0%|          | 0/3 [00:00<?, ?it/s]"
      ]
     },
     "metadata": {},
     "output_type": "display_data"
    },
    {
     "data": {
      "application/vnd.jupyter.widget-view+json": {
       "model_id": "8357da054a124b57bae41b19b95b236e",
       "version_major": 2,
       "version_minor": 0
      },
      "text/plain": [
       "13420/rec:   0%|          | 0/3 [00:00<?, ?it/s]"
      ]
     },
     "metadata": {},
     "output_type": "display_data"
    },
    {
     "data": {
      "application/vnd.jupyter.widget-view+json": {
       "model_id": "9016ee039fa840d7832f0fc74fb5444a",
       "version_major": 2,
       "version_minor": 0
      },
      "text/plain": [
       "11601/rec_rereconstruct:   0%|          | 0/3 [00:00<?, ?it/s]"
      ]
     },
     "metadata": {},
     "output_type": "display_data"
    },
    {
     "data": {
      "application/vnd.jupyter.widget-view+json": {
       "model_id": "b4ff8ef465f24604b760628fce53abae",
       "version_major": 2,
       "version_minor": 0
      },
      "text/plain": [
       "IG41/rec:   0%|          | 0/3 [00:00<?, ?it/s]"
      ]
     },
     "metadata": {},
     "output_type": "display_data"
    },
    {
     "data": {
      "application/vnd.jupyter.widget-view+json": {
       "model_id": "0e70ca5be3924ef4b9c0a6a5c6e5d9da",
       "version_major": 2,
       "version_minor": 0
      },
      "text/plain": [
       "ZuOS148/rec:   0%|          | 0/3 [00:00<?, ?it/s]"
      ]
     },
     "metadata": {},
     "output_type": "display_data"
    },
    {
     "data": {
      "application/vnd.jupyter.widget-view+json": {
       "model_id": "b92657bf57f84172a3da3d9abf6b2990",
       "version_major": 2,
       "version_minor": 0
      },
      "text/plain": [
       "161476/rec_rereconstruct:   0%|          | 0/3 [00:00<?, ?it/s]"
      ]
     },
     "metadata": {},
     "output_type": "display_data"
    },
    {
     "data": {
      "application/vnd.jupyter.widget-view+json": {
       "model_id": "4c49fadf3003495683c3933ffee693be",
       "version_major": 2,
       "version_minor": 0
      },
      "text/plain": [
       "ZU12/rec:   0%|          | 0/3 [00:00<?, ?it/s]"
      ]
     },
     "metadata": {},
     "output_type": "display_data"
    },
    {
     "data": {
      "application/vnd.jupyter.widget-view+json": {
       "model_id": "69f1b112243c4b7bab1de9dc8f7cac35",
       "version_major": 2,
       "version_minor": 0
      },
      "text/plain": [
       "11807/rec:   0%|          | 0/3 [00:00<?, ?it/s]"
      ]
     },
     "metadata": {},
     "output_type": "display_data"
    },
    {
     "data": {
      "application/vnd.jupyter.widget-view+json": {
       "model_id": "589f70e5fdd9462d9b442e65f0c734a6",
       "version_major": 2,
       "version_minor": 0
      },
      "text/plain": [
       "11557/rec:   0%|          | 0/3 [00:00<?, ?it/s]"
      ]
     },
     "metadata": {},
     "output_type": "display_data"
    },
    {
     "data": {
      "application/vnd.jupyter.widget-view+json": {
       "model_id": "b9b983a92baf4b729a841fe477077637",
       "version_major": 2,
       "version_minor": 0
      },
      "text/plain": [
       "12319/head_50um_rec:   0%|          | 0/3 [00:00<?, ?it/s]"
      ]
     },
     "metadata": {},
     "output_type": "display_data"
    },
    {
     "data": {
      "application/vnd.jupyter.widget-view+json": {
       "model_id": "b0c87739ea29439a8b4d40a1c2dc985c",
       "version_major": 2,
       "version_minor": 0
      },
      "text/plain": [
       "12319/head_30um_rec:   0%|          | 0/3 [00:00<?, ?it/s]"
      ]
     },
     "metadata": {},
     "output_type": "display_data"
    },
    {
     "data": {
      "application/vnd.jupyter.widget-view+json": {
       "model_id": "a49637296cbc4fbc8ae9d39076e12867",
       "version_major": 2,
       "version_minor": 0
      },
      "text/plain": [
       "109188/head_rec:   0%|          | 0/3 [00:00<?, ?it/s]"
      ]
     },
     "metadata": {},
     "output_type": "display_data"
    },
    {
     "data": {
      "application/vnd.jupyter.widget-view+json": {
       "model_id": "d6a780fe7ac44df5b1457451c8efc3c0",
       "version_major": 2,
       "version_minor": 0
      },
      "text/plain": [
       "IG80/rec:   0%|          | 0/3 [00:00<?, ?it/s]"
      ]
     },
     "metadata": {},
     "output_type": "display_data"
    },
    {
     "data": {
      "application/vnd.jupyter.widget-view+json": {
       "model_id": "953e46e86fdc40e6ad3764bdc2f331c3",
       "version_major": 2,
       "version_minor": 0
      },
      "text/plain": [
       "IG80/head_rec:   0%|          | 0/3 [00:00<?, ?it/s]"
      ]
     },
     "metadata": {},
     "output_type": "display_data"
    },
    {
     "data": {
      "application/vnd.jupyter.widget-view+json": {
       "model_id": "eb3bf7d560dc4d628406fb1cc6b1d780",
       "version_major": 2,
       "version_minor": 0
      },
      "text/plain": [
       "10448/head_rec_head:   0%|          | 0/3 [00:00<?, ?it/s]"
      ]
     },
     "metadata": {},
     "output_type": "display_data"
    },
    {
     "data": {
      "application/vnd.jupyter.widget-view+json": {
       "model_id": "f687bd14358649e0a0801251c64b0fe9",
       "version_major": 2,
       "version_minor": 0
      },
      "text/plain": [
       "10448/rec_rescan:   0%|          | 0/3 [00:00<?, ?it/s]"
      ]
     },
     "metadata": {},
     "output_type": "display_data"
    },
    {
     "data": {
      "application/vnd.jupyter.widget-view+json": {
       "model_id": "e3eeb69087ac4cc6baf478f58baa1f31",
       "version_major": 2,
       "version_minor": 0
      },
      "text/plain": [
       "11601/head_rec_head:   0%|          | 0/3 [00:00<?, ?it/s]"
      ]
     },
     "metadata": {},
     "output_type": "display_data"
    },
    {
     "data": {
      "application/vnd.jupyter.widget-view+json": {
       "model_id": "e343e4c084b747a5869b87e41c44edbe",
       "version_major": 2,
       "version_minor": 0
      },
      "text/plain": [
       "ZU12/rec_reconstruct:   0%|          | 0/3 [00:00<?, ?it/s]"
      ]
     },
     "metadata": {},
     "output_type": "display_data"
    },
    {
     "data": {
      "application/vnd.jupyter.widget-view+json": {
       "model_id": "69cec6af46e34912af157294c05c2811",
       "version_major": 2,
       "version_minor": 0
      },
      "text/plain": [
       "TS03/rec_rereconstruct:   0%|          | 0/3 [00:00<?, ?it/s]"
      ]
     },
     "metadata": {},
     "output_type": "display_data"
    },
    {
     "data": {
      "application/vnd.jupyter.widget-view+json": {
       "model_id": "f24dd994602a41279f9349fd5f04e7e4",
       "version_major": 2,
       "version_minor": 0
      },
      "text/plain": [
       "IG104/head_rec_head:   0%|          | 0/3 [00:00<?, ?it/s]"
      ]
     },
     "metadata": {},
     "output_type": "display_data"
    },
    {
     "data": {
      "application/vnd.jupyter.widget-view+json": {
       "model_id": "b85b32d1f601451cbcf313486bdbd207",
       "version_major": 2,
       "version_minor": 0
      },
      "text/plain": [
       "109320/head_rec:   0%|          | 0/3 [00:00<?, ?it/s]"
      ]
     },
     "metadata": {},
     "output_type": "display_data"
    },
    {
     "data": {
      "application/vnd.jupyter.widget-view+json": {
       "model_id": "1ad8d823bed84e85bd01696dd4fe0a8e",
       "version_major": 2,
       "version_minor": 0
      },
      "text/plain": [
       "10605/head_rec:   0%|          | 0/3 [00:00<?, ?it/s]"
      ]
     },
     "metadata": {},
     "output_type": "display_data"
    },
    {
     "data": {
      "application/vnd.jupyter.widget-view+json": {
       "model_id": "1e84a58a69ae474b94818c88c2bcbb76",
       "version_major": 2,
       "version_minor": 0
      },
      "text/plain": [
       "10794/rec_rescan_rereconstruct_OJ:   0%|          | 0/3 [00:00<?, ?it/s]"
      ]
     },
     "metadata": {},
     "output_type": "display_data"
    },
    {
     "data": {
      "application/vnd.jupyter.widget-view+json": {
       "model_id": "0cda1ccc0dbf4ea8a32c9ef6e52be294",
       "version_major": 2,
       "version_minor": 0
      },
      "text/plain": [
       "IG80/rec_rereconstruct_OJ:   0%|          | 0/3 [00:00<?, ?it/s]"
      ]
     },
     "metadata": {},
     "output_type": "display_data"
    },
    {
     "data": {
      "application/vnd.jupyter.widget-view+json": {
       "model_id": "c67f4483a8d6460d9ac6f8660a8e11e0",
       "version_major": 2,
       "version_minor": 0
      },
      "text/plain": [
       "11557/rec_rereconstruct_OJ_A:   0%|          | 0/3 [00:00<?, ?it/s]"
      ]
     },
     "metadata": {},
     "output_type": "display_data"
    },
    {
     "data": {
      "application/vnd.jupyter.widget-view+json": {
       "model_id": "cee29af213f049d2991cece9897dc448",
       "version_major": 2,
       "version_minor": 0
      },
      "text/plain": [
       "11557/rec_rereconstruct_OJ_B:   0%|          | 0/3 [00:00<?, ?it/s]"
      ]
     },
     "metadata": {},
     "output_type": "display_data"
    },
    {
     "data": {
      "application/vnd.jupyter.widget-view+json": {
       "model_id": "7434bc41a1354262a85df77d11695110",
       "version_major": 2,
       "version_minor": 0
      },
      "text/plain": [
       "MA31/rec_rescan_rereconstruct_OJ:   0%|          | 0/3 [00:00<?, ?it/s]"
      ]
     },
     "metadata": {},
     "output_type": "display_data"
    },
    {
     "data": {
      "application/vnd.jupyter.widget-view+json": {
       "model_id": "52ef16b947434d30934c7efe0b5e9cde",
       "version_major": 2,
       "version_minor": 0
      },
      "text/plain": [
       "10619/rec_rescan_OJ:   0%|          | 0/3 [00:00<?, ?it/s]"
      ]
     },
     "metadata": {},
     "output_type": "display_data"
    },
    {
     "data": {
      "application/vnd.jupyter.widget-view+json": {
       "model_id": "18ea2d530dd4462aa78382f88363b27b",
       "version_major": 2,
       "version_minor": 0
      },
      "text/plain": [
       "10619/rec:   0%|          | 0/3 [00:00<?, ?it/s]"
      ]
     },
     "metadata": {},
     "output_type": "display_data"
    },
    {
     "data": {
      "application/vnd.jupyter.widget-view+json": {
       "model_id": "f5a7f28fb2a74a069737dccd4b5094a4",
       "version_major": 2,
       "version_minor": 0
      },
      "text/plain": [
       "10619/head_rec_unbinned_17.5um:   0%|          | 0/3 [00:00<?, ?it/s]"
      ]
     },
     "metadata": {},
     "output_type": "display_data"
    },
    {
     "data": {
      "application/vnd.jupyter.widget-view+json": {
       "model_id": "2ebb4f19bb8545958c46daf0cb3ca6d5",
       "version_major": 2,
       "version_minor": 0
      },
      "text/plain": [
       "103718/head_rec:   0%|          | 0/3 [00:00<?, ?it/s]"
      ]
     },
     "metadata": {},
     "output_type": "display_data"
    },
    {
     "data": {
      "application/vnd.jupyter.widget-view+json": {
       "model_id": "d2c29232f6b448f596718ef90313e339",
       "version_major": 2,
       "version_minor": 0
      },
      "text/plain": [
       "103718/rec:   0%|          | 0/3 [00:00<?, ?it/s]"
      ]
     },
     "metadata": {},
     "output_type": "display_data"
    },
    {
     "data": {
      "application/vnd.jupyter.widget-view+json": {
       "model_id": "b55e7819a24046e9bd1f249cbb9cc133",
       "version_major": 2,
       "version_minor": 0
      },
      "text/plain": [
       "104671/head_rec:   0%|          | 0/3 [00:00<?, ?it/s]"
      ]
     },
     "metadata": {},
     "output_type": "display_data"
    },
    {
     "data": {
      "application/vnd.jupyter.widget-view+json": {
       "model_id": "9fe6e6c2a6034c8689abd1c7f9dcbd1d",
       "version_major": 2,
       "version_minor": 0
      },
      "text/plain": [
       "104671/rec:   0%|          | 0/3 [00:00<?, ?it/s]"
      ]
     },
     "metadata": {},
     "output_type": "display_data"
    },
    {
     "data": {
      "application/vnd.jupyter.widget-view+json": {
       "model_id": "0d4cf64ebe15444e91ada54157740239",
       "version_major": 2,
       "version_minor": 0
      },
      "text/plain": [
       "104671/head_rec2:   0%|          | 0/3 [00:00<?, ?it/s]"
      ]
     },
     "metadata": {},
     "output_type": "display_data"
    },
    {
     "data": {
      "application/vnd.jupyter.widget-view+json": {
       "model_id": "95da328251e7490a9a8ead0c6dfed6e6",
       "version_major": 2,
       "version_minor": 0
      },
      "text/plain": [
       "103704/rec:   0%|          | 0/3 [00:00<?, ?it/s]"
      ]
     },
     "metadata": {},
     "output_type": "display_data"
    },
    {
     "data": {
      "application/vnd.jupyter.widget-view+json": {
       "model_id": "2dfcea80a68248f1ad0ab62a5896be16",
       "version_major": 2,
       "version_minor": 0
      },
      "text/plain": [
       "103704/head_rec:   0%|          | 0/3 [00:00<?, ?it/s]"
      ]
     },
     "metadata": {},
     "output_type": "display_data"
    },
    {
     "data": {
      "application/vnd.jupyter.widget-view+json": {
       "model_id": "1990f0c2bab54308a1e3a267bdf0f59d",
       "version_major": 2,
       "version_minor": 0
      },
      "text/plain": [
       "11639/head_rec:   0%|          | 0/3 [00:00<?, ?it/s]"
      ]
     },
     "metadata": {},
     "output_type": "display_data"
    },
    {
     "data": {
      "application/vnd.jupyter.widget-view+json": {
       "model_id": "23683e567ff4426bbfb298d0ad47b12e",
       "version_major": 2,
       "version_minor": 0
      },
      "text/plain": [
       "10794/head_rec:   0%|          | 0/3 [00:00<?, ?it/s]"
      ]
     },
     "metadata": {},
     "output_type": "display_data"
    },
    {
     "data": {
      "application/vnd.jupyter.widget-view+json": {
       "model_id": "955e2542c0c34301becd00e1d51e19a3",
       "version_major": 2,
       "version_minor": 0
      },
      "text/plain": [
       "11729/head_rec:   0%|          | 0/3 [00:00<?, ?it/s]"
      ]
     },
     "metadata": {},
     "output_type": "display_data"
    },
    {
     "data": {
      "application/vnd.jupyter.widget-view+json": {
       "model_id": "e81e526ae0f044de8093e03b77dcb087",
       "version_major": 2,
       "version_minor": 0
      },
      "text/plain": [
       "109188/rec:   0%|          | 0/3 [00:00<?, ?it/s]"
      ]
     },
     "metadata": {},
     "output_type": "display_data"
    },
    {
     "data": {
      "application/vnd.jupyter.widget-view+json": {
       "model_id": "090d2c3c38c24485af925548374a9434",
       "version_major": 2,
       "version_minor": 0
      },
      "text/plain": [
       "11322/head_rec:   0%|          | 0/3 [00:00<?, ?it/s]"
      ]
     },
     "metadata": {},
     "output_type": "display_data"
    },
    {
     "data": {
      "application/vnd.jupyter.widget-view+json": {
       "model_id": "25525eb79b8140e598153cd126465793",
       "version_major": 2,
       "version_minor": 0
      },
      "text/plain": [
       "13393/head_rec:   0%|          | 0/3 [00:00<?, ?it/s]"
      ]
     },
     "metadata": {},
     "output_type": "display_data"
    },
    {
     "data": {
      "application/vnd.jupyter.widget-view+json": {
       "model_id": "83fd503aa7f144b1a6ecf1a210ec6095",
       "version_major": 2,
       "version_minor": 0
      },
      "text/plain": [
       "11500/head_rec:   0%|          | 0/3 [00:00<?, ?it/s]"
      ]
     },
     "metadata": {},
     "output_type": "display_data"
    },
    {
     "data": {
      "application/vnd.jupyter.widget-view+json": {
       "model_id": "16724a93374544228628e85d409e0eb6",
       "version_major": 2,
       "version_minor": 0
      },
      "text/plain": [
       "11946/head_rec:   0%|          | 0/3 [00:00<?, ?it/s]"
      ]
     },
     "metadata": {},
     "output_type": "display_data"
    },
    {
     "data": {
      "application/vnd.jupyter.widget-view+json": {
       "model_id": "b7ad7dab31a04f8d8d3f607810a14cc9",
       "version_major": 2,
       "version_minor": 0
      },
      "text/plain": [
       "11344/head_rec:   0%|          | 0/3 [00:00<?, ?it/s]"
      ]
     },
     "metadata": {},
     "output_type": "display_data"
    },
    {
     "data": {
      "application/vnd.jupyter.widget-view+json": {
       "model_id": "20f5ba4047c84e9a9c52fc2013b09b81",
       "version_major": 2,
       "version_minor": 0
      },
      "text/plain": [
       "13492/head_rec:   0%|          | 0/3 [00:00<?, ?it/s]"
      ]
     },
     "metadata": {},
     "output_type": "display_data"
    },
    {
     "data": {
      "application/vnd.jupyter.widget-view+json": {
       "model_id": "070852aa78c4401b878f915f9e492564",
       "version_major": 2,
       "version_minor": 0
      },
      "text/plain": [
       "11116/head_rec:   0%|          | 0/3 [00:00<?, ?it/s]"
      ]
     },
     "metadata": {},
     "output_type": "display_data"
    },
    {
     "data": {
      "application/vnd.jupyter.widget-view+json": {
       "model_id": "f37c9c566e1645d1ad6a23676bad6028",
       "version_major": 2,
       "version_minor": 0
      },
      "text/plain": [
       "BH58/head_rec:   0%|          | 0/3 [00:00<?, ?it/s]"
      ]
     },
     "metadata": {},
     "output_type": "display_data"
    },
    {
     "data": {
      "application/vnd.jupyter.widget-view+json": {
       "model_id": "e93b273fbd464ed6af237040a6bc4900",
       "version_major": 2,
       "version_minor": 0
      },
      "text/plain": [
       "109209/head_rec:   0%|          | 0/3 [00:00<?, ?it/s]"
      ]
     },
     "metadata": {},
     "output_type": "display_data"
    },
    {
     "data": {
      "application/vnd.jupyter.widget-view+json": {
       "model_id": "63b64c6760a84c4aaa80a1162a12c205",
       "version_major": 2,
       "version_minor": 0
      },
      "text/plain": [
       "106816/head_rec:   0%|          | 0/3 [00:00<?, ?it/s]"
      ]
     },
     "metadata": {},
     "output_type": "display_data"
    },
    {
     "data": {
      "application/vnd.jupyter.widget-view+json": {
       "model_id": "bcdc601d0175405a8620ff9d3ab0db45",
       "version_major": 2,
       "version_minor": 0
      },
      "text/plain": [
       "IG156/head_rec:   0%|          | 0/3 [00:00<?, ?it/s]"
      ]
     },
     "metadata": {},
     "output_type": "display_data"
    },
    {
     "data": {
      "application/vnd.jupyter.widget-view+json": {
       "model_id": "6f2b6ddb4e194898bdd5697aca4f50fa",
       "version_major": 2,
       "version_minor": 0
      },
      "text/plain": [
       "MA31/head_rec:   0%|          | 0/3 [00:00<?, ?it/s]"
      ]
     },
     "metadata": {},
     "output_type": "display_data"
    },
    {
     "data": {
      "application/vnd.jupyter.widget-view+json": {
       "model_id": "802013bd4e6940aba60e4b65b196fbe4",
       "version_major": 2,
       "version_minor": 0
      },
      "text/plain": [
       "IG161/head_rec:   0%|          | 0/3 [00:00<?, ?it/s]"
      ]
     },
     "metadata": {},
     "output_type": "display_data"
    },
    {
     "data": {
      "application/vnd.jupyter.widget-view+json": {
       "model_id": "3526013a118e47ac92b379f033fd2dc9",
       "version_major": 2,
       "version_minor": 0
      },
      "text/plain": [
       "13069/head_rec:   0%|          | 0/3 [00:00<?, ?it/s]"
      ]
     },
     "metadata": {},
     "output_type": "display_data"
    },
    {
     "data": {
      "application/vnd.jupyter.widget-view+json": {
       "model_id": "96b2661f14904da8abd2f01eef9c6876",
       "version_major": 2,
       "version_minor": 0
      },
      "text/plain": [
       "11992/head_rec:   0%|          | 0/3 [00:00<?, ?it/s]"
      ]
     },
     "metadata": {},
     "output_type": "display_data"
    },
    {
     "data": {
      "application/vnd.jupyter.widget-view+json": {
       "model_id": "8d82aa1f30e14b8e9646bd4ec7c7a950",
       "version_major": 2,
       "version_minor": 0
      },
      "text/plain": [
       "11557/head_rec:   0%|          | 0/3 [00:00<?, ?it/s]"
      ]
     },
     "metadata": {},
     "output_type": "display_data"
    },
    {
     "data": {
      "application/vnd.jupyter.widget-view+json": {
       "model_id": "81e6279859f44d96b8c8dacc29e10c37",
       "version_major": 2,
       "version_minor": 0
      },
      "text/plain": [
       "11053/head_rec:   0%|          | 0/3 [00:00<?, ?it/s]"
      ]
     },
     "metadata": {},
     "output_type": "display_data"
    },
    {
     "data": {
      "application/vnd.jupyter.widget-view+json": {
       "model_id": "8a6bd85eaa3c4fccad3eaa2d9e84757b",
       "version_major": 2,
       "version_minor": 0
      },
      "text/plain": [
       "109220/head_rec:   0%|          | 0/3 [00:00<?, ?it/s]"
      ]
     },
     "metadata": {},
     "output_type": "display_data"
    },
    {
     "data": {
      "application/vnd.jupyter.widget-view+json": {
       "model_id": "17b0d277386f455382ee078024dbd759",
       "version_major": 2,
       "version_minor": 0
      },
      "text/plain": [
       "10629/head_rec:   0%|          | 0/3 [00:00<?, ?it/s]"
      ]
     },
     "metadata": {},
     "output_type": "display_data"
    },
    {
     "data": {
      "application/vnd.jupyter.widget-view+json": {
       "model_id": "7e751f23f25744269f5b8faa4ca838a6",
       "version_major": 2,
       "version_minor": 0
      },
      "text/plain": [
       "158816/rec:   0%|          | 0/3 [00:00<?, ?it/s]"
      ]
     },
     "metadata": {},
     "output_type": "display_data"
    },
    {
     "data": {
      "application/vnd.jupyter.widget-view+json": {
       "model_id": "89dc658a240649f694a7e46c676e708b",
       "version_major": 2,
       "version_minor": 0
      },
      "text/plain": [
       "10629/rec:   0%|          | 0/3 [00:00<?, ?it/s]"
      ]
     },
     "metadata": {},
     "output_type": "display_data"
    },
    {
     "data": {
      "application/vnd.jupyter.widget-view+json": {
       "model_id": "fdc75e5cd94041ed8673bd2ffb633b2a",
       "version_major": 2,
       "version_minor": 0
      },
      "text/plain": [
       "10629/rec2:   0%|          | 0/3 [00:00<?, ?it/s]"
      ]
     },
     "metadata": {},
     "output_type": "display_data"
    },
    {
     "data": {
      "application/vnd.jupyter.widget-view+json": {
       "model_id": "8af8e98a89ae4e4d92da34e9e66e365c",
       "version_major": 2,
       "version_minor": 0
      },
      "text/plain": [
       "104856/rec:   0%|          | 0/3 [00:00<?, ?it/s]"
      ]
     },
     "metadata": {},
     "output_type": "display_data"
    },
    {
     "data": {
      "application/vnd.jupyter.widget-view+json": {
       "model_id": "3f1d18eed08b44ccb7726c516d303fed",
       "version_major": 2,
       "version_minor": 0
      },
      "text/plain": [
       "109857/rec:   0%|          | 0/3 [00:00<?, ?it/s]"
      ]
     },
     "metadata": {},
     "output_type": "display_data"
    },
    {
     "data": {
      "application/vnd.jupyter.widget-view+json": {
       "model_id": "5e3e0045053d49b89e18848857daf40e",
       "version_major": 2,
       "version_minor": 0
      },
      "text/plain": [
       "13115/rec_22um:   0%|          | 0/3 [00:00<?, ?it/s]"
      ]
     },
     "metadata": {},
     "output_type": "display_data"
    },
    {
     "data": {
      "application/vnd.jupyter.widget-view+json": {
       "model_id": "592259eb33aa4228a401a0e1fcb3e2ef",
       "version_major": 2,
       "version_minor": 0
      },
      "text/plain": [
       "IG94/rec:   0%|          | 0/3 [00:00<?, ?it/s]"
      ]
     },
     "metadata": {},
     "output_type": "display_data"
    },
    {
     "data": {
      "application/vnd.jupyter.widget-view+json": {
       "model_id": "c341613eb038468ea88870f672db6dec",
       "version_major": 2,
       "version_minor": 0
      },
      "text/plain": [
       "103641/rec:   0%|          | 0/3 [00:00<?, ?it/s]"
      ]
     },
     "metadata": {},
     "output_type": "display_data"
    },
    {
     "data": {
      "application/vnd.jupyter.widget-view+json": {
       "model_id": "f03223ab850d4dee9d7063052b744675",
       "version_major": 2,
       "version_minor": 0
      },
      "text/plain": [
       "103634/rec:   0%|          | 0/3 [00:00<?, ?it/s]"
      ]
     },
     "metadata": {},
     "output_type": "display_data"
    },
    {
     "data": {
      "application/vnd.jupyter.widget-view+json": {
       "model_id": "2899d559bd75435e92a03f9093018f51",
       "version_major": 2,
       "version_minor": 0
      },
      "text/plain": [
       "103720/rec:   0%|          | 0/3 [00:00<?, ?it/s]"
      ]
     },
     "metadata": {},
     "output_type": "display_data"
    },
    {
     "data": {
      "application/vnd.jupyter.widget-view+json": {
       "model_id": "9aa3b867fa9f464882c15d5d31f20287",
       "version_major": 2,
       "version_minor": 0
      },
      "text/plain": [
       "103926/rec:   0%|          | 0/3 [00:00<?, ?it/s]"
      ]
     },
     "metadata": {},
     "output_type": "display_data"
    },
    {
     "data": {
      "application/vnd.jupyter.widget-view+json": {
       "model_id": "73f4c9affe3a471783aabb5c8334e192",
       "version_major": 2,
       "version_minor": 0
      },
      "text/plain": [
       "109768/rec:   0%|          | 0/3 [00:00<?, ?it/s]"
      ]
     },
     "metadata": {},
     "output_type": "display_data"
    },
    {
     "data": {
      "application/vnd.jupyter.widget-view+json": {
       "model_id": "1fbc945fc1824f61b955274b97fe478a",
       "version_major": 2,
       "version_minor": 0
      },
      "text/plain": [
       "103637/rec:   0%|          | 0/3 [00:00<?, ?it/s]"
      ]
     },
     "metadata": {},
     "output_type": "display_data"
    },
    {
     "data": {
      "application/vnd.jupyter.widget-view+json": {
       "model_id": "25557e3c5c7f46adb913e3e61b090835",
       "version_major": 2,
       "version_minor": 0
      },
      "text/plain": [
       "104661/rec:   0%|          | 0/3 [00:00<?, ?it/s]"
      ]
     },
     "metadata": {},
     "output_type": "display_data"
    },
    {
     "data": {
      "application/vnd.jupyter.widget-view+json": {
       "model_id": "7d2b9ddbb1fc4facaaf18e3a1d47c7e1",
       "version_major": 2,
       "version_minor": 0
      },
      "text/plain": [
       "14269/rec_rereconstruct:   0%|          | 0/3 [00:00<?, ?it/s]"
      ]
     },
     "metadata": {},
     "output_type": "display_data"
    },
    {
     "data": {
      "application/vnd.jupyter.widget-view+json": {
       "model_id": "994c9e70b99d41ab913870b262b627cb",
       "version_major": 2,
       "version_minor": 0
      },
      "text/plain": [
       "11965/rec_head_40um:   0%|          | 0/3 [00:00<?, ?it/s]"
      ]
     },
     "metadata": {},
     "output_type": "display_data"
    },
    {
     "data": {
      "application/vnd.jupyter.widget-view+json": {
       "model_id": "9f82019fff9944e98950a930733002a3",
       "version_major": 2,
       "version_minor": 0
      },
      "text/plain": [
       "161476/head_rec:   0%|          | 0/3 [00:00<?, ?it/s]"
      ]
     },
     "metadata": {},
     "output_type": "display_data"
    },
    {
     "data": {
      "application/vnd.jupyter.widget-view+json": {
       "model_id": "7ee562de3507477785dabcbb3e117932",
       "version_major": 2,
       "version_minor": 0
      },
      "text/plain": [
       "10791/head_rec:   0%|          | 0/3 [00:00<?, ?it/s]"
      ]
     },
     "metadata": {},
     "output_type": "display_data"
    },
    {
     "data": {
      "application/vnd.jupyter.widget-view+json": {
       "model_id": "24761d2703a843679db771945fac2c69",
       "version_major": 2,
       "version_minor": 0
      },
      "text/plain": [
       "103571/head_rec:   0%|          | 0/3 [00:00<?, ?it/s]"
      ]
     },
     "metadata": {},
     "output_type": "display_data"
    },
    {
     "data": {
      "application/vnd.jupyter.widget-view+json": {
       "model_id": "403368786c5743169b38bdad55062385",
       "version_major": 2,
       "version_minor": 0
      },
      "text/plain": [
       "103761/head_rec:   0%|          | 0/3 [00:00<?, ?it/s]"
      ]
     },
     "metadata": {},
     "output_type": "display_data"
    },
    {
     "data": {
      "application/vnd.jupyter.widget-view+json": {
       "model_id": "295cc3e354004f51b05825b6f06b343d",
       "version_major": 2,
       "version_minor": 0
      },
      "text/plain": [
       "11447/head_rec:   0%|          | 0/3 [00:00<?, ?it/s]"
      ]
     },
     "metadata": {},
     "output_type": "display_data"
    },
    {
     "data": {
      "application/vnd.jupyter.widget-view+json": {
       "model_id": "eb49d27c29f346c7950727422616c09c",
       "version_major": 2,
       "version_minor": 0
      },
      "text/plain": [
       "14295/rec:   0%|          | 0/3 [00:00<?, ?it/s]"
      ]
     },
     "metadata": {},
     "output_type": "display_data"
    },
    {
     "data": {
      "application/vnd.jupyter.widget-view+json": {
       "model_id": "e4ebe94b27384659ba0f3b17048f87e6",
       "version_major": 2,
       "version_minor": 0
      },
      "text/plain": [
       "21322/whole_rec_full:   0%|          | 0/3 [00:00<?, ?it/s]"
      ]
     },
     "metadata": {},
     "output_type": "display_data"
    },
    {
     "data": {
      "application/vnd.jupyter.widget-view+json": {
       "model_id": "e7fc34864bb84bff8eabcaa0c58fa24c",
       "version_major": 2,
       "version_minor": 0
      },
      "text/plain": [
       "IG92/rec:   0%|          | 0/3 [00:00<?, ?it/s]"
      ]
     },
     "metadata": {},
     "output_type": "display_data"
    },
    {
     "data": {
      "application/vnd.jupyter.widget-view+json": {
       "model_id": "8557623d98844899b90b2ed4b5207316",
       "version_major": 2,
       "version_minor": 0
      },
      "text/plain": [
       "IG96/rec:   0%|          | 0/3 [00:00<?, ?it/s]"
      ]
     },
     "metadata": {},
     "output_type": "display_data"
    },
    {
     "data": {
      "application/vnd.jupyter.widget-view+json": {
       "model_id": "55ab620830f1402ab591e080d8f78421",
       "version_major": 2,
       "version_minor": 0
      },
      "text/plain": [
       "KC31/pharynx_rec:   0%|          | 0/3 [00:00<?, ?it/s]"
      ]
     },
     "metadata": {},
     "output_type": "display_data"
    },
    {
     "data": {
      "application/vnd.jupyter.widget-view+json": {
       "model_id": "82ab830352264489bf30c77403df1a4c",
       "version_major": 2,
       "version_minor": 0
      },
      "text/plain": [
       "TJ3/jaw_v1_rec:   0%|          | 0/3 [00:00<?, ?it/s]"
      ]
     },
     "metadata": {},
     "output_type": "display_data"
    },
    {
     "data": {
      "application/vnd.jupyter.widget-view+json": {
       "model_id": "0ae796b4a70a4699be8226339a0bb267",
       "version_major": 2,
       "version_minor": 0
      },
      "text/plain": [
       "TJ3/pharynx_rec_pharyngealjaw:   0%|          | 0/3 [00:00<?, ?it/s]"
      ]
     },
     "metadata": {},
     "output_type": "display_data"
    },
    {
     "data": {
      "application/vnd.jupyter.widget-view+json": {
       "model_id": "c8f051234d084282ae7f2c3ff097c675",
       "version_major": 2,
       "version_minor": 0
      },
      "text/plain": [
       "104661/rec_rereconstruct:   0%|          | 0/3 [00:00<?, ?it/s]"
      ]
     },
     "metadata": {},
     "output_type": "display_data"
    },
    {
     "data": {
      "application/vnd.jupyter.widget-view+json": {
       "model_id": "4f16e831531e490e8ccaaab89d9e03ee",
       "version_major": 2,
       "version_minor": 0
      },
      "text/plain": [
       "103778/head_rec:   0%|          | 0/3 [00:00<?, ?it/s]"
      ]
     },
     "metadata": {},
     "output_type": "display_data"
    },
    {
     "data": {
      "application/vnd.jupyter.widget-view+json": {
       "model_id": "15a65fda3bca4e7288b5873d4e3f6caa",
       "version_major": 2,
       "version_minor": 0
      },
      "text/plain": [
       "104661/rec_rereconstruct_smoothing:   0%|          | 0/3 [00:00<?, ?it/s]"
      ]
     },
     "metadata": {},
     "output_type": "display_data"
    },
    {
     "data": {
      "application/vnd.jupyter.widget-view+json": {
       "model_id": "4b93abb047e34151ab61bd07119bd063",
       "version_major": 2,
       "version_minor": 0
      },
      "text/plain": [
       "103754/head_rec:   0%|          | 0/3 [00:00<?, ?it/s]"
      ]
     },
     "metadata": {},
     "output_type": "display_data"
    },
    {
     "data": {
      "application/vnd.jupyter.widget-view+json": {
       "model_id": "7740c1bb1a734b25a281d8b6e5dfe5c0",
       "version_major": 2,
       "version_minor": 0
      },
      "text/plain": [
       "103635/head_rec:   0%|          | 0/3 [00:00<?, ?it/s]"
      ]
     },
     "metadata": {},
     "output_type": "display_data"
    },
    {
     "data": {
      "application/vnd.jupyter.widget-view+json": {
       "model_id": "c706451c9eaf49ec9bca190ee2fc2245",
       "version_major": 2,
       "version_minor": 0
      },
      "text/plain": [
       "104016/head_rec:   0%|          | 0/3 [00:00<?, ?it/s]"
      ]
     },
     "metadata": {},
     "output_type": "display_data"
    },
    {
     "data": {
      "application/vnd.jupyter.widget-view+json": {
       "model_id": "fd1f0c6a8a43471eaa2d010217f2d8fc",
       "version_major": 2,
       "version_minor": 0
      },
      "text/plain": [
       "KC31/head_rec:   0%|          | 0/3 [00:00<?, ?it/s]"
      ]
     },
     "metadata": {},
     "output_type": "display_data"
    },
    {
     "data": {
      "application/vnd.jupyter.widget-view+json": {
       "model_id": "c2955ccf0e074160a6ef79d9fe425004",
       "version_major": 2,
       "version_minor": 0
      },
      "text/plain": [
       "10715/head_rec:   0%|          | 0/3 [00:00<?, ?it/s]"
      ]
     },
     "metadata": {},
     "output_type": "display_data"
    },
    {
     "data": {
      "application/vnd.jupyter.widget-view+json": {
       "model_id": "01ee1bd1667e457d95411edf981904a1",
       "version_major": 2,
       "version_minor": 0
      },
      "text/plain": [
       "KAT13/head_rec:   0%|          | 0/3 [00:00<?, ?it/s]"
      ]
     },
     "metadata": {},
     "output_type": "display_data"
    },
    {
     "data": {
      "application/vnd.jupyter.widget-view+json": {
       "model_id": "f386e9d998e042cd852db0746db92f43",
       "version_major": 2,
       "version_minor": 0
      },
      "text/plain": [
       "105105/rec_rereconstruct:   0%|          | 0/3 [00:00<?, ?it/s]"
      ]
     },
     "metadata": {},
     "output_type": "display_data"
    },
    {
     "data": {
      "application/vnd.jupyter.widget-view+json": {
       "model_id": "e5d78531602f44418c74846f66ef7828",
       "version_major": 2,
       "version_minor": 0
      },
      "text/plain": [
       "106641/rec_rereconstruct:   0%|          | 0/3 [00:00<?, ?it/s]"
      ]
     },
     "metadata": {},
     "output_type": "display_data"
    },
    {
     "data": {
      "application/vnd.jupyter.widget-view+json": {
       "model_id": "b671ca9cf6e84393bcad632df6d71670",
       "version_major": 2,
       "version_minor": 0
      },
      "text/plain": [
       "13115/head_rec:   0%|          | 0/3 [00:00<?, ?it/s]"
      ]
     },
     "metadata": {},
     "output_type": "display_data"
    },
    {
     "data": {
      "application/vnd.jupyter.widget-view+json": {
       "model_id": "7a7904980c6346318d24fffe4dbda58c",
       "version_major": 2,
       "version_minor": 0
      },
      "text/plain": [
       "104621/head_rec:   0%|          | 0/3 [00:00<?, ?it/s]"
      ]
     },
     "metadata": {},
     "output_type": "display_data"
    },
    {
     "data": {
      "application/vnd.jupyter.widget-view+json": {
       "model_id": "7abe19ca1032403499fa9286be93a5f5",
       "version_major": 2,
       "version_minor": 0
      },
      "text/plain": [
       "22479/oj_rec:   0%|          | 0/3 [00:00<?, ?it/s]"
      ]
     },
     "metadata": {},
     "output_type": "display_data"
    },
    {
     "data": {
      "application/vnd.jupyter.widget-view+json": {
       "model_id": "87b11b9c4bc740db9725211a6441f7cd",
       "version_major": 2,
       "version_minor": 0
      },
      "text/plain": [
       "22479/pj_rec:   0%|          | 0/3 [00:00<?, ?it/s]"
      ]
     },
     "metadata": {},
     "output_type": "display_data"
    },
    {
     "data": {
      "application/vnd.jupyter.widget-view+json": {
       "model_id": "24c8eca1b65a4b58b68a3da4ea55e82c",
       "version_major": 2,
       "version_minor": 0
      },
      "text/plain": [
       "103375/head_rec:   0%|          | 0/3 [00:00<?, ?it/s]"
      ]
     },
     "metadata": {},
     "output_type": "display_data"
    },
    {
     "data": {
      "application/vnd.jupyter.widget-view+json": {
       "model_id": "0fca2d933ed54195843de448588f347e",
       "version_major": 2,
       "version_minor": 0
      },
      "text/plain": [
       "BucketOfFish_A/rec:   0%|          | 0/3 [00:00<?, ?it/s]"
      ]
     },
     "metadata": {},
     "output_type": "display_data"
    },
    {
     "data": {
      "application/vnd.jupyter.widget-view+json": {
       "model_id": "96ff440e32f24a38a79ccc598e97fff5",
       "version_major": 2,
       "version_minor": 0
      },
      "text/plain": [
       "104061/head_rec:   0%|          | 0/3 [00:00<?, ?it/s]"
      ]
     },
     "metadata": {},
     "output_type": "display_data"
    },
    {
     "data": {
      "application/vnd.jupyter.widget-view+json": {
       "model_id": "088ee2a18ad4481d90055b77a1cd0397",
       "version_major": 2,
       "version_minor": 0
      },
      "text/plain": [
       "104061/head_rec_pressure_loss:   0%|          | 0/3 [00:00<?, ?it/s]"
      ]
     },
     "metadata": {},
     "output_type": "display_data"
    },
    {
     "data": {
      "application/vnd.jupyter.widget-view+json": {
       "model_id": "e63abe91543e4db0b510ab2e55f209de",
       "version_major": 2,
       "version_minor": 0
      },
      "text/plain": [
       "10448/head2_rec:   0%|          | 0/3 [00:00<?, ?it/s]"
      ]
     },
     "metadata": {},
     "output_type": "display_data"
    },
    {
     "data": {
      "application/vnd.jupyter.widget-view+json": {
       "model_id": "fd0d53fade374bfea6c2963d70b7a0fc",
       "version_major": 2,
       "version_minor": 0
      },
      "text/plain": [
       "10618/head2_rec:   0%|          | 0/3 [00:00<?, ?it/s]"
      ]
     },
     "metadata": {},
     "output_type": "display_data"
    },
    {
     "ename": "KeyboardInterrupt",
     "evalue": "",
     "output_type": "error",
     "traceback": [
      "\u001b[0;31m---------------------------------------------------------------------------\u001b[0m",
      "\u001b[0;31mKeyboardInterrupt\u001b[0m                         Traceback (most recent call last)",
      "Input \u001b[0;32mIn [70]\u001b[0m, in \u001b[0;36m<cell line: 4>\u001b[0;34m()\u001b[0m\n\u001b[1;32m      5\u001b[0m \u001b[38;5;28;01mfor\u001b[39;00m d, direction \u001b[38;5;129;01min\u001b[39;00m tqdm(\u001b[38;5;28menumerate\u001b[39m(directions),\n\u001b[1;32m      6\u001b[0m                          desc\u001b[38;5;241m=\u001b[39m\u001b[38;5;124m'\u001b[39m\u001b[38;5;132;01m%s\u001b[39;00m\u001b[38;5;124m/\u001b[39m\u001b[38;5;132;01m%s\u001b[39;00m\u001b[38;5;124m'\u001b[39m \u001b[38;5;241m%\u001b[39m (row[\u001b[38;5;124m'\u001b[39m\u001b[38;5;124mFish\u001b[39m\u001b[38;5;124m'\u001b[39m], row[\u001b[38;5;124m'\u001b[39m\u001b[38;5;124mScan\u001b[39m\u001b[38;5;124m'\u001b[39m]),\n\u001b[1;32m      7\u001b[0m                          leave\u001b[38;5;241m=\u001b[39m\u001b[38;5;28;01mFalse\u001b[39;00m,\n\u001b[1;32m      8\u001b[0m                          total\u001b[38;5;241m=\u001b[39m\u001b[38;5;28mlen\u001b[39m(directions)):\n\u001b[1;32m      9\u001b[0m     outfilepath \u001b[38;5;241m=\u001b[39m os\u001b[38;5;241m.\u001b[39mpath\u001b[38;5;241m.\u001b[39mjoin(os\u001b[38;5;241m.\u001b[39mpath\u001b[38;5;241m.\u001b[39mdirname(row[\u001b[38;5;124m'\u001b[39m\u001b[38;5;124mFolder\u001b[39m\u001b[38;5;124m'\u001b[39m]),\n\u001b[1;32m     10\u001b[0m                                \u001b[38;5;124m'\u001b[39m\u001b[38;5;132;01m%s\u001b[39;00m\u001b[38;5;124m.\u001b[39m\u001b[38;5;132;01m%s\u001b[39;00m\u001b[38;5;124m.MIP.\u001b[39m\u001b[38;5;132;01m%s\u001b[39;00m\u001b[38;5;124m.png\u001b[39m\u001b[38;5;124m'\u001b[39m \u001b[38;5;241m%\u001b[39m (row[\u001b[38;5;124m'\u001b[39m\u001b[38;5;124mFish\u001b[39m\u001b[38;5;124m'\u001b[39m],\n\u001b[1;32m     11\u001b[0m                                                   row[\u001b[38;5;124m'\u001b[39m\u001b[38;5;124mScan\u001b[39m\u001b[38;5;124m'\u001b[39m],\n\u001b[1;32m     12\u001b[0m                                                   direction))\n\u001b[0;32m---> 13\u001b[0m     \u001b[38;5;28;01mif\u001b[39;00m \u001b[43mos\u001b[49m\u001b[38;5;241;43m.\u001b[39;49m\u001b[43mpath\u001b[49m\u001b[38;5;241;43m.\u001b[39;49m\u001b[43mexists\u001b[49m\u001b[43m(\u001b[49m\u001b[43moutfilepath\u001b[49m\u001b[43m)\u001b[49m:\n\u001b[1;32m     14\u001b[0m         Data\u001b[38;5;241m.\u001b[39mat[c, \u001b[38;5;124m'\u001b[39m\u001b[38;5;124mMIP_\u001b[39m\u001b[38;5;124m'\u001b[39m \u001b[38;5;241m+\u001b[39m direction] \u001b[38;5;241m=\u001b[39m dask_image\u001b[38;5;241m.\u001b[39mimread\u001b[38;5;241m.\u001b[39mimread(outfilepath)\n\u001b[1;32m     15\u001b[0m     \u001b[38;5;28;01melse\u001b[39;00m:\n\u001b[1;32m     16\u001b[0m         \u001b[38;5;66;03m# Generate MIP\u001b[39;00m\n",
      "File \u001b[0;32m~/miniconda3/envs/eawag/lib/python3.8/genericpath.py:19\u001b[0m, in \u001b[0;36mexists\u001b[0;34m(path)\u001b[0m\n\u001b[1;32m     17\u001b[0m \u001b[38;5;124;03m\"\"\"Test whether a path exists.  Returns False for broken symbolic links\"\"\"\u001b[39;00m\n\u001b[1;32m     18\u001b[0m \u001b[38;5;28;01mtry\u001b[39;00m:\n\u001b[0;32m---> 19\u001b[0m     \u001b[43mos\u001b[49m\u001b[38;5;241;43m.\u001b[39;49m\u001b[43mstat\u001b[49m\u001b[43m(\u001b[49m\u001b[43mpath\u001b[49m\u001b[43m)\u001b[49m\n\u001b[1;32m     20\u001b[0m \u001b[38;5;28;01mexcept\u001b[39;00m (\u001b[38;5;167;01mOSError\u001b[39;00m, \u001b[38;5;167;01mValueError\u001b[39;00m):\n\u001b[1;32m     21\u001b[0m     \u001b[38;5;28;01mreturn\u001b[39;00m \u001b[38;5;28;01mFalse\u001b[39;00m\n",
      "\u001b[0;31mKeyboardInterrupt\u001b[0m: "
     ]
    }
   ],
   "source": [
    "# Read or calculate the directional MIPs, put them into the dataframe and save them to disk\n",
    "for d, direction in enumerate(directions):\n",
    "    Data['MIP_' + direction] = [None] * len(Reconstructions)\n",
    "for c, row in tqdm(Data.iterrows(), desc='MIPs', total=len(Data), leave=False):\n",
    "    for d, direction in tqdm(enumerate(directions),\n",
    "                             desc='%s/%s' % (row['Fish'], row['Scan']),\n",
    "                             leave=False,\n",
    "                             total=len(directions)):\n",
    "        outfilepath = os.path.join(os.path.dirname(row['Folder']),\n",
    "                                   '%s.%s.MIP.%s.png' % (row['Fish'],\n",
    "                                                      row['Scan'],\n",
    "                                                      direction))\n",
    "        if os.path.exists(outfilepath):\n",
    "            Data.at[c, 'MIP_' + direction] = dask_image.imread.imread(outfilepath)\n",
    "        else:\n",
    "            # Generate MIP\n",
    "            Data.at[c, 'MIP_' + direction] = Reconstructions[c].max(axis=d).compute()\n",
    "            # Save it out\n",
    "            imageio.imwrite(outfilepath, Data.at[c, 'MIP_' + direction].astype('uint8'))"
   ]
  },
  {
   "cell_type": "code",
   "execution_count": null,
   "metadata": {},
   "outputs": [
    {
     "name": "stderr",
     "output_type": "stream",
     "text": [
      "Error in atexit._run_exitfuncs:\n",
      "Traceback (most recent call last):\n",
      "  File \"/home/habi/miniconda3/envs/eawag/lib/python3.8/site-packages/matplotlib/_pylab_helpers.py\", line 89, in destroy_all\n",
      "    gc.collect(1)\n",
      "KeyboardInterrupt\n",
      "distributed.nanny - WARNING - Restarting worker\n",
      "distributed.nanny - WARNING - Restarting worker\n",
      "distributed.nanny - WARNING - Restarting worker\n",
      "distributed.nanny - WARNING - Restarting worker\n",
      "distributed.nanny - WARNING - Restarting worker\n",
      "distributed.nanny - WARNING - Restarting worker\n",
      "distributed.nanny - WARNING - Restarting worker\n",
      "distributed.nanny - WARNING - Restarting worker\n"
     ]
    }
   ],
   "source": [
    "# Show MIP slices\n",
    "for c, row in tqdm(Data.iterrows(),\n",
    "                   desc='Saving MIP images overview',\n",
    "                   total=len(Data),\n",
    "                   leave=False):\n",
    "    outfilepath = os.path.join(os.path.dirname(row['Folder']),\n",
    "                               '%s.%s.MIPs.png' % (row['Fish'], row['Scan']))\n",
    "    for d, direction in tqdm(enumerate(directions),\n",
    "                             desc='%s/%s' % (row['Fish'], row['Scan']),\n",
    "                             leave=False,\n",
    "                             total=len(directions)):\n",
    "        plt.subplot(1, 3, d + 1)\n",
    "        plt.imshow(row['MIP_' + direction])\n",
    "        plt.gca().add_artist(ScaleBar(row['Voxelsize'],\n",
    "                                      'um'))\n",
    "        plt.title('%s MIP' % direction)\n",
    "        plt.axis('off')\n",
    "    plt.suptitle(os.path.join(row['Fish'], row['Scan']))        \n",
    "    if not os.path.exists(outfilepath):\n",
    "        plt.savefig(outfilepath,\n",
    "                    transparent=True,\n",
    "                    bbox_inches='tight')\n",
    "    plt.show()"
   ]
  },
  {
   "cell_type": "code",
   "execution_count": null,
   "metadata": {},
   "outputs": [],
   "source": [
    "# Calculate the histograms of one of the MIPs\n",
    "# Caveat: dask.da.histogram returns histogram AND bins, making each histogram a 'nested' list of [h, b]\n",
    "Data['Histogram'] = [dask.array.histogram(dask.array.array(mip.squeeze()),\n",
    "                                          bins=2**8,\n",
    "                                          range=[0, 2**8]) for mip in Data['MIP_Coronal']]\n",
    "# Actually compute the data and put only h into the dataframe, since we use it quite often below.\n",
    "# Discard the bins\n",
    "Data['Histogram'] = [h for h,b in Data['Histogram']]"
   ]
  },
  {
   "cell_type": "code",
   "execution_count": null,
   "metadata": {},
   "outputs": [],
   "source": [
    "def overeexposecheck(item, threshold=250, howmanypercent=0.1, whichone='Coronal', verbose=False):\n",
    "    '''Function to check if a certain amount of voxels are brighter than a certain value'''\n",
    "    if (Data['MIP_%s' % whichone][item]>threshold).sum() > (Data['MIP_Sagittal'][item].size * howmanypercent / 100):\n",
    "        if verbose:\n",
    "            plt.imshow(Data['MIP_%s' % whichone][item].squeeze())\n",
    "            plt.imshow(numpy.ma.masked_equal(Data['MIP_%s' % whichone][item].squeeze()>threshold, False),\n",
    "                       cmap='viridis_r',\n",
    "                       alpha=.618)\n",
    "            plt.title('%s/%s\\n%s of %s Mpixels (>%s%%) are brighter '\n",
    "                      'than %s' % (Data['Fish'][item],\n",
    "                                   Data['Scan'][item],\n",
    "                                   (Data['MIP_%s' % whichone][item]>threshold).sum().compute(),\n",
    "                                   round(1e-6 * Data['MIP_%s' % whichone][item].size,2),\n",
    "                                   howmanypercent,\n",
    "                                   threshold))\n",
    "            plt.axis('off')\n",
    "            plt.gca().add_artist(ScaleBar(Data['Voxelsize'][item],\n",
    "                                          'um'))\n",
    "            plt.show()\n",
    "        return(True)\n",
    "    else:\n",
    "        return(False)    "
   ]
  },
  {
   "cell_type": "code",
   "execution_count": null,
   "metadata": {},
   "outputs": [],
   "source": [
    "# Check if 'too much' of the MIP is overexposed\n",
    "# TODO: How much is 'too much'?\n",
    "Data['OverExposed'] = [overeexposecheck(c,\n",
    "                                        whichone='Coronal',\n",
    "                                        verbose=True) for c, row in Data.iterrows()]"
   ]
  },
  {
   "cell_type": "code",
   "execution_count": null,
   "metadata": {
    "scrolled": true
   },
   "outputs": [],
   "source": [
    "for c, row in sorted(Data.iterrows()):\n",
    "    plt.plot(row.Histogram,\n",
    "             label='%s/%s' % (row.Fish, row.Scan))\n",
    "plt.xlim([0, 255])\n",
    "plt.legend()\n",
    "plt.show()"
   ]
  },
  {
   "cell_type": "code",
   "execution_count": null,
   "metadata": {},
   "outputs": [],
   "source": [
    "print('At the moment, we have previewed %s scans of %s fishes in %s' % (len(Data),\n",
    "                                                                        len(Data.Fish.unique()),\n",
    "                                                                        Root))"
   ]
  },
  {
   "cell_type": "code",
   "execution_count": null,
   "metadata": {},
   "outputs": [],
   "source": []
  },
  {
   "cell_type": "code",
   "execution_count": null,
   "metadata": {},
   "outputs": [],
   "source": []
  },
  {
   "cell_type": "code",
   "execution_count": null,
   "metadata": {},
   "outputs": [],
   "source": []
  },
  {
   "cell_type": "code",
   "execution_count": null,
   "metadata": {},
   "outputs": [],
   "source": []
  }
 ],
 "metadata": {
  "kernelspec": {
   "display_name": "Python 3 (ipykernel)",
   "language": "python",
   "name": "python3"
  },
  "language_info": {
   "codemirror_mode": {
    "name": "ipython",
    "version": 3
   },
   "file_extension": ".py",
   "mimetype": "text/x-python",
   "name": "python",
   "nbconvert_exporter": "python",
   "pygments_lexer": "ipython3",
   "version": "3.8.13"
  }
 },
 "nbformat": 4,
 "nbformat_minor": 4
}
