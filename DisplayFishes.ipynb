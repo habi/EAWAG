{
 "cells": [
  {
   "cell_type": "markdown",
   "metadata": {},
   "source": [
    "# Preview the EAWAG scans\n",
    "Let's see what we did there..."
   ]
  },
  {
   "cell_type": "code",
   "execution_count": 1,
   "metadata": {},
   "outputs": [],
   "source": [
    "import platform\n",
    "import os\n",
    "import glob\n",
    "import pandas\n",
    "import imageio\n",
    "import numpy\n",
    "import matplotlib.pyplot as plt\n",
    "from matplotlib_scalebar.scalebar import ScaleBar\n",
    "import seaborn\n",
    "import dask\n",
    "import dask_image.imread\n",
    "from dask.distributed import Client, LocalCluster\n",
    "import skimage\n",
    "from tqdm.auto import tqdm, trange"
   ]
  },
  {
   "cell_type": "code",
   "execution_count": 2,
   "metadata": {},
   "outputs": [
    {
     "name": "stdout",
     "output_type": "stream",
     "text": [
      "Dask temporary files go to /media/habi/Fast_SSD/tmp\n"
     ]
    }
   ],
   "source": [
    "# Set dask temporary folder\n",
    "# Do this before creating a client: https://stackoverflow.com/a/62804525/323100\n",
    "import tempfile\n",
    "if 'Linux' in platform.system():\n",
    "    # Check if me mounted the FastSSD, otherwise go to standard tmp file\n",
    "    if os.path.exists(os.path.join(os.sep, 'media', 'habi', 'Fast_SSD')):\n",
    "        tmp = os.path.join(os.sep, 'media', 'habi', 'Fast_SSD', 'tmp')\n",
    "    else:\n",
    "        tmp = tempfile.gettempdir()\n",
    "elif 'Darwin' in platform.system():\n",
    "    tmp = tempfile.gettempdir()\n",
    "else:\n",
    "    if 'anaklin' in platform.node():\n",
    "        tmp = os.path.join('F:\\\\tmp')\n",
    "    else:\n",
    "        tmp = os.path.join('D:\\\\tmp')\n",
    "dask.config.set({'temporary_directory': tmp})\n",
    "print('Dask temporary files go to %s' % dask.config.get('temporary_directory'))"
   ]
  },
  {
   "cell_type": "code",
   "execution_count": 3,
   "metadata": {},
   "outputs": [
    {
     "name": "stderr",
     "output_type": "stream",
     "text": [
      "2023-01-31 17:24:01,907 - distributed.diskutils - INFO - Found stale lock file and directory '/media/habi/Fast_SSD/tmp/dask-worker-space/worker-c98sv0wk', purging\n"
     ]
    }
   ],
   "source": [
    "from dask.distributed import Client\n",
    "client = Client()"
   ]
  },
  {
   "cell_type": "code",
   "execution_count": 4,
   "metadata": {},
   "outputs": [
    {
     "data": {
      "text/html": [
       "<div>\n",
       "    <div style=\"width: 24px; height: 24px; background-color: #e1e1e1; border: 3px solid #9D9D9D; border-radius: 5px; position: absolute;\"> </div>\n",
       "    <div style=\"margin-left: 48px;\">\n",
       "        <h3 style=\"margin-bottom: 0px;\">Client</h3>\n",
       "        <p style=\"color: #9D9D9D; margin-bottom: 0px;\">Client-ab85c26c-a183-11ed-a66f-8cdcd44b8f13</p>\n",
       "        <table style=\"width: 100%; text-align: left;\">\n",
       "\n",
       "        <tr>\n",
       "        \n",
       "            <td style=\"text-align: left;\"><strong>Connection method:</strong> Cluster object</td>\n",
       "            <td style=\"text-align: left;\"><strong>Cluster type:</strong> distributed.LocalCluster</td>\n",
       "        \n",
       "        </tr>\n",
       "\n",
       "        \n",
       "            <tr>\n",
       "                <td style=\"text-align: left;\">\n",
       "                    <strong>Dashboard: </strong> <a href=\"http://127.0.0.1:8787/status\" target=\"_blank\">http://127.0.0.1:8787/status</a>\n",
       "                </td>\n",
       "                <td style=\"text-align: left;\"></td>\n",
       "            </tr>\n",
       "        \n",
       "\n",
       "        </table>\n",
       "\n",
       "        \n",
       "            <button style=\"margin-bottom: 12px;\" data-commandlinker-command=\"dask:populate-and-launch-layout\" data-commandlinker-args='{\"url\": \"http://127.0.0.1:8787/status\" }'>\n",
       "                Launch dashboard in JupyterLab\n",
       "            </button>\n",
       "        \n",
       "\n",
       "        \n",
       "            <details>\n",
       "            <summary style=\"margin-bottom: 20px;\"><h3 style=\"display: inline;\">Cluster Info</h3></summary>\n",
       "            <div class=\"jp-RenderedHTMLCommon jp-RenderedHTML jp-mod-trusted jp-OutputArea-output\">\n",
       "    <div style=\"width: 24px; height: 24px; background-color: #e1e1e1; border: 3px solid #9D9D9D; border-radius: 5px; position: absolute;\">\n",
       "    </div>\n",
       "    <div style=\"margin-left: 48px;\">\n",
       "        <h3 style=\"margin-bottom: 0px; margin-top: 0px;\">LocalCluster</h3>\n",
       "        <p style=\"color: #9D9D9D; margin-bottom: 0px;\">08078921</p>\n",
       "        <table style=\"width: 100%; text-align: left;\">\n",
       "            <tr>\n",
       "                <td style=\"text-align: left;\">\n",
       "                    <strong>Dashboard:</strong> <a href=\"http://127.0.0.1:8787/status\" target=\"_blank\">http://127.0.0.1:8787/status</a>\n",
       "                </td>\n",
       "                <td style=\"text-align: left;\">\n",
       "                    <strong>Workers:</strong> 8\n",
       "                </td>\n",
       "            </tr>\n",
       "            <tr>\n",
       "                <td style=\"text-align: left;\">\n",
       "                    <strong>Total threads:</strong> 32\n",
       "                </td>\n",
       "                <td style=\"text-align: left;\">\n",
       "                    <strong>Total memory:</strong> 125.80 GiB\n",
       "                </td>\n",
       "            </tr>\n",
       "            \n",
       "            <tr>\n",
       "    <td style=\"text-align: left;\"><strong>Status:</strong> running</td>\n",
       "    <td style=\"text-align: left;\"><strong>Using processes:</strong> True</td>\n",
       "</tr>\n",
       "\n",
       "            \n",
       "        </table>\n",
       "\n",
       "        <details>\n",
       "            <summary style=\"margin-bottom: 20px;\">\n",
       "                <h3 style=\"display: inline;\">Scheduler Info</h3>\n",
       "            </summary>\n",
       "\n",
       "            <div style=\"\">\n",
       "    <div>\n",
       "        <div style=\"width: 24px; height: 24px; background-color: #FFF7E5; border: 3px solid #FF6132; border-radius: 5px; position: absolute;\"> </div>\n",
       "        <div style=\"margin-left: 48px;\">\n",
       "            <h3 style=\"margin-bottom: 0px;\">Scheduler</h3>\n",
       "            <p style=\"color: #9D9D9D; margin-bottom: 0px;\">Scheduler-1e7997d2-c4d2-4806-a961-ec0cbb5fa1c4</p>\n",
       "            <table style=\"width: 100%; text-align: left;\">\n",
       "                <tr>\n",
       "                    <td style=\"text-align: left;\">\n",
       "                        <strong>Comm:</strong> tcp://127.0.0.1:43691\n",
       "                    </td>\n",
       "                    <td style=\"text-align: left;\">\n",
       "                        <strong>Workers:</strong> 8\n",
       "                    </td>\n",
       "                </tr>\n",
       "                <tr>\n",
       "                    <td style=\"text-align: left;\">\n",
       "                        <strong>Dashboard:</strong> <a href=\"http://127.0.0.1:8787/status\" target=\"_blank\">http://127.0.0.1:8787/status</a>\n",
       "                    </td>\n",
       "                    <td style=\"text-align: left;\">\n",
       "                        <strong>Total threads:</strong> 32\n",
       "                    </td>\n",
       "                </tr>\n",
       "                <tr>\n",
       "                    <td style=\"text-align: left;\">\n",
       "                        <strong>Started:</strong> Just now\n",
       "                    </td>\n",
       "                    <td style=\"text-align: left;\">\n",
       "                        <strong>Total memory:</strong> 125.80 GiB\n",
       "                    </td>\n",
       "                </tr>\n",
       "            </table>\n",
       "        </div>\n",
       "    </div>\n",
       "\n",
       "    <details style=\"margin-left: 48px;\">\n",
       "        <summary style=\"margin-bottom: 20px;\">\n",
       "            <h3 style=\"display: inline;\">Workers</h3>\n",
       "        </summary>\n",
       "\n",
       "        \n",
       "        <div style=\"margin-bottom: 20px;\">\n",
       "            <div style=\"width: 24px; height: 24px; background-color: #DBF5FF; border: 3px solid #4CC9FF; border-radius: 5px; position: absolute;\"> </div>\n",
       "            <div style=\"margin-left: 48px;\">\n",
       "            <details>\n",
       "                <summary>\n",
       "                    <h4 style=\"margin-bottom: 0px; display: inline;\">Worker: 0</h4>\n",
       "                </summary>\n",
       "                <table style=\"width: 100%; text-align: left;\">\n",
       "                    <tr>\n",
       "                        <td style=\"text-align: left;\">\n",
       "                            <strong>Comm: </strong> tcp://127.0.0.1:45145\n",
       "                        </td>\n",
       "                        <td style=\"text-align: left;\">\n",
       "                            <strong>Total threads: </strong> 4\n",
       "                        </td>\n",
       "                    </tr>\n",
       "                    <tr>\n",
       "                        <td style=\"text-align: left;\">\n",
       "                            <strong>Dashboard: </strong> <a href=\"http://127.0.0.1:32931/status\" target=\"_blank\">http://127.0.0.1:32931/status</a>\n",
       "                        </td>\n",
       "                        <td style=\"text-align: left;\">\n",
       "                            <strong>Memory: </strong> 15.73 GiB\n",
       "                        </td>\n",
       "                    </tr>\n",
       "                    <tr>\n",
       "                        <td style=\"text-align: left;\">\n",
       "                            <strong>Nanny: </strong> tcp://127.0.0.1:35743\n",
       "                        </td>\n",
       "                        <td style=\"text-align: left;\"></td>\n",
       "                    </tr>\n",
       "                    <tr>\n",
       "                        <td colspan=\"2\" style=\"text-align: left;\">\n",
       "                            <strong>Local directory: </strong> /media/habi/Fast_SSD/tmp/dask-worker-space/worker-psi_03_8\n",
       "                        </td>\n",
       "                    </tr>\n",
       "\n",
       "                    \n",
       "\n",
       "                    \n",
       "\n",
       "                </table>\n",
       "            </details>\n",
       "            </div>\n",
       "        </div>\n",
       "        \n",
       "        <div style=\"margin-bottom: 20px;\">\n",
       "            <div style=\"width: 24px; height: 24px; background-color: #DBF5FF; border: 3px solid #4CC9FF; border-radius: 5px; position: absolute;\"> </div>\n",
       "            <div style=\"margin-left: 48px;\">\n",
       "            <details>\n",
       "                <summary>\n",
       "                    <h4 style=\"margin-bottom: 0px; display: inline;\">Worker: 1</h4>\n",
       "                </summary>\n",
       "                <table style=\"width: 100%; text-align: left;\">\n",
       "                    <tr>\n",
       "                        <td style=\"text-align: left;\">\n",
       "                            <strong>Comm: </strong> tcp://127.0.0.1:46137\n",
       "                        </td>\n",
       "                        <td style=\"text-align: left;\">\n",
       "                            <strong>Total threads: </strong> 4\n",
       "                        </td>\n",
       "                    </tr>\n",
       "                    <tr>\n",
       "                        <td style=\"text-align: left;\">\n",
       "                            <strong>Dashboard: </strong> <a href=\"http://127.0.0.1:42051/status\" target=\"_blank\">http://127.0.0.1:42051/status</a>\n",
       "                        </td>\n",
       "                        <td style=\"text-align: left;\">\n",
       "                            <strong>Memory: </strong> 15.73 GiB\n",
       "                        </td>\n",
       "                    </tr>\n",
       "                    <tr>\n",
       "                        <td style=\"text-align: left;\">\n",
       "                            <strong>Nanny: </strong> tcp://127.0.0.1:46411\n",
       "                        </td>\n",
       "                        <td style=\"text-align: left;\"></td>\n",
       "                    </tr>\n",
       "                    <tr>\n",
       "                        <td colspan=\"2\" style=\"text-align: left;\">\n",
       "                            <strong>Local directory: </strong> /media/habi/Fast_SSD/tmp/dask-worker-space/worker-hgv7odx1\n",
       "                        </td>\n",
       "                    </tr>\n",
       "\n",
       "                    \n",
       "\n",
       "                    \n",
       "\n",
       "                </table>\n",
       "            </details>\n",
       "            </div>\n",
       "        </div>\n",
       "        \n",
       "        <div style=\"margin-bottom: 20px;\">\n",
       "            <div style=\"width: 24px; height: 24px; background-color: #DBF5FF; border: 3px solid #4CC9FF; border-radius: 5px; position: absolute;\"> </div>\n",
       "            <div style=\"margin-left: 48px;\">\n",
       "            <details>\n",
       "                <summary>\n",
       "                    <h4 style=\"margin-bottom: 0px; display: inline;\">Worker: 2</h4>\n",
       "                </summary>\n",
       "                <table style=\"width: 100%; text-align: left;\">\n",
       "                    <tr>\n",
       "                        <td style=\"text-align: left;\">\n",
       "                            <strong>Comm: </strong> tcp://127.0.0.1:38769\n",
       "                        </td>\n",
       "                        <td style=\"text-align: left;\">\n",
       "                            <strong>Total threads: </strong> 4\n",
       "                        </td>\n",
       "                    </tr>\n",
       "                    <tr>\n",
       "                        <td style=\"text-align: left;\">\n",
       "                            <strong>Dashboard: </strong> <a href=\"http://127.0.0.1:42393/status\" target=\"_blank\">http://127.0.0.1:42393/status</a>\n",
       "                        </td>\n",
       "                        <td style=\"text-align: left;\">\n",
       "                            <strong>Memory: </strong> 15.73 GiB\n",
       "                        </td>\n",
       "                    </tr>\n",
       "                    <tr>\n",
       "                        <td style=\"text-align: left;\">\n",
       "                            <strong>Nanny: </strong> tcp://127.0.0.1:40487\n",
       "                        </td>\n",
       "                        <td style=\"text-align: left;\"></td>\n",
       "                    </tr>\n",
       "                    <tr>\n",
       "                        <td colspan=\"2\" style=\"text-align: left;\">\n",
       "                            <strong>Local directory: </strong> /media/habi/Fast_SSD/tmp/dask-worker-space/worker-s698fyy6\n",
       "                        </td>\n",
       "                    </tr>\n",
       "\n",
       "                    \n",
       "\n",
       "                    \n",
       "\n",
       "                </table>\n",
       "            </details>\n",
       "            </div>\n",
       "        </div>\n",
       "        \n",
       "        <div style=\"margin-bottom: 20px;\">\n",
       "            <div style=\"width: 24px; height: 24px; background-color: #DBF5FF; border: 3px solid #4CC9FF; border-radius: 5px; position: absolute;\"> </div>\n",
       "            <div style=\"margin-left: 48px;\">\n",
       "            <details>\n",
       "                <summary>\n",
       "                    <h4 style=\"margin-bottom: 0px; display: inline;\">Worker: 3</h4>\n",
       "                </summary>\n",
       "                <table style=\"width: 100%; text-align: left;\">\n",
       "                    <tr>\n",
       "                        <td style=\"text-align: left;\">\n",
       "                            <strong>Comm: </strong> tcp://127.0.0.1:33119\n",
       "                        </td>\n",
       "                        <td style=\"text-align: left;\">\n",
       "                            <strong>Total threads: </strong> 4\n",
       "                        </td>\n",
       "                    </tr>\n",
       "                    <tr>\n",
       "                        <td style=\"text-align: left;\">\n",
       "                            <strong>Dashboard: </strong> <a href=\"http://127.0.0.1:39957/status\" target=\"_blank\">http://127.0.0.1:39957/status</a>\n",
       "                        </td>\n",
       "                        <td style=\"text-align: left;\">\n",
       "                            <strong>Memory: </strong> 15.73 GiB\n",
       "                        </td>\n",
       "                    </tr>\n",
       "                    <tr>\n",
       "                        <td style=\"text-align: left;\">\n",
       "                            <strong>Nanny: </strong> tcp://127.0.0.1:42365\n",
       "                        </td>\n",
       "                        <td style=\"text-align: left;\"></td>\n",
       "                    </tr>\n",
       "                    <tr>\n",
       "                        <td colspan=\"2\" style=\"text-align: left;\">\n",
       "                            <strong>Local directory: </strong> /media/habi/Fast_SSD/tmp/dask-worker-space/worker-fjhs0mbf\n",
       "                        </td>\n",
       "                    </tr>\n",
       "\n",
       "                    \n",
       "\n",
       "                    \n",
       "\n",
       "                </table>\n",
       "            </details>\n",
       "            </div>\n",
       "        </div>\n",
       "        \n",
       "        <div style=\"margin-bottom: 20px;\">\n",
       "            <div style=\"width: 24px; height: 24px; background-color: #DBF5FF; border: 3px solid #4CC9FF; border-radius: 5px; position: absolute;\"> </div>\n",
       "            <div style=\"margin-left: 48px;\">\n",
       "            <details>\n",
       "                <summary>\n",
       "                    <h4 style=\"margin-bottom: 0px; display: inline;\">Worker: 4</h4>\n",
       "                </summary>\n",
       "                <table style=\"width: 100%; text-align: left;\">\n",
       "                    <tr>\n",
       "                        <td style=\"text-align: left;\">\n",
       "                            <strong>Comm: </strong> tcp://127.0.0.1:43107\n",
       "                        </td>\n",
       "                        <td style=\"text-align: left;\">\n",
       "                            <strong>Total threads: </strong> 4\n",
       "                        </td>\n",
       "                    </tr>\n",
       "                    <tr>\n",
       "                        <td style=\"text-align: left;\">\n",
       "                            <strong>Dashboard: </strong> <a href=\"http://127.0.0.1:46305/status\" target=\"_blank\">http://127.0.0.1:46305/status</a>\n",
       "                        </td>\n",
       "                        <td style=\"text-align: left;\">\n",
       "                            <strong>Memory: </strong> 15.73 GiB\n",
       "                        </td>\n",
       "                    </tr>\n",
       "                    <tr>\n",
       "                        <td style=\"text-align: left;\">\n",
       "                            <strong>Nanny: </strong> tcp://127.0.0.1:38403\n",
       "                        </td>\n",
       "                        <td style=\"text-align: left;\"></td>\n",
       "                    </tr>\n",
       "                    <tr>\n",
       "                        <td colspan=\"2\" style=\"text-align: left;\">\n",
       "                            <strong>Local directory: </strong> /media/habi/Fast_SSD/tmp/dask-worker-space/worker-ys3_5tx3\n",
       "                        </td>\n",
       "                    </tr>\n",
       "\n",
       "                    \n",
       "\n",
       "                    \n",
       "\n",
       "                </table>\n",
       "            </details>\n",
       "            </div>\n",
       "        </div>\n",
       "        \n",
       "        <div style=\"margin-bottom: 20px;\">\n",
       "            <div style=\"width: 24px; height: 24px; background-color: #DBF5FF; border: 3px solid #4CC9FF; border-radius: 5px; position: absolute;\"> </div>\n",
       "            <div style=\"margin-left: 48px;\">\n",
       "            <details>\n",
       "                <summary>\n",
       "                    <h4 style=\"margin-bottom: 0px; display: inline;\">Worker: 5</h4>\n",
       "                </summary>\n",
       "                <table style=\"width: 100%; text-align: left;\">\n",
       "                    <tr>\n",
       "                        <td style=\"text-align: left;\">\n",
       "                            <strong>Comm: </strong> tcp://127.0.0.1:42013\n",
       "                        </td>\n",
       "                        <td style=\"text-align: left;\">\n",
       "                            <strong>Total threads: </strong> 4\n",
       "                        </td>\n",
       "                    </tr>\n",
       "                    <tr>\n",
       "                        <td style=\"text-align: left;\">\n",
       "                            <strong>Dashboard: </strong> <a href=\"http://127.0.0.1:35517/status\" target=\"_blank\">http://127.0.0.1:35517/status</a>\n",
       "                        </td>\n",
       "                        <td style=\"text-align: left;\">\n",
       "                            <strong>Memory: </strong> 15.73 GiB\n",
       "                        </td>\n",
       "                    </tr>\n",
       "                    <tr>\n",
       "                        <td style=\"text-align: left;\">\n",
       "                            <strong>Nanny: </strong> tcp://127.0.0.1:33703\n",
       "                        </td>\n",
       "                        <td style=\"text-align: left;\"></td>\n",
       "                    </tr>\n",
       "                    <tr>\n",
       "                        <td colspan=\"2\" style=\"text-align: left;\">\n",
       "                            <strong>Local directory: </strong> /media/habi/Fast_SSD/tmp/dask-worker-space/worker-k82wbcvd\n",
       "                        </td>\n",
       "                    </tr>\n",
       "\n",
       "                    \n",
       "\n",
       "                    \n",
       "\n",
       "                </table>\n",
       "            </details>\n",
       "            </div>\n",
       "        </div>\n",
       "        \n",
       "        <div style=\"margin-bottom: 20px;\">\n",
       "            <div style=\"width: 24px; height: 24px; background-color: #DBF5FF; border: 3px solid #4CC9FF; border-radius: 5px; position: absolute;\"> </div>\n",
       "            <div style=\"margin-left: 48px;\">\n",
       "            <details>\n",
       "                <summary>\n",
       "                    <h4 style=\"margin-bottom: 0px; display: inline;\">Worker: 6</h4>\n",
       "                </summary>\n",
       "                <table style=\"width: 100%; text-align: left;\">\n",
       "                    <tr>\n",
       "                        <td style=\"text-align: left;\">\n",
       "                            <strong>Comm: </strong> tcp://127.0.0.1:36875\n",
       "                        </td>\n",
       "                        <td style=\"text-align: left;\">\n",
       "                            <strong>Total threads: </strong> 4\n",
       "                        </td>\n",
       "                    </tr>\n",
       "                    <tr>\n",
       "                        <td style=\"text-align: left;\">\n",
       "                            <strong>Dashboard: </strong> <a href=\"http://127.0.0.1:36343/status\" target=\"_blank\">http://127.0.0.1:36343/status</a>\n",
       "                        </td>\n",
       "                        <td style=\"text-align: left;\">\n",
       "                            <strong>Memory: </strong> 15.73 GiB\n",
       "                        </td>\n",
       "                    </tr>\n",
       "                    <tr>\n",
       "                        <td style=\"text-align: left;\">\n",
       "                            <strong>Nanny: </strong> tcp://127.0.0.1:43895\n",
       "                        </td>\n",
       "                        <td style=\"text-align: left;\"></td>\n",
       "                    </tr>\n",
       "                    <tr>\n",
       "                        <td colspan=\"2\" style=\"text-align: left;\">\n",
       "                            <strong>Local directory: </strong> /media/habi/Fast_SSD/tmp/dask-worker-space/worker-ysoz3lz2\n",
       "                        </td>\n",
       "                    </tr>\n",
       "\n",
       "                    \n",
       "\n",
       "                    \n",
       "\n",
       "                </table>\n",
       "            </details>\n",
       "            </div>\n",
       "        </div>\n",
       "        \n",
       "        <div style=\"margin-bottom: 20px;\">\n",
       "            <div style=\"width: 24px; height: 24px; background-color: #DBF5FF; border: 3px solid #4CC9FF; border-radius: 5px; position: absolute;\"> </div>\n",
       "            <div style=\"margin-left: 48px;\">\n",
       "            <details>\n",
       "                <summary>\n",
       "                    <h4 style=\"margin-bottom: 0px; display: inline;\">Worker: 7</h4>\n",
       "                </summary>\n",
       "                <table style=\"width: 100%; text-align: left;\">\n",
       "                    <tr>\n",
       "                        <td style=\"text-align: left;\">\n",
       "                            <strong>Comm: </strong> tcp://127.0.0.1:33523\n",
       "                        </td>\n",
       "                        <td style=\"text-align: left;\">\n",
       "                            <strong>Total threads: </strong> 4\n",
       "                        </td>\n",
       "                    </tr>\n",
       "                    <tr>\n",
       "                        <td style=\"text-align: left;\">\n",
       "                            <strong>Dashboard: </strong> <a href=\"http://127.0.0.1:42115/status\" target=\"_blank\">http://127.0.0.1:42115/status</a>\n",
       "                        </td>\n",
       "                        <td style=\"text-align: left;\">\n",
       "                            <strong>Memory: </strong> 15.73 GiB\n",
       "                        </td>\n",
       "                    </tr>\n",
       "                    <tr>\n",
       "                        <td style=\"text-align: left;\">\n",
       "                            <strong>Nanny: </strong> tcp://127.0.0.1:37481\n",
       "                        </td>\n",
       "                        <td style=\"text-align: left;\"></td>\n",
       "                    </tr>\n",
       "                    <tr>\n",
       "                        <td colspan=\"2\" style=\"text-align: left;\">\n",
       "                            <strong>Local directory: </strong> /media/habi/Fast_SSD/tmp/dask-worker-space/worker-sqn45xip\n",
       "                        </td>\n",
       "                    </tr>\n",
       "\n",
       "                    \n",
       "\n",
       "                    \n",
       "\n",
       "                </table>\n",
       "            </details>\n",
       "            </div>\n",
       "        </div>\n",
       "        \n",
       "\n",
       "    </details>\n",
       "</div>\n",
       "\n",
       "        </details>\n",
       "    </div>\n",
       "</div>\n",
       "            </details>\n",
       "        \n",
       "\n",
       "    </div>\n",
       "</div>"
      ],
      "text/plain": [
       "<Client: 'tcp://127.0.0.1:43691' processes=8 threads=32, memory=125.80 GiB>"
      ]
     },
     "execution_count": 4,
     "metadata": {},
     "output_type": "execute_result"
    }
   ],
   "source": [
    "client"
   ]
  },
  {
   "cell_type": "code",
   "execution_count": 5,
   "metadata": {},
   "outputs": [
    {
     "name": "stdout",
     "output_type": "stream",
     "text": [
      "You can seee what DASK is doing at \"http://localhost:8787/status\"\n"
     ]
    }
   ],
   "source": [
    "print('You can seee what DASK is doing at \"http://localhost:%s/status\"' % client.scheduler_info()['services']['dashboard'])"
   ]
  },
  {
   "cell_type": "code",
   "execution_count": 6,
   "metadata": {},
   "outputs": [],
   "source": [
    "# # Ignore warnings in the notebook\n",
    "# import warnings\n",
    "# warnings.filterwarnings(\"ignore\")"
   ]
  },
  {
   "cell_type": "code",
   "execution_count": 7,
   "metadata": {},
   "outputs": [],
   "source": [
    "# Set up figure defaults\n",
    "plt.rc('image', cmap='gray', interpolation='nearest')  # Display all images in b&w and with 'nearest' interpolation\n",
    "plt.rcParams['figure.figsize'] = (16, 9)  # Size up figures a bit\n",
    "plt.rcParams['figure.dpi'] = 200"
   ]
  },
  {
   "cell_type": "code",
   "execution_count": 8,
   "metadata": {},
   "outputs": [],
   "source": [
    "# Setup scale bar defaults\n",
    "plt.rcParams['scalebar.location'] = 'lower right'\n",
    "plt.rcParams['scalebar.frameon'] = False\n",
    "plt.rcParams['scalebar.color'] = 'white'"
   ]
  },
  {
   "cell_type": "code",
   "execution_count": 9,
   "metadata": {},
   "outputs": [],
   "source": [
    "# Display all plots identically\n",
    "lines = 3\n",
    "# And then do something like\n",
    "# plt.subplot(lines, int(numpy.ceil(len(Data) / float(lines))), c + 1)"
   ]
  },
  {
   "cell_type": "code",
   "execution_count": 10,
   "metadata": {},
   "outputs": [
    {
     "name": "stdout",
     "output_type": "stream",
     "text": [
      "We are loading all the data from /media/habi/Fast_SSD/EAWAG\n"
     ]
    }
   ],
   "source": [
    "# Different locations if running either on Linux or Windows\n",
    "FastSSD = True\n",
    "nanoct = True  # Load the data directly from the 2214\n",
    "overthere = False  # Load the data directly from the iee-research_storage drive\n",
    "# to speed things up significantly\n",
    "if 'Linux' in platform.system():\n",
    "    if FastSSD:\n",
    "        BasePath = os.path.join(os.sep, 'media', 'habi', 'Fast_SSD')\n",
    "    elif overthere:\n",
    "        BasePath = os.path.join(os.sep, 'home', 'habi', 'research-storage-iee')\n",
    "    elif nanoct:\n",
    "        BasePath = os.path.join(os.path.sep, 'home', 'habi', '2214')\n",
    "    else:\n",
    "        BasePath = os.path.join(os.sep, 'home', 'habi', '1272')\n",
    "elif 'Darwin' in platform.system():\n",
    "    FastSSD = False\n",
    "    BasePath = os.path.join('/Users/habi/Dev/EAWAG/Data')\n",
    "elif 'Windows' in platform.system():\n",
    "    if FastSSD:\n",
    "        BasePath = os.path.join('F:\\\\')\n",
    "    else:\n",
    "        if 'ana' in platform.node():\n",
    "            BasePath = os.path.join('\\\\\\\\resstore.unibe.ch', 'iee_aqua', 'microCTupload')\n",
    "        else:\n",
    "            BasePath = os.path.join('D:\\\\Results')\n",
    "if overthere:\n",
    "    Root = BasePath\n",
    "else:\n",
    "    Root = os.path.join(BasePath, 'EAWAG')\n",
    "print('We are loading all the data from %s' % Root)"
   ]
  },
  {
   "cell_type": "code",
   "execution_count": 11,
   "metadata": {},
   "outputs": [],
   "source": [
    "def get_pixelsize(logfile):\n",
    "    \"\"\"Get the pixel size from the scan log file\"\"\"\n",
    "    with open(logfile, 'r') as f:\n",
    "        for line in f:\n",
    "            if 'Image Pixel' in line and 'Scaled' not in line:\n",
    "                pixelsize = float(line.split('=')[1])\n",
    "    return(pixelsize)"
   ]
  },
  {
   "cell_type": "code",
   "execution_count": 12,
   "metadata": {},
   "outputs": [],
   "source": [
    "def get_projectionsize(logfile):\n",
    "    \"\"\"How big did we set the camera?\"\"\"\n",
    "    with open(logfile, 'r') as f:\n",
    "        for line in f:\n",
    "            if 'Number Of Rows' in line:\n",
    "                y = int(line.split('=')[1])\n",
    "            if 'Number Of Columns' in line:\n",
    "                x = int(line.split('=')[1])\n",
    "    return(x * y)"
   ]
  },
  {
   "cell_type": "code",
   "execution_count": 13,
   "metadata": {},
   "outputs": [],
   "source": [
    "def get_filter(logfile):\n",
    "    \"\"\"Get the filter we used whole scanning from the scan log file\"\"\"\n",
    "    with open(logfile, 'r') as f:\n",
    "        for line in f:\n",
    "            if 'Filter=' in line:\n",
    "                whichfilter = line.split('=')[1].strip()\n",
    "    return(whichfilter)"
   ]
  },
  {
   "cell_type": "code",
   "execution_count": 14,
   "metadata": {},
   "outputs": [],
   "source": [
    "def get_exposuretime(logfile):\n",
    "    \"\"\"Get the exposure time size from the scan log file\"\"\"\n",
    "    with open(logfile, 'r') as f:\n",
    "        for line in f:\n",
    "            if 'Exposure' in line:\n",
    "                exposuretime = int(line.split('=')[1])\n",
    "    return(exposuretime)"
   ]
  },
  {
   "cell_type": "code",
   "execution_count": 15,
   "metadata": {},
   "outputs": [],
   "source": [
    "def get_ringartefact(logfile):\n",
    "    \"\"\"Get the ring artefact correction from the  scan log file\"\"\"\n",
    "    with open(logfile, 'r') as f:\n",
    "        for line in f:\n",
    "            if 'Ring Artifact' in line:\n",
    "                ringartefactcorrection = int(line.split('=')[1])\n",
    "    return(ringartefactcorrection)"
   ]
  },
  {
   "cell_type": "code",
   "execution_count": 16,
   "metadata": {},
   "outputs": [],
   "source": [
    "def get_reconstruction_grayvalue(logfile):\n",
    "    grayvalue = None\n",
    "    \"\"\"How did we map the brightness of the reconstructions?\"\"\"\n",
    "    with open(logfile, 'r') as f:\n",
    "        for line in f:\n",
    "            if 'Maximum for' in line:\n",
    "                grayvalue = float(line.split('=')[1])\n",
    "    return(grayvalue)"
   ]
  },
  {
   "cell_type": "code",
   "execution_count": 17,
   "metadata": {},
   "outputs": [],
   "source": [
    "def get_beamhardening(logfile):\n",
    "    \"\"\"Get the beamhardening correction from the  scan log file\"\"\"\n",
    "    with open(logfile, 'r') as f:\n",
    "        for line in f:\n",
    "            if 'Hardening' in line:\n",
    "                beamhardeningcorrection = int(line.split('=')[1])\n",
    "    return(beamhardeningcorrection)"
   ]
  },
  {
   "cell_type": "code",
   "execution_count": 18,
   "metadata": {},
   "outputs": [],
   "source": [
    "def get_rotationstep(logfile):\n",
    "    \"\"\"Get the rotation step from the scan log file\"\"\"\n",
    "    with open(logfile, 'r') as f:\n",
    "        for line in f:\n",
    "            if 'Rotation Step' in line:\n",
    "                rotstep = float(line.split('=')[1])\n",
    "    return(rotstep)"
   ]
  },
  {
   "cell_type": "code",
   "execution_count": 19,
   "metadata": {},
   "outputs": [],
   "source": [
    "def get_frameaveraging(logfile):\n",
    "    \"\"\"Get the frame averaging from the scan log file\"\"\"\n",
    "    with open(logfile, 'r') as f:\n",
    "        for line in f:\n",
    "            if 'Averaging' in line:\n",
    "                avg = line.split('=')[1]\n",
    "    return(avg)"
   ]
  },
  {
   "cell_type": "code",
   "execution_count": 20,
   "metadata": {},
   "outputs": [],
   "source": [
    "def get_defectpixelmasking(logfile):\n",
    "    \"\"\"Check the 'defect pixel masking' setting\"\"\"\n",
    "    with open(logfile, 'r') as f:\n",
    "        for line in f:\n",
    "            if 'defect pixel mask' in line:\n",
    "                defectmask = int(line.split('=')[1].strip())\n",
    "    return(defectmask)"
   ]
  },
  {
   "cell_type": "code",
   "execution_count": 21,
   "metadata": {},
   "outputs": [],
   "source": [
    "def get_machine(logfile):\n",
    "    \"\"\"Get the machine we used to scan\"\"\"\n",
    "    with open(logfile, 'r') as f:\n",
    "        for line in f:\n",
    "            if 'Scanner' in line:\n",
    "                machine = line.split('=')[1].strip()\n",
    "    return(machine)"
   ]
  },
  {
   "cell_type": "code",
   "execution_count": 22,
   "metadata": {},
   "outputs": [],
   "source": [
    "def get_scantime(logfile):\n",
    "    \"\"\"How long did we scan?\"\"\"\n",
    "    with open(logfile, 'r') as f:\n",
    "        for line in f:\n",
    "            if 'Scan duration' in line:\n",
    "                time = line.split('=')[1].strip()\n",
    "    return(pandas.to_timedelta(time))"
   ]
  },
  {
   "cell_type": "code",
   "execution_count": 23,
   "metadata": {},
   "outputs": [],
   "source": [
    "def get_stacks(logfile):\n",
    "    \"\"\"How many stacks/connected scans did we make?\"\"\"\n",
    "    stacks = 1\n",
    "    with open(logfile, 'r') as f:\n",
    "        for line in f:\n",
    "            if 'conn' in line:\n",
    "                stacks = int(line.split('=')[1])\n",
    "    return(stacks)"
   ]
  },
  {
   "cell_type": "code",
   "execution_count": 24,
   "metadata": {},
   "outputs": [],
   "source": [
    "def get_scandate(logfile, verbose=False):\n",
    "    \"\"\"When did we scan the fish?\"\"\"\n",
    "    with open(logfile, 'r') as f:\n",
    "        for line in f:\n",
    "            if 'Study Date and Time' in line:\n",
    "                if verbose:\n",
    "                    print('Found \"date\" line: %s' % line.strip())\n",
    "                datestring = line.split('=')[1].strip().replace('  ', ' ')\n",
    "                if verbose:\n",
    "                    print('The date string is: %s' % datestring)\n",
    "                date = pandas.to_datetime(datestring, format='%d %b %Y %Hh:%Mm:%Ss')\n",
    "                if verbose:\n",
    "                    print('Parsed to: %s' % date)\n",
    "    return(date.isoformat())"
   ]
  },
  {
   "cell_type": "code",
   "execution_count": 25,
   "metadata": {},
   "outputs": [],
   "source": [
    "def get_git_hash():\n",
    "    '''\n",
    "    Get the current git hash from the repository.\n",
    "    Based on http://stackoverflow.com/a/949391/323100 and\n",
    "    http://stackoverflow.com/a/18283905/323100\n",
    "    '''\n",
    "    from subprocess import Popen, PIPE\n",
    "    import os\n",
    "    gitprocess = Popen(['git',\n",
    "                        '--git-dir',\n",
    "                        os.path.join(os.getcwd(), '.git'),\n",
    "                        'rev-parse',\n",
    "                        '--short',\n",
    "                        '--verify',\n",
    "                        'HEAD'],\n",
    "                       stdout=PIPE)\n",
    "    (output, _) = gitprocess.communicate()\n",
    "    return output.strip().decode(\"utf-8\")"
   ]
  },
  {
   "cell_type": "code",
   "execution_count": 26,
   "metadata": {},
   "outputs": [],
   "source": [
    "# # Make directory for output\n",
    "# OutPutDir = os.path.join(os.getcwd(), 'Output', get_git_hash())\n",
    "# print('We are saving all the output to %s' % OutPutDir)\n",
    "# os.makedirs(OutPutDir, exist_ok=True)"
   ]
  },
  {
   "cell_type": "code",
   "execution_count": 27,
   "metadata": {},
   "outputs": [],
   "source": [
    "# Make us a dataframe for saving all that we need\n",
    "Data = pandas.DataFrame()"
   ]
  },
  {
   "cell_type": "code",
   "execution_count": 28,
   "metadata": {},
   "outputs": [],
   "source": [
    "# Get *all* log files\n",
    "# Using os.walk is way faster than using recursive glob.glob, see DataWrangling.ipynb for details\n",
    "# Not sorting the found logfiles is also making it quicker\n",
    "Data['LogFile'] = [os.path.join(root, name)\n",
    "                   for root, dirs, files in os.walk(Root)\n",
    "                   for name in files\n",
    "                   if name.endswith((\".log\"))]"
   ]
  },
  {
   "cell_type": "code",
   "execution_count": 29,
   "metadata": {},
   "outputs": [],
   "source": [
    "# Get all folders\n",
    "Data['Folder'] = [os.path.dirname(f) for f in Data['LogFile']]"
   ]
  },
  {
   "cell_type": "code",
   "execution_count": 30,
   "metadata": {},
   "outputs": [
    {
     "data": {
      "text/html": [
       "<div>\n",
       "<style scoped>\n",
       "    .dataframe tbody tr th:only-of-type {\n",
       "        vertical-align: middle;\n",
       "    }\n",
       "\n",
       "    .dataframe tbody tr th {\n",
       "        vertical-align: top;\n",
       "    }\n",
       "\n",
       "    .dataframe thead th {\n",
       "        text-align: right;\n",
       "    }\n",
       "</style>\n",
       "<table border=\"1\" class=\"dataframe\">\n",
       "  <thead>\n",
       "    <tr style=\"text-align: right;\">\n",
       "      <th></th>\n",
       "      <th>LogFile</th>\n",
       "      <th>Folder</th>\n",
       "    </tr>\n",
       "  </thead>\n",
       "  <tbody>\n",
       "    <tr>\n",
       "      <th>1054</th>\n",
       "      <td>/media/habi/Fast_SSD/EAWAG/IG75/rec_pj/IG75_re...</td>\n",
       "      <td>/media/habi/Fast_SSD/EAWAG/IG75/rec_pj</td>\n",
       "    </tr>\n",
       "    <tr>\n",
       "      <th>1107</th>\n",
       "      <td>/media/habi/Fast_SSD/EAWAG/KC31/head/rec/KC31_...</td>\n",
       "      <td>/media/habi/Fast_SSD/EAWAG/KC31/head/rec</td>\n",
       "    </tr>\n",
       "    <tr>\n",
       "      <th>870</th>\n",
       "      <td>/media/habi/Fast_SSD/EAWAG/22478/proj/22478~02...</td>\n",
       "      <td>/media/habi/Fast_SSD/EAWAG/22478/proj</td>\n",
       "    </tr>\n",
       "    <tr>\n",
       "      <th>403</th>\n",
       "      <td>/media/habi/Fast_SSD/EAWAG/10715/head/proj/107...</td>\n",
       "      <td>/media/habi/Fast_SSD/EAWAG/10715/head/proj</td>\n",
       "    </tr>\n",
       "    <tr>\n",
       "      <th>157</th>\n",
       "      <td>/media/habi/Fast_SSD/EAWAG/103908/head/proj/TM...</td>\n",
       "      <td>/media/habi/Fast_SSD/EAWAG/103908/head/proj</td>\n",
       "    </tr>\n",
       "    <tr>\n",
       "      <th>433</th>\n",
       "      <td>/media/habi/Fast_SSD/EAWAG/10794/rec_rescan/10...</td>\n",
       "      <td>/media/habi/Fast_SSD/EAWAG/10794/rec_rescan</td>\n",
       "    </tr>\n",
       "    <tr>\n",
       "      <th>708</th>\n",
       "      <td>/media/habi/Fast_SSD/EAWAG/13115/head/proj/131...</td>\n",
       "      <td>/media/habi/Fast_SSD/EAWAG/13115/head/proj</td>\n",
       "    </tr>\n",
       "    <tr>\n",
       "      <th>134</th>\n",
       "      <td>/media/habi/Fast_SSD/EAWAG/103767/proj/103767~...</td>\n",
       "      <td>/media/habi/Fast_SSD/EAWAG/103767/proj</td>\n",
       "    </tr>\n",
       "    <tr>\n",
       "      <th>1117</th>\n",
       "      <td>/media/habi/Fast_SSD/EAWAG/MA31/head/proj/MA31...</td>\n",
       "      <td>/media/habi/Fast_SSD/EAWAG/MA31/head/proj</td>\n",
       "    </tr>\n",
       "    <tr>\n",
       "      <th>326</th>\n",
       "      <td>/media/habi/Fast_SSD/EAWAG/10618/proj/10618~01...</td>\n",
       "      <td>/media/habi/Fast_SSD/EAWAG/10618/proj</td>\n",
       "    </tr>\n",
       "  </tbody>\n",
       "</table>\n",
       "</div>"
      ],
      "text/plain": [
       "                                                LogFile  \\\n",
       "1054  /media/habi/Fast_SSD/EAWAG/IG75/rec_pj/IG75_re...   \n",
       "1107  /media/habi/Fast_SSD/EAWAG/KC31/head/rec/KC31_...   \n",
       "870   /media/habi/Fast_SSD/EAWAG/22478/proj/22478~02...   \n",
       "403   /media/habi/Fast_SSD/EAWAG/10715/head/proj/107...   \n",
       "157   /media/habi/Fast_SSD/EAWAG/103908/head/proj/TM...   \n",
       "433   /media/habi/Fast_SSD/EAWAG/10794/rec_rescan/10...   \n",
       "708   /media/habi/Fast_SSD/EAWAG/13115/head/proj/131...   \n",
       "134   /media/habi/Fast_SSD/EAWAG/103767/proj/103767~...   \n",
       "1117  /media/habi/Fast_SSD/EAWAG/MA31/head/proj/MA31...   \n",
       "326   /media/habi/Fast_SSD/EAWAG/10618/proj/10618~01...   \n",
       "\n",
       "                                           Folder  \n",
       "1054       /media/habi/Fast_SSD/EAWAG/IG75/rec_pj  \n",
       "1107     /media/habi/Fast_SSD/EAWAG/KC31/head/rec  \n",
       "870         /media/habi/Fast_SSD/EAWAG/22478/proj  \n",
       "403    /media/habi/Fast_SSD/EAWAG/10715/head/proj  \n",
       "157   /media/habi/Fast_SSD/EAWAG/103908/head/proj  \n",
       "433   /media/habi/Fast_SSD/EAWAG/10794/rec_rescan  \n",
       "708    /media/habi/Fast_SSD/EAWAG/13115/head/proj  \n",
       "134        /media/habi/Fast_SSD/EAWAG/103767/proj  \n",
       "1117    /media/habi/Fast_SSD/EAWAG/MA31/head/proj  \n",
       "326         /media/habi/Fast_SSD/EAWAG/10618/proj  "
      ]
     },
     "execution_count": 30,
     "metadata": {},
     "output_type": "execute_result"
    }
   ],
   "source": [
    "Data.sample(n=10)"
   ]
  },
  {
   "cell_type": "code",
   "execution_count": 31,
   "metadata": {},
   "outputs": [
    {
     "name": "stdout",
     "output_type": "stream",
     "text": [
      "- 103761/proj_oj/103761.log is missing matching reconstructions\n"
     ]
    }
   ],
   "source": [
    "# Check for samples which are not yet reconstructed\n",
    "for c, row in Data.iterrows():\n",
    "    # Iterate over every 'proj' folder\n",
    "    if 'proj' in row.Folder:\n",
    "        if 'TScopy' not in row.Folder and 'PR' not in row.Folder:\n",
    "            # If there's nothing with 'rec*' on the same level, then tell us\n",
    "            if not glob.glob(row.Folder.replace('proj', '*rec*')):\n",
    "                print('- %s is missing matching reconstructions' % row.LogFile[len(Root) + 1:])"
   ]
  },
  {
   "cell_type": "code",
   "execution_count": 32,
   "metadata": {},
   "outputs": [],
   "source": [
    "# 103375/proj_stuck/*.log is a scan where we lost air pressure in the building and the rotation stage got stuck. We renamed the folder afterwards.\n",
    "# 103761/proj_oj/103761.log is a scan where the sample holder touched the source"
   ]
  },
  {
   "cell_type": "code",
   "execution_count": 33,
   "metadata": {},
   "outputs": [],
   "source": [
    "# Search for any .csv files in each folder\n",
    "Data['XYAlignment'] = [glob.glob(os.path.join(f, '*T*.csv')) for f in Data['Folder']]"
   ]
  },
  {
   "cell_type": "code",
   "execution_count": 34,
   "metadata": {},
   "outputs": [],
   "source": [
    "# Display samples which are missing the .csv-files for the XY-alignment\n",
    "for c, row in Data.iterrows():\n",
    "    # Iterate over every 'proj' folder\n",
    "    if 'proj' in row['Folder']:\n",
    "        if not row['XYAlignment']:\n",
    "            if not any(x in row.LogFile for x in ['rectmp.log',  # because we only exclude temporary logfiles in a later step\n",
    "                                                  'proj_nofilter',  # since these two scans of single teeth don't contain a reference scan\n",
    "                                                  'TScopy',  # discard *t*hermal *s*hift data\n",
    "                                                  os.path.join('TJ3', 'jaw_v1'),  # no reference scan\n",
    "                                                  os.path.join('28', 'full_188um'),  # no reference scan\n",
    "                                                  os.path.join('75', 'proj_stuck'),  # 103375\\proj_stuck which got stuck\n",
    "                                                  os.path.join('106985', 'proj'),  # 106985/proj is a b0rked scan where something went wrong with the exposure time\n",
    "                                                  os.path.join('161543', 'head_30'),  # 161543\\head_30um has no reference scan\n",
    "                                                  os.path.join('21322', 'jaw'),  # two scans of 21322 which have no reference scan\n",
    "                                                  os.path.join('21322', 'whole'),  # two scans of 21322 which have no reference scan\n",
    "                                                  os.path.join('31', 'moved_proj'),  # MA31\\moved_proj which moved during acquisition\n",
    "                                                  os.path.join('95', 'proj', '14295'),  # no reference scan\n",
    "                                                  os.path.join('104061', 'head', 'proj_pressure')]):   # We lost air pressure (in the building) during this scan\n",
    "                print('- %s has *not* been X/Y aligned' % row.LogFile[len(Root) + 1:])"
   ]
  },
  {
   "cell_type": "code",
   "execution_count": 35,
   "metadata": {},
   "outputs": [],
   "source": [
    "# Get rid of all non-rec logfiles\n",
    "for c, row in Data.iterrows():\n",
    "    if 'rec' not in row.Folder:\n",
    "        Data.drop([c], inplace=True)\n",
    "    elif 'SubScan' in row.Folder:\n",
    "        Data.drop([c], inplace=True)\n",
    "    elif 'rectmp.log' in row.LogFile:\n",
    "        Data.drop([c], inplace=True)\n",
    "# Reset dataframe to something that we would get if we only would have loaded the 'rec' files\n",
    "Data = Data.reset_index(drop=True)"
   ]
  },
  {
   "cell_type": "code",
   "execution_count": 36,
   "metadata": {},
   "outputs": [],
   "source": [
    "# Generate us some meaningful colums\n",
    "Data['Fish'] = [l[len(Root) + 1:].split(os.sep)[0] for l in Data['LogFile']]\n",
    "Data['Scan'] = ['_'.join(l[len(Root) + 1:].split(os.sep)[1:-1]) for l in Data['LogFile']]"
   ]
  },
  {
   "cell_type": "code",
   "execution_count": 37,
   "metadata": {
    "tags": []
   },
   "outputs": [
    {
     "data": {
      "text/html": [
       "<div>\n",
       "<style scoped>\n",
       "    .dataframe tbody tr th:only-of-type {\n",
       "        vertical-align: middle;\n",
       "    }\n",
       "\n",
       "    .dataframe tbody tr th {\n",
       "        vertical-align: top;\n",
       "    }\n",
       "\n",
       "    .dataframe thead th {\n",
       "        text-align: right;\n",
       "    }\n",
       "</style>\n",
       "<table border=\"1\" class=\"dataframe\">\n",
       "  <thead>\n",
       "    <tr style=\"text-align: right;\">\n",
       "      <th></th>\n",
       "      <th>LogFile</th>\n",
       "      <th>Folder</th>\n",
       "      <th>XYAlignment</th>\n",
       "      <th>Fish</th>\n",
       "      <th>Scan</th>\n",
       "    </tr>\n",
       "  </thead>\n",
       "  <tbody>\n",
       "    <tr>\n",
       "      <th>366</th>\n",
       "      <td>/media/habi/Fast_SSD/EAWAG/ZU12/rec_reconstruc...</td>\n",
       "      <td>/media/habi/Fast_SSD/EAWAG/ZU12/rec_reconstruct</td>\n",
       "      <td>[]</td>\n",
       "      <td>ZU12</td>\n",
       "      <td>rec_reconstruct</td>\n",
       "    </tr>\n",
       "    <tr>\n",
       "      <th>367</th>\n",
       "      <td>/media/habi/Fast_SSD/EAWAG/ZuOS115/head/rec/Zu...</td>\n",
       "      <td>/media/habi/Fast_SSD/EAWAG/ZuOS115/head/rec</td>\n",
       "      <td>[]</td>\n",
       "      <td>ZuOS115</td>\n",
       "      <td>head_rec</td>\n",
       "    </tr>\n",
       "    <tr>\n",
       "      <th>368</th>\n",
       "      <td>/media/habi/Fast_SSD/EAWAG/ZuOS115/rec/ZuOS115...</td>\n",
       "      <td>/media/habi/Fast_SSD/EAWAG/ZuOS115/rec</td>\n",
       "      <td>[]</td>\n",
       "      <td>ZuOS115</td>\n",
       "      <td>rec</td>\n",
       "    </tr>\n",
       "    <tr>\n",
       "      <th>369</th>\n",
       "      <td>/media/habi/Fast_SSD/EAWAG/ZuOS115/rec_oj/ZuOS...</td>\n",
       "      <td>/media/habi/Fast_SSD/EAWAG/ZuOS115/rec_oj</td>\n",
       "      <td>[]</td>\n",
       "      <td>ZuOS115</td>\n",
       "      <td>rec_oj</td>\n",
       "    </tr>\n",
       "    <tr>\n",
       "      <th>370</th>\n",
       "      <td>/media/habi/Fast_SSD/EAWAG/ZuOS148/rec/ZuOS148...</td>\n",
       "      <td>/media/habi/Fast_SSD/EAWAG/ZuOS148/rec</td>\n",
       "      <td>[]</td>\n",
       "      <td>ZuOS148</td>\n",
       "      <td>rec</td>\n",
       "    </tr>\n",
       "  </tbody>\n",
       "</table>\n",
       "</div>"
      ],
      "text/plain": [
       "                                               LogFile  \\\n",
       "366  /media/habi/Fast_SSD/EAWAG/ZU12/rec_reconstruc...   \n",
       "367  /media/habi/Fast_SSD/EAWAG/ZuOS115/head/rec/Zu...   \n",
       "368  /media/habi/Fast_SSD/EAWAG/ZuOS115/rec/ZuOS115...   \n",
       "369  /media/habi/Fast_SSD/EAWAG/ZuOS115/rec_oj/ZuOS...   \n",
       "370  /media/habi/Fast_SSD/EAWAG/ZuOS148/rec/ZuOS148...   \n",
       "\n",
       "                                              Folder XYAlignment     Fish  \\\n",
       "366  /media/habi/Fast_SSD/EAWAG/ZU12/rec_reconstruct          []     ZU12   \n",
       "367      /media/habi/Fast_SSD/EAWAG/ZuOS115/head/rec          []  ZuOS115   \n",
       "368           /media/habi/Fast_SSD/EAWAG/ZuOS115/rec          []  ZuOS115   \n",
       "369        /media/habi/Fast_SSD/EAWAG/ZuOS115/rec_oj          []  ZuOS115   \n",
       "370           /media/habi/Fast_SSD/EAWAG/ZuOS148/rec          []  ZuOS148   \n",
       "\n",
       "                Scan  \n",
       "366  rec_reconstruct  \n",
       "367         head_rec  \n",
       "368              rec  \n",
       "369           rec_oj  \n",
       "370              rec  "
      ]
     },
     "execution_count": 37,
     "metadata": {},
     "output_type": "execute_result"
    }
   ],
   "source": [
    "Data.tail()"
   ]
  },
  {
   "cell_type": "code",
   "execution_count": 38,
   "metadata": {},
   "outputs": [],
   "source": [
    "# Get the file names of the reconstructions, unsorted\n",
    "Data['Filenames Reconstructions'] = [glob.glob(os.path.join(f, '*rec0*.png')) for f in Data['Folder']]\n",
    "# How many reconstructions do we have?\n",
    "Data['Number of reconstructions'] = [len(r) for r in Data['Filenames Reconstructions']]"
   ]
  },
  {
   "cell_type": "code",
   "execution_count": 39,
   "metadata": {},
   "outputs": [
    {
     "name": "stdout",
     "output_type": "stream",
     "text": [
      "We have 111 folders with reconstructions\n"
     ]
    }
   ],
   "source": [
    "# Drop samples which have either not been reconstructed yet or of which we deleted the reconstructions with\n",
    "# `find . -name \"*rec*.png\" -type f -mtime +333 -delete`\n",
    "# Based on https://stackoverflow.com/a/13851602\n",
    "# for c,row in Data.iterrows():\n",
    "#     if not row['Number of reconstructions']:\n",
    "#         print('%s contains no PNG files, we might be currently reconstructing it' % row.Folder)\n",
    "Data = Data[Data['Number of reconstructions'] > 0]\n",
    "Data.reset_index(drop=True, inplace=True)\n",
    "print('We have %s folders with reconstructions' % (len(Data)))"
   ]
  },
  {
   "cell_type": "code",
   "execution_count": 40,
   "metadata": {},
   "outputs": [],
   "source": [
    "# Get parameters to doublecheck from logfiles\n",
    "Data['Voxelsize'] = [get_pixelsize(log) for log in Data['LogFile']]\n",
    "Data['Filter'] = [get_filter(log) for log in Data['LogFile']]\n",
    "Data['Exposuretime'] = [get_exposuretime(log) for log in Data['LogFile']]\n",
    "Data['Scanner'] = [get_machine(log) for log in Data['LogFile']]\n",
    "Data['Averaging'] = [get_frameaveraging(log) for log in Data['LogFile']]\n",
    "Data['ProjectionSize'] = [get_projectionsize(log) for log in Data['LogFile']]\n",
    "Data['RotationStep'] = [get_rotationstep(log) for log in Data['LogFile']]\n",
    "Data['CameraWindow'] = [round((ps ** 0.5) / 100) * 100 for ps in Data['ProjectionSize']]\n",
    "Data['Grayvalue'] = [get_reconstruction_grayvalue(log) for log in Data['LogFile']]\n",
    "Data['RingartefactCorrection'] = [get_ringartefact(log) for log in Data['LogFile']]\n",
    "Data['BeamHardeningCorrection'] = [get_beamhardening(log) for log in Data['LogFile']]\n",
    "Data['DefectPixelMasking'] = [get_defectpixelmasking(log) for log in Data['LogFile']]\n",
    "Data['Scan date'] = [get_scandate(log) for log in Data['LogFile']]\n",
    "Data['Scan time'] = [get_scantime(log) for log in Data['LogFile']]\n",
    "Data['Stacks'] = [get_stacks(log) for log in Data['LogFile']]"
   ]
  },
  {
   "cell_type": "code",
   "execution_count": 41,
   "metadata": {},
   "outputs": [
    {
     "name": "stdout",
     "output_type": "stream",
     "text": [
      "For the SkyScan2214 we have ringartefact-correction values of [0]\n",
      "For the SkyScan1272 we have ringartefact-correction values of [13 14]\n"
     ]
    }
   ],
   "source": [
    "# Check ringremoval parameters\n",
    "for machine in Data['Scanner'].unique():\n",
    "    print('For the %s we have '\n",
    "          'ringartefact-correction values of %s' % (machine,\n",
    "                                                    Data[Data.Scanner == machine]['RingartefactCorrection'].unique()))"
   ]
  },
  {
   "cell_type": "code",
   "execution_count": 42,
   "metadata": {},
   "outputs": [
    {
     "name": "stdout",
     "output_type": "stream",
     "text": [
      "Ringartefact-correction  0 is found in 108 scans\n",
      "Ringartefact-correction 13 is found in   2 scans\n",
      "Ringartefact-correction 14 is found in   1 scans\n"
     ]
    }
   ],
   "source": [
    "for rac in sorted(Data['RingartefactCorrection'].unique()):\n",
    "    print('Ringartefact-correction %02s is found in %03s scans' % (rac,\n",
    "                                                                   Data[Data.RingartefactCorrection == rac]['RingartefactCorrection'].count()))"
   ]
  },
  {
   "cell_type": "markdown",
   "metadata": {},
   "source": [
    "Some consistency checks"
   ]
  },
  {
   "cell_type": "code",
   "execution_count": 43,
   "metadata": {},
   "outputs": [],
   "source": [
    "# seaborn.scatterplot(data=Data, x='Fish', y='RingartefactCorrection', hue='Scanner')\n",
    "# plt.title('Ringartefact correction')\n",
    "# plt.show()"
   ]
  },
  {
   "cell_type": "code",
   "execution_count": 44,
   "metadata": {},
   "outputs": [
    {
     "name": "stdout",
     "output_type": "stream",
     "text": [
      "---- SkyScan2214 ----\n",
      "---- SkyScan1272 ----\n",
      "Fish 21322 scan whole_rec_full was reconstructed with RAC of 13\n",
      "Fish 106985 scan rec was reconstructed with RAC of 14\n",
      "Fish IG92 scan rec was reconstructed with RAC of 13\n"
     ]
    }
   ],
   "source": [
    "# Display ringremoval parameters\n",
    "for scanner in Data.Scanner.unique():\n",
    "    print('----', scanner, '----')\n",
    "    for c, row in Data[Data.Scanner == scanner].iterrows():\n",
    "        if row.RingartefactCorrection != 0:\n",
    "            print('Fish %s scan %s was reconstructed with RAC of %s' % (row.Fish,\n",
    "                                                                        row.Scan,\n",
    "                                                                        row.RingartefactCorrection))"
   ]
  },
  {
   "cell_type": "code",
   "execution_count": 45,
   "metadata": {},
   "outputs": [
    {
     "name": "stdout",
     "output_type": "stream",
     "text": [
      "For the SkyScan2214 we have beamhardening correction values of [0]\n",
      "For the SkyScan1272 we have beamhardening correction values of [0]\n"
     ]
    }
   ],
   "source": [
    "# Check beamhardening parameters\n",
    "for scanner in Data.Scanner.unique():\n",
    "    print('For the %s we have '\n",
    "          'beamhardening correction values of %s' % (scanner,\n",
    "                                                     Data[Data.Scanner == scanner]['BeamHardeningCorrection'].unique()))"
   ]
  },
  {
   "cell_type": "code",
   "execution_count": 46,
   "metadata": {},
   "outputs": [
    {
     "name": "stdout",
     "output_type": "stream",
     "text": [
      "---- SkyScan2214 ----\n",
      "---- SkyScan1272 ----\n"
     ]
    }
   ],
   "source": [
    "# Display beamhardening parameters\n",
    "for scanner in Data.Scanner.unique():\n",
    "    print('----', scanner, '----')\n",
    "    for c, row in Data[Data.Scanner == scanner].iterrows():\n",
    "        if row.BeamHardeningCorrection != 0:\n",
    "            print('Scan %s of fish %s was reconstructed with beam hardening correction of %s' % (row.Scan,\n",
    "                                                                                                 row.Fish,\n",
    "                                                                                                 row.BeamHardeningCorrection))"
   ]
  },
  {
   "cell_type": "code",
   "execution_count": 47,
   "metadata": {},
   "outputs": [],
   "source": [
    "# seaborn.scatterplot(data=Data,\n",
    "#                     x='Fish',\n",
    "#                     y='BeamHardeningCorrection',\n",
    "#                     hue='Scanner')\n",
    "# plt.title('Beamhardening correction')\n",
    "# plt.show()"
   ]
  },
  {
   "cell_type": "code",
   "execution_count": 48,
   "metadata": {},
   "outputs": [
    {
     "name": "stdout",
     "output_type": "stream",
     "text": [
      "For the SkyScan2214 we have defect pixel masking values of [0]\n",
      "For the SkyScan1272 we have defect pixel masking values of [50  0]\n"
     ]
    }
   ],
   "source": [
    "# Check defect pixel masking parameters\n",
    "for scanner in Data.Scanner.unique():\n",
    "    print('For the %s we have '\n",
    "          'defect pixel masking values of %s' % (scanner,\n",
    "                                                 Data[Data.Scanner == scanner]['DefectPixelMasking'].unique()))"
   ]
  },
  {
   "cell_type": "code",
   "execution_count": 49,
   "metadata": {},
   "outputs": [
    {
     "name": "stdout",
     "output_type": "stream",
     "text": [
      "A defect pixel masking of  0 is found in 109 scans\n",
      "A defect pixel masking of 50 is found in   2 scans\n"
     ]
    }
   ],
   "source": [
    "for dpm in sorted(Data['DefectPixelMasking'].unique()):\n",
    "    print('A defect pixel masking of %02s is found in %03s scans' % (dpm,\n",
    "                                                                     Data[Data.DefectPixelMasking == dpm]['DefectPixelMasking'].count()))"
   ]
  },
  {
   "cell_type": "code",
   "execution_count": 50,
   "metadata": {},
   "outputs": [],
   "source": [
    "# seaborn.scatterplot(data=Data, x='Fish', y='DefectPixelMasking', hue='Scanner')\n",
    "# plt.title('Defect pixel masking')\n",
    "# plt.show()"
   ]
  },
  {
   "cell_type": "code",
   "execution_count": 51,
   "metadata": {},
   "outputs": [
    {
     "name": "stdout",
     "output_type": "stream",
     "text": [
      "---- SkyScan2214 ----\n",
      "---- SkyScan1272 ----\n",
      "Fish 106985 scan rec was reconstructed with DPM of 0\n"
     ]
    }
   ],
   "source": [
    "# Display defect pixel masking parameters\n",
    "for scanner in Data.Scanner.unique():\n",
    "    print('----', scanner, '----')\n",
    "    for c, row in Data[Data.Scanner == scanner].iterrows():\n",
    "        if row.Scanner == 'SkyScan1272' and row.DefectPixelMasking != 50:\n",
    "            print('Fish %s scan %s was reconstructed with DPM of %s' % (row.Fish,\n",
    "                                                                        row.Scan,\n",
    "                                                                        row.DefectPixelMasking))\n",
    "        if row.Scanner == 'SkyScan2214' and row.DefectPixelMasking != 0:\n",
    "            print('Fish %s scan %s was reconstructed with DPM of %s' % (row.Fish,\n",
    "                                                                        row.Scan,\n",
    "                                                                        row.DefectPixelMasking))"
   ]
  },
  {
   "cell_type": "markdown",
   "metadata": {},
   "source": [
    "Check and display scan times"
   ]
  },
  {
   "cell_type": "code",
   "execution_count": 52,
   "metadata": {},
   "outputs": [],
   "source": [
    "Data['Scan time total'] = [st * stk for st, stk in zip(Data['Scan time'], Data['Stacks'])]"
   ]
  },
  {
   "cell_type": "code",
   "execution_count": 53,
   "metadata": {},
   "outputs": [],
   "source": [
    "# # https://www.geeksforgeeks.org/iterating-over-rows-and-columns-in-pandas-dataframe/\n",
    "# columns = list(Data)\n",
    "# columns.remove('Folder')\n",
    "# columns.remove('Fish')\n",
    "# columns.remove('LogFile')\n",
    "# columns.remove('Filenames Reconstructions')\n",
    "# columns.remove('Number of reconstructions')\n",
    "# columns.remove('Grayvalue')\n",
    "# columns.remove('Scan time')\n",
    "# columns.remove('Scan time total')\n",
    "# columns.remove('Scan date')\n",
    "# print(columns)\n",
    "# for col in columns:\n",
    "#     print(col)\n",
    "#     print(Data[col].unique())\n",
    "#     print(80 * '-')"
   ]
  },
  {
   "cell_type": "code",
   "execution_count": 54,
   "metadata": {},
   "outputs": [],
   "source": [
    "# # Check voxel sizes (*rounded* to two after-comma values)\n",
    "# # If different, spit out which values\n",
    "# roundto = 2\n",
    "# if len(Data['Voxelsize'].round(roundto).unique()) > 1:\n",
    "#     print('We scanned all datasets with %s different voxel sizes' % len(Data['Voxelsize'].round(roundto).unique()))\n",
    "#     for vs in sorted(Data['Voxelsize'].round(roundto).unique()):\n",
    "#         print('-', vs, 'um for ', end='')\n",
    "#         for c, row in Data.iterrows():\n",
    "#             if float(vs) == round(row['Voxelsize'], roundto):\n",
    "#                 print(os.path.join(row['Fish'], row['Scan']), end=', ')\n",
    "#         print('')\n",
    "# else:\n",
    "#     print('We scanned all datasets with equal voxel size, namely %s um.' % float(Data['Voxelsize'].round(roundto).unique()))"
   ]
  },
  {
   "cell_type": "code",
   "execution_count": 55,
   "metadata": {},
   "outputs": [],
   "source": [
    "# if len(Data['Grayvalue'].unique()) > 1:\n",
    "#     print('We reconstructed the datasets with different maximum gray values, namely')\n",
    "#     for gv in Data['Grayvalue'].unique():\n",
    "#         print(gv, 'for Samples ', end='')\n",
    "#         for c, row in Data.iterrows():\n",
    "#             if float(gv) == row['Grayvalue']:\n",
    "#                 print(os.path.join(row['Fish'], row['Scan']), end=', ')\n",
    "#         print('')\n",
    "# else:\n",
    "#     print('We reconstructed all datasets with equal maximum gray value, namely %s.' % Data['Grayvalue'].unique()[0])"
   ]
  },
  {
   "cell_type": "code",
   "execution_count": 56,
   "metadata": {},
   "outputs": [],
   "source": [
    "# Data[['Fish', 'Scan',\n",
    "#       'Voxelsize', 'Scanner',\n",
    "#       'Scan date', 'CameraWindow', 'RotationStep', 'Averaging',\n",
    "#       'Scan time', 'Stacks', 'Scan time total']]"
   ]
  },
  {
   "cell_type": "code",
   "execution_count": 57,
   "metadata": {},
   "outputs": [
    {
     "name": "stdout",
     "output_type": "stream",
     "text": [
      "In total, we scanned for 239 hours and 56 minutes)\n",
      "\t - Of these, we scanned 215 hours and 27 minutes on the SkyScan2214, for 108 scans\n",
      "\t - Of these, we scanned 24 hours and 29 minutes on the SkyScan1272, for 3 scans\n"
     ]
    }
   ],
   "source": [
    "# Get an overview over the total scan time\n",
    "# Nice output based on https://stackoverflow.com/a/8907407/323100\n",
    "total_seconds = int(Data['Scan time total'].sum().total_seconds())\n",
    "hours, remainder = divmod(total_seconds, 60 * 60)\n",
    "minutes, seconds = divmod(remainder, 60)\n",
    "print('In total, we scanned for %s hours and %s minutes)' % (hours, minutes))\n",
    "for machine in Data['Scanner'].unique():\n",
    "    total_seconds = int(Data[Data['Scanner'] == machine]['Scan time total'].sum().total_seconds())\n",
    "    hours, remainder = divmod(total_seconds, 60 * 60)\n",
    "    minutes, seconds = divmod(remainder, 60)\n",
    "    print('\\t - Of these, we scanned %s hours and %s minutes on the %s,'\n",
    "          ' for %s scans' % (hours,\n",
    "                             minutes,\n",
    "                             machine,\n",
    "                             len(Data[Data['Scanner'] == machine])))"
   ]
  },
  {
   "cell_type": "code",
   "execution_count": 58,
   "metadata": {},
   "outputs": [],
   "source": [
    "# Sort our dataframe by scan date\n",
    "# Data.sort_values(by='Scan date')"
   ]
  },
  {
   "cell_type": "code",
   "execution_count": 59,
   "metadata": {},
   "outputs": [
    {
     "data": {
      "text/html": [
       "<div>\n",
       "<style scoped>\n",
       "    .dataframe tbody tr th:only-of-type {\n",
       "        vertical-align: middle;\n",
       "    }\n",
       "\n",
       "    .dataframe tbody tr th {\n",
       "        vertical-align: top;\n",
       "    }\n",
       "\n",
       "    .dataframe thead th {\n",
       "        text-align: right;\n",
       "    }\n",
       "</style>\n",
       "<table border=\"1\" class=\"dataframe\">\n",
       "  <thead>\n",
       "    <tr style=\"text-align: right;\">\n",
       "      <th></th>\n",
       "      <th>LogFile</th>\n",
       "      <th>Folder</th>\n",
       "      <th>XYAlignment</th>\n",
       "      <th>Fish</th>\n",
       "      <th>Scan</th>\n",
       "      <th>Filenames Reconstructions</th>\n",
       "      <th>Number of reconstructions</th>\n",
       "      <th>Voxelsize</th>\n",
       "      <th>Filter</th>\n",
       "      <th>Exposuretime</th>\n",
       "      <th>...</th>\n",
       "      <th>RotationStep</th>\n",
       "      <th>CameraWindow</th>\n",
       "      <th>Grayvalue</th>\n",
       "      <th>RingartefactCorrection</th>\n",
       "      <th>BeamHardeningCorrection</th>\n",
       "      <th>DefectPixelMasking</th>\n",
       "      <th>Scan date</th>\n",
       "      <th>Scan time</th>\n",
       "      <th>Stacks</th>\n",
       "      <th>Scan time total</th>\n",
       "    </tr>\n",
       "  </thead>\n",
       "  <tbody>\n",
       "    <tr>\n",
       "      <th>106</th>\n",
       "      <td>/media/habi/Fast_SSD/EAWAG/TJ2/head/rec/TJ2_re...</td>\n",
       "      <td>/media/habi/Fast_SSD/EAWAG/TJ2/head/rec</td>\n",
       "      <td>[]</td>\n",
       "      <td>TJ2</td>\n",
       "      <td>head_rec</td>\n",
       "      <td>[/media/habi/Fast_SSD/EAWAG/TJ2/head/rec/TJ2_r...</td>\n",
       "      <td>1746</td>\n",
       "      <td>15.000176</td>\n",
       "      <td>No Filter</td>\n",
       "      <td>790</td>\n",
       "      <td>...</td>\n",
       "      <td>0.1</td>\n",
       "      <td>2400</td>\n",
       "      <td>0.104671</td>\n",
       "      <td>0</td>\n",
       "      <td>0</td>\n",
       "      <td>0</td>\n",
       "      <td>2022-04-25T11:12:33</td>\n",
       "      <td>0 days 01:50:40</td>\n",
       "      <td>1</td>\n",
       "      <td>0 days 01:50:40</td>\n",
       "    </tr>\n",
       "    <tr>\n",
       "      <th>107</th>\n",
       "      <td>/media/habi/Fast_SSD/EAWAG/TJ3/head/rec/TJ3_re...</td>\n",
       "      <td>/media/habi/Fast_SSD/EAWAG/TJ3/head/rec</td>\n",
       "      <td>[]</td>\n",
       "      <td>TJ3</td>\n",
       "      <td>head_rec</td>\n",
       "      <td>[/media/habi/Fast_SSD/EAWAG/TJ3/head/rec/TJ3_r...</td>\n",
       "      <td>1906</td>\n",
       "      <td>13.001449</td>\n",
       "      <td>No Filter</td>\n",
       "      <td>612</td>\n",
       "      <td>...</td>\n",
       "      <td>0.2</td>\n",
       "      <td>1200</td>\n",
       "      <td>0.154967</td>\n",
       "      <td>0</td>\n",
       "      <td>0</td>\n",
       "      <td>0</td>\n",
       "      <td>2022-01-24T15:20:14</td>\n",
       "      <td>0 days 00:33:09</td>\n",
       "      <td>3</td>\n",
       "      <td>0 days 01:39:27</td>\n",
       "    </tr>\n",
       "    <tr>\n",
       "      <th>108</th>\n",
       "      <td>/media/habi/Fast_SSD/EAWAG/TMG15/head/rec/TMG1...</td>\n",
       "      <td>/media/habi/Fast_SSD/EAWAG/TMG15/head/rec</td>\n",
       "      <td>[]</td>\n",
       "      <td>TMG15</td>\n",
       "      <td>head_rec</td>\n",
       "      <td>[/media/habi/Fast_SSD/EAWAG/TMG15/head/rec/TMG...</td>\n",
       "      <td>1862</td>\n",
       "      <td>17.999448</td>\n",
       "      <td>No Filter</td>\n",
       "      <td>655</td>\n",
       "      <td>...</td>\n",
       "      <td>0.1</td>\n",
       "      <td>2400</td>\n",
       "      <td>0.123096</td>\n",
       "      <td>0</td>\n",
       "      <td>0</td>\n",
       "      <td>0</td>\n",
       "      <td>2022-03-10T14:22:44</td>\n",
       "      <td>0 days 01:40:16</td>\n",
       "      <td>1</td>\n",
       "      <td>0 days 01:40:16</td>\n",
       "    </tr>\n",
       "    <tr>\n",
       "      <th>109</th>\n",
       "      <td>/media/habi/Fast_SSD/EAWAG/TS03/head/rec/TS03_...</td>\n",
       "      <td>/media/habi/Fast_SSD/EAWAG/TS03/head/rec</td>\n",
       "      <td>[]</td>\n",
       "      <td>TS03</td>\n",
       "      <td>head_rec</td>\n",
       "      <td>[/media/habi/Fast_SSD/EAWAG/TS03/head/rec/TS03...</td>\n",
       "      <td>1638</td>\n",
       "      <td>21.999264</td>\n",
       "      <td>No Filter</td>\n",
       "      <td>748</td>\n",
       "      <td>...</td>\n",
       "      <td>0.2</td>\n",
       "      <td>1200</td>\n",
       "      <td>0.103910</td>\n",
       "      <td>0</td>\n",
       "      <td>0</td>\n",
       "      <td>0</td>\n",
       "      <td>2022-03-08T14:29:25</td>\n",
       "      <td>0 days 00:39:18</td>\n",
       "      <td>2</td>\n",
       "      <td>0 days 01:18:36</td>\n",
       "    </tr>\n",
       "    <tr>\n",
       "      <th>110</th>\n",
       "      <td>/media/habi/Fast_SSD/EAWAG/ZuOS115/head/rec/Zu...</td>\n",
       "      <td>/media/habi/Fast_SSD/EAWAG/ZuOS115/head/rec</td>\n",
       "      <td>[]</td>\n",
       "      <td>ZuOS115</td>\n",
       "      <td>head_rec</td>\n",
       "      <td>[/media/habi/Fast_SSD/EAWAG/ZuOS115/head/rec/Z...</td>\n",
       "      <td>1843</td>\n",
       "      <td>17.999448</td>\n",
       "      <td>No Filter</td>\n",
       "      <td>655</td>\n",
       "      <td>...</td>\n",
       "      <td>0.1</td>\n",
       "      <td>2400</td>\n",
       "      <td>0.074241</td>\n",
       "      <td>0</td>\n",
       "      <td>0</td>\n",
       "      <td>0</td>\n",
       "      <td>2022-03-11T11:02:55</td>\n",
       "      <td>0 days 01:38:46</td>\n",
       "      <td>1</td>\n",
       "      <td>0 days 01:38:46</td>\n",
       "    </tr>\n",
       "  </tbody>\n",
       "</table>\n",
       "<p>5 rows × 23 columns</p>\n",
       "</div>"
      ],
      "text/plain": [
       "                                               LogFile  \\\n",
       "106  /media/habi/Fast_SSD/EAWAG/TJ2/head/rec/TJ2_re...   \n",
       "107  /media/habi/Fast_SSD/EAWAG/TJ3/head/rec/TJ3_re...   \n",
       "108  /media/habi/Fast_SSD/EAWAG/TMG15/head/rec/TMG1...   \n",
       "109  /media/habi/Fast_SSD/EAWAG/TS03/head/rec/TS03_...   \n",
       "110  /media/habi/Fast_SSD/EAWAG/ZuOS115/head/rec/Zu...   \n",
       "\n",
       "                                          Folder XYAlignment     Fish  \\\n",
       "106      /media/habi/Fast_SSD/EAWAG/TJ2/head/rec          []      TJ2   \n",
       "107      /media/habi/Fast_SSD/EAWAG/TJ3/head/rec          []      TJ3   \n",
       "108    /media/habi/Fast_SSD/EAWAG/TMG15/head/rec          []    TMG15   \n",
       "109     /media/habi/Fast_SSD/EAWAG/TS03/head/rec          []     TS03   \n",
       "110  /media/habi/Fast_SSD/EAWAG/ZuOS115/head/rec          []  ZuOS115   \n",
       "\n",
       "         Scan                          Filenames Reconstructions  \\\n",
       "106  head_rec  [/media/habi/Fast_SSD/EAWAG/TJ2/head/rec/TJ2_r...   \n",
       "107  head_rec  [/media/habi/Fast_SSD/EAWAG/TJ3/head/rec/TJ3_r...   \n",
       "108  head_rec  [/media/habi/Fast_SSD/EAWAG/TMG15/head/rec/TMG...   \n",
       "109  head_rec  [/media/habi/Fast_SSD/EAWAG/TS03/head/rec/TS03...   \n",
       "110  head_rec  [/media/habi/Fast_SSD/EAWAG/ZuOS115/head/rec/Z...   \n",
       "\n",
       "     Number of reconstructions  Voxelsize     Filter  Exposuretime  ...  \\\n",
       "106                       1746  15.000176  No Filter           790  ...   \n",
       "107                       1906  13.001449  No Filter           612  ...   \n",
       "108                       1862  17.999448  No Filter           655  ...   \n",
       "109                       1638  21.999264  No Filter           748  ...   \n",
       "110                       1843  17.999448  No Filter           655  ...   \n",
       "\n",
       "    RotationStep CameraWindow  Grayvalue  RingartefactCorrection  \\\n",
       "106          0.1         2400   0.104671                       0   \n",
       "107          0.2         1200   0.154967                       0   \n",
       "108          0.1         2400   0.123096                       0   \n",
       "109          0.2         1200   0.103910                       0   \n",
       "110          0.1         2400   0.074241                       0   \n",
       "\n",
       "     BeamHardeningCorrection  DefectPixelMasking            Scan date  \\\n",
       "106                        0                   0  2022-04-25T11:12:33   \n",
       "107                        0                   0  2022-01-24T15:20:14   \n",
       "108                        0                   0  2022-03-10T14:22:44   \n",
       "109                        0                   0  2022-03-08T14:29:25   \n",
       "110                        0                   0  2022-03-11T11:02:55   \n",
       "\n",
       "          Scan time  Stacks Scan time total  \n",
       "106 0 days 01:50:40       1 0 days 01:50:40  \n",
       "107 0 days 00:33:09       3 0 days 01:39:27  \n",
       "108 0 days 01:40:16       1 0 days 01:40:16  \n",
       "109 0 days 00:39:18       2 0 days 01:18:36  \n",
       "110 0 days 01:38:46       1 0 days 01:38:46  \n",
       "\n",
       "[5 rows x 23 columns]"
      ]
     },
     "execution_count": 59,
     "metadata": {},
     "output_type": "execute_result"
    }
   ],
   "source": [
    "Data.tail()"
   ]
  },
  {
   "cell_type": "code",
   "execution_count": 60,
   "metadata": {},
   "outputs": [],
   "source": [
    "# Data['Filename PreviewImage'] = [sorted(glob.glob(os.path.join(f, '*_spr.bmp')))[0] for f in Data['Folder']]\n",
    "# Data['PreviewImage'] = [dask_image.imread.imread(pip).squeeze()\n",
    "#                         if pip\n",
    "#                         else numpy.random.random((100, 100)) for pip in Data['Filename PreviewImage']]"
   ]
  },
  {
   "cell_type": "code",
   "execution_count": 61,
   "metadata": {},
   "outputs": [],
   "source": [
    "# Make an approximately square overview image\n",
    "# lines = 10"
   ]
  },
  {
   "cell_type": "code",
   "execution_count": 62,
   "metadata": {},
   "outputs": [],
   "source": [
    "# for c, row in Data.iterrows():\n",
    "#     plt.subplot(lines, int(numpy.ceil(len(Data) / float(lines))), c + 1)\n",
    "#     plt.imshow(row.PreviewImage.squeeze())\n",
    "#     plt.title(os.path.join(row['Fish'], row['Scan']))\n",
    "#     plt.gca().add_artist(ScaleBar(row['Voxelsize'],\n",
    "#                                   'um',\n",
    "#                                   color='black',\n",
    "#                                   frameon=True))\n",
    "#     plt.axis('off')\n",
    "# plt.tight_layout()\n",
    "# plt.savefig(os.path.join(Root, 'ScanOverviews.png'),\n",
    "#             bbox_inches='tight')\n",
    "# plt.show()"
   ]
  },
  {
   "cell_type": "code",
   "execution_count": 63,
   "metadata": {
    "tags": []
   },
   "outputs": [
    {
     "data": {
      "application/vnd.jupyter.widget-view+json": {
       "model_id": "1f6d546aa6814ff892e3f43424da8193",
       "version_major": 2,
       "version_minor": 0
      },
      "text/plain": [
       "Loading reconstructions:   0%|          | 0/111 [00:00<?, ?it/s]"
      ]
     },
     "metadata": {},
     "output_type": "display_data"
    }
   ],
   "source": [
    "# # Load all reconstructions DASK arrays\n",
    "# Reconstructions = [dask_image.imread.imread(os.path.join(folder,'*rec*.png')) for folder in Data['Folder']]\n",
    "# Load all reconstructions into ephemereal DASK arrays, with a nice progress bar...\n",
    "Reconstructions = [None] * len(Data)\n",
    "for c, row in tqdm(Data.iterrows(),\n",
    "                   desc='Loading reconstructions',\n",
    "                   total=len(Data)):\n",
    "    Reconstructions[c] = dask_image.imread.imread(os.path.join(row['Folder'], '*rec*.png'))"
   ]
  },
  {
   "cell_type": "code",
   "execution_count": 64,
   "metadata": {
    "tags": []
   },
   "outputs": [],
   "source": [
    "# Check if something went wrong\n",
    "# for file in Data['OutputNameRec']:\n",
    "#     print(file)\n",
    "#     dask.array.from_zarr(file)"
   ]
  },
  {
   "cell_type": "code",
   "execution_count": 65,
   "metadata": {},
   "outputs": [],
   "source": [
    "# How big are the datasets?\n",
    "Data['Size'] = [rec.shape for rec in Reconstructions]"
   ]
  },
  {
   "cell_type": "code",
   "execution_count": 66,
   "metadata": {},
   "outputs": [],
   "source": [
    "# The three cardinal directions\n",
    "# Names adapted to fishes: https://en.wikipedia.org/wiki/Fish_anatomy#Body\n",
    "directions = ['Anteroposterior',\n",
    "              'Lateral',\n",
    "              'Dorsoventral']"
   ]
  },
  {
   "cell_type": "code",
   "execution_count": 67,
   "metadata": {},
   "outputs": [],
   "source": [
    "# # # Get rid of certain samples\n",
    "# # # This is nice to have if we're running into troubles with certain samples/scans and have to re-reconstruct them\n",
    "# # # In this case we don't have to re-read in *all* the log files and reconstructions...\n",
    "# for c, row in Data.iterrows():\n",
    "#     if '103761' in row.Fish:\n",
    "#         Data.drop([c], inplace=True)\n",
    "# # Reset dataframe to something that we would get if we only would have loaded the 'rec' files\n",
    "# Data = Data.reset_index(drop=True)"
   ]
  },
  {
   "cell_type": "code",
   "execution_count": null,
   "metadata": {},
   "outputs": [
    {
     "data": {
      "application/vnd.jupyter.widget-view+json": {
       "model_id": "1b006eb11e6a4416a3d3ed96b961d557",
       "version_major": 2,
       "version_minor": 0
      },
      "text/plain": [
       "Working on central images:   0%|          | 0/111 [00:00<?, ?it/s]"
      ]
     },
     "metadata": {},
     "output_type": "display_data"
    },
    {
     "data": {
      "application/vnd.jupyter.widget-view+json": {
       "model_id": "",
       "version_major": 2,
       "version_minor": 0
      },
      "text/plain": [
       "10151/head_rec:   0%|          | 0/3 [00:00<?, ?it/s]"
      ]
     },
     "metadata": {},
     "output_type": "display_data"
    },
    {
     "data": {
      "application/vnd.jupyter.widget-view+json": {
       "model_id": "",
       "version_major": 2,
       "version_minor": 0
      },
      "text/plain": [
       "103375/head_rec:   0%|          | 0/3 [00:00<?, ?it/s]"
      ]
     },
     "metadata": {},
     "output_type": "display_data"
    },
    {
     "data": {
      "application/vnd.jupyter.widget-view+json": {
       "model_id": "",
       "version_major": 2,
       "version_minor": 0
      },
      "text/plain": [
       "103571/head_rec:   0%|          | 0/3 [00:00<?, ?it/s]"
      ]
     },
     "metadata": {},
     "output_type": "display_data"
    },
    {
     "name": "stdout",
     "output_type": "stream",
     "text": [
      "Something went wrong with 103571/head_rec Dorsoventral\n",
      "Try to delete the /media/habi/Fast_SSD/EAWAG/103571/head/103571.head_rec.Center.Dorsoventral.png and restart the notebook\n"
     ]
    },
    {
     "name": "stderr",
     "output_type": "stream",
     "text": [
      "/home/habi/miniconda3/envs/eawag/lib/python3.10/site-packages/pims/api.py:204: UserWarning: <class 'pims.image_reader.ImageReader'> errored: Could not load \"\" \n",
      "Reason: \"image file is truncated\"\n",
      "Please see documentation at: http://pillow.readthedocs.io/en/latest/installation.html#external-libraries\n",
      "  warn(message)\n",
      "/home/habi/miniconda3/envs/eawag/lib/python3.10/site-packages/pims/api.py:204: UserWarning: <class 'pims.image_reader.ImageReaderND'> errored: Could not load \"\" \n",
      "Reason: \"image file is truncated\"\n",
      "Please see documentation at: http://pillow.readthedocs.io/en/latest/installation.html#external-libraries\n",
      "  warn(message)\n",
      "/home/habi/miniconda3/envs/eawag/lib/python3.10/site-packages/pims/api.py:204: UserWarning: <class 'pims.imageio_reader.ImageIOReader'> errored: Could not load \"\" \n",
      "Reason: \"image file is truncated\"\n",
      "Please see documentation at: http://pillow.readthedocs.io/en/latest/installation.html#external-libraries\n",
      "  warn(message)\n"
     ]
    },
    {
     "data": {
      "application/vnd.jupyter.widget-view+json": {
       "model_id": "",
       "version_major": 2,
       "version_minor": 0
      },
      "text/plain": [
       "103635/head_rec:   0%|          | 0/3 [00:00<?, ?it/s]"
      ]
     },
     "metadata": {},
     "output_type": "display_data"
    },
    {
     "data": {
      "application/vnd.jupyter.widget-view+json": {
       "model_id": "",
       "version_major": 2,
       "version_minor": 0
      },
      "text/plain": [
       "103704/head_rec:   0%|          | 0/3 [00:00<?, ?it/s]"
      ]
     },
     "metadata": {},
     "output_type": "display_data"
    },
    {
     "data": {
      "application/vnd.jupyter.widget-view+json": {
       "model_id": "",
       "version_major": 2,
       "version_minor": 0
      },
      "text/plain": [
       "103718/head_rec:   0%|          | 0/3 [00:00<?, ?it/s]"
      ]
     },
     "metadata": {},
     "output_type": "display_data"
    },
    {
     "data": {
      "application/vnd.jupyter.widget-view+json": {
       "model_id": "0774aa2904d845cba61e410b3f623ca0",
       "version_major": 2,
       "version_minor": 0
      },
      "text/plain": [
       "103723/head_rec:   0%|          | 0/3 [00:00<?, ?it/s]"
      ]
     },
     "metadata": {},
     "output_type": "display_data"
    }
   ],
   "source": [
    "# Read or calculate the middle slices, put them into the dataframe and save them to disk\n",
    "for d, direction in enumerate(directions):\n",
    "    Data['Mid_' + direction] = ''\n",
    "for c, row in tqdm(Data.iterrows(), desc='Working on central images', total=len(Data)):\n",
    "    for d, direction in tqdm(enumerate(directions),\n",
    "                             desc='%s/%s' % (row['Fish'], row['Scan']),\n",
    "                             leave=False,\n",
    "                             total=len(directions)):\n",
    "        outfilepath = os.path.join(os.path.dirname(row['Folder']),\n",
    "                                   '%s.%s.Center.%s.png' % (row['Fish'], row['Scan'], direction))\n",
    "        if os.path.exists(outfilepath):\n",
    "            try:\n",
    "                Data.at[c, 'Mid_' + direction] = dask_image.imread.imread(outfilepath)\n",
    "            except:\n",
    "                print('Something went wrong with %s/%s %s' % (row['Fish'], row['Scan'], direction))\n",
    "                print('Try to delete the %s and restart the notebook' % outfilepath)\n",
    "        else:\n",
    "            # Generate requested axial view\n",
    "            if 'Anteroposterior' in direction:\n",
    "                Data.at[c, 'Mid_' + direction] = Reconstructions[c][row.Size[0] // 2].compute()\n",
    "            if 'Lateral' in direction:\n",
    "                Data.at[c, 'Mid_' + direction] = Reconstructions[c][:, row.Size[1] // 999992, :].compute()\n",
    "            if 'Dorsoventral' in direction:\n",
    "                Data.at[c, 'Mid_' + direction] = Reconstructions[c][:, :, row.Size[2] // 2].compute()\n",
    "            # Save the calculated 'direction' view to disk\n",
    "            imageio.imwrite(outfilepath, (Data.at[c, 'Mid_' + direction]))"
   ]
  },
  {
   "cell_type": "code",
   "execution_count": null,
   "metadata": {},
   "outputs": [],
   "source": [
    "# Show/save middle slices\n",
    "for c, row in tqdm(Data.iterrows(),\n",
    "                   desc='Saving overview of central images',\n",
    "                   total=len(Data)):\n",
    "    outfilepath = os.path.join(os.path.dirname(row['Folder']),\n",
    "                               '%s.%s.CentralSlices.png' % (row['Fish'], row['Scan']))\n",
    "    if not os.path.exists(outfilepath):\n",
    "        for d, direction in tqdm(enumerate(directions),\n",
    "                                 desc='%s/%s' % (row['Fish'], row['Scan']),\n",
    "                                 leave=False,\n",
    "                                 total=len(directions)):\n",
    "            plt.subplot(1, 3, d + 1)\n",
    "            plt.imshow(row['Mid_' + direction].squeeze())\n",
    "            if d == 0:\n",
    "                plt.axhline(row.Size[1] // 2, c=seaborn.color_palette()[0])\n",
    "                plt.axvline(row.Size[2] // 2, c=seaborn.color_palette()[1])\n",
    "                plt.gca().add_artist(ScaleBar(row['Voxelsize'],\n",
    "                                              'um',\n",
    "                                              color=seaborn.color_palette()[2]))\n",
    "            elif d == 1:\n",
    "                plt.axhline(row.Size[0] // 2, c=seaborn.color_palette()[2])\n",
    "                plt.axvline(row.Size[2] // 2, c=seaborn.color_palette()[1])\n",
    "                plt.gca().add_artist(ScaleBar(row['Voxelsize'],\n",
    "                                              'um',\n",
    "                                              color=seaborn.color_palette()[0]))\n",
    "            else:\n",
    "                plt.axhline(row.Size[0] // 2, c=seaborn.color_palette()[2])\n",
    "                plt.axvline(row.Size[1] // 2, c=seaborn.color_palette()[0])\n",
    "                plt.gca().add_artist(ScaleBar(row['Voxelsize'],\n",
    "                                              'um',\n",
    "                                              color=seaborn.color_palette()[1]))\n",
    "            plt.title('%s\\nCentral %s slice' % (os.path.join(row['Fish'], row['Scan']), direction.lower()))\n",
    "            plt.axis('off')\n",
    "        plt.savefig(outfilepath,\n",
    "                    transparent=True,\n",
    "                    bbox_inches='tight')\n",
    "        plt.show()"
   ]
  },
  {
   "cell_type": "code",
   "execution_count": null,
   "metadata": {},
   "outputs": [],
   "source": [
    "# Read or calculate the directional MIPs, put them into the dataframe and save them to disk\n",
    "for d, direction in enumerate(directions):\n",
    "    Data['MIP_' + direction] = ''\n",
    "for c, row in tqdm(Data.iterrows(), desc='Working on MIPs', total=len(Data)):\n",
    "    for d, direction in tqdm(enumerate(directions),\n",
    "                             desc='%s/%s' % (row['Fish'], row['Scan']),\n",
    "                             leave=False,\n",
    "                             total=len(directions)):\n",
    "        outfilepath = os.path.join(os.path.dirname(row['Folder']),\n",
    "                                   '%s.%s.MIP.%s.png' % (row['Fish'], row['Scan'], direction))\n",
    "        if os.path.exists(outfilepath):\n",
    "            try:\n",
    "                Data.at[c, 'MIP_' + direction] = dask_image.imread.imread(outfilepath).squeeze()\n",
    "            except:\n",
    "                print('Something went wrong with %s/%s %s' % (row['Fish'], row['Scan'], direction))\n",
    "                print('Try to delete the %s and restart the notebook' % outfilepath)\n",
    "                pass\n",
    "        else:\n",
    "            # Generate MIP\n",
    "            Data.at[c, 'MIP_' + direction] = Reconstructions[c].max(axis=d).compute().squeeze()\n",
    "            # Save it out\n",
    "            imageio.imwrite(outfilepath, Data.at[c, 'MIP_' + direction].astype('uint8'))"
   ]
  },
  {
   "cell_type": "code",
   "execution_count": null,
   "metadata": {},
   "outputs": [],
   "source": [
    "print('We have %s reconstructions on %s' % (Data['Number of reconstructions'].sum(), Root))"
   ]
  },
  {
   "cell_type": "code",
   "execution_count": null,
   "metadata": {},
   "outputs": [],
   "source": [
    "print('This is about %s reconstructions per scan (%s scans in %s folders)' % (round(Data['Number of reconstructions'].sum() / len(Data)),\n",
    "                                                                              len(Data),\n",
    "                                                                              len(Data.Fish.unique())))"
   ]
  },
  {
   "cell_type": "code",
   "execution_count": null,
   "metadata": {},
   "outputs": [],
   "source": [
    "# Show/save MIP slices\n",
    "for c, row in tqdm(Data.iterrows(),\n",
    "                   desc='Saving overview of MIP images',\n",
    "                   total=len(Data)):\n",
    "    outfilepath = os.path.join(os.path.dirname(row['Folder']),\n",
    "                               '%s.%s.MIPs.png' % (row['Fish'], row['Scan']))\n",
    "    if not os.path.exists(outfilepath):\n",
    "        for d, direction in tqdm(enumerate(directions),\n",
    "                                 desc='%s/%s' % (row['Fish'], row['Scan']),\n",
    "                                 leave=False,\n",
    "                                 total=len(directions)):\n",
    "            plt.subplot(1, 3, d + 1)\n",
    "            plt.imshow(row['MIP_' + direction])\n",
    "            plt.gca().add_artist(ScaleBar(row['Voxelsize'],\n",
    "                                          'um'))\n",
    "            plt.title('%s MIP' % direction)\n",
    "            plt.axis('off')\n",
    "            plt.title('%s\\n%s MIP' % (os.path.join(row['Fish'], row['Scan']), direction))\n",
    "            plt.savefig(outfilepath,\n",
    "                        transparent=True,\n",
    "                        bbox_inches='tight')\n",
    "        plt.show()"
   ]
  },
  {
   "cell_type": "code",
   "execution_count": null,
   "metadata": {},
   "outputs": [],
   "source": [
    "# Calculate the histograms of one of the MIPs\n",
    "# Caveat: dask.da.histogram returns histogram AND bins, making each histogram a 'nested' list of [h, b]\n",
    "Data['Histogram'] = [dask.array.histogram(dask.array.array(mip),\n",
    "                                          bins=2**8,\n",
    "                                          range=[0, 2**8]) for mip in Data['MIP_Lateral']]\n",
    "# Actually compute the data and put only h into the dataframe, so we can use it below.\n",
    "# Discard the bins\n",
    "Data['Histogram'] = [h for h, b in Data['Histogram']]"
   ]
  },
  {
   "cell_type": "code",
   "execution_count": null,
   "metadata": {},
   "outputs": [],
   "source": [
    "def overeexposecheck(item, threshold=250, howmanypercent=0.1, whichone='Lateral', verbose=False):\n",
    "    '''Function to check if a certain amount of voxels are brighter than a certain value'''\n",
    "    if (Data['MIP_%s' % whichone][item] > threshold).sum() > (Data['MIP_%s' % whichone][item].size * howmanypercent / 100):\n",
    "        if verbose:\n",
    "            plt.imshow(Data['MIP_%s' % whichone][item])\n",
    "            plt.imshow(numpy.ma.masked_equal(Data['MIP_%s' % whichone][item] > threshold, False),\n",
    "                       cmap='viridis_r',\n",
    "                       alpha=.618)\n",
    "            plt.title('%s/%s\\n%s of %s Mpixels (>%s%%) are brighter '\n",
    "                      'than %s' % (Data['Fish'][item],\n",
    "                                   Data['Scan'][item],\n",
    "                                   (Data['MIP_%s' % whichone][item] > threshold).sum(),\n",
    "                                   round(1e-6 * Data['MIP_%s' % whichone][item].size, 2),\n",
    "                                   howmanypercent,\n",
    "                                   threshold))\n",
    "            plt.axis('off')\n",
    "            plt.gca().add_artist(ScaleBar(Data['Voxelsize'][item],\n",
    "                                          'um'))\n",
    "            plt.show()\n",
    "        return(True)\n",
    "    else:\n",
    "        return(False)"
   ]
  },
  {
   "cell_type": "code",
   "execution_count": null,
   "metadata": {},
   "outputs": [],
   "source": [
    "# Check if 'too much' of the MIP is overexposed\n",
    "# TODO: How much is 'too much'?\n",
    "Data['OverExposed'] = [overeexposecheck(c,\n",
    "                                        whichone='Lateral',\n",
    "                                        verbose=True) for c, row in Data.iterrows()]"
   ]
  },
  {
   "cell_type": "code",
   "execution_count": null,
   "metadata": {
    "scrolled": true,
    "tags": []
   },
   "outputs": [],
   "source": [
    "for c, row in sorted(Data.iterrows()):\n",
    "    plt.semilogy(row.Histogram,\n",
    "                 label='%s' % os.path.join(row.Fish, row.Scan))\n",
    "plt.xlim([0, 255])\n",
    "plt.legend()\n",
    "plt.show()"
   ]
  },
  {
   "cell_type": "code",
   "execution_count": null,
   "metadata": {},
   "outputs": [],
   "source": [
    "print('At the moment, we have previewed %s scans of %s folders in %s' % (len(Data),\n",
    "                                                                         len(Data.Fish.unique()),\n",
    "                                                                         Root))"
   ]
  }
 ],
 "metadata": {
  "kernelspec": {
   "display_name": "Python 3 (ipykernel)",
   "language": "python",
   "name": "python3"
  },
  "language_info": {
   "codemirror_mode": {
    "name": "ipython",
    "version": 3
   },
   "file_extension": ".py",
   "mimetype": "text/x-python",
   "name": "python",
   "nbconvert_exporter": "python",
   "pygments_lexer": "ipython3",
   "version": "3.10.8"
  }
 },
 "nbformat": 4,
 "nbformat_minor": 4
}
